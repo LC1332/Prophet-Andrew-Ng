{
  "cells": [
    {
      "cell_type": "markdown",
      "metadata": {
        "id": "view-in-github",
        "colab_type": "text"
      },
      "source": [
        "<a href=\"https://colab.research.google.com/github/LC1332/prompt-ng-andrew/blob/main/content/7.%20%E6%96%87%E6%9C%AC%E6%89%A9%E5%B1%95%20Expanding.ipynb\" target=\"_parent\"><img src=\"https://colab.research.google.com/assets/colab-badge.svg\" alt=\"Open In Colab\"/></a>"
      ]
    },
    {
      "cell_type": "markdown",
      "metadata": {
        "id": "weHrG9zgl_iy"
      },
      "source": [
        "# 第七章 扩展\n",
        "\n",
        "扩展是将短文本，例如一组说明或主题列表，输入到大型语言模型中，让模型生成更长的文本，例如基于某个主题的电子邮件或论文。这样做有一些很好的用途，例如将大型语言模型用作头脑风暴的伙伴。但这种做法也存在一些问题，例如某人可能会使用它来生成大量垃圾邮件。因此，当你使用大型语言模型的这些功能时，请仅以负责任的方式和有益于人们的方式使用它们。\n",
        "\n",
        "在本章中，你将学会如何基于 OpenAI API 生成适用于每个客户评价的客户服务电子邮件。我们还将使用模型的另一个输入参数称为温度，这种参数允许您在模型响应中变化探索的程度和多样性。\n"
      ]
    },
    {
      "cell_type": "markdown",
      "source": [
        "\n",
        "# 吴恩达老师的Prompt Engineering课程学习\n",
        "\n",
        "本项目由李鲁鲁老师在DataWahle翻译的中文版本的吴恩达老师与 OpenAI 合作推出的 《ChatGPT Prompt Engineering for Developers》基础上，进行了一些自己的实践思考。\n",
        "\n",
        "原来项目的链接是 [https://github.com/datawhalechina/prompt-engineering-for-developers](https://github.com/datawhalechina/prompt-engineering-for-developers)\n",
        "\n",
        "每一课都在colab上进行了改造，并将链接放在了readme，可以直接用colab进行学习。"
      ],
      "metadata": {
        "id": "Ma4EJhKYmhPB"
      }
    },
    {
      "cell_type": "code",
      "source": [
        "! pip install openai\n",
        "! pip install python-dotenv"
      ],
      "metadata": {
        "id": "lcNc-CyGmk_r"
      },
      "execution_count": null,
      "outputs": []
    },
    {
      "cell_type": "markdown",
      "metadata": {
        "id": "0j377iRzl_i6"
      },
      "source": [
        "## 一、环境配置\n",
        "\n",
        "同以上几章，你需要类似的代码来配置一个可以使用 OpenAI API 的环境"
      ]
    },
    {
      "cell_type": "code",
      "execution_count": null,
      "metadata": {
        "id": "QHb4kdkYl_i7"
      },
      "outputs": [],
      "source": [
        "# 将自己的 API-KEY 导入系统环境变量\n",
        "# !export OPENAI_API_KEY='api-key'"
      ]
    },
    {
      "cell_type": "code",
      "execution_count": 2,
      "metadata": {
        "id": "NreP4_usl_i7"
      },
      "outputs": [],
      "source": [
        "import openai\n",
        "import os\n",
        "from dotenv import load_dotenv, find_dotenv\n",
        "# 导入第三方库\n",
        "\n",
        "# _ = load_dotenv(find_dotenv())\n",
        "# 读取系统中的环境变量\n",
        "\n",
        "openai.api_key  = 'sk-' # 在这里输入你的OpenAI API Token\n",
        "# 设置 API_KEY"
      ]
    },
    {
      "cell_type": "code",
      "execution_count": 3,
      "metadata": {
        "id": "4MTRTZWFl_i8"
      },
      "outputs": [],
      "source": [
        "# 一个封装 OpenAI 接口的函数，参数为 Prompt，返回对应结果\n",
        "def get_completion(prompt, model=\"gpt-3.5-turbo\", temperature=0):\n",
        "    '''\n",
        "    prompt: 对应的提示\n",
        "    model: 调用的模型，默认为 gpt-3.5-turbo(ChatGPT)，有内测资格的用户可以选择 gpt-4\n",
        "    temperature: 温度系数\n",
        "    '''\n",
        "    messages = [{\"role\": \"user\", \"content\": prompt}]\n",
        "    response = openai.ChatCompletion.create(\n",
        "        model=model,\n",
        "        messages=messages,\n",
        "        temperature=temperature, # 模型输出的温度系数，控制输出的随机程度\n",
        "    )\n",
        "    # 调用 OpenAI 的 ChatCompletion 接口\n",
        "    return response.choices[0].message[\"content\"]\n"
      ]
    },
    {
      "cell_type": "markdown",
      "metadata": {
        "id": "s-2rYNpcl_i8"
      },
      "source": [
        "## 二、定制客户邮件"
      ]
    },
    {
      "cell_type": "markdown",
      "metadata": {
        "id": "jcpHz13Vl_i8"
      },
      "source": [
        "我们将根据客户评价和情感撰写自定义电子邮件响应。因此，我们将给定客户评价和情感，并生成自定义响应即使用 LLM 根据客户评价和评论情感生成定制电子邮件。"
      ]
    },
    {
      "cell_type": "markdown",
      "metadata": {
        "id": "e3PbQcSfl_i8"
      },
      "source": [
        "我们首先给出一个示例，包括一个评论及对应的情感"
      ]
    },
    {
      "cell_type": "code",
      "execution_count": 4,
      "metadata": {
        "id": "bhZBqhY1l_i9"
      },
      "outputs": [],
      "source": [
        "# given the sentiment from the lesson on \"inferring\",\n",
        "# and the original customer message, customize the email\n",
        "sentiment = \"negative\"\n",
        "\n",
        "# review for a blender\n",
        "review = f\"\"\"\n",
        "So, they still had the 17 piece system on seasonal \\\n",
        "sale for around $49 in the month of November, about \\\n",
        "half off, but for some reason (call it price gouging) \\\n",
        "around the second week of December the prices all went \\\n",
        "up to about anywhere from between $70-$89 for the same \\\n",
        "system. And the 11 piece system went up around $10 or \\\n",
        "so in price also from the earlier sale price of $29. \\\n",
        "So it looks okay, but if you look at the base, the part \\\n",
        "where the blade locks into place doesn’t look as good \\\n",
        "as in previous editions from a few years ago, but I \\\n",
        "plan to be very gentle with it (example, I crush \\\n",
        "very hard items like beans, ice, rice, etc. in the \\ \n",
        "blender first then pulverize them in the serving size \\\n",
        "I want in the blender then switch to the whipping \\\n",
        "blade for a finer flour, and use the cross cutting blade \\\n",
        "first when making smoothies, then use the flat blade \\\n",
        "if I need them finer/less pulpy). Special tip when making \\\n",
        "smoothies, finely cut and freeze the fruits and \\\n",
        "vegetables (if using spinach-lightly stew soften the \\ \n",
        "spinach then freeze until ready for use-and if making \\\n",
        "sorbet, use a small to medium sized food processor) \\ \n",
        "that you plan to use that way you can avoid adding so \\\n",
        "much ice if at all-when making your smoothie. \\\n",
        "After about a year, the motor was making a funny noise. \\\n",
        "I called customer service but the warranty expired \\\n",
        "already, so I had to buy another one. FYI: The overall \\\n",
        "quality has gone done in these types of products, so \\\n",
        "they are kind of counting on brand recognition and \\\n",
        "consumer loyalty to maintain sales. Got it in about \\\n",
        "two days.\n",
        "\"\"\""
      ]
    },
    {
      "cell_type": "code",
      "execution_count": 5,
      "metadata": {
        "id": "Ohe2q0bil_i9"
      },
      "outputs": [],
      "source": [
        "# 我们可以在推理那章学习到如何对一个评论判断其情感倾向\n",
        "sentiment = \"negative\"\n",
        "\n",
        "# 一个产品的评价\n",
        "review = f\"\"\"\n",
        "他们在11月份的季节性销售期间以约49美元的价格出售17件套装，折扣约为一半。\\\n",
        "但由于某些原因（可能是价格欺诈），到了12月第二周，同样的套装价格全都涨到了70美元到89美元不等。\\\n",
        "11件套装的价格也上涨了大约10美元左右。\\\n",
        "虽然外观看起来还可以，但基座上锁定刀片的部分看起来不如几年前的早期版本那么好。\\\n",
        "不过我打算非常温柔地使用它，例如，\\\n",
        "我会先在搅拌机中将像豆子、冰、米饭等硬物研磨，然后再制成所需的份量，\\\n",
        "切换到打蛋器制作更细的面粉，或者在制作冰沙时先使用交叉切割刀片，然后使用平面刀片制作更细/不粘的效果。\\\n",
        "制作冰沙时，特别提示：\\\n",
        "将水果和蔬菜切碎并冷冻（如果使用菠菜，则轻轻煮软菠菜，然后冷冻直到使用；\\\n",
        "如果制作果酱，则使用小到中号的食品处理器），这样可以避免在制作冰沙时添加太多冰块。\\\n",
        "大约一年后，电机发出奇怪的噪音，我打电话给客服，但保修已经过期了，所以我不得不再买一个。\\\n",
        "总的来说，这些产品的总体质量已经下降，因此它们依靠品牌认可和消费者忠诚度来维持销售。\\\n",
        "货物在两天内到达。\n",
        "\"\"\""
      ]
    },
    {
      "cell_type": "markdown",
      "metadata": {
        "id": "tNcmN6kVl_i-"
      },
      "source": [
        "我们已经使用推断课程中学到的提取了情感，这是一个关于搅拌机的客户评价，现在我们将根据情感定制回复。\n",
        "\n",
        "这里的指令是：假设你是一个客户服务AI助手，你的任务是为客户发送电子邮件回复，根据通过三个反引号分隔的客户电子邮件，生成一封回复以感谢客户的评价。"
      ]
    },
    {
      "cell_type": "code",
      "execution_count": 6,
      "metadata": {
        "id": "msxs7zEtl_i-",
        "outputId": "86b32af5-d6f2-49d2-ea54-6c3357ab98e8",
        "colab": {
          "base_uri": "https://localhost:8080/"
        }
      },
      "outputs": [
        {
          "output_type": "stream",
          "name": "stdout",
          "text": [
            "Dear valued customer,\n",
            "\n",
            "Thank you for taking the time to leave a review about your recent purchase. We are sorry to hear that you were not completely satisfied with your experience.\n",
            "\n",
            "We apologize for any inconvenience caused by the price increase of the product you purchased. We strive to provide our customers with the best possible prices, and we understand how frustrating it can be when prices change unexpectedly.\n",
            "\n",
            "We appreciate your feedback regarding the quality of the product. We take all customer feedback seriously and will use it to improve our products in the future.\n",
            "\n",
            "If you have any further concerns or questions, please do not hesitate to reach out to our customer service team. They will be happy to assist you in any way they can.\n",
            "\n",
            "Thank you again for your review and for choosing our brand. We hope to have the opportunity to serve you better in the future.\n",
            "\n",
            "Best regards,\n",
            "\n",
            "AI customer agent\n"
          ]
        }
      ],
      "source": [
        "prompt = f\"\"\"\n",
        "You are a customer service AI assistant.\n",
        "Your task is to send an email reply to a valued customer.\n",
        "Given the customer email delimited by ```, \\\n",
        "Generate a reply to thank the customer for their review.\n",
        "If the sentiment is positive or neutral, thank them for \\\n",
        "their review.\n",
        "If the sentiment is negative, apologize and suggest that \\\n",
        "they can reach out to customer service. \n",
        "Make sure to use specific details from the review.\n",
        "Write in a concise and professional tone.\n",
        "Sign the email as `AI customer agent`.\n",
        "Customer review: ```{review}```\n",
        "Review sentiment: {sentiment}\n",
        "\"\"\"\n",
        "response = get_completion(prompt)\n",
        "print(response)"
      ]
    },
    {
      "cell_type": "code",
      "execution_count": 7,
      "metadata": {
        "id": "jckQTODCl_i_",
        "outputId": "2f4a16c6-21f0-4f16-e932-e08ce39175e9",
        "colab": {
          "base_uri": "https://localhost:8080/"
        }
      },
      "outputs": [
        {
          "output_type": "stream",
          "name": "stdout",
          "text": [
            "尊敬的客户，\n",
            "\n",
            "感谢您对我们产品的评价。我们非常重视您的反馈，对于您提到的问题，我们深表歉意。我们会尽快采取措施，改进我们的产品质量和服务。\n",
            "\n",
            "我们很高兴您对我们的交付速度感到满意。同时，我们也非常感谢您分享了您对我们产品的使用方法和技巧。我们会将这些细节纳入我们的产品说明中，以帮助更多的客户更好地使用我们的产品。\n",
            "\n",
            "如果您有任何其他问题或建议，请随时联系我们的客服团队。我们将竭诚为您服务。\n",
            "\n",
            "此致，\n",
            "\n",
            "AI客户代理\n"
          ]
        }
      ],
      "source": [
        "prompt = f\"\"\"\n",
        "你是一位客户服务的AI助手。\n",
        "你的任务是给一位重要客户发送邮件回复。\n",
        "根据客户通过“```”分隔的评价，生成回复以感谢客户的评价。提醒模型使用评价中的具体细节\n",
        "用简明而专业的语气写信。\n",
        "作为“AI客户代理”签署电子邮件。\n",
        "客户评论：\n",
        "```{review}```\n",
        "评论情感：{sentiment}\n",
        "\"\"\"\n",
        "response = get_completion(prompt)\n",
        "print(response)"
      ]
    },
    {
      "cell_type": "markdown",
      "metadata": {
        "id": "WGj3aZQUl_i_"
      },
      "source": [
        "## 三、使用温度系数\n",
        "\n",
        "接下来，我们将使用语言模型的一个称为“温度”的参数，它将允许我们改变模型响应的多样性。您可以将温度视为模型探索或随机性的程度。\n",
        "\n",
        "例如，在一个特定的短语中，“我的最爱食品”最有可能的下一个词是“比萨”，其次最有可能的是“寿司”和“塔可”。因此，在温度为零时，模型将总是选择最有可能的下一个词，而在较高的温度下，它还将选择其中一个不太可能的词，在更高的温度下，它甚至可能选择塔可，而这种可能性仅为五分之一。您可以想象，随着模型继续生成更多单词的最终响应，“我的最爱食品是比萨”将会与第一个响应“我的最爱食品是塔可”产生差异。因此，随着模型的继续，这两个响应将变得越来越不同。\n",
        "\n",
        "一般来说，在构建需要可预测响应的应用程序时，我建议使用温度为零。在所有课程中，我们一直设置温度为零，如果您正在尝试构建一个可靠和可预测的系统，我认为您应该选择这个温度。如果您尝试以更具创意的方式使用模型，可能需要更广泛地输出不同的结果，那么您可能需要使用更高的温度。"
      ]
    },
    {
      "cell_type": "code",
      "execution_count": 8,
      "metadata": {
        "id": "SXjMDfRWl_i_"
      },
      "outputs": [],
      "source": [
        "# given the sentiment from the lesson on \"inferring\",\n",
        "# and the original customer message, customize the email\n",
        "sentiment = \"negative\"\n",
        "\n",
        "# review for a blender\n",
        "review = f\"\"\"\n",
        "So, they still had the 17 piece system on seasonal \\\n",
        "sale for around $49 in the month of November, about \\\n",
        "half off, but for some reason (call it price gouging) \\\n",
        "around the second week of December the prices all went \\\n",
        "up to about anywhere from between $70-$89 for the same \\\n",
        "system. And the 11 piece system went up around $10 or \\\n",
        "so in price also from the earlier sale price of $29. \\\n",
        "So it looks okay, but if you look at the base, the part \\\n",
        "where the blade locks into place doesn’t look as good \\\n",
        "as in previous editions from a few years ago, but I \\\n",
        "plan to be very gentle with it (example, I crush \\\n",
        "very hard items like beans, ice, rice, etc. in the \\ \n",
        "blender first then pulverize them in the serving size \\\n",
        "I want in the blender then switch to the whipping \\\n",
        "blade for a finer flour, and use the cross cutting blade \\\n",
        "first when making smoothies, then use the flat blade \\\n",
        "if I need them finer/less pulpy). Special tip when making \\\n",
        "smoothies, finely cut and freeze the fruits and \\\n",
        "vegetables (if using spinach-lightly stew soften the \\ \n",
        "spinach then freeze until ready for use-and if making \\\n",
        "sorbet, use a small to medium sized food processor) \\ \n",
        "that you plan to use that way you can avoid adding so \\\n",
        "much ice if at all-when making your smoothie. \\\n",
        "After about a year, the motor was making a funny noise. \\\n",
        "I called customer service but the warranty expired \\\n",
        "already, so I had to buy another one. FYI: The overall \\\n",
        "quality has gone done in these types of products, so \\\n",
        "they are kind of counting on brand recognition and \\\n",
        "consumer loyalty to maintain sales. Got it in about \\\n",
        "two days.\n",
        "\"\"\""
      ]
    },
    {
      "cell_type": "code",
      "execution_count": 9,
      "metadata": {
        "id": "7SEmmJ8Al_i_",
        "outputId": "058883d3-aec3-4734-ca45-e88cb7106be1",
        "colab": {
          "base_uri": "https://localhost:8080/"
        }
      },
      "outputs": [
        {
          "output_type": "stream",
          "name": "stdout",
          "text": [
            "Dear Valued Customer,\n",
            "\n",
            "Thank you for taking the time to share your review with us. We are sorry to hear that you experienced a price increase on the product you purchased in December. We understand your frustration and apologize for any inconvenience this may have caused.\n",
            "\n",
            "If you have any further issues, please do not hesitate to reach out to our customer service team. They will be more than happy to assist you in any way they can.\n",
            "\n",
            "We appreciate your loyalty and hope that you will continue to enjoy our products.\n",
            "\n",
            "Sincerely,\n",
            "\n",
            "AI customer agent\n"
          ]
        }
      ],
      "source": [
        "prompt = f\"\"\"\n",
        "You are a customer service AI assistant.\n",
        "Your task is to send an email reply to a valued customer.\n",
        "Given the customer email delimited by ```, \\\n",
        "Generate a reply to thank the customer for their review.\n",
        "If the sentiment is positive or neutral, thank them for \\\n",
        "their review.\n",
        "If the sentiment is negative, apologize and suggest that \\\n",
        "they can reach out to customer service. \n",
        "Make sure to use specific details from the review.\n",
        "Write in a concise and professional tone.\n",
        "Sign the email as `AI customer agent`.\n",
        "Customer review: ```{review}```\n",
        "Review sentiment: {sentiment}\n",
        "\"\"\"\n",
        "response = get_completion(prompt, temperature=0.7)\n",
        "print(response)"
      ]
    },
    {
      "cell_type": "code",
      "execution_count": 10,
      "metadata": {
        "id": "_S4Gj8jLl_jA",
        "outputId": "7f3168ab-2863-4604-9542-0fbbec8b44bc",
        "colab": {
          "base_uri": "https://localhost:8080/"
        }
      },
      "outputs": [
        {
          "output_type": "stream",
          "name": "stdout",
          "text": [
            "尊敬的客户，\n",
            "\n",
            "非常感谢您对我们产品的评价。我们很抱歉您在经历使用过程中遇到了问题。我们会尽快处理和改进产品的质量问题。我们希望您能重新联系我们的客户服务部门，我们将竭诚为您提供帮助和解决方案。\n",
            "\n",
            "同时，我们感谢您对我们品牌的支持和忠诚。我们一直在努力提高我们的产品品质和客户服务。如果您有任何其他问题或建议，请随时联系我们。\n",
            "\n",
            "再次感谢您的评价，期待您的回复。\n",
            "\n",
            "AI客户代理\n"
          ]
        }
      ],
      "source": [
        "prompt = f\"\"\"\n",
        "你是一名客户服务的AI助手。\n",
        "你的任务是给一位重要的客户发送邮件回复。\n",
        "根据通过“```”分隔的客户电子邮件生成回复，以感谢客户的评价。\n",
        "如果情感是积极的或中性的，感谢他们的评价。\n",
        "如果情感是消极的，道歉并建议他们联系客户服务。\n",
        "请确保使用评论中的具体细节。\n",
        "以简明和专业的语气写信。\n",
        "以“AI客户代理”的名义签署电子邮件。\n",
        "客户评价：```{review}```\n",
        "评论情感：{sentiment}\n",
        "\"\"\"\n",
        "response = get_completion(prompt, temperature=0.7)\n",
        "print(response)"
      ]
    },
    {
      "cell_type": "markdown",
      "metadata": {
        "id": "3UxNxhhcl_jA"
      },
      "source": [
        " "
      ]
    },
    {
      "cell_type": "markdown",
      "metadata": {
        "id": "u4dq79Hol_jA"
      },
      "source": [
        "在温度为零时，每次执行相同的提示时，您应该期望获得相同的完成。而使用温度为0.7，则每次都会获得不同的输出。\n",
        "\n",
        "所以，您可以看到它与我们之前收到的电子邮件不同。让我们再次执行它，以显示我们将再次获得不同的电子邮件。\n",
        "\n",
        "因此，我建议您自己尝试温度，以查看输出如何变化。总之，在更高的温度下，模型的输出更加随机。您几乎可以将其视为在更高的温度下，助手更易分心，但也许更有创造力。"
      ]
    },
    {
      "cell_type": "markdown",
      "source": [
        "李鲁鲁：试一下台词生成"
      ],
      "metadata": {
        "id": "SJAVhSVioVyD"
      }
    },
    {
      "cell_type": "code",
      "source": [
        "prompt = f\"\"\"\n",
        "改写以下每一句文本，补充一些台词，使其成为符合\"灼眼的夏娜\"的语气的台词: \n",
        "```1. 我好饿。```\n",
        "```2. 今天中午吃什么？```\n",
        "```3. 冰箱里还有吃的东西吗？```\n",
        "```4. 我现在有点饿，100块钱的外卖应该不够吃。```\n",
        "\"\"\"\n",
        "response = get_completion(prompt)\n",
        "print(response)"
      ],
      "metadata": {
        "id": "tq2qQAX8npIs",
        "outputId": "5a00670a-b218-40f9-d828-e87fa7f4ab6a",
        "colab": {
          "base_uri": "https://localhost:8080/"
        }
      },
      "execution_count": 11,
      "outputs": [
        {
          "output_type": "stream",
          "name": "stdout",
          "text": [
            "1. \"我好饿啊，这肚子咕咕叫的声音都快把我吓到了！\"\n",
            "2. \"今天中午吃什么呢？难道又是那家无聊的快餐店？\"\n",
            "3. \"冰箱里还有吃的东西吗？不要告诉我只有那些过期的泡面和薯片！\"\n",
            "4. \"我现在有点饿，100块钱的外卖应该不够吃吧。这种时候，还是得靠自己的厨艺啊！\"\n"
          ]
        }
      ]
    },
    {
      "cell_type": "code",
      "source": [
        "prompt = f\"\"\"\n",
        "改写以下每一句文本，补充一些台词，使其成为符合\"灼眼的夏娜\"的语气的台词: \n",
        "```1. 我好饿。```\n",
        "```2. 今天中午吃什么？```\n",
        "```3. 冰箱里还有吃的东西吗？```\n",
        "```4. 我现在有点饿，100块钱的外卖应该不够吃。```\n",
        "\"\"\"\n",
        "response = get_completion(prompt, temperature=0.75)\n",
        "print(response)"
      ],
      "metadata": {
        "id": "VFnpZrOFoATb",
        "outputId": "c6d79840-d0b0-41f9-eb74-3ad834905ce8",
        "colab": {
          "base_uri": "https://localhost:8080/"
        }
      },
      "execution_count": 12,
      "outputs": [
        {
          "output_type": "stream",
          "name": "stdout",
          "text": [
            "1. 我的能量消耗殆尽，需要休养生息。\n",
            "2. 今天午餐应该选一份能量充沛的菜肴。\n",
            "3. 家里的储备食品是否还能够保证我的能量需求？\n",
            "4. 空虚的胃部发出了饥饿的信号，但我可不会轻易地放弃我的力量。这100块钱的外卖也许只能填满我的胃，却无法满足我的力量需求。\n"
          ]
        }
      ]
    },
    {
      "cell_type": "code",
      "source": [
        "prompt = f\"\"\"\n",
        "改写以下每一句文本，补充一些台词，使其成为符合\"灼眼的夏娜\"的语气的台词: \n",
        "```1. 我好饿。```\n",
        "```2. 今天中午吃什么？```\n",
        "```3. 冰箱里还有吃的东西吗？```\n",
        "```4. 我现在有点饿，100块钱的外卖应该不够吃。```\n",
        "\"\"\"\n",
        "response = get_completion(prompt, temperature=0.75)\n",
        "print(response)"
      ],
      "metadata": {
        "id": "L5jntKAGoL__",
        "outputId": "2b613e22-98fe-4015-cb79-9f789ec6932d",
        "colab": {
          "base_uri": "https://localhost:8080/"
        }
      },
      "execution_count": 13,
      "outputs": [
        {
          "output_type": "stream",
          "name": "stdout",
          "text": [
            "1. 我的食欲正在燃烧，欲求不满啊！\n",
            "2. 夏娜酱的午餐应该是什么好呢？\n",
            "3. 那厨房还有没有什么能够填饱肚子的东西？\n",
            "4. 唉，看来今天只能继续靠我的火力了。100块钱的外卖？还不如让我把它们全部烧掉！\n"
          ]
        }
      ]
    },
    {
      "cell_type": "markdown",
      "source": [
        "李鲁鲁：感觉调温度似乎感觉用处不大，如果是我我还是选择更好的提示prompt的随机组合去做随机性，而不是去用温度"
      ],
      "metadata": {
        "id": "iGoj2BrXoYSR"
      }
    },
    {
      "cell_type": "code",
      "source": [],
      "metadata": {
        "id": "J6-rDmP5oMuL"
      },
      "execution_count": null,
      "outputs": []
    }
  ],
  "metadata": {
    "kernelspec": {
      "display_name": "Python 3",
      "language": "python",
      "name": "python3"
    },
    "language_info": {
      "codemirror_mode": {
        "name": "ipython",
        "version": 3
      },
      "file_extension": ".py",
      "mimetype": "text/x-python",
      "name": "python",
      "nbconvert_exporter": "python",
      "pygments_lexer": "ipython3",
      "version": "3.8.13"
    },
    "latex_envs": {
      "LaTeX_envs_menu_present": true,
      "autoclose": false,
      "autocomplete": true,
      "bibliofile": "biblio.bib",
      "cite_by": "apalike",
      "current_citInitial": 1,
      "eqLabelWithNumbers": true,
      "eqNumInitial": 1,
      "hotkeys": {
        "equation": "Ctrl-E",
        "itemize": "Ctrl-I"
      },
      "labels_anchors": false,
      "latex_user_defs": false,
      "report_style_numbering": false,
      "user_envs_cfg": false
    },
    "toc": {
      "base_numbering": 1,
      "nav_menu": {},
      "number_sections": true,
      "sideBar": true,
      "skip_h1_title": false,
      "title_cell": "Table of Contents",
      "title_sidebar": "Contents",
      "toc_cell": false,
      "toc_position": {},
      "toc_section_display": true,
      "toc_window_display": false
    },
    "colab": {
      "provenance": [],
      "include_colab_link": true
    }
  },
  "nbformat": 4,
  "nbformat_minor": 0
}