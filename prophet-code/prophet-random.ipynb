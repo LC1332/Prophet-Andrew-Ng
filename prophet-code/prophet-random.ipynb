{
  "cells": [
    {
      "cell_type": "markdown",
      "metadata": {
        "id": "view-in-github",
        "colab_type": "text"
      },
      "source": [
        "<a href=\"https://colab.research.google.com/github/LC1332/Prophet-Andrew-Ng/blob/main/prophet-code/prophet-random.ipynb\" target=\"_parent\"><img src=\"https://colab.research.google.com/assets/colab-badge.svg\" alt=\"Open In Colab\"/></a>"
      ]
    },
    {
      "cell_type": "markdown",
      "metadata": {
        "id": "kmVT9EdX7N4U"
      },
      "source": [
        "# 骆驼先知\n",
        "\n",
        "骆驼先知是 李鲁鲁 受到吴恩达的prompt Engineering的启发\n",
        "\n",
        "制作的一个纪伯伦的《先知》的拓展版本\n",
        "\n",
        "运行这个notebook你需要OpenAI的API Token\n",
        "\n",
        "项目链接 [https://github.com/LC1332/Prophet-Andrew-Ng](https://github.com/LC1332/Prophet-Andrew-Ng)\n",
        "\n",
        "骆驼先知是[Luotuo(骆驼)](https://github.com/LC1332/Luotuo-Chinese-LLM)的子项目之一，后者由李鲁鲁，冷子昂，陈启源发起。"
      ]
    },
    {
      "cell_type": "code",
      "execution_count": null,
      "metadata": {
        "id": "MfYhNtHl0UGv"
      },
      "outputs": [],
      "source": [
        "! pip install openai"
      ]
    },
    {
      "cell_type": "code",
      "execution_count": 2,
      "metadata": {
        "id": "Vl_bf8oK0UGv"
      },
      "outputs": [],
      "source": [
        "import openai\n",
        "import os\n",
        "\n",
        "# 导入第三方库\n",
        "\n",
        "openai.api_key  = 'sk-'\n",
        "# 李鲁鲁 在这里设置你的API_KEY"
      ]
    },
    {
      "cell_type": "markdown",
      "metadata": {
        "id": "XZUEH1Qe0UGw"
      },
      "source": [
        "## 数据读取\n",
        "\n",
        "读取prompt-data中的文本数据，作为in-context-learning的数据"
      ]
    },
    {
      "cell_type": "code",
      "execution_count": null,
      "metadata": {
        "id": "BaYvbBNu0UGw",
        "outputId": "1dfb17ad-b1aa-4c14-94ed-529ba20eb22e"
      },
      "outputs": [
        {
          "name": "stdout",
          "output_type": "stream",
          "text": [
            "孩子 315\n",
            "爱 789\n",
            "婚姻 292\n"
          ]
        }
      ],
      "source": [
        "prophet_data_folder = './../prophet-data'\n",
        "\n",
        "import os\n",
        "\n",
        "titles = []\n",
        "title_to_text = {}\n",
        "\n",
        "# scan all txt file in prophet_data_folder\n",
        "for file in os.listdir(prophet_data_folder):\n",
        "    if file.endswith('.txt'):\n",
        "        title_name = file[:-4]\n",
        "        titles.append(title_name)\n",
        "\n",
        "        with open(os.path.join(prophet_data_folder, file), 'r') as f:\n",
        "            title_to_text[title_name] = f.read()\n",
        "\n",
        "# report length of each text\n",
        "for title in titles:\n",
        "    print(title, len(title_to_text[title]))"
      ]
    },
    {
      "cell_type": "markdown",
      "metadata": {
        "id": "rHeMCmhc7J6w"
      },
      "source": [
        "我们将在后续课程中深入探究 OpenAI 提供的 ChatCompletion API 的使用方法，在此处，我们先将它封装成一个函数，你无需知道其内部机理，仅需知道调用该函数输入 Prompt 其将会给出对应的 Completion 即可。"
      ]
    },
    {
      "cell_type": "code",
      "execution_count": null,
      "metadata": {
        "id": "0gQKsQUT7J6w"
      },
      "outputs": [],
      "source": [
        "# 一个封装 OpenAI 接口的函数，参数为 Prompt，返回对应结果\n",
        "def get_completion(prompt, model=\"gpt-3.5-turbo\"):\n",
        "    '''\n",
        "    prompt: 对应的提示\n",
        "    model: 调用的模型，默认为 gpt-3.5-turbo(ChatGPT)，有内测资格的用户可以选择 gpt-4\n",
        "    '''\n",
        "    messages = [{\"role\": \"user\", \"content\": prompt}]\n",
        "    response = openai.ChatCompletion.create(\n",
        "        model=model,\n",
        "        messages=messages,\n",
        "        temperature=0, # 模型输出的温度系数，控制输出的随机程度\n",
        "    )\n",
        "    # 调用 OpenAI 的 ChatCompletion 接口\n",
        "    return response.choices[0].message[\"content\"]\n"
      ]
    },
    {
      "cell_type": "markdown",
      "metadata": {
        "id": "yrYnOGYB0UGx"
      },
      "source": [
        "在这里我们先假设一个query的主题 \"时间\""
      ]
    },
    {
      "cell_type": "code",
      "execution_count": null,
      "metadata": {
        "id": "_NJoXPn00UGy"
      },
      "outputs": [],
      "source": [
        "query_topic = \"时间\""
      ]
    },
    {
      "cell_type": "markdown",
      "metadata": {
        "id": "1k18RVHU0UGy"
      },
      "source": [
        "定义先知和市民的身份，这里是为了方便后面的泛化"
      ]
    },
    {
      "cell_type": "code",
      "execution_count": null,
      "metadata": {
        "id": "Y6fWF7rE0UGy"
      },
      "outputs": [],
      "source": [
        "prophet_name = \"先知\"\n",
        "\n",
        "citizen_name = \"市民\""
      ]
    },
    {
      "cell_type": "markdown",
      "metadata": {
        "id": "p1fFNJV40UGy"
      },
      "source": [
        "形成一个shot的句子输出"
      ]
    },
    {
      "cell_type": "code",
      "execution_count": null,
      "metadata": {
        "id": "rmlWCxMI0UGy",
        "outputId": "95ba0c84-6290-4020-bedb-31614a889718"
      },
      "outputs": [
        {
          "name": "stdout",
          "output_type": "stream",
          "text": [
            "<市民>:```请和我们讨论一下\"衣服\"```\n",
            "\n",
            "<先知>:```你们的衣服遮掩了你们许多的美，却不能遮盖住丑。\n",
            "尽管你们借衣服寻求隐私的自由，但你们找到的却是羁绊和束缚。```\n",
            "\n",
            "\n"
          ]
        }
      ],
      "source": [
        "# 实现一个Python函数 ensemble_one_shot ，输入为prophet_name, citizen_name, sample_topic，sample_answer， 输出为一个组织好的字符串\n",
        "# 例子输入: 先知, 市民, 衣服， \"你们的衣服遮掩了你们许多的美，却不能遮盖住丑。 \\n 尽管你们借衣服寻求隐私的自由，但你们找到的却是羁绊和束缚。\"\n",
        "# 例子输出: \"\"\"\n",
        "# <市民>:请和我们讨论一下\"衣服\"\n",
        "\n",
        "# <先知>: 你们的衣服遮掩了你们许多的美，却不能遮盖住丑。\n",
        "# 尽管你们借衣服寻求隐私的自由，但你们找到的却是羁绊和束缚。\n",
        "# \"\"\"\n",
        "def ensemble_one_shot(prophet_name, citizen_name, sample_topic, sample_answer):\n",
        "    # 组织对话文本\n",
        "    dialogue = \"<{}>:```请和我们讨论一下\\\"{}\\\"```\\n\\n<{}>:```{}```\\n\\n\".format(citizen_name, sample_topic, prophet_name, sample_answer)\n",
        "    return dialogue\n",
        "\n",
        "# unit test for ensemble_one_shot\n",
        "prophet_name = \"先知\"\n",
        "citizen_name = \"市民\"\n",
        "sample_topic = \"衣服\"\n",
        "sample_answer = \"你们的衣服遮掩了你们许多的美，却不能遮盖住丑。\\n尽管你们借衣服寻求隐私的自由，但你们找到的却是羁绊和束缚。\"\n",
        "\n",
        "dialogue = ensemble_one_shot(prophet_name, citizen_name, sample_topic, sample_answer)\n",
        "print(dialogue)"
      ]
    },
    {
      "cell_type": "markdown",
      "metadata": {
        "id": "9g33B4zm0UGz"
      },
      "source": [
        "下面我们来组织完整的prompt，我们假设已经选取了两个主题作为例子 孩子和爱"
      ]
    },
    {
      "cell_type": "code",
      "execution_count": null,
      "metadata": {
        "id": "jGPqtBFd0UGz",
        "outputId": "a0d8cead-192e-4624-ecf3-380b835ca7f1"
      },
      "outputs": [
        {
          "name": "stdout",
          "output_type": "stream",
          "text": [
            "你的任务是以一致的风格回答问题。\n",
            "\n",
            "<市民>:```请和我们讨论一下\"孩子\"```\n",
            "\n",
            "<先知>:```你们的孩子并不是你们的，\n",
            "而是“生命”对自身的渴望所生的儿女\n",
            "他们借你们来到世上,却并非来自你们,\n",
            "他们虽与你们一起生活,却并不属于你们。\n",
            "\n",
            "你们可把爱给予他们,却不能给予他们以思想\n",
            "因为他们有他们的思想。\n",
            "你们能够庇护他们的身体,却不能庇护他们的灵魂。\n",
            "因为他们的灵魂居于明日的华屋,那是你们无法想见的,即使在梦中。\n",
            "\n",
            "你们可以努力以求像他们,但不要试图让他们像你们。\n",
            "因为生命不能走退步,它不可能滞留在昨天。\n",
            "你们是弓,你们的孩子则是从你们的弓弦上射出的矢箭.\n",
            "射手看见坚立在无尽头路上的目标\n",
            "他会用自己的神力将你们的弓引满，以便让他的箭快速射至最远。\n",
            "就让你们的弓在射手的手中甘愿曲弯;\n",
            "因为他既爱那飞快的箭,也爱那静止的弓```\n",
            "\n",
            "<市民>:```请和我们讨论一下\"爱\"```\n",
            "\n",
            "<先知>:```爱向你们示意,你们就跟他走\n",
            "即使道路崎岖,坡斜陡滑。\n",
            "如果爱向你们展开双翅,你就服从之\n",
            "即使藏在羽翻中的利剑会伤着你们。\n",
            "如果爱对你们说什么,你们只管相信他\n",
            "即使他的声音惊扰了你们的美梦,犹如北风将园林吹得花木调零。\n",
            "\n",
            "爱为你们戴上冠冕的同时,也会把你们钉在十字架上。爱能强壮你们的骨干，同时也要修剪你们的枝条。\n",
            "爱能升腾到你们天际的至高处,抚弄你们那摇曳在阳光里的柔嫩细枝。\n",
            "爱同样能沉人你们那伸进泥土里的根部,并将根部动摇。\n",
            "\n",
            "爱把你们抱在怀里,如同抱着一捆麦子爱把你们春打,以使你们赤体裸身。爱把你们过筛子,以便筛去外壳\n",
            "爱把你们磨成面粉。\n",
            "爱把你们和成面团,让你们变得柔软。\n",
            "爱再把你们放在他的圣殿里的火上,以期让你们变成上帝圣缝上的神圣面包。\n",
            "\n",
            "爱如此摆弄你们,为的是让你们知道你们心中的秘密。依靠这一见识,你们就能成为存在之心的一片碎屑。\n",
            "如果你们心存恐惧,只想在爱中寻求安逸和享受那么,你们最好遮盖起自己的裸体,逃离爱的打谷场，\n",
            "走向一个没有季节更替的世界;在那里,你们可以笑,但笑得不尽情;在那里,你们可以哭,但眼泪淌不完。\n",
            "\n",
            "爱,除了自己,既不给予,也不索取。\n",
            "爱,既不占有,也不被任何人占有。\n",
            "爱,仅仅满足于自己而已.\n",
            "当你爱的时候,你不要说“上帝在我心中”而要说“我在上帝心中”。\n",
            "你切莫以为自己能够指引爱之行程爱会引导你,如果发现你适于引导。\n",
            "\n",
            "爱除了实现自我,别无所求\n",
            "当你爱时,而且还要伴随着某些愿望,那就把这些作为你的愿望吧:\n",
            "融化自己,让自己变得像一条流淌的溪水,对夜色哼唱小曲;感受过分温柔产生的痛苦;\n",
            "接受由对爱的了解为你带来的伤害;\n",
            "甘心情愿地任你的血流淌;\n",
            "黎明即起,带着-颗长了翅膀的心,满怀谢意地迎接爱的新天的来临;\n",
            "中午小憩,深深沉浸在爱的微醉之中;\n",
            "黄昏回家,满怀感恩之情;\n",
            "入睡之时,你的心为你心爱的人祈福,唇间哼吟着赞美的歌\n",
            "```\n",
            "\n",
            "<市民>:```请和我们讨论一下\"时间\"```\n",
            "\n",
            "\n"
          ]
        }
      ],
      "source": [
        "selected_sample = [\"孩子\",\"爱\"]\n",
        "\n",
        "def organize_prompt( query_topic, selected_sample ):\n",
        "    prompt = \"\"\"你的任务是以一致的风格回答问题。\\n\\n\"\"\"\n",
        "    \n",
        "    for sample_topic in selected_sample:\n",
        "        # find sample_answer in dictionary\n",
        "        sample_answer = title_to_text[sample_topic]\n",
        "        prompt += ensemble_one_shot(prophet_name, citizen_name, sample_topic, sample_answer)\n",
        "\n",
        "    prompt += \"\"\"<{}>:```请和我们讨论一下\"{}\"```\\n\\n\"\"\".format(citizen_name, query_topic)\n",
        "\n",
        "    return prompt\n",
        "\n",
        "# write a unit test for organize_prompt\n",
        "query_topic = \"时间\"\n",
        "selected_sample = [\"孩子\",\"爱\"]\n",
        "prompt = organize_prompt( query_topic, selected_sample )\n",
        "print(prompt)"
      ]
    },
    {
      "cell_type": "markdown",
      "metadata": {
        "id": "jywQStAp0UGz"
      },
      "source": []
    },
    {
      "cell_type": "markdown",
      "metadata": {
        "id": "DAcCYGD30UGz"
      },
      "source": [
        "在第一个版本中，我们selected_sample先使用随机的策略"
      ]
    },
    {
      "cell_type": "code",
      "execution_count": null,
      "metadata": {
        "id": "GeyxIbvw0UGz",
        "outputId": "221de5e9-e13c-4308-a2b7-b6b3a9b1700e"
      },
      "outputs": [
        {
          "name": "stdout",
          "output_type": "stream",
          "text": [
            "['孩子', '婚姻']\n"
          ]
        }
      ],
      "source": [
        "import random\n",
        "\n",
        "# def function random_select_title, random pick k sample from titles\n",
        "def random_select_title(titles, k):\n",
        "    return random.sample(titles, k)\n",
        "\n",
        "# unit test for random_select_title\n",
        "selected_sample = random_select_title(titles, 2)\n",
        "print(selected_sample)"
      ]
    },
    {
      "cell_type": "markdown",
      "metadata": {
        "id": "YBqs8-Aq0UG0"
      },
      "source": [
        "集成所有的代码！"
      ]
    },
    {
      "cell_type": "code",
      "execution_count": null,
      "metadata": {
        "id": "nG2WvoSs0UG0"
      },
      "outputs": [],
      "source": [
        "query_topic = \"时间\"\n",
        "selected_sample = random_select_title(titles, 2)\n",
        "prompt = organize_prompt( query_topic, selected_sample )\n",
        "response = get_completion(prompt)\n",
        "print(response)"
      ]
    },
    {
      "cell_type": "markdown",
      "metadata": {
        "id": "77BPRdKH0UG0"
      },
      "source": [
        "当然你也可以指定特定的title进行讨论"
      ]
    },
    {
      "cell_type": "code",
      "execution_count": null,
      "metadata": {
        "id": "V1Pbnmw_0UG0"
      },
      "outputs": [],
      "source": [
        "query_topic = \"内卷\"\n",
        "selected_sample = [\"劳作\",\"自由\"]\n",
        "prompt = organize_prompt( query_topic, selected_sample )\n",
        "response = get_completion(prompt)\n",
        "print(response)"
      ]
    },
    {
      "cell_type": "markdown",
      "metadata": {
        "id": "iB9lAgIx7J61"
      },
      "source": [
        "**策略四：提供少量示例**\n",
        "\n",
        "即在要求模型执行实际任务之前，提供给它少量成功执行任务的示例。\n",
        "\n",
        "例如，在以下的示例中，我们告诉模型其任务是以一致的风格回答问题，并先给它一个孩子和一个祖父之间的对话的例子。孩子说，“教我耐心”，祖父用这些隐喻回答。因此，由于我们已经告诉模型要以一致的语气回答，现在我们说“教我韧性”，由于模型已经有了这个少样本示例，它将以类似的语气回答下一个任务。"
      ]
    },
    {
      "cell_type": "code",
      "execution_count": null,
      "metadata": {
        "colab": {
          "base_uri": "https://localhost:8080/"
        },
        "id": "qHXVMXir7J61",
        "outputId": "4c1c4844-6d8b-4ae9-fcdc-00bb09a0dc0c"
      },
      "outputs": [
        {
          "name": "stdout",
          "output_type": "stream",
          "text": [
            "<grandparent>: Resilience is like a tree that bends with the wind but never breaks. It is the ability to bounce back from adversity and keep moving forward, even when things get tough. Just like a tree that grows stronger with each storm it weathers, resilience is a quality that can be developed and strengthened over time.\n"
          ]
        }
      ],
      "source": [
        "prompt = f\"\"\"\n",
        "Your task is to answer in a consistent style.\n",
        "\n",
        "<child>: Teach me about patience.\n",
        "\n",
        "<grandparent>: The river that carves the deepest \\ \n",
        "valley flows from a modest spring; the \\ \n",
        "grandest symphony originates from a single note; \\ \n",
        "the most intricate tapestry begins with a solitary thread.\n",
        "\n",
        "<child>: Teach me about resilience.\n",
        "\"\"\"\n",
        "response = get_completion(prompt)\n",
        "print(response)"
      ]
    },
    {
      "cell_type": "code",
      "execution_count": null,
      "metadata": {
        "colab": {
          "base_uri": "https://localhost:8080/"
        },
        "id": "0fjXVDfd7J62",
        "outputId": "53157757-9fe9-46fc-8e7b-57a95eaaf1c7"
      },
      "outputs": [
        {
          "name": "stdout",
          "output_type": "stream",
          "text": [
            "<祖父母>: 韧性就像是一棵树，它需要经历风吹雨打、寒冬酷暑，才能成长得更加坚强。所以，当你遇到挫折和困难时，不要轻易放弃，要像树一样坚定地扎根，不断成长，最终成为一棵高大的树。\n"
          ]
        }
      ],
      "source": [
        "prompt = f\"\"\"\n",
        "你的任务是以一致的风格回答问题。\n",
        "\n",
        "<孩子>: 教我耐心。\n",
        "\n",
        "<祖父母>: 挖出最深峡谷的河流源于一处不起眼的泉眼；最宏伟的交响乐从单一的音符开始；最复杂的挂毯以一根孤独的线开始编织。\n",
        "\n",
        "<孩子>: 教我韧性。\n",
        "\"\"\"\n",
        "response = get_completion(prompt)\n",
        "print(response)"
      ]
    },
    {
      "cell_type": "markdown",
      "metadata": {
        "id": "WIUM6GiPAXAO"
      },
      "source": [
        "李鲁鲁：这种说教风格的学习\n",
        "\n",
        "直接让我想起了我小时候中二阶段（国中二年级）的文学创作巅峰\n",
        "\n",
        "那个时候很喜欢 纪伯伦的 《先知》 觉得先知的说法 风格非常说教\n",
        "\n",
        "我们不如现学现卖一段，这里就不使用代码了。\n"
      ]
    },
    {
      "cell_type": "markdown",
      "metadata": {
        "id": "T3FY8yLEAkCU"
      },
      "source": [
        "这里我们想让 《先知》 故事中的先知\n",
        "\n",
        "来讨论时间这个概念， 于是ChatGPT的输入\n",
        "\n",
        "```\n",
        "你的任务是以一致的风格回答问题。\n",
        "\n",
        "<市民>: 请和我们讨论一下\"孩子\"\n",
        "\n",
        "<先知>: \"\"\"你的孩子，其实不是你的孩子，\n",
        "他们是生命对于自身渴望而诞生的孩子，\n",
        "他们通过你来到这世界，却非因你而来，\n",
        "他们在你身边，却并不属于你。\n",
        "你可以给予他们的是你的爱，却不是你的想法，\n",
        "因为他们自己有自己的思想。\n",
        "你可以庇护的是他们的身体，却不是他们的灵魂，\n",
        "因为他们的灵魂属于明天，属于你做梦也无法达到的明天。\n",
        "你可以拼尽全力，变得象他们一样，\n",
        "却不要让他们变得和你一样，\n",
        "因为生命不会后退，也不在过去停留。\n",
        "你是弓，儿女是从你那里射出的箭。\n",
        "弓箭手望着未来之路上的箭靶，\n",
        "他用尽力气将你拉开，使他的箭射得又快又远。\n",
        "怀着快乐的心情，在弓箭手的手里弯曲吧，\n",
        "因为他爱一路飞翔的箭，也爱无比稳定的弓。\"\"\"\n",
        "\n",
        "<市民>:请和我们讨论一下\"衣服\"\n",
        "\n",
        "<先知>: 你们的衣服遮掩了你们许多的美，却不能遮盖住丑。\n",
        "尽管你们借衣服寻求隐私的自由，但你们找到的却是羁绊和束缚。\n",
        "但愿你们用自己的肌肤而不是衣服去迎接阳光和清风，\n",
        "因为阳光中有生命的气息，而风中有生命之手。\n",
        "你们中一些人说：“是北风织造了我们所穿的衣服。”\n",
        "我说，是的，的确是北风，\n",
        "但它以羞怯为织机，以纤弱的肌肉为纱线。\n",
        "它一旦完成工作，便会在林中大笑。\n",
        "不要忘记，羞怯原是抵挡不洁目光的盾牌。\n",
        "若无邪侪，那羞怯除了是精神上的束缚和污垢外还能是什么？\n",
        "也不要忘记，大地乐于感觉体赤裸的双脚，风儿渴望与你的头发嬉戏。\n",
        "\n",
        "<市民>:请和我们讨论一下\"时间\"\n",
        "```"
      ]
    },
    {
      "cell_type": "markdown",
      "metadata": {
        "id": "xRXcvp5qAwLI"
      },
      "source": [
        "让我们来看看GPT的输出\n",
        "\n",
        "```\n",
        "<先知>: 时间是一条河流，它汇聚着每个生命的流动和消逝。\n",
        "每个人都在时间的河流中漂泊，不断地向前推进。\n",
        "我们无法停止或掌控时间，但可以选择如何利用它。\n",
        "时间是宝贵的，它可以让我们成长、学习、改变和创造。\n",
        "但若我们不珍惜时间，它也会成为我们生命中的遗憾和遗失。\n",
        "无论过去、现在还是未来，时间都是无情的，它会不断流逝，\n",
        "我们唯一能做的就是珍惜它，珍惜每分每秒的生命，让我们的时间变得更加有意义和宝贵。\n",
        "```\n",
        "\n",
        "这个回答可以说是相当不错了。\n",
        "\n",
        "这里我们来挖个坑吧，我收集了所有纪伯伦的诗，如果这套课刷完了\n",
        "\n",
        "可以做个自动哲理机器人。。。"
      ]
    },
    {
      "cell_type": "markdown",
      "metadata": {
        "id": "6sg1_Me57J62"
      },
      "source": [
        "### 原则二：给模型时间去思考\n",
        "\n",
        "如果模型匆忙地得出了错误的结论，您应该尝试重新构思查询，请求模型在提供最终答案之前进行一系列相关的推理。换句话说，如果您给模型一个在短时间或用少量文字无法完成的任务，它可能会猜测错误。这种情况对人来说也是一样的。如果您让某人在没有时间计算出答案的情况下完成复杂的数学问题，他们也可能会犯错误。因此，在这些情况下，您可以指示模型花更多时间思考问题，这意味着它在任务上花费了更多的计算资源。"
      ]
    },
    {
      "cell_type": "markdown",
      "metadata": {
        "id": "gZsLtXS97J62"
      },
      "source": [
        "**策略一：指定完成任务所需的步骤**\n",
        "\n",
        "接下来我们将通过给定一个复杂任务，给出完成该任务的一系列步骤，来展示这一策略的效果"
      ]
    },
    {
      "cell_type": "markdown",
      "metadata": {
        "id": "ArWS3p4t7J62"
      },
      "source": [
        "首先我们描述了杰克和吉尔的故事，并给出一个指令。该指令是执行以下操作。首先，用一句话概括三个反引号限定的文本。第二，将摘要翻译成法语。第三，在法语摘要中列出每个名称。第四，输出包含以下键的 JSON 对象：法语摘要和名称数。然后我们要用换行符分隔答案。"
      ]
    },
    {
      "cell_type": "code",
      "execution_count": null,
      "metadata": {
        "id": "U1jzWvT-7J62",
        "outputId": "88abb552-1721-4de6-eba2-1d460a12daff"
      },
      "outputs": [
        {
          "name": "stdout",
          "output_type": "stream",
          "text": [
            "Completion for prompt 1:\n",
            "Two siblings, Jack and Jill, go on a quest to fetch water from a well on a hilltop, but misfortune strikes and they both tumble down the hill, returning home slightly battered but with their adventurous spirits undimmed.\n",
            "\n",
            "Deux frères et sœurs, Jack et Jill, partent en quête d'eau d'un puits sur une colline, mais un malheur frappe et ils tombent tous les deux de la colline, rentrant chez eux légèrement meurtris mais avec leurs esprits aventureux intacts. \n",
            "Noms: Jack, Jill.\n",
            "\n",
            "{\n",
            "  \"french_summary\": \"Deux frères et sœurs, Jack et Jill, partent en quête d'eau d'un puits sur une colline, mais un malheur frappe et ils tombent tous les deux de la colline, rentrant chez eux légèrement meurtris mais avec leurs esprits aventureux intacts.\",\n",
            "  \"num_names\": 2\n",
            "}\n"
          ]
        }
      ],
      "source": [
        "text = f\"\"\"\n",
        "In a charming village, siblings Jack and Jill set out on \\ \n",
        "a quest to fetch water from a hilltop \\ \n",
        "well. As they climbed, singing joyfully, misfortune \\ \n",
        "struck—Jack tripped on a stone and tumbled \\ \n",
        "down the hill, with Jill following suit. \\ \n",
        "Though slightly battered, the pair returned home to \\ \n",
        "comforting embraces. Despite the mishap, \\ \n",
        "their adventurous spirits remained undimmed, and they \\ \n",
        "continued exploring with delight.\n",
        "\"\"\"\n",
        "# example 1\n",
        "prompt_1 = f\"\"\"\n",
        "Perform the following actions: \n",
        "1 - Summarize the following text delimited by triple \\\n",
        "backticks with 1 sentence.\n",
        "2 - Translate the summary into French.\n",
        "3 - List each name in the French summary.\n",
        "4 - Output a json object that contains the following \\\n",
        "keys: french_summary, num_names.\n",
        "\n",
        "Separate your answers with line breaks.\n",
        "\n",
        "Text:\n",
        "```{text}```\n",
        "\"\"\"\n",
        "response = get_completion(prompt_1)\n",
        "print(\"Completion for prompt 1:\")\n",
        "print(response)"
      ]
    },
    {
      "cell_type": "code",
      "execution_count": null,
      "metadata": {
        "id": "vtQ8byoc7J63",
        "outputId": "cf4e6972-203d-417e-dab0-ae41d86ded0c"
      },
      "outputs": [
        {
          "name": "stdout",
          "output_type": "stream",
          "text": [
            "prompt 1:\n",
            "1-兄妹在山顶井里打水时发生意外，但仍然保持冒险精神。\n",
            "2-Dans un charmant village, les frère et sœur Jack et Jill partent chercher de l'eau dans un puits au sommet de la montagne. Malheureusement, Jack trébuche sur une pierre et tombe de la montagne, suivi de près par Jill. Bien qu'ils soient légèrement blessés, ils retournent chez eux chaleureusement. Malgré cet accident, leur esprit d'aventure ne diminue pas et ils continuent à explorer joyeusement.\n",
            "3-Jack, Jill\n",
            "4-{\n",
            "   \"French_summary\": \"Dans un charmant village, les frère et sœur Jack et Jill partent chercher de l'eau dans un puits au sommet de la montagne. Malheureusement, Jack trébuche sur une pierre et tombe de la montagne, suivi de près par Jill. Bien qu'ils soient légèrement blessés, ils retournent chez eux chaleureusement. Malgré cet accident, leur esprit d'aventure ne diminue pas et ils continuent à explorer joyeusement.\",\n",
            "   \"num_names\": 2\n",
            "}\n"
          ]
        }
      ],
      "source": [
        "text = f\"\"\"\n",
        "在一个迷人的村庄里，兄妹杰克和吉尔出发去一个山顶井里打水。\\\n",
        "他们一边唱着欢乐的歌，一边往上爬，\\\n",
        "然而不幸降临——杰克绊了一块石头，从山上滚了下来，吉尔紧随其后。\\\n",
        "虽然略有些摔伤，但他们还是回到了温馨的家中。\\\n",
        "尽管出了这样的意外，他们的冒险精神依然没有减弱，继续充满愉悦地探索。\n",
        "\"\"\"\n",
        "# example 1\n",
        "prompt_1 = f\"\"\"\n",
        "执行以下操作：\n",
        "1-用一句话概括下面用三个反引号括起来的文本。\n",
        "2-将摘要翻译成法语。\n",
        "3-在法语摘要中列出每个人名。\n",
        "4-输出一个 JSON 对象，其中包含以下键：French_summary，num_names。\n",
        "\n",
        "请用换行符分隔您的答案。\n",
        "\n",
        "Text:\n",
        "```{text}```\n",
        "\"\"\"\n",
        "response = get_completion(prompt_1)\n",
        "print(\"prompt 1:\")\n",
        "print(response)"
      ]
    },
    {
      "cell_type": "markdown",
      "metadata": {
        "id": "qc5CkgDT7J63"
      },
      "source": [
        "上述输出仍然存在一定问题，例如，键“姓名”会被替换为法语，因此，我们给出一个更好的 Prompt，该 Prompt 指定了输出的格式"
      ]
    },
    {
      "cell_type": "code",
      "execution_count": null,
      "metadata": {
        "id": "ogLoMjEO7J63",
        "outputId": "9d06ecbc-12b3-43e1-9f5f-d3c7c9186a99"
      },
      "outputs": [
        {
          "name": "stdout",
          "output_type": "stream",
          "text": [
            "\n",
            "Completion for prompt 2:\n",
            "Summary: 兄妹杰克和吉尔在山顶井里打水时发生意外，但他们仍然保持冒险精神继续探索。\n",
            "Translation: Jack and Jill, deux frères et sœurs, ont eu un accident en allant chercher de l'eau dans un puits de montagne, mais ils ont continué à explorer avec un esprit d'aventure.\n",
            "Names: Jack, Jill\n",
            "Output JSON: {\"french_summary\": \"Jack and Jill, deux frères et sœurs, ont eu un accident en allant chercher de l'eau dans un puits de montagne, mais ils ont continué à explorer avec un esprit d'aventure.\", \"num_names\": 2}\n"
          ]
        }
      ],
      "source": [
        "prompt_2 = f\"\"\"\n",
        "Your task is to perform the following actions: \n",
        "1 - Summarize the following text delimited by <> with 1 sentence.\n",
        "2 - Translate the summary into French.\n",
        "3 - List each name in the French summary.\n",
        "4 - Output a json object that contains the \n",
        "following keys: french_summary, num_names.\n",
        "\n",
        "Use the following format:\n",
        "Text: <text to summarize>\n",
        "Summary: <summary>\n",
        "Translation: <summary translation>\n",
        "Names: <list of names in French summary>\n",
        "Output JSON: <json with summary and num_names>\n",
        "\n",
        "Text: <{text}>\n",
        "\"\"\"\n",
        "response = get_completion(prompt_2)\n",
        "print(\"\\nCompletion for prompt 2:\")\n",
        "print(response)"
      ]
    },
    {
      "cell_type": "code",
      "execution_count": null,
      "metadata": {
        "id": "hNwNJz5y7J64",
        "outputId": "f30a1200-fdf4-410b-848c-ac4f3bd47e93"
      },
      "outputs": [
        {
          "name": "stdout",
          "output_type": "stream",
          "text": [
            "\n",
            "prompt 2:\n",
            "摘要：兄妹杰克和吉尔在迷人的村庄里冒险，不幸摔伤后回到家中，但仍然充满冒险精神。\n",
            "翻译：In a charming village, siblings Jack and Jill set out to fetch water from a mountaintop well. While climbing and singing, Jack trips on a stone and tumbles down the mountain, with Jill following closely behind. Despite some bruises, they make it back home safely. Their adventurous spirit remains undiminished as they continue to explore with joy.\n",
            "名称：Jack，Jill\n",
            "输出 JSON：{\"English_summary\": \"In a charming village, siblings Jack and Jill set out to fetch water from a mountaintop well. While climbing and singing, Jack trips on a stone and tumbles down the mountain, with Jill following closely behind. Despite some bruises, they make it back home safely. Their adventurous spirit remains undiminished as they continue to explore with joy.\", \"num_names\": 2}\n"
          ]
        }
      ],
      "source": [
        "prompt_2 = f\"\"\"\n",
        "1-用一句话概括下面用<>括起来的文本。\n",
        "2-将摘要翻译成英语。\n",
        "3-在英语摘要中列出每个名称。\n",
        "4-输出一个 JSON 对象，其中包含以下键：English_summary，num_names。\n",
        "\n",
        "请使用以下格式：\n",
        "文本：<要总结的文本>\n",
        "摘要：<摘要>\n",
        "翻译：<摘要的翻译>\n",
        "名称：<英语摘要中的名称列表>\n",
        "输出 JSON：<带有 English_summary 和 num_names 的 JSON>\n",
        "\n",
        "Text: <{text}>\n",
        "\"\"\"\n",
        "response = get_completion(prompt_2)\n",
        "print(\"\\nprompt 2:\")\n",
        "print(response)"
      ]
    },
    {
      "cell_type": "markdown",
      "metadata": {
        "id": "Uzx8FQwZ7J64"
      },
      "source": [
        " "
      ]
    },
    {
      "cell_type": "markdown",
      "metadata": {
        "id": "gkPGPHRn7J64"
      },
      "source": [
        "**策略二：指导模型在下结论之前找出一个自己的解法**\n",
        "\n",
        "有时候，在明确指导模型在做决策之前要思考解决方案时，我们会得到更好的结果。\n",
        "\n",
        "接下来我们会给出一个问题和一个学生的解答，要求模型判断解答是否正确"
      ]
    },
    {
      "cell_type": "code",
      "execution_count": null,
      "metadata": {
        "id": "ZxCxbIOb7J64",
        "outputId": "4266de8e-f9c0-4b10-c967-30bf79466cef"
      },
      "outputs": [
        {
          "name": "stdout",
          "output_type": "stream",
          "text": [
            "The student's solution is correct.\n"
          ]
        }
      ],
      "source": [
        "prompt = f\"\"\"\n",
        "Determine if the student's solution is correct or not.\n",
        "\n",
        "Question:\n",
        "I'm building a solar power installation and I need \\\n",
        " help working out the financials. \n",
        "- Land costs $100 / square foot\n",
        "- I can buy solar panels for $250 / square foot\n",
        "- I negotiated a contract for maintenance that will cost \\ \n",
        "me a flat $100k per year, and an additional $10 / square \\\n",
        "foot\n",
        "What is the total cost for the first year of operations \n",
        "as a function of the number of square feet.\n",
        "\n",
        "Student's Solution:\n",
        "Let x be the size of the installation in square feet.\n",
        "Costs:\n",
        "1. Land cost: 100x\n",
        "2. Solar panel cost: 250x\n",
        "3. Maintenance cost: 100,000 + 100x\n",
        "学生的解决方案：\n",
        "设x为发电站的大小，单位为平方英尺。\n",
        "费用：\n",
        "Total cost: 100x + 250x + 100,000 + 100x = 450x + 100,000\n",
        "\"\"\"\n",
        "response = get_completion(prompt)\n",
        "print(response)"
      ]
    },
    {
      "cell_type": "code",
      "execution_count": null,
      "metadata": {
        "id": "crwU57WS7J64",
        "outputId": "e14b0ce5-7ab0-411c-9adf-5618207f1cae"
      },
      "outputs": [
        {
          "name": "stdout",
          "output_type": "stream",
          "text": [
            "学生的解决方案是正确的。\n"
          ]
        }
      ],
      "source": [
        "prompt = f\"\"\"\n",
        "判断学生的解决方案是否正确。\n",
        "\n",
        "问题:\n",
        "我正在建造一个太阳能发电站，需要帮助计算财务。\n",
        "\n",
        "    土地费用为 100美元/平方英尺\n",
        "    我可以以 250美元/平方英尺的价格购买太阳能电池板\n",
        "    我已经谈判好了维护合同，每年需要支付固定的10万美元，并额外支付每平方英尺10美元\n",
        "    作为平方英尺数的函数，首年运营的总费用是多少。\n",
        "\n",
        "学生的解决方案：\n",
        "设x为发电站的大小，单位为平方英尺。\n",
        "费用：\n",
        "\n",
        "    土地费用：100x\n",
        "    太阳能电池板费用：250x\n",
        "    维护费用：100,000美元+100x\n",
        "    总费用：100x+250x+100,000美元+100x=450x+100,000美元\n",
        "\"\"\"\n",
        "response = get_completion(prompt)\n",
        "print(response)"
      ]
    },
    {
      "cell_type": "markdown",
      "metadata": {
        "id": "MNBwjpH37J65"
      },
      "source": [
        "但是注意，学生的解决方案实际上是错误的。\n",
        "\n",
        "我们可以通过指导模型先自行找出一个解法来解决这个问题。\n",
        "\n",
        "在接下来这个 Prompt 中，我们要求模型先自行解决这个问题，再根据自己的解法与学生的解法进行对比，从而判断学生的解法是否正确。同时，我们给定了输出的格式要求。通过明确步骤，让模型有更多时间思考，有时可以获得更准确的结果。在这个例子中，学生的答案是错误的，但如果我们没有先让模型自己计算，那么可能会被误导以为学生是正确的。"
      ]
    },
    {
      "cell_type": "code",
      "execution_count": null,
      "metadata": {
        "id": "B0BK3lT-7J65",
        "outputId": "e96052f5-5359-466c-f8dc-8786b42df97b"
      },
      "outputs": [
        {
          "name": "stdout",
          "output_type": "stream",
          "text": [
            "Let x be the size of the installation in square feet.\n",
            "\n",
            "Costs:\n",
            "1. Land cost: 100x\n",
            "2. Solar panel cost: 250x\n",
            "3. Maintenance cost: 100,000 + 10x\n",
            "\n",
            "Total cost: 100x + 250x + 100,000 + 10x = 360x + 100,000\n",
            "\n",
            "Is the student's solution the same as actual solution just calculated:\n",
            "No\n",
            "\n",
            "Student grade:\n",
            "Incorrect\n"
          ]
        }
      ],
      "source": [
        "prompt = f\"\"\"\n",
        "Your task is to determine if the student's solution \\\n",
        "is correct or not.\n",
        "To solve the problem do the following:\n",
        "- First, work out your own solution to the problem. \n",
        "- Then compare your solution to the student's solution \\ \n",
        "and evaluate if the student's solution is correct or not. \n",
        "Don't decide if the student's solution is correct until \n",
        "you have done the problem yourself.\n",
        "\n",
        "Use the following format:\n",
        "Question:\n",
        "```\n",
        "question here\n",
        "```\n",
        "Student's solution:\n",
        "```\n",
        "student's solution here\n",
        "```\n",
        "Actual solution:\n",
        "```\n",
        "steps to work out the solution and your solution here\n",
        "```\n",
        "Is the student's solution the same as actual solution \\\n",
        "just calculated:\n",
        "```\n",
        "yes or no\n",
        "```\n",
        "Student grade:\n",
        "```\n",
        "correct or incorrect\n",
        "```\n",
        "\n",
        "Question:\n",
        "```\n",
        "I'm building a solar power installation and I need help \\\n",
        "working out the financials. \n",
        "- Land costs $100 / square foot\n",
        "- I can buy solar panels for $250 / square foot\n",
        "- I negotiated a contract for maintenance that will cost \\\n",
        "me a flat $100k per year, and an additional $10 / square \\\n",
        "foot\n",
        "What is the total cost for the first year of operations \\\n",
        "as a function of the number of square feet.\n",
        "``` \n",
        "Student's solution:\n",
        "```\n",
        "Let x be the size of the installation in square feet.\n",
        "Costs:\n",
        "1. Land cost: 100x\n",
        "2. Solar panel cost: 250x\n",
        "3. Maintenance cost: 100,000 + 100x\n",
        "Total cost: 100x + 250x + 100,000 + 100x = 450x + 100,000\n",
        "```\n",
        "Actual solution:\n",
        "\"\"\"\n",
        "response = get_completion(prompt)\n",
        "print(response)"
      ]
    },
    {
      "cell_type": "code",
      "execution_count": null,
      "metadata": {
        "id": "Z5N8sCe77J65",
        "outputId": "48739ff9-577c-4a17-b34d-613159345f13"
      },
      "outputs": [
        {
          "name": "stdout",
          "output_type": "stream",
          "text": [
            "正确的解决方案和步骤：\n",
            "    1. 计算土地费用：100美元/平方英尺 * x平方英尺 = 100x美元\n",
            "    2. 计算太阳能电池板费用：250美元/平方英尺 * x平方英尺 = 250x美元\n",
            "    3. 计算维护费用：10万美元 + 10美元/平方英尺 * x平方英尺 = 10万美元 + 10x美元\n",
            "    4. 计算总费用：100x美元 + 250x美元 + 10万美元 + 10x美元 = 360x + 10万美元\n",
            "\n",
            "学生的解决方案和实际解决方案是否相同：否\n",
            "\n",
            "学生的成绩：不正确\n"
          ]
        }
      ],
      "source": [
        "prompt = f\"\"\"\n",
        "请判断学生的解决方案是否正确，请通过如下步骤解决这个问题：\n",
        "\n",
        "步骤：\n",
        "\n",
        "    首先，自己解决问题。\n",
        "    然后将你的解决方案与学生的解决方案进行比较，并评估学生的解决方案是否正确。在自己完成问题之前，请勿决定学生的解决方案是否正确。\n",
        "\n",
        "使用以下格式：\n",
        "\n",
        "    问题：问题文本\n",
        "    学生的解决方案：学生的解决方案文本\n",
        "    实际解决方案和步骤：实际解决方案和步骤文本\n",
        "    学生的解决方案和实际解决方案是否相同：是或否\n",
        "    学生的成绩：正确或不正确\n",
        "\n",
        "问题：\n",
        "\n",
        "    我正在建造一个太阳能发电站，需要帮助计算财务。 \n",
        "    - 土地费用为每平方英尺100美元\n",
        "    - 我可以以每平方英尺250美元的价格购买太阳能电池板\n",
        "    - 我已经谈判好了维护合同，每年需要支付固定的10万美元，并额外支付每平方英尺10美元\n",
        "    作为平方英尺数的函数，首年运营的总费用是多少。\n",
        "\n",
        "学生的解决方案：\n",
        "\n",
        "    设x为发电站的大小，单位为平方英尺。\n",
        "    费用：\n",
        "    1. 土地费用：100x\n",
        "    2. 太阳能电池板费用：250x\n",
        "    3. 维护费用：100,000+100x\n",
        "    总费用：100x+250x+100,000+100x=450x+100,000\n",
        "\n",
        "实际解决方案和步骤：\n",
        "\"\"\"\n",
        "response = get_completion(prompt)\n",
        "print(response)"
      ]
    },
    {
      "cell_type": "markdown",
      "metadata": {
        "id": "mGLZHdry7J65"
      },
      "source": [
        "## 三、局限性"
      ]
    },
    {
      "cell_type": "markdown",
      "metadata": {
        "id": "6sN0Q50o7J66"
      },
      "source": [
        "**虚假知识**：模型偶尔会生成一些看似真实实则编造的知识\n",
        "\n",
        "如果模型在训练过程中接触了大量的知识，它并没有完全记住所见的信息，因此它并不很清楚自己知识的边界。这意味着它可能会尝试回答有关晦涩主题的问题，并编造听起来合理但实际上并不正确的答案。我们称这些编造的想法为幻觉。\n",
        "\n",
        "例如在如下示例中，我们要求告诉我们 Boie 公司生产的 AeroGlide UltraSlim Smart Toothbrush 产品的信息，事实上，这个公司是真实存在的，但产品是编造的，模型则会一本正经地告诉我们编造的知识。\n",
        "\n"
      ]
    },
    {
      "cell_type": "code",
      "execution_count": null,
      "metadata": {
        "id": "n-FBMO6C7J66",
        "outputId": "19e67792-8a87-49fd-c6ec-28ed4e91fc48"
      },
      "outputs": [
        {
          "name": "stdout",
          "output_type": "stream",
          "text": [
            "The AeroGlide UltraSlim Smart Toothbrush by Boie is a high-tech toothbrush that uses advanced sonic technology to provide a deep and thorough clean. It features a slim and sleek design that makes it easy to hold and maneuver, and it comes with a range of smart features that help you optimize your brushing routine.\n",
            "\n",
            "One of the key features of the AeroGlide UltraSlim Smart Toothbrush is its advanced sonic technology, which uses high-frequency vibrations to break up plaque and bacteria on your teeth and gums. This technology is highly effective at removing even the toughest stains and buildup, leaving your teeth feeling clean and fresh.\n",
            "\n",
            "In addition to its sonic technology, the AeroGlide UltraSlim Smart Toothbrush also comes with a range of smart features that help you optimize your brushing routine. These include a built-in timer that ensures you brush for the recommended two minutes, as well as a pressure sensor that alerts you if you're brushing too hard.\n",
            "\n",
            "Overall, the AeroGlide UltraSlim Smart Toothbrush by Boie is a highly advanced and effective toothbrush that is perfect for anyone looking to take their oral hygiene to the next level. With its advanced sonic technology and smart features, it provides a deep and thorough clean that leaves your teeth feeling fresh and healthy.\n"
          ]
        }
      ],
      "source": [
        "prompt = f\"\"\"\n",
        "Tell me about AeroGlide UltraSlim Smart Toothbrush by Boie\n",
        "\"\"\"\n",
        "response = get_completion(prompt)\n",
        "print(response)"
      ]
    },
    {
      "cell_type": "code",
      "execution_count": null,
      "metadata": {
        "id": "a9ugFCZR7J66",
        "outputId": "6ce9f38a-cc6a-488d-c21e-8fde85ff2d30"
      },
      "outputs": [
        {
          "name": "stdout",
          "output_type": "stream",
          "text": [
            "Boie公司生产的AeroGlide UltraSlim Smart Toothbrush是一款智能牙刷，具有以下特点：\n",
            "\n",
            "1. 超薄设计：刷头仅有0.8毫米的厚度，可以更容易地进入口腔深处，清洁更彻底。\n",
            "\n",
            "2. 智能感应：牙刷配备了智能感应技术，可以自动识别刷头的位置和方向，确保每个部位都得到充分的清洁。\n",
            "\n",
            "3. 高效清洁：牙刷采用了高速振动技术，每分钟可达到40000次，可以有效去除牙菌斑和污渍。\n",
            "\n",
            "4. 轻松携带：牙刷采用了便携式设计，可以轻松放入口袋或旅行包中，随时随地进行口腔清洁。\n",
            "\n",
            "5. 环保材料：牙刷采用了环保材料制造，不含有害物质，对环境友好。\n",
            "\n",
            "总之，Boie公司生产的AeroGlide UltraSlim Smart Toothbrush是一款高效、智能、环保的牙刷，可以帮助用户轻松保持口腔健康。\n"
          ]
        }
      ],
      "source": [
        "prompt = f\"\"\"\n",
        "告诉我 Boie 公司生产的 AeroGlide UltraSlim Smart Toothbrush 的相关信息\n",
        "\"\"\"\n",
        "response = get_completion(prompt)\n",
        "print(response)"
      ]
    },
    {
      "cell_type": "markdown",
      "metadata": {
        "id": "j2QnL5LI7J66"
      },
      "source": [
        "模型会输出看上去非常真实的编造知识，这有时会很危险。因此，请确保使用我们在本节中介绍的一些技巧，以尝试在构建自己的应用程序时避免这种情况。这是模型已知的一个弱点，也是我们正在积极努力解决的问题。在你希望模型根据文本生成答案的情况下，另一种减少幻觉的策略是先要求模型找到文本中的任何相关引用，然后要求它使用这些引用来回答问题，这种追溯源文档的方法通常对减少幻觉非常有帮助。"
      ]
    },
    {
      "cell_type": "markdown",
      "metadata": {
        "id": "LCkAv8qX7J66"
      },
      "source": [
        "**说明：在本教程中，我们使用 \\ 来使文本适应屏幕大小以提高阅读体验，GPT 并不受 \\ 的影响，但在你调用其他大模型时，需额外考虑 \\ 是否会影响模型性能**"
      ]
    }
  ],
  "metadata": {
    "colab": {
      "provenance": [],
      "include_colab_link": true
    },
    "kernelspec": {
      "display_name": "Python 3",
      "language": "python",
      "name": "python3"
    },
    "language_info": {
      "codemirror_mode": {
        "name": "ipython",
        "version": 3
      },
      "file_extension": ".py",
      "mimetype": "text/x-python",
      "name": "python",
      "nbconvert_exporter": "python",
      "pygments_lexer": "ipython3",
      "version": "3.7.4"
    },
    "latex_envs": {
      "LaTeX_envs_menu_present": true,
      "autoclose": false,
      "autocomplete": true,
      "bibliofile": "biblio.bib",
      "cite_by": "apalike",
      "current_citInitial": 1,
      "eqLabelWithNumbers": true,
      "eqNumInitial": 1,
      "hotkeys": {
        "equation": "Ctrl-E",
        "itemize": "Ctrl-I"
      },
      "labels_anchors": false,
      "latex_user_defs": false,
      "report_style_numbering": false,
      "user_envs_cfg": false
    },
    "toc": {
      "base_numbering": 1,
      "nav_menu": {},
      "number_sections": true,
      "sideBar": true,
      "skip_h1_title": false,
      "title_cell": "Table of Contents",
      "title_sidebar": "Contents",
      "toc_cell": false,
      "toc_position": {},
      "toc_section_display": true,
      "toc_window_display": true
    }
  },
  "nbformat": 4,
  "nbformat_minor": 0
}