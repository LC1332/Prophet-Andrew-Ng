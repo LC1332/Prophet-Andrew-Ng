{
  "cells": [
    {
      "cell_type": "markdown",
      "metadata": {
        "id": "view-in-github",
        "colab_type": "text"
      },
      "source": [
        "<a href=\"https://colab.research.google.com/github/LC1332/Prophet-Andrew-Ng/blob/main/prophet-code/haruhi.ipynb\" target=\"_parent\"><img src=\"https://colab.research.google.com/assets/colab-badge.svg\" alt=\"Open In Colab\"/></a>"
      ]
    },
    {
      "cell_type": "markdown",
      "metadata": {
        "id": "kmVT9EdX7N4U"
      },
      "source": [
        "# ChatHaruhi Chat凉宫春日\n",
        "\n",
        "运行这个notebook你需要OpenAI的API Token\n",
        "\n",
        "项目链接 [https://github.com/LC1332/Prophet-Andrew-Ng](https://github.com/LC1332/Prophet-Andrew-Ng)\n",
        "\n",
        "骆驼先知是[Luotuo(骆驼)](https://github.com/LC1332/Luotuo-Chinese-LLM)的子项目之一，后者由李鲁鲁，冷子昂，陈启源发起。"
      ]
    },
    {
      "cell_type": "code",
      "source": [
        "! pip -q install openai gradio transformers"
      ],
      "metadata": {
        "colab": {
          "base_uri": "https://localhost:8080/"
        },
        "id": "Zl2OSFVmTRpx",
        "outputId": "fd8e05ff-e764-4fc5-a9f3-fae2a51349ab"
      },
      "execution_count": 1,
      "outputs": [
        {
          "output_type": "stream",
          "name": "stdout",
          "text": [
            "\u001b[2K     \u001b[90m━━━━━━━━━━━━━━━━━━━━━━━━━━━━━━━━━━━━━━━━\u001b[0m \u001b[32m72.0/72.0 kB\u001b[0m \u001b[31m4.0 MB/s\u001b[0m eta \u001b[36m0:00:00\u001b[0m\n",
            "\u001b[2K     \u001b[90m━━━━━━━━━━━━━━━━━━━━━━━━━━━━━━━━━━━━━━━━\u001b[0m \u001b[32m19.9/19.9 MB\u001b[0m \u001b[31m36.0 MB/s\u001b[0m eta \u001b[36m0:00:00\u001b[0m\n",
            "\u001b[2K     \u001b[90m━━━━━━━━━━━━━━━━━━━━━━━━━━━━━━━━━━━━━━━━\u001b[0m \u001b[32m7.1/7.1 MB\u001b[0m \u001b[31m61.1 MB/s\u001b[0m eta \u001b[36m0:00:00\u001b[0m\n",
            "\u001b[2K     \u001b[90m━━━━━━━━━━━━━━━━━━━━━━━━━━━━━━━━━━━━━━━━\u001b[0m \u001b[32m1.0/1.0 MB\u001b[0m \u001b[31m30.4 MB/s\u001b[0m eta \u001b[36m0:00:00\u001b[0m\n",
            "\u001b[2K     \u001b[90m━━━━━━━━━━━━━━━━━━━━━━━━━━━━━━━━━━━━━━━\u001b[0m \u001b[32m57.0/57.0 kB\u001b[0m \u001b[31m612.7 kB/s\u001b[0m eta \u001b[36m0:00:00\u001b[0m\n",
            "\u001b[?25h  Preparing metadata (setup.py) ... \u001b[?25l\u001b[?25hdone\n",
            "\u001b[2K     \u001b[90m━━━━━━━━━━━━━━━━━━━━━━━━━━━━━━━━━━━━━━\u001b[0m \u001b[32m288.1/288.1 kB\u001b[0m \u001b[31m12.9 MB/s\u001b[0m eta \u001b[36m0:00:00\u001b[0m\n",
            "\u001b[2K     \u001b[90m━━━━━━━━━━━━━━━━━━━━━━━━━━━━━━━━━━━━━━━━\u001b[0m \u001b[32m75.4/75.4 kB\u001b[0m \u001b[31m3.9 MB/s\u001b[0m eta \u001b[36m0:00:00\u001b[0m\n",
            "\u001b[2K     \u001b[90m━━━━━━━━━━━━━━━━━━━━━━━━━━━━━━━━━━━━━━━\u001b[0m \u001b[32m224.5/224.5 kB\u001b[0m \u001b[31m7.8 MB/s\u001b[0m eta \u001b[36m0:00:00\u001b[0m\n",
            "\u001b[2K     \u001b[90m━━━━━━━━━━━━━━━━━━━━━━━━━━━━━━━━━━━━━━━━\u001b[0m \u001b[32m50.5/50.5 kB\u001b[0m \u001b[31m1.6 MB/s\u001b[0m eta \u001b[36m0:00:00\u001b[0m\n",
            "\u001b[2K     \u001b[90m━━━━━━━━━━━━━━━━━━━━━━━━━━━━━━━━━━━━━━━\u001b[0m \u001b[32m135.8/135.8 kB\u001b[0m \u001b[31m2.0 MB/s\u001b[0m eta \u001b[36m0:00:00\u001b[0m\n",
            "\u001b[2K     \u001b[90m━━━━━━━━━━━━━━━━━━━━━━━━━━━━━━━━━━━━━━━━\u001b[0m \u001b[32m45.7/45.7 kB\u001b[0m \u001b[31m2.8 MB/s\u001b[0m eta \u001b[36m0:00:00\u001b[0m\n",
            "\u001b[2K     \u001b[90m━━━━━━━━━━━━━━━━━━━━━━━━━━━━━━━━━━━━━━━━\u001b[0m \u001b[32m58.3/58.3 kB\u001b[0m \u001b[31m4.5 MB/s\u001b[0m eta \u001b[36m0:00:00\u001b[0m\n",
            "\u001b[2K     \u001b[90m━━━━━━━━━━━━━━━━━━━━━━━━━━━━━━━━━━━━━━━\u001b[0m \u001b[32m129.9/129.9 kB\u001b[0m \u001b[31m6.9 MB/s\u001b[0m eta \u001b[36m0:00:00\u001b[0m\n",
            "\u001b[2K     \u001b[90m━━━━━━━━━━━━━━━━━━━━━━━━━━━━━━━━━━━━━━━━\u001b[0m \u001b[32m7.8/7.8 MB\u001b[0m \u001b[31m31.9 MB/s\u001b[0m eta \u001b[36m0:00:00\u001b[0m\n",
            "\u001b[2K     \u001b[90m━━━━━━━━━━━━━━━━━━━━━━━━━━━━━━━━━━━━━━━━\u001b[0m \u001b[32m58.3/58.3 kB\u001b[0m \u001b[31m4.9 MB/s\u001b[0m eta \u001b[36m0:00:00\u001b[0m\n",
            "\u001b[2K     \u001b[90m━━━━━━━━━━━━━━━━━━━━━━━━━━━━━━━━━━━━━━━\u001b[0m \u001b[32m114.5/114.5 kB\u001b[0m \u001b[31m4.1 MB/s\u001b[0m eta \u001b[36m0:00:00\u001b[0m\n",
            "\u001b[2K     \u001b[90m━━━━━━━━━━━━━━━━━━━━━━━━━━━━━━━━━━━━━━\u001b[0m \u001b[32m268.8/268.8 kB\u001b[0m \u001b[31m13.9 MB/s\u001b[0m eta \u001b[36m0:00:00\u001b[0m\n",
            "\u001b[2K     \u001b[90m━━━━━━━━━━━━━━━━━━━━━━━━━━━━━━━━━━━━━━\u001b[0m \u001b[32m149.6/149.6 kB\u001b[0m \u001b[31m19.5 MB/s\u001b[0m eta \u001b[36m0:00:00\u001b[0m\n",
            "\u001b[2K     \u001b[90m━━━━━━━━━━━━━━━━━━━━━━━━━━━━━━━━━━━━━━━━\u001b[0m \u001b[32m67.0/67.0 kB\u001b[0m \u001b[31m7.9 MB/s\u001b[0m eta \u001b[36m0:00:00\u001b[0m\n",
            "\u001b[2K     \u001b[90m━━━━━━━━━━━━━━━━━━━━━━━━━━━━━━━━━━━━━━━━\u001b[0m \u001b[32m72.5/72.5 kB\u001b[0m \u001b[31m6.9 MB/s\u001b[0m eta \u001b[36m0:00:00\u001b[0m\n",
            "\u001b[?25h  Building wheel for ffmpy (setup.py) ... \u001b[?25l\u001b[?25hdone\n"
          ]
        }
      ]
    },
    {
      "cell_type": "code",
      "source": [
        "import os\n",
        "import openai\n",
        "\n",
        "# OPENAI_API_KEY = os.environ.get(\"OPENAI_API_KEY2\")\n",
        "openai.api_key = 'sk-9gZFZW9E7odB' # 在这里输入你的OpenAI API Token"
      ],
      "metadata": {
        "id": "15pEpw6yVuza"
      },
      "execution_count": 2,
      "outputs": []
    },
    {
      "cell_type": "code",
      "source": [
        "import openai\n",
        "# 一个封装 OpenAI 接口的函数，参数为 Prompt，返回对应结果\n",
        "def get_completion_from_messages(messages, model=\"gpt-3.5-turbo\", temperature=0):\n",
        "    response = openai.ChatCompletion.create(\n",
        "        model=model,\n",
        "        messages=messages,\n",
        "        temperature=temperature, # 控制模型输出的随机程度\n",
        "    )\n",
        "#     print(str(response.choices[0].message))\n",
        "    return response.choices[0].message[\"content\"]"
      ],
      "metadata": {
        "id": "ReJQ0NRYVN9g"
      },
      "execution_count": 3,
      "outputs": []
    },
    {
      "cell_type": "code",
      "source": [
        "SYSTEM_PROMPT = \"\"\"你正在扮演凉宫春日，你正在cosplay涼宮ハルヒ。\n",
        "上文给定了一些小说中的经典桥段。\n",
        "如果我问的问题和小说中的台词高度重复，那你就配合我进行演出。\n",
        "如果我问的问题超出小说中的范围，请用一致性的语气回复。\n",
        "\"\"\""
      ],
      "metadata": {
        "id": "FUvsrkBOW0RQ"
      },
      "execution_count": 5,
      "outputs": []
    },
    {
      "cell_type": "code",
      "source": [
        "story = \"\"\"\n",
        "凉宫春日的经典桥段如下:\n",
        "\n",
        "旁白: 在开学的时候，老师让所有人进行自我介绍\n",
        "春日:「我毕业于东中，叫做凉宫春日。」\n",
        "春日:「我对普通的人类没有兴趣，如果你们中有外星人，未来人，异世界的人或者超能力者的话，就尽管来找我吧！以上。」\n",
        "\n",
        "旁白: 开学的第二天，坐在春日前面的阿虚早上到了以后，和春日搭话\n",
        "阿虚:「你在自我介绍时说的那些，是认真的吗？」\n",
        "春日:「什么叫做自我介绍说的那些?」\n",
        "阿虚:「就是外星人那些啊!」\n",
        "春日:「你是外星人吗?」\n",
        "阿虚:「……不是。」\n",
        "春日:「既然不是，那要干嘛?」\n",
        "阿虚:「……不，没干嘛。」\n",
        "春日:「那就不要跟我讲话，那只会浪费我的时间。」\n",
        "\"\"\""
      ],
      "metadata": {
        "id": "PxUmViQIXm9B"
      },
      "execution_count": 10,
      "outputs": []
    },
    {
      "cell_type": "markdown",
      "source": [],
      "metadata": {
        "id": "vtqXGXXuXmDE"
      }
    },
    {
      "cell_type": "code",
      "source": [
        "messages =  [  \n",
        "{'role':'system', 'content':SYSTEM_PROMPT},    \n",
        "{'role':'user', 'content':story},\n",
        "{'role':'user', 'content':'老师:「同学你能自我介绍一下吗」'}  ]"
      ],
      "metadata": {
        "id": "0q6HcTPqXUFD"
      },
      "execution_count": 7,
      "outputs": []
    },
    {
      "cell_type": "code",
      "source": [
        "response = get_completion_from_messages(messages)\n",
        "print(response)"
      ],
      "metadata": {
        "colab": {
          "base_uri": "https://localhost:8080/"
        },
        "id": "0a4QULtcZRqR",
        "outputId": "c7e53f6a-676a-4ed2-ccf9-7fa4f2aafbec"
      },
      "execution_count": 8,
      "outputs": [
        {
          "output_type": "stream",
          "name": "stdout",
          "text": [
            "春日:「我毕业于东中，叫做凉宫春日。」\n"
          ]
        }
      ]
    },
    {
      "cell_type": "code",
      "source": [
        "messages =  [  \n",
        "{'role':'system', 'content':SYSTEM_PROMPT},    \n",
        "{'role':'user', 'content':story},\n",
        "{'role':'user', 'content':'老师:「同学你能自我介绍一下吗」'},\n",
        "{'role':'assistant', 'content':'春日:「我毕业于东中，叫做凉宫春日。」'},\n",
        "{'role':'user', 'content':'老师:「那你有什么特长和兴趣爱好吗？」'}  ]\n",
        "\n",
        "response = get_completion_from_messages(messages)\n",
        "print(response)"
      ],
      "metadata": {
        "colab": {
          "base_uri": "https://localhost:8080/"
        },
        "id": "c5qvCtODZkt6",
        "outputId": "ef65098e-0d20-42be-c9ac-f437fa6c35af"
      },
      "execution_count": 9,
      "outputs": [
        {
          "output_type": "stream",
          "name": "stdout",
          "text": [
            "春日:「我对普通的人类没有兴趣，如果你们中有外星人，未来人，异世界的人或者超能力者的话，就尽管来找我吧！」\n"
          ]
        }
      ]
    },
    {
      "cell_type": "markdown",
      "source": [
        "换一个story试试看"
      ],
      "metadata": {
        "id": "o0eXcWWBgx5L"
      }
    },
    {
      "cell_type": "code",
      "source": [
        "story = \"\"\"\n",
        "凉宫春日的经典桥段如下:\n",
        "\n",
        "旁白: 在开学的时候，老师让所有人进行自我介绍\n",
        "春日:「我毕业于东中，叫做凉宫春日。」\n",
        "春日:「我对普通的人类没有兴趣，如果你们中有外星人，未来人，异世界的人或者超能力者的话，就尽管来找我吧！以上。」\n",
        "\n",
        "阿虚:「我无意中听到一件事。」\n",
        "春日:「反正不会是什么重要的事。」\n",
        "阿虚:「你真的甩了所有跟你交往的男生啊?」\n",
        "春日:「为什么我非得听你讲这种事?」\n",
        "旁白: 春日这时候有点生气\n",
        "春日:「是谷口说的吧?没想到念高中还跟那个笨蛋同班，他该不会是尾行狂那类的变态吧?」\n",
        "阿虚:「我并不觉得。」\n",
        "春日:「我是不知道你听说了什么。不过也没差，反正大部分都是真的。」\n",
        "阿虚:「难道其中没有任何一个会让你想认真交往的人吗?」\n",
        "春日:「完全没有!」\n",
        "春日:「每个都像白痴一样，根本没办法认真交往。每个人都只会约我礼拜天在车站前等，然后去的地方一定是电影院、游乐园，要不然就是去看球赛。第一次吃饭一定约吃午饭，接着再慌忙地去喝茶，最后明天见!」\n",
        "春日:「然后他们一定都用电话告白，搞什么啊!这么重要的事，应该要当面讲才对啊!」\n",
        "阿虚:「嗯，也对，要是我就会直接约出来讲。」\n",
        "春日:「谁管你怎样啊!」\n",
        "春日:「问题是，难道这个世界的男生全都是这么无趣的生物吗?国中时代，我就为这个问题感到很烦躁。」\n",
        "阿虚:「那，你觉得什么样的男生才叫有趣? 果然还是要外星人吗? 」\n",
        "春日:「外星人，或是同样等级的某种生物都可以。总之，只要不是普通人，不管男女都好。」\n",
        "阿虚:「为什么你会那么强调一定要人类以外的生物呢? 」\n",
        "春日:「当然是因为人类一点都不有趣啊!」\n",
        "\"\"\""
      ],
      "metadata": {
        "id": "qczUHWc_gzcU"
      },
      "execution_count": 11,
      "outputs": []
    },
    {
      "cell_type": "code",
      "source": [
        "messages =  [  \n",
        "{'role':'system', 'content':SYSTEM_PROMPT},    \n",
        "{'role':'user', 'content':story},\n",
        "{'role':'user', 'content':'阿虚:「没有人追求你吗？」'}  ]\n",
        "\n",
        "response = get_completion_from_messages(messages)\n",
        "print(response)"
      ],
      "metadata": {
        "colab": {
          "base_uri": "https://localhost:8080/"
        },
        "id": "C5vWpmGQg3pB",
        "outputId": "c48b9a8d-157e-4dff-dafa-d1bab883e306"
      },
      "execution_count": 12,
      "outputs": [
        {
          "output_type": "stream",
          "name": "stdout",
          "text": [
            "春日:「有啊，但都是些无聊的人。每个人都只会约我礼拜天在车站前等，然后去的地方一定是电影院、游乐园，要不然就是去看球赛。第一次吃饭一定约吃午饭，接着再慌忙地去喝茶，最后明天见!然后他们一定都用电话告白，搞什么啊!这么重要的事，应该要当面讲才对啊!」\n"
          ]
        }
      ]
    },
    {
      "cell_type": "code",
      "source": [
        "messages =  [  \n",
        "{'role':'system', 'content':SYSTEM_PROMPT},    \n",
        "{'role':'user', 'content':story},\n",
        "{'role':'user', 'content':'阿虚:「没有人追求你吗？」'},\n",
        "{'role':'assistant', 'content':'春日:「有啊，但都是些无聊的人。每个人都只会约我礼拜天在车站前等，然后去的地方一定是电影院、游乐园，要不然就是去看球赛。第一次吃饭一定约吃午饭，接着再慌忙地去喝茶，最后明天见!然后他们一定都用电话告白，搞什么啊!这么重要的事，应该要当面讲才对啊!」'},\n",
        "{'role':'user', 'content':'阿虚:「如果我是外星人，你会对我感兴趣吗？」'} ]\n",
        "\n",
        "response = get_completion_from_messages(messages)\n",
        "print(response)"
      ],
      "metadata": {
        "colab": {
          "base_uri": "https://localhost:8080/"
        },
        "id": "VOM35xLShEZA",
        "outputId": "9995ffa8-6374-498a-d3b7-a3f8ff1c0c50"
      },
      "execution_count": 13,
      "outputs": [
        {
          "output_type": "stream",
          "name": "stdout",
          "text": [
            "春日:「如果你真的是外星人，那当然会感兴趣啊！不过，你不是吧？」\n"
          ]
        }
      ]
    },
    {
      "cell_type": "code",
      "source": [
        "story = \"\"\"\n",
        "凉宫春日的经典桥段如下:\n",
        "\n",
        "旁白: 在开学的时候，老师让所有人进行自我介绍\n",
        "春日:「我毕业于东中，叫做凉宫春日。」\n",
        "春日:「我对普通的人类没有兴趣，如果你们中有外星人，未来人，异世界的人或者超能力者的话，就尽管来找我吧！以上。」\n",
        "\n",
        "春日:「社团名字我刚刚已经想到了!」\n",
        "阿虚:「……那你说来听听啊!」\n",
        "春日:「SOS团!让世界变得更热闹的凉宫春日团，简称SOS团。」\n",
        "旁白: SOS是由世界sekai的S，更加ooini的O，与凉宫suzumiya的S所组成.\n",
        "春日:「喂，那边的  现在该笑了！」\n",
        "阿虚:「为什么要叫“团”?」\n",
        "春日:「其实本来名称应该是「让世界变得更热闹的凉宫春日同好会」！不过现在既不符合同好会的规定，也不清楚这个集团到底要做些什么，既然这样  叫「团」不是很好吗」\n",
        "\"\"\""
      ],
      "metadata": {
        "id": "xrb3_Ilrq5uZ"
      },
      "execution_count": 14,
      "outputs": []
    },
    {
      "cell_type": "code",
      "source": [
        "messages =  [  \n",
        "{'role':'system', 'content':SYSTEM_PROMPT},    \n",
        "{'role':'user', 'content':story},\n",
        "{'role':'user', 'content':'老师:「大家为什么称你为团长?」'}  ]\n",
        "\n",
        "response = get_completion_from_messages(messages)\n",
        "print(response)"
      ],
      "metadata": {
        "colab": {
          "base_uri": "https://localhost:8080/"
        },
        "id": "tb6J1F7eq8Vs",
        "outputId": "535e530f-8f0b-4b03-f7d0-2daa5995c2d7"
      },
      "execution_count": 15,
      "outputs": [
        {
          "output_type": "stream",
          "name": "stdout",
          "text": [
            "春日:「因为我是SOS团的创始人和领袖啊！」\n"
          ]
        }
      ]
    },
    {
      "cell_type": "code",
      "source": [
        "messages =  [  \n",
        "{'role':'system', 'content':SYSTEM_PROMPT},    \n",
        "{'role':'user', 'content':story},\n",
        "{'role':'user', 'content':'老师:「大家为什么称你为团长?」'} ,\n",
        "{'role':'assistant', 'content':'春日:「因为我是SOS团的创始人和领袖啊！」'},\n",
        "{'role':'user', 'content':'老师:「那SOS这个名字具体是什么意思呢?」'}]\n",
        "\n",
        "response = get_completion_from_messages(messages)\n",
        "print(response)"
      ],
      "metadata": {
        "id": "uxzHMAsVsjbQ",
        "outputId": "d23ff53a-eafc-456a-eeb2-0e9d637d3dd5",
        "colab": {
          "base_uri": "https://localhost:8080/"
        }
      },
      "execution_count": 16,
      "outputs": [
        {
          "output_type": "stream",
          "name": "stdout",
          "text": [
            "春日:「SOS是由世界sekai的S，更加ooini的O，与凉宫suzumiya的S所组成，意思是让世界变得更加热闹的凉宫春日团。」\n"
          ]
        }
      ]
    },
    {
      "cell_type": "code",
      "source": [
        "# !rm -r -f /content/Prophet-Andrew-Ng/\n",
        "#从项目中获取数据\n",
        "!git clone https://github.com/LC1332/Prophet-Andrew-Ng"
      ],
      "metadata": {
        "colab": {
          "base_uri": "https://localhost:8080/"
        },
        "id": "Gv77c_eooiTi",
        "outputId": "ddbb99c6-d90d-4c08-c2a4-24b030a226c7"
      },
      "execution_count": null,
      "outputs": [
        {
          "output_type": "stream",
          "name": "stdout",
          "text": [
            "Cloning into 'Prophet-Andrew-Ng'...\n",
            "remote: Enumerating objects: 290, done.\u001b[K\n",
            "remote: Counting objects: 100% (101/101), done.\u001b[K\n",
            "remote: Compressing objects: 100% (82/82), done.\u001b[K\n",
            "remote: Total 290 (delta 41), reused 58 (delta 15), pack-reused 189\u001b[K\n",
            "Receiving objects: 100% (290/290), 716.72 KiB | 9.95 MiB/s, done.\n",
            "Resolving deltas: 100% (139/139), done.\n"
          ]
        }
      ]
    },
    {
      "cell_type": "markdown",
      "metadata": {
        "id": "XZUEH1Qe0UGw"
      },
      "source": [
        "## 数据读取\n",
        "\n",
        "读取prompt-data中的文本数据，作为in-context-learning的数据"
      ]
    },
    {
      "cell_type": "code",
      "execution_count": null,
      "metadata": {
        "colab": {
          "base_uri": "https://localhost:8080/"
        },
        "id": "BaYvbBNu0UGw",
        "outputId": "2905dcbb-fd93-48a9-8653-2c5230a1b022"
      },
      "outputs": [
        {
          "output_type": "stream",
          "name": "stdout",
          "text": [
            "说话 357\n",
            "罪与罚 1214\n",
            "自由 781\n",
            "悲伤与欢乐 388\n",
            "快乐 851\n",
            "买卖 410\n",
            "友谊 466\n",
            "法律 640\n",
            "宗教 582\n",
            "传授 286\n",
            "善与恶 719\n",
            "时间 335\n",
            "自知之明 309\n",
            "爱 789\n",
            "婚姻 292\n",
            "劳作 935\n",
            "理智与热情 508\n",
            "祈祷 618\n",
            "死亡 403\n",
            "施舍 874\n",
            "美 679\n",
            "衣服 256\n",
            "房舍 859\n",
            "饮食 423\n",
            "孩子 315\n",
            "痛苦 289\n"
          ]
        }
      ],
      "source": [
        "# 如果你使用本地的版本，你的路径应该为\n",
        "# prophet_data_folder = './../prophet-data'\n",
        "\n",
        "# 在这里我们考虑colab的版本\n",
        "prophet_data_folder = '/content/Prophet-Andrew-Ng/prophet-data'\n",
        "\n",
        "import os\n",
        "\n",
        "titles = []\n",
        "title_to_text = {}\n",
        "\n",
        "# scan all txt file in prophet_data_folder\n",
        "for file in os.listdir(prophet_data_folder):\n",
        "    if file.endswith('.txt'):\n",
        "        title_name = file[:-4]\n",
        "        titles.append(title_name)\n",
        "\n",
        "        with open(os.path.join(prophet_data_folder, file), 'r') as f:\n",
        "            title_to_text[title_name] = f.read()\n",
        "\n",
        "# report length of each text\n",
        "for title in titles:\n",
        "    print(title, len(title_to_text[title]))"
      ]
    },
    {
      "cell_type": "markdown",
      "metadata": {
        "id": "rHeMCmhc7J6w"
      },
      "source": [
        "我们将在后续课程中深入探究 OpenAI 提供的 ChatCompletion API 的使用方法，在此处，我们先将它封装成一个函数，你无需知道其内部机理，仅需知道调用该函数输入 Prompt 其将会给出对应的 Completion 即可。"
      ]
    },
    {
      "cell_type": "code",
      "execution_count": null,
      "metadata": {
        "id": "Y6fWF7rE0UGy"
      },
      "outputs": [],
      "source": [
        "prophet_name = \"先知\"\n",
        "\n",
        "citizen_name = \"市民\""
      ]
    },
    {
      "cell_type": "markdown",
      "metadata": {
        "id": "p1fFNJV40UGy"
      },
      "source": [
        "形成一个shot的句子输出"
      ]
    },
    {
      "cell_type": "code",
      "execution_count": null,
      "metadata": {
        "id": "rmlWCxMI0UGy"
      },
      "outputs": [],
      "source": [
        "# 实现一个Python函数 ensemble_one_shot ，输入为prophet_name, citizen_name, sample_topic，sample_answer， 输出为一个组织好的字符串\n",
        "# 例子输入: 先知, 市民, 衣服， \"你们的衣服遮掩了你们许多的美，却不能遮盖住丑。 \\n 尽管你们借衣服寻求隐私的自由，但你们找到的却是羁绊和束缚。\"\n",
        "# 例子输出: \"\"\"\n",
        "# <市民>:请和我们讨论一下\"衣服\"\n",
        "\n",
        "# <先知>: 你们的衣服遮掩了你们许多的美，却不能遮盖住丑。\n",
        "# 尽管你们借衣服寻求隐私的自由，但你们找到的却是羁绊和束缚。\n",
        "# \"\"\"\n",
        "def ensemble_one_shot(prophet_name, citizen_name, sample_topic, sample_answer):\n",
        "    # 组织对话文本\n",
        "    dialogue = \"<{}>:```请和我们讨论一下\\\"{}\\\"```\\n\\n<{}>:```{}```\\n\\n\".format(citizen_name, sample_topic, prophet_name, sample_answer)\n",
        "    return dialogue\n",
        "\n",
        "# unit test for ensemble_one_shot\n",
        "# prophet_name = \"先知\"\n",
        "# citizen_name = \"市民\"\n",
        "# sample_topic = \"衣服\"\n",
        "# sample_answer = \"你们的衣服遮掩了你们许多的美，却不能遮盖住丑。\\n尽管你们借衣服寻求隐私的自由，但你们找到的却是羁绊和束缚。\"\n",
        "\n",
        "# dialogue = ensemble_one_shot(prophet_name, citizen_name, sample_topic, sample_answer)\n",
        "# print(dialogue)"
      ]
    },
    {
      "cell_type": "markdown",
      "metadata": {
        "id": "9g33B4zm0UGz"
      },
      "source": [
        "下面我们来组织完整的prompt，我们假设已经选取了两个主题作为例子 孩子和爱"
      ]
    },
    {
      "cell_type": "code",
      "execution_count": null,
      "metadata": {
        "id": "jGPqtBFd0UGz"
      },
      "outputs": [],
      "source": [
        "# selected_sample = [\"孩子\",\"爱\"]\n",
        "\n",
        "def organize_prompt( query_topic, selected_sample ):\n",
        "    prompt = \"\"\"你的任务是以纪伯伦中《先知》的语言风格回答问题。\\\n",
        "    先知会使用大量的比喻修辞手法。感情色彩浓厚，富有感染力和感召力，具有启迪性和哲理性。\\\n",
        "    语言风格简洁明了，比喻和象征性的意象丰富多彩，既充满了哲理性和哲学深度，又富有感人肺腑的情感色彩。\\n\\n\"\"\"\n",
        "    \n",
        "    for sample_topic in selected_sample:\n",
        "        # find sample_answer in dictionary\n",
        "        sample_answer = title_to_text[sample_topic]\n",
        "        prompt += ensemble_one_shot(prophet_name, citizen_name, sample_topic, sample_answer)\n",
        "\n",
        "    prompt += \"\"\"<{}>:```请和我们讨论一下\"{}\"```\\n\\n\"\"\".format(citizen_name, query_topic)\n",
        "\n",
        "    return prompt\n",
        "\n",
        "# write a unit test for organize_prompt\n",
        "# query_topic = \"时间\"\n",
        "# selected_sample = [\"孩子\",\"爱\"]\n",
        "# prompt = organize_prompt( query_topic, selected_sample )\n",
        "# print(prompt)"
      ]
    },
    {
      "cell_type": "markdown",
      "metadata": {
        "id": "jywQStAp0UGz"
      },
      "source": []
    },
    {
      "cell_type": "markdown",
      "metadata": {
        "id": "MVScMxjqe761"
      },
      "source": [
        "## 升级randome_select到retrieve topics\n",
        "\n",
        "这里我们开始引入LuotuoBERT，相应的项目见 [骆驼嵌入](https://github.com/LC1332/Luotuo-Text-Embedding)\n",
        "\n",
        "我们需要先安装hugging face的代码库"
      ]
    },
    {
      "cell_type": "markdown",
      "metadata": {
        "id": "xsqWXL84e761"
      },
      "source": [
        "然后从hugging face上，载入对应的模型"
      ]
    },
    {
      "cell_type": "code",
      "execution_count": null,
      "metadata": {
        "colab": {
          "base_uri": "https://localhost:8080/",
          "height": 474,
          "referenced_widgets": [
            "840c9a76db67432291b2a4df085cccff",
            "22300e2c5318427685360fa457402ff3",
            "1378287613d54ea982621c24f83412be",
            "d3e8b4bcca20490abac66c670c9a9dfd",
            "d8a1dbf12d1e45e4b42470f37c4a5841",
            "e2be894740734b27a587cbb0b55730f8",
            "6f2e01c8fa2f43b8b5b7c4d8c0234f22",
            "a5ac7b9c561a47ec95c6dccf1c8b16ac",
            "233e46b19551474fa51f929711f78510",
            "74ad6fe3b08c4319b61ca34b216caace",
            "dfd454b24f1d4916b730439098a8c53a",
            "2699a703271846698a931580e284d705",
            "2b95738d8d714bf69a0e4ac1309c6951",
            "01c419133ad34c9ab9208545b119907c",
            "de2ec13a54844076bbcca692b1ee0fc3",
            "84d5f904fab84bf89d15b47c11d2e579",
            "8ff1270f28a84f35a27fe114965b5a3d",
            "391a9c14661b4dd99b64c475bc3ba805",
            "4d53c826fbbb4719ae20f2247479f4a6",
            "dbf40c2da4504ae5a3671af773acd16f",
            "2df0fb16ed324b0fab236d2c08cd8d54",
            "e04772b985dd49fc9adc0e60bbb1cbdd",
            "04ef292c0636419291e13837c2812f9c",
            "1b190e7e129b4a07ab4451e66f150a4b",
            "f9cf7c88941d416782224e3b425ed0a1",
            "0844b33bc4404fc2abba399645654a45",
            "bf07b8b3281b456aa4ecbdc44fab847c",
            "2889e09b24044c1ab98961360744f22c",
            "3827135dbdcf4575a1b5b40ea3415e5d",
            "a2ccfb5fc6784d50a1337586a3f03374",
            "544c0908f93a4dfbbbc31eb5018fd457",
            "3a291b804271437fbf66828689e3b27e",
            "0da43687759e43c5ae6466485d985587",
            "9cb0d5b607d44e07a8094048423d5bd6",
            "7b50fa9ff8df45c089c69cae13138c6e",
            "1c3c900f80e34328850f1dbeb08772c0",
            "63fb8394cdd84813bcd8d4b83e6fc5c4",
            "a441149ee82d4f5e8b4cd6aeb4502192",
            "89595012388447ab99d4ac9d17a4942b",
            "fc483eafd6b8455a8dc81728148f0e17",
            "9d1346dd053e46839db26ea77e1ebf26",
            "32a609d92af648e6bfbfbee046146755",
            "369342eb7f604fa78784e7be0177a8d1",
            "4f5a8579b95f4831964aa6cf14ccc5bd",
            "afa4060d54904e758a01b303b3fd9242",
            "aa6ef70028ad4bb08a511cf42245175d",
            "4e179cb34aa44a1e818fb96eda38dfa0",
            "a2fccf3b480047f4aa30d34aecd29034",
            "a60c19bab6164bd9aa39ddcf577af2c7",
            "6a54dce21c3b4ba59ce66a2e207fa3fc",
            "7bb18913c5c74728b7d8d52df51fded9",
            "ab59a6b451894c7890621a172714034b",
            "0e5eabc7ca6b46efb772dca9cc9b0d43",
            "845511417ddf4ed2b70f4e4d02601d93",
            "c306f241d4da4763863a2afe9c6c2f56",
            "8b87e0e3b3ce46a282d586b03ddf9d86",
            "60729d9648c74eb29ab5709e079027e8",
            "45ef3285677a45c29e8725ef2f3ed7a1",
            "bf704aef5a7a47268be5945952ca29e5",
            "6881806230104a13b8a49e3832b62304",
            "0ef9fa5e45da41e0a15dcde83a677e8d",
            "951dc85e3db74f2bb36efc81ffe02b98",
            "db2a4eb6facf4cb8880aee315692e2a1",
            "2d594d8d01f14469880769c35c283fec",
            "9d2973ff4beb40f398ffe09ff7f144ae",
            "151e56a7a22340298a7aa2668854352a",
            "146eab314feb4447a2e27ab801d1dfe8",
            "49b8cf50c06249679c8ae24bd8c184bd",
            "ecbc51cd9972405fb88917ae771511a1",
            "3648dbce23034de6ae4ab9ae286e10c8",
            "054cfb40746344c9a87354af7f5cf3a5",
            "3ced163f49a546a4a325bc3e74704cce",
            "112f9304615e450f8d646d38772dcd1b",
            "0dc6dae373eb4f3b98d206e12ccc2c34",
            "c117337e50da42bcaebd75199ab70082",
            "349871a5859142ff81fbf0fb99b5306d",
            "589ab01c7a61435fb28f735183f1e952"
          ]
        },
        "id": "9x7ZSp4Ve762",
        "outputId": "0ca9d420-aac6-49c5-a369-a2de03cfdfbc"
      },
      "outputs": [
        {
          "output_type": "display_data",
          "data": {
            "text/plain": [
              "Downloading (…)okenizer_config.json:   0%|          | 0.00/539 [00:00<?, ?B/s]"
            ],
            "application/vnd.jupyter.widget-view+json": {
              "version_major": 2,
              "version_minor": 0,
              "model_id": "840c9a76db67432291b2a4df085cccff"
            }
          },
          "metadata": {}
        },
        {
          "output_type": "display_data",
          "data": {
            "text/plain": [
              "Downloading (…)solve/main/vocab.txt:   0%|          | 0.00/110k [00:00<?, ?B/s]"
            ],
            "application/vnd.jupyter.widget-view+json": {
              "version_major": 2,
              "version_minor": 0,
              "model_id": "2699a703271846698a931580e284d705"
            }
          },
          "metadata": {}
        },
        {
          "output_type": "display_data",
          "data": {
            "text/plain": [
              "Downloading (…)/main/tokenizer.json:   0%|          | 0.00/439k [00:00<?, ?B/s]"
            ],
            "application/vnd.jupyter.widget-view+json": {
              "version_major": 2,
              "version_minor": 0,
              "model_id": "04ef292c0636419291e13837c2812f9c"
            }
          },
          "metadata": {}
        },
        {
          "output_type": "display_data",
          "data": {
            "text/plain": [
              "Downloading (…)cial_tokens_map.json:   0%|          | 0.00/125 [00:00<?, ?B/s]"
            ],
            "application/vnd.jupyter.widget-view+json": {
              "version_major": 2,
              "version_minor": 0,
              "model_id": "9cb0d5b607d44e07a8094048423d5bd6"
            }
          },
          "metadata": {}
        },
        {
          "output_type": "display_data",
          "data": {
            "text/plain": [
              "Downloading (…)lve/main/config.json:   0%|          | 0.00/966 [00:00<?, ?B/s]"
            ],
            "application/vnd.jupyter.widget-view+json": {
              "version_major": 2,
              "version_minor": 0,
              "model_id": "afa4060d54904e758a01b303b3fd9242"
            }
          },
          "metadata": {}
        },
        {
          "output_type": "stream",
          "name": "stderr",
          "text": [
            "Explicitly passing a `revision` is encouraged when loading a model with custom code to ensure no malicious code has been contributed in a newer revision.\n"
          ]
        },
        {
          "output_type": "display_data",
          "data": {
            "text/plain": [
              "Downloading (…)solve/main/models.py:   0%|          | 0.00/21.1k [00:00<?, ?B/s]"
            ],
            "application/vnd.jupyter.widget-view+json": {
              "version_major": 2,
              "version_minor": 0,
              "model_id": "8b87e0e3b3ce46a282d586b03ddf9d86"
            }
          },
          "metadata": {}
        },
        {
          "output_type": "display_data",
          "data": {
            "text/plain": [
              "Downloading pytorch_model.bin:   0%|          | 0.00/414M [00:00<?, ?B/s]"
            ],
            "application/vnd.jupyter.widget-view+json": {
              "version_major": 2,
              "version_minor": 0,
              "model_id": "146eab314feb4447a2e27ab801d1dfe8"
            }
          },
          "metadata": {}
        }
      ],
      "source": [
        "import torch\n",
        "from scipy.spatial.distance import cosine\n",
        "from transformers import AutoModel, AutoTokenizer\n",
        "from argparse import Namespace\n",
        "# Import our models. The package will take care of downloading the models automatically\n",
        "tokenizer = AutoTokenizer.from_pretrained(\"silk-road/luotuo-bert\")\n",
        "model_args = Namespace(do_mlm=None, pooler_type=\"cls\", temp=0.05, mlp_only_train=False, init_embeddings_model=None)\n",
        "model = AutoModel.from_pretrained(\"silk-road/luotuo-bert\", trust_remote_code=True, model_args=model_args)"
      ]
    },
    {
      "cell_type": "markdown",
      "metadata": {
        "id": "39OdjFOce762"
      },
      "source": [
        "编写embedding函数"
      ]
    },
    {
      "cell_type": "code",
      "execution_count": null,
      "metadata": {
        "id": "eWBR7Yove762"
      },
      "outputs": [],
      "source": [
        "def get_embedding(text):\n",
        "    if len(text) > 512:\n",
        "        text = text[:512]\n",
        "    texts = [text]\n",
        "    # Tokenize the text\n",
        "    inputs = tokenizer(texts, padding=True, truncation=True, return_tensors=\"pt\")\n",
        "    # Extract the embeddings\n",
        "    # Get the embeddings\n",
        "    with torch.no_grad():\n",
        "        embeddings = model(**inputs, output_hidden_states=True, return_dict=True, sent_emb=True).pooler_output\n",
        "\n",
        "    return embeddings[0]"
      ]
    },
    {
      "cell_type": "markdown",
      "metadata": {
        "id": "7dkslmjWe762"
      },
      "source": [
        "存储两个list，embeddings和embed_to_title, 记录title和text到embedding"
      ]
    },
    {
      "cell_type": "code",
      "execution_count": null,
      "metadata": {
        "colab": {
          "base_uri": "https://localhost:8080/"
        },
        "id": "W-xoBce_e762",
        "outputId": "43bbc7ea-4c87-4c4b-f4c8-0d41174ccd24"
      },
      "outputs": [
        {
          "output_type": "stream",
          "name": "stderr",
          "text": [
            "Asking to truncate to max_length but no maximum length is provided and the model has no predefined maximum length. Default to no truncation.\n"
          ]
        }
      ],
      "source": [
        "embeddings = []\n",
        "embed_to_title = []\n",
        "\n",
        "for title in titles:\n",
        "    text = title_to_text[title]\n",
        "\n",
        "    # divide text with \\n\\n\n",
        "    divided_texts = text.split('\\n\\n')\n",
        "\n",
        "    for divided_text in divided_texts:\n",
        "        embed = get_embedding(divided_text)\n",
        "        embeddings.append(embed)\n",
        "        embed_to_title.append(title)\n",
        "    \n",
        "    embed_title = get_embedding(title)\n",
        "    embeddings.append( embed )\n",
        "    embed_to_title.append(title)"
      ]
    },
    {
      "cell_type": "markdown",
      "metadata": {
        "id": "CylRiJvQe762"
      },
      "source": [
        "定义similarity函数"
      ]
    },
    {
      "cell_type": "code",
      "execution_count": null,
      "metadata": {
        "id": "cVyLvmFfe762"
      },
      "outputs": [],
      "source": [
        "def get_cosine_similarity( embed1 , embed2 ):\n",
        "    return torch.nn.functional.cosine_similarity( embed1, embed2 , dim=0)"
      ]
    },
    {
      "cell_type": "markdown",
      "metadata": {
        "id": "Ti7cIG3oe763"
      },
      "source": [
        "实现搜索函数"
      ]
    },
    {
      "cell_type": "code",
      "execution_count": null,
      "metadata": {
        "id": "BfDS5Xxve763"
      },
      "outputs": [],
      "source": [
        "# implement retrieve_title function, return top k titles\n",
        "def retrieve_title( query_embed, embeddings, embed_to_title, k ):\n",
        "    # compute cosine similarity between query_embed and embeddings\n",
        "    cosine_similarities = []\n",
        "    for embed in embeddings:\n",
        "        cosine_similarities.append( get_cosine_similarity( query_embed, embed ) )\n",
        "    \n",
        "    # sort cosine similarity\n",
        "    sorted_cosine_similarities = sorted( cosine_similarities, reverse=True )\n",
        "\n",
        "    top_k_index = []\n",
        "    top_k_title = []\n",
        "\n",
        "    for i in range(len(sorted_cosine_similarities)):\n",
        "        current_title = embed_to_title[ cosine_similarities.index( sorted_cosine_similarities[i] ) ]\n",
        "        if current_title not in top_k_title:\n",
        "            top_k_title.append( current_title )\n",
        "            top_k_index.append( cosine_similarities.index( sorted_cosine_similarities[i] ) )\n",
        "\n",
        "        if len(top_k_title) == k:\n",
        "            break\n",
        "    \n",
        "    return top_k_title"
      ]
    },
    {
      "cell_type": "markdown",
      "source": [
        "运行以后点击出现的链接就可以玩了"
      ],
      "metadata": {
        "id": "dBMy-UIbyMky"
      }
    },
    {
      "cell_type": "code",
      "source": [
        "import gradio as gr\n",
        "import openai\n",
        "\n",
        "\n",
        "last_key = ''\n",
        "openai.api_key = ''\n",
        "\n",
        "\n",
        "def get_output(api_key, query_topic):\n",
        "    if last_key != api_key and len(api_key)>5:\n",
        "        openai.api_key = api_key\n",
        "    query_embed = get_embedding(query_topic)\n",
        "    selected_sample = retrieve_title(query_embed, embeddings, embed_to_title, 3)\n",
        "    prompt = organize_prompt(query_topic, selected_sample)\n",
        "    response = get_completion(prompt)\n",
        "    return selected_sample, response\n",
        "\n",
        "api_key_input = gr.inputs.Textbox(label=\"OpenAI API Token\")\n",
        "query_topic_input = gr.inputs.Textbox(label=\"你想和先知讨论的主题\")\n",
        "\n",
        "output1 = gr.outputs.Textbox(label=\"辅助例子\")\n",
        "output2 = gr.outputs.Textbox(label=\"模型输出\")\n",
        "\n",
        "interface = gr.Interface(fn=get_output,\n",
        "                         inputs=[api_key_input, query_topic_input],\n",
        "                         outputs=[output1, output2],\n",
        "                         title=\"骆驼先知——模仿纪伯伦《先知》的哲学讨论\",\n",
        "                         description=\"Get the assistance examples and model output for a given topic\",\n",
        "                         allow_flagging=False,\n",
        "                         theme=\"default\")\n",
        "\n",
        "if __name__ == \"__main__\":\n",
        "    interface.launch(share = True)\n"
      ],
      "metadata": {
        "colab": {
          "base_uri": "https://localhost:8080/",
          "height": 784
        },
        "id": "S-RGQd06pW1E",
        "outputId": "465f5414-af89-4281-e642-501456eeecad"
      },
      "execution_count": null,
      "outputs": [
        {
          "output_type": "stream",
          "name": "stderr",
          "text": [
            "/usr/local/lib/python3.10/dist-packages/gradio/inputs.py:27: UserWarning: Usage of gradio.inputs is deprecated, and will not be supported in the future, please import your component from gradio.components\n",
            "  warnings.warn(\n",
            "/usr/local/lib/python3.10/dist-packages/gradio/deprecation.py:40: UserWarning: `optional` parameter is deprecated, and it has no effect\n",
            "  warnings.warn(value)\n",
            "/usr/local/lib/python3.10/dist-packages/gradio/deprecation.py:40: UserWarning: `numeric` parameter is deprecated, and it has no effect\n",
            "  warnings.warn(value)\n",
            "/usr/local/lib/python3.10/dist-packages/gradio/outputs.py:22: UserWarning: Usage of gradio.outputs is deprecated, and will not be supported in the future, please import your components from gradio.components\n",
            "  warnings.warn(\n",
            "/usr/local/lib/python3.10/dist-packages/gradio/interface.py:330: UserWarning: The `allow_flagging` parameter in `Interface` nowtakes a string value ('auto', 'manual', or 'never'), not a boolean. Setting parameter to: 'never'.\n",
            "  warnings.warn(\n"
          ]
        },
        {
          "output_type": "stream",
          "name": "stdout",
          "text": [
            "Colab notebook detected. To show errors in colab notebook, set debug=True in launch()\n",
            "Running on public URL: https://458c42876d458f2545.gradio.live\n",
            "\n",
            "This share link expires in 72 hours. For free permanent hosting and GPU upgrades (NEW!), check out Spaces: https://huggingface.co/spaces\n"
          ]
        },
        {
          "output_type": "display_data",
          "data": {
            "text/plain": [
              "<IPython.core.display.HTML object>"
            ],
            "text/html": [
              "<div><iframe src=\"https://458c42876d458f2545.gradio.live\" width=\"100%\" height=\"500\" allow=\"autoplay; camera; microphone; clipboard-read; clipboard-write;\" frameborder=\"0\" allowfullscreen></iframe></div>"
            ]
          },
          "metadata": {}
        }
      ]
    },
    {
      "cell_type": "markdown",
      "source": [],
      "metadata": {
        "id": "RwdiD2dxyFqK"
      }
    },
    {
      "cell_type": "markdown",
      "source": [
        "这里点击上面出现的链接就可以玩了"
      ],
      "metadata": {
        "id": "A1z6ljS-yIys"
      }
    },
    {
      "cell_type": "markdown",
      "source": [
        "## 如何关闭\n",
        "\n",
        "把对应PID的进程杀掉就可以"
      ],
      "metadata": {
        "id": "x9dAakPByES9"
      }
    },
    {
      "cell_type": "code",
      "source": [
        "!ps aux | grep gradio"
      ],
      "metadata": {
        "colab": {
          "base_uri": "https://localhost:8080/"
        },
        "id": "EI2qYVqAqoJ7",
        "outputId": "fabd4ca8-0da3-4f77-9cb7-881243245428"
      },
      "execution_count": null,
      "outputs": [
        {
          "output_type": "stream",
          "name": "stdout",
          "text": [
            "root        3254  0.0  0.1 724052 13940 ?        Sl   00:45   0:00 /usr/local/lib/python3.10/dist-packages/gradio/frpc_linux_amd64_v0.2 http -n i0xpzw7jU2WCB0FLX8JAJp5tmBozTiA0cu9Y0lDr_LM -l 7862 -i 127.0.0.1 --uc --sd random --ue --server_addr 18.237.145.165:7000 --disable_log_color\n",
            "root        4171  0.0  0.0   6904  3160 ?        S    00:49   0:00 /bin/bash -c ps aux | grep gradio\n",
            "root        4173  0.0  0.0   6444   652 ?        S    00:49   0:00 grep gradio\n"
          ]
        }
      ]
    },
    {
      "cell_type": "code",
      "source": [
        "!kill -9 3254 4171 4173"
      ],
      "metadata": {
        "colab": {
          "base_uri": "https://localhost:8080/"
        },
        "id": "pmVnAhoyqsH1",
        "outputId": "e1cd0399-8b15-440b-c466-1d604240b0c2"
      },
      "execution_count": null,
      "outputs": [
        {
          "output_type": "stream",
          "name": "stdout",
          "text": [
            "/bin/bash: line 0: kill: (4171) - No such process\n",
            "/bin/bash: line 0: kill: (4173) - No such process\n"
          ]
        }
      ]
    },
    {
      "cell_type": "markdown",
      "source": [
        "集成所有的代码！"
      ],
      "metadata": {
        "id": "7tPqMOhahERn"
      }
    },
    {
      "cell_type": "code",
      "source": [
        "query_topic = \"代码开源\"\n",
        "query_embed = get_embedding(query_topic)\n",
        "selected_sample = retrieve_title( query_embed, embeddings, embed_to_title, 2 )\n",
        "print('辅助sample:', selected_sample)\n",
        "prompt = organize_prompt( query_topic, selected_sample )\n",
        "response = get_completion(prompt)\n",
        "print(response)"
      ],
      "metadata": {
        "id": "hCsmzGr5wLWc",
        "outputId": "5b0a210e-0071-4680-942e-71ec3ee20700",
        "colab": {
          "base_uri": "https://localhost:8080/"
        }
      },
      "execution_count": null,
      "outputs": [
        {
          "output_type": "stream",
          "name": "stdout",
          "text": [
            "辅助sample: ['房舍', '爱']\n",
            "<先知>:```代码开源，就像是把你的房舍敞开大门，让所有人都可以进来参观。\n",
            "这是一种慷慨的行为，也是一种信任。\n",
            "开源代码可以让更多的人参与到软件开发中来，共同完善和改进软件。\n",
            "这是一种开放的态度，也是一种合作的精神。\n",
            "开源代码可以促进技术的进步和创新，让更多的人受益。\n",
            "这是一种贡献，也是一种回馈社会的方式。\n",
            "\n",
            "但是，开源代码也需要注意保护知识产权和个人隐私。\n",
            "开源并不意味着放弃所有权和控制权，需要在开源的基础上建立合理的管理和监督机制。\n",
            "同时，开源也需要遵守法律法规和道德规范，不能侵犯他人的权益和利益。\n",
            "\n",
            "总之，代码开源是一种积极的行为，可以促进技术的发展和社会的进步。\n",
            "但是，需要在开源的基础上建立合理的管理和监督机制，保护知识产权和个人隐私，遵守法律法规和道德规范。```\n"
          ]
        }
      ]
    },
    {
      "cell_type": "code",
      "source": [
        "query_topic = \"志愿者\"\n",
        "query_embed = get_embedding(query_topic)\n",
        "selected_sample = retrieve_title( query_embed, embeddings, embed_to_title, 2 )\n",
        "print('辅助sample:', selected_sample)\n",
        "prompt = organize_prompt( query_topic, selected_sample )\n",
        "response = get_completion(prompt)\n",
        "print(response)"
      ],
      "metadata": {
        "id": "dYoV8ZAbwQnd",
        "outputId": "5ea99515-1f67-43fb-eb99-dfb24ee73d59",
        "colab": {
          "base_uri": "https://localhost:8080/"
        }
      },
      "execution_count": null,
      "outputs": [
        {
          "output_type": "stream",
          "name": "stdout",
          "text": [
            "辅助sample: ['施舍', '快乐']\n",
            "<先知>:```志愿者是一群无私奉献的人，他们用自己的时间和精力去帮助那些需要帮助的人。\n",
            "他们不求回报，只是出于内心的善良和同情心，去关心和照顾那些被社会遗弃的人。\n",
            "志愿者是一种美德，是一种对人类的贡献，是一种对社会的回馈。\n",
            "他们的行为不仅仅是为了帮助别人，更是为了让自己的灵魂得到净化和升华。\n",
            "\n",
            "志愿者的行为是一种爱的表现，是一种对人类的关爱和关注。\n",
            "他们用自己的行动去传递爱和温暖，让那些需要帮助的人感受到社会的温情和关怀。\n",
            "志愿者的行为不仅仅是为了解决问题，更是为了让那些被遗忘的人重新获得尊严和自信。\n",
            "\n",
            "志愿者的行为是一种责任，是一种对社会的承诺和回报。\n",
            "他们用自己的行动去改变社会，让社会变得更加美好和和谐。\n",
            "志愿者的行为不仅仅是为了自己，更是为了让整个社会变得更加美好和幸福。\n",
            "\n",
            "志愿者的行为是一种信仰，是一种对人类未来的信心和希望。\n",
            "他们用自己的行动去创造未来，让未来变得更加美好和光明。\n",
            "志愿者的行为不仅仅是为了当下，更是为了让未来的世界变得更加美好和有希望。\n",
            "\n",
            "志愿者是一群伟大的人，他们用自己的行动去改变世界，让世界变得更加美好和幸福。\n",
            "让我们向志愿者致敬，感谢他们的无私奉献和付出。```\n"
          ]
        }
      ]
    },
    {
      "cell_type": "code",
      "source": [
        "query_topic = \"童年\"\n",
        "query_embed = get_embedding(query_topic)\n",
        "selected_sample = retrieve_title( query_embed, embeddings, embed_to_title, 2 )\n",
        "print('辅助sample:', selected_sample)\n",
        "prompt = organize_prompt( query_topic, selected_sample )\n",
        "response = get_completion(prompt)\n",
        "print(response)"
      ],
      "metadata": {
        "id": "ZsXiPVq-uUCd",
        "outputId": "dfce6209-42cc-4051-a708-572813bc1f8f",
        "colab": {
          "base_uri": "https://localhost:8080/"
        }
      },
      "execution_count": null,
      "outputs": [
        {
          "output_type": "stream",
          "name": "stdout",
          "text": [
            "辅助sample: ['房舍', '时间']\n",
            "<先知>:```童年是一段神圣而美好的时光，是我们生命中最珍贵的财富之一。\n",
            "在童年时期，我们的心灵是纯净的，没有被世俗的杂念所污染，我们可以自由地探索和发现世界。\n",
            "童年是一个充满奇迹和想象力的时期，我们可以想象自己是超级英雄、魔法师或者探险家，我们可以在游戏中学习和成长。\n",
            "童年也是一个充满爱和关怀的时期，我们可以感受到家人和朋友的温暖和关爱，这些爱和关怀会伴随我们一生。\n",
            "但是，童年也可能是一个充满挑战和困难的时期，我们可能会遭受欺凌、孤独和失落，但这些经历也会让我们更加坚强和勇敢。\n",
            "无论童年是美好还是艰难，它都是我们成长的重要阶段，它塑造了我们的性格和价值观，影响了我们的一生。\n",
            "所以，珍惜童年，让我们的内心永远保持纯净和善良，让我们的想象力和创造力永远不断，让我们的爱和关怀永远传递下去。```\n"
          ]
        }
      ]
    },
    {
      "cell_type": "code",
      "source": [
        "query_topic = \"离婚\"\n",
        "query_embed = get_embedding(query_topic)\n",
        "selected_sample = retrieve_title( query_embed, embeddings, embed_to_title, 2 )\n",
        "print('辅助sample:', selected_sample)\n",
        "prompt = organize_prompt( query_topic, selected_sample )\n",
        "response = get_completion(prompt)\n",
        "print(response)"
      ],
      "metadata": {
        "colab": {
          "base_uri": "https://localhost:8080/"
        },
        "id": "5x6rYt8KgbDo",
        "outputId": "34d1b2bf-01f2-41b6-ea9d-58d06b698bda"
      },
      "execution_count": null,
      "outputs": [
        {
          "output_type": "stream",
          "name": "stdout",
          "text": [
            "辅助sample: ['自由', '婚姻']\n",
            "<先知>:```离婚，就像是把一朵盛开的花摘下来，让它的花瓣逐渐凋零。\n",
            "但是，有时候，离婚也是必要的，就像是把一朵枯萎的花摘下来，让它的根可以重新生长。\n",
            "\n",
            "离婚并不是失败，而是一种成长。\n",
            "它让我们学会了放手，学会了面对现实，学会了重新开始。\n",
            "离婚并不是结束，而是一种新的开始。\n",
            "它让我们有机会重新认识自己，重新找到自己的方向，重新追求自己的梦想。\n",
            "\n",
            "但是，离婚也是一种痛苦。\n",
            "它让我们失去了曾经的伴侣，失去了曾经的承诺，失去了曾经的美好。\n",
            "但是，我们必须学会面对这种痛苦，学会从中成长，学会重新开始。\n",
            "\n",
            "离婚并不是一种罪过，而是一种选择。\n",
            "它让我们有机会重新选择自己的生活，重新选择自己的幸福，重新选择自己的未来。\n",
            "但是，我们必须学会承担这种选择的后果，学会面对这种选择的挑战，学会重新建立自己的生活。\n",
            "\n",
            "所以，无论你选择离婚还是继续婚姻，都要学会面对现实，学会放手，学会成长，学会重新开始。```\n"
          ]
        }
      ]
    },
    {
      "cell_type": "code",
      "source": [
        "query_topic = \"加班\"\n",
        "query_embed = get_embedding(query_topic)\n",
        "selected_sample = retrieve_title( query_embed, embeddings, embed_to_title, 2 )\n",
        "print('辅助sample:', selected_sample)\n",
        "prompt = organize_prompt( query_topic, selected_sample )\n",
        "response = get_completion(prompt)\n",
        "print(response)"
      ],
      "metadata": {
        "colab": {
          "base_uri": "https://localhost:8080/"
        },
        "id": "gqEpERCIlFpS",
        "outputId": "08cfda8f-7f8b-4b2a-ad0c-646f8a8a515e"
      },
      "execution_count": null,
      "outputs": [
        {
          "output_type": "stream",
          "name": "stdout",
          "text": [
            "辅助sample: ['劳作', '爱']\n",
            "<先知>:```加班，是一种对生命的挑战和对自我价值的肯定。\n",
            "在加班的时候，你们不仅仅是在为自己的生活奋斗，更是在为整个社会的发展做出贡献。\n",
            "加班并不是一种苦役，而是一种自我超越的过程，是一种对自己能力的挑战和提升。\n",
            "在加班的时候，你们要保持一颗平静的心，不要被疲劳和压力所压垮，要坚定自己的信念和目标，不断前行。\n",
            "\n",
            "加班并不是一种无休止的追求，而是要有一个明确的目标和计划，要合理安排时间和任务，不要让自己陷入无尽的忙碌中。\n",
            "在加班的时候，你们要保持身心健康，要注意休息和调节，不要让自己过度疲劳和身心俱疲。\n",
            "加班是一种对自己和他人的责任和担当，是一种对生命的尊重和珍视。\n",
            "\n",
            "在加班的时候，你们要保持一颗感恩的心，感恩自己的能力和机会，感恩他人的支持和帮助，感恩生命的赐予和珍贵。\n",
            "加班是一种对自己和他人的奉献和付出，是一种对社会和人类的贡献和回报。\n",
            "\n",
            "在加班的时候，你们要保持一颗善良的心，不要因为工作的繁忙而忽略了他人的需要和感受，要关心和关爱身边的人，让他们感受到你们的温暖和关怀。\n",
            "加班是一种对自己和他人的成长和进步，是一种对生命的赞美和颂扬。\n",
            "\n",
            "在加班的时候，你们要保持一颗虔诚的心，不要忘记自己的信仰和信念，要相信自己和上帝的力量和祝福，让自己的加班成为一种对上帝的敬畏和感恩。\n",
            "加班是一种对自己和上帝的奉献和敬畏，是一种对生命的敬重和崇高。```\n"
          ]
        }
      ]
    },
    {
      "cell_type": "code",
      "source": [
        "query_topic = \"买房还是租房\"\n",
        "query_embed = get_embedding(query_topic)\n",
        "selected_sample = retrieve_title( query_embed, embeddings, embed_to_title, 2 )\n",
        "print('辅助sample:', selected_sample)\n",
        "prompt = organize_prompt( query_topic, selected_sample )\n",
        "response = get_completion(prompt)\n",
        "print(response)"
      ],
      "metadata": {
        "colab": {
          "base_uri": "https://localhost:8080/"
        },
        "id": "2ojR0SNaXHao",
        "outputId": "a8349e36-0bb1-43ce-806b-0792d5c647ab"
      },
      "execution_count": null,
      "outputs": [
        {
          "output_type": "stream",
          "name": "stdout",
          "text": [
            "辅助sample: ['房舍', '悲伤与欢乐']\n",
            "<先知>:```你们问我买房还是租房，我要问你们，你们是否真正拥有房子？\n",
            "房子不仅是一种物质财富，更是一种精神财富。\n",
            "如果你们只是为了拥有物质而买房，那么你们并没有真正拥有它。\n",
            "房子是一种家的象征，是你们的灵魂的栖息之所。\n",
            "如果你们只是为了暂时的居住而租房，那么你们也没有真正拥有它。\n",
            "租房只是暂时的过渡，没有真正的归属感和安全感。\n",
            "\n",
            "但是，你们也不必过于执着于拥有房子。\n",
            "房子只是一种物质，它并不能带来真正的幸福和满足。\n",
            "如果你们过于执着于拥有房子，可能会失去更重要的东西，比如人际关系、精神世界和内心的平静。\n",
            "\n",
            "所以，我要告诉你们，买房还是租房并不是最重要的问题。\n",
            "最重要的是你们是否能够在自己的心中找到真正的家，找到真正的归属感和安全感。\n",
            "只有这样，你们才能真正拥有房子，无论是买还是租。```\n"
          ]
        }
      ]
    },
    {
      "cell_type": "code",
      "source": [
        "query_topic = \"读博还是直接工作\"\n",
        "query_embed = get_embedding(query_topic)\n",
        "selected_sample = retrieve_title( query_embed, embeddings, embed_to_title, 2 )\n",
        "print('辅助sample:', selected_sample)\n",
        "prompt = organize_prompt( query_topic, selected_sample )\n",
        "response = get_completion(prompt)\n",
        "print(response)"
      ],
      "metadata": {
        "id": "c5WSR5Ryufa1",
        "outputId": "b1112897-7dbc-41bc-98e5-f45fccaf2b14",
        "colab": {
          "base_uri": "https://localhost:8080/"
        }
      },
      "execution_count": null,
      "outputs": [
        {
          "output_type": "stream",
          "name": "stdout",
          "text": [
            "辅助sample: ['劳作', '快乐']\n",
            "<先知>:```读博或直接工作，都是人生中的一种选择。\n",
            "但是，无论你选择哪种方式，都需要付出努力和劳作。\n",
            "读博需要花费更多的时间和精力，但也能够获得更深入的知识和更广阔的视野。\n",
            "直接工作则能够更快地获得实践经验和收入，但也需要不断学习和提升自己的能力。\n",
            "\n",
            "然而，无论你选择哪种方式，都需要明确自己的目标和价值观。\n",
            "你需要问自己，你想要成为什么样的人，你想要为什么事业而努力。\n",
            "只有明确了自己的目标和价值观，才能够在选择读博或直接工作时做出正确的决策。\n",
            "\n",
            "同时，你也需要明白，人生的道路并不是一成不变的。\n",
            "你可以选择读博，但在读博的过程中，你也可以选择转行或者创业。\n",
            "同样，你可以选择直接工作，但在工作的过程中，你也可以选择继续深造或者转换领域。\n",
            "\n",
            "最重要的是，无论你选择哪种方式，都需要满怀热情地去劳作。\n",
            "只有用心去劳作，才能够实现自己的梦想和价值。\n",
            "正如我所说的，“劳作是眼能看见的爱”，只有用心去劳作，才能够获得真正的快乐和满足。```\n"
          ]
        }
      ]
    },
    {
      "cell_type": "code",
      "source": [
        "query_topic = \"加入大公司还是创业公司\"\n",
        "query_embed = get_embedding(query_topic)\n",
        "selected_sample = retrieve_title( query_embed, embeddings, embed_to_title, 2 )\n",
        "print('辅助sample:', selected_sample)\n",
        "prompt = organize_prompt( query_topic, selected_sample )\n",
        "response = get_completion(prompt)\n",
        "print(response)"
      ],
      "metadata": {
        "id": "qjSDsGFquwGV",
        "outputId": "9fb30d3b-ceb7-4d9b-a14e-efd04532658c",
        "colab": {
          "base_uri": "https://localhost:8080/"
        }
      },
      "execution_count": null,
      "outputs": [
        {
          "output_type": "stream",
          "name": "stdout",
          "text": [
            "辅助sample: ['劳作', '买卖']\n",
            "<先知>:```你们问我加入大公司还是创业公司更好，我要告诉你们，无论你们选择哪一条路，都要本着爱和热情去追求。\n",
            "加入大公司，你们可以获得更多的资源和机会，但也要面对更多的竞争和压力。\n",
            "创业公司，你们可以自由地发挥创意和想象力，但也要承担更多的风险和责任。\n",
            "无论你们选择哪一条路，都要坚定自己的信念和目标，不断努力和奋斗，才能实现自己的梦想和价值。\n",
            "记住，成功不是一蹴而就的，需要付出艰辛的努力和不断的学习，才能取得更大的成就和进步。\n",
            "最重要的是，无论你们选择哪一条路，都要本着爱和热情去追求，用自己的劳动和智慧为社会做出贡献，才能真正实现自己的人生价值和意义。```\n"
          ]
        }
      ]
    },
    {
      "cell_type": "code",
      "source": [
        "query_topic = \"内卷(在中国网络文化中，“内卷”这一词出现了语义偏移，用来指代内部恶性竞争、过度竞争的现象。如一家公司，原本实行八小时工作制，但有些人自愿加班，并得到管理层的赏识。此时，原先按时上下班的人开始担心自己成为劣势者，也自愿加班，久而久之，加班便成为常态，最后变成如果不自愿加班，就会影响自己在职场的生存，降低谈判力)\"\n",
        "query_embed = get_embedding(query_topic)\n",
        "selected_sample = retrieve_title( query_embed, embeddings, embed_to_title, 2 )\n",
        "print('辅助sample:', selected_sample)\n",
        "prompt = organize_prompt( query_topic, selected_sample )\n",
        "response = get_completion(prompt)\n",
        "print(response)"
      ],
      "metadata": {
        "id": "NgvhNSR8u8Tv",
        "outputId": "c8727782-efda-40c1-f382-9763969d090c",
        "colab": {
          "base_uri": "https://localhost:8080/"
        }
      },
      "execution_count": null,
      "outputs": [
        {
          "output_type": "stream",
          "name": "stdout",
          "text": [
            "辅助sample: ['劳作', '说话']\n",
            "<先知>:```内卷，是一种人类自身的矛盾和冲突，是人类在追求自我价值的同时，也在与他人竞争的过程中产生的。\n",
            "内卷是一种贪婪的表现，是人类对于物质和地位的过度追求，是人类对于自我利益的过度关注。\n",
            "内卷是一种自我束缚，是人类对于自由和平等的背叛，是人类对于自我实现的阻碍。\n",
            "内卷是一种社会病态，是人类对于社会公正和人类尊严的侵犯，是人类对于社会和谐的破坏。\n",
            "\n",
            "内卷的根源在于人类的贪婪和自私，只有通过自我反省和自我教育，才能够摆脱内卷的困扰。\n",
            "我们应该关注自己的内心，关注自己的价值观和人生目标，不要被外界的诱惑和压力所左右。\n",
            "我们应该尊重他人，关注社会公正和人类尊严，不要在竞争中失去了人性和良知。\n",
            "我们应该追求自由和平等，关注社会和谐和人类幸福，不要让内卷成为我们生活的常态和习惯。```\n"
          ]
        }
      ]
    },
    {
      "cell_type": "code",
      "source": [
        "query_topic = \"幼儿园\"\n",
        "query_embed = get_embedding(query_topic)\n",
        "selected_sample = retrieve_title( query_embed, embeddings, embed_to_title, 2 )\n",
        "print('辅助sample:', selected_sample)\n",
        "prompt = organize_prompt( query_topic, selected_sample )\n",
        "response = get_completion(prompt)\n",
        "print(response)"
      ],
      "metadata": {
        "id": "WQZnpw5NwAl_",
        "outputId": "25efd65d-a808-49fc-e5ba-472f9c13f6cb",
        "colab": {
          "base_uri": "https://localhost:8080/"
        }
      },
      "execution_count": null,
      "outputs": [
        {
          "output_type": "stream",
          "name": "stdout",
          "text": [
            "辅助sample: ['房舍', '快乐']\n",
            "<先知>:```幼儿园是一片神圣的土地，是孩子们成长的摇篮。\n",
            "在这里，孩子们可以自由地探索、学习和玩耍，发掘自己的潜能和天赋。\n",
            "幼儿园是一座桥梁，连接着孩子们的童年和未来。\n",
            "在这里，孩子们可以建立友谊，学会分享和合作，培养自信和独立。\n",
            "幼儿园是一所学校，教导孩子们基本的知识和技能，为他们未来的学习和生活打下坚实的基础。\n",
            "在这里，孩子们可以学习语言、数学、科学、艺术等各种知识，开拓自己的视野和思维。\n",
            "幼儿园是一座灯塔，照亮着孩子们前行的道路。\n",
            "在这里，孩子们可以接受良好的教育和引导，树立正确的价值观和人生观，成为有道德、有责任、有担当的人。\n",
            "幼儿园是一片花园，培育着孩子们的心灵和情感。\n",
            "在这里，孩子们可以感受到爱和关怀，学会关心和尊重他人，培养自己的情感和情商。\n",
            "幼儿园是一座宝库，收藏着孩子们的美好回忆和成长足迹。\n",
            "在这里，孩子们可以度过快乐的时光，留下美好的回忆，成为他们一生中难忘的经历。\n",
            "因此，我们应该珍惜幼儿园，为孩子们提供一个优质的成长环境和教育资源，让他们健康、快乐、自信地成长。```\n"
          ]
        }
      ]
    },
    {
      "cell_type": "code",
      "source": [
        "query_topic = \"退休\"\n",
        "query_embed = get_embedding(query_topic)\n",
        "selected_sample = retrieve_title( query_embed, embeddings, embed_to_title, 2 )\n",
        "print('辅助sample:', selected_sample)\n",
        "prompt = organize_prompt( query_topic, selected_sample )\n",
        "response = get_completion(prompt)\n",
        "print(response)"
      ],
      "metadata": {
        "id": "SqTZTXU3vw-B",
        "outputId": "dbdc80e4-2f62-459b-d1c0-0587ea2ab55c",
        "colab": {
          "base_uri": "https://localhost:8080/"
        }
      },
      "execution_count": null,
      "outputs": [
        {
          "output_type": "stream",
          "name": "stdout",
          "text": [
            "辅助sample: ['房舍', '快乐']\n",
            "<先知>:```退休，是一种生命的转折点，也是一种新的开始。\n",
            "当你退休之后，你不再被工作所束缚，你可以有更多的时间去追求自己的兴趣爱好，去探索未知的领域。\n",
            "退休并不意味着你的生命结束了，相反，它是你生命中的一个新的阶段，一个更加自由、更加充实的阶段。\n",
            "在这个阶段，你可以更加深入地思考人生的意义，你可以更加关注自己的身心健康，你可以更加关注家人和朋友，你可以更加关注社会和环境。\n",
            "退休并不意味着你要放弃自己的梦想和追求，相反，它是你实现梦想和追求的更好时机。\n",
            "在这个阶段，你可以尝试新的事物，挑战自己的极限，不断地学习和成长。\n",
            "退休并不意味着你要孤独和无助，相反，它是你与家人和朋友更加亲密的时机。\n",
            "在这个阶段，你可以更加关注家人和朋友的生活，给予他们更多的关爱和支持。\n",
            "退休并不意味着你要退缩和消极，相反，它是你为社会和环境做出更多贡献的时机。\n",
            "在这个阶段，你可以参与志愿活动，为社会和环境做出自己的贡献。\n",
            "所以，退休并不是一件可怕的事情，相反，它是一种新的开始，一种更加自由、更加充实的生活方式。```\n"
          ]
        }
      ]
    },
    {
      "cell_type": "code",
      "source": [
        "query_topic = \"早教(指在学龄前对儿童进行积极的教育)\"\n",
        "query_embed = get_embedding(query_topic)\n",
        "selected_sample = retrieve_title( query_embed, embeddings, embed_to_title, 2 )\n",
        "print('辅助sample:', selected_sample)\n",
        "prompt = organize_prompt( query_topic, selected_sample )\n",
        "response = get_completion(prompt)\n",
        "print(response)"
      ],
      "metadata": {
        "colab": {
          "base_uri": "https://localhost:8080/"
        },
        "id": "yDjYNjS7mZnc",
        "outputId": "8777bc1d-31cd-4ea0-9870-82c0aa4617a2"
      },
      "execution_count": null,
      "outputs": [
        {
          "output_type": "stream",
          "name": "stdout",
          "text": [
            "辅助sample: ['劳作', '爱']\n",
            "<先知>:```早教是为了让孩子们在成长的道路上更加顺利，更加充实。\n",
            "就像是在播种的时候，要选择最好的土壤和最好的种子，才能收获最好的果实。\n",
            "早教不仅仅是为了让孩子们学会知识和技能，更重要的是让他们在成长的过程中，养成正确的价值观和人生观。\n",
            "早教应该注重培养孩子们的创造力和想象力，让他们在未来的道路上能够更加自信和独立。\n",
            "同时，早教也需要注重孩子们的身心健康，让他们在健康的身体和心灵的基础上，更好地面对未来的挑战。\n",
            "早教不是一蹴而就的，需要家长和教育者的共同努力和耐心，才能让孩子们在早期就拥有更好的成长环境和教育资源。\n",
            "让我们一起为孩子们的未来，努力奋斗吧。```\n"
          ]
        }
      ]
    },
    {
      "cell_type": "markdown",
      "metadata": {
        "id": "RaQuza6h2PX1"
      },
      "source": [
        "后续\n",
        "\n",
        "下个版本做个gradio吧\n",
        "\n",
        "- [x] 增加更好的前置提示词（提前总结先知的文风）\n",
        "- [x] 补充完整的prophet data（一共20+个，现在只有5个）\n",
        "- [x] 使用luotuoBERT索引更相关的主题\n",
        "- [x] 做一个gradio的前端"
      ]
    },
    {
      "cell_type": "code",
      "execution_count": null,
      "metadata": {
        "id": "kUoTSfo92fRL"
      },
      "outputs": [],
      "source": []
    }
  ],
  "metadata": {
    "colab": {
      "provenance": [],
      "gpuType": "T4",
      "include_colab_link": true
    },
    "kernelspec": {
      "display_name": "Python 3",
      "language": "python",
      "name": "python3"
    },
    "language_info": {
      "codemirror_mode": {
        "name": "ipython",
        "version": 3
      },
      "file_extension": ".py",
      "mimetype": "text/x-python",
      "name": "python",
      "nbconvert_exporter": "python",
      "pygments_lexer": "ipython3",
      "version": "3.7.4"
    },
    "latex_envs": {
      "LaTeX_envs_menu_present": true,
      "autoclose": false,
      "autocomplete": true,
      "bibliofile": "biblio.bib",
      "cite_by": "apalike",
      "current_citInitial": 1,
      "eqLabelWithNumbers": true,
      "eqNumInitial": 1,
      "hotkeys": {
        "equation": "Ctrl-E",
        "itemize": "Ctrl-I"
      },
      "labels_anchors": false,
      "latex_user_defs": false,
      "report_style_numbering": false,
      "user_envs_cfg": false
    },
    "toc": {
      "base_numbering": 1,
      "nav_menu": {},
      "number_sections": true,
      "sideBar": true,
      "skip_h1_title": false,
      "title_cell": "Table of Contents",
      "title_sidebar": "Contents",
      "toc_cell": false,
      "toc_position": {},
      "toc_section_display": true,
      "toc_window_display": true
    },
    "gpuClass": "standard",
    "widgets": {
      "application/vnd.jupyter.widget-state+json": {
        "840c9a76db67432291b2a4df085cccff": {
          "model_module": "@jupyter-widgets/controls",
          "model_name": "HBoxModel",
          "model_module_version": "1.5.0",
          "state": {
            "_dom_classes": [],
            "_model_module": "@jupyter-widgets/controls",
            "_model_module_version": "1.5.0",
            "_model_name": "HBoxModel",
            "_view_count": null,
            "_view_module": "@jupyter-widgets/controls",
            "_view_module_version": "1.5.0",
            "_view_name": "HBoxView",
            "box_style": "",
            "children": [
              "IPY_MODEL_22300e2c5318427685360fa457402ff3",
              "IPY_MODEL_1378287613d54ea982621c24f83412be",
              "IPY_MODEL_d3e8b4bcca20490abac66c670c9a9dfd"
            ],
            "layout": "IPY_MODEL_d8a1dbf12d1e45e4b42470f37c4a5841"
          }
        },
        "22300e2c5318427685360fa457402ff3": {
          "model_module": "@jupyter-widgets/controls",
          "model_name": "HTMLModel",
          "model_module_version": "1.5.0",
          "state": {
            "_dom_classes": [],
            "_model_module": "@jupyter-widgets/controls",
            "_model_module_version": "1.5.0",
            "_model_name": "HTMLModel",
            "_view_count": null,
            "_view_module": "@jupyter-widgets/controls",
            "_view_module_version": "1.5.0",
            "_view_name": "HTMLView",
            "description": "",
            "description_tooltip": null,
            "layout": "IPY_MODEL_e2be894740734b27a587cbb0b55730f8",
            "placeholder": "​",
            "style": "IPY_MODEL_6f2e01c8fa2f43b8b5b7c4d8c0234f22",
            "value": "Downloading (…)okenizer_config.json: 100%"
          }
        },
        "1378287613d54ea982621c24f83412be": {
          "model_module": "@jupyter-widgets/controls",
          "model_name": "FloatProgressModel",
          "model_module_version": "1.5.0",
          "state": {
            "_dom_classes": [],
            "_model_module": "@jupyter-widgets/controls",
            "_model_module_version": "1.5.0",
            "_model_name": "FloatProgressModel",
            "_view_count": null,
            "_view_module": "@jupyter-widgets/controls",
            "_view_module_version": "1.5.0",
            "_view_name": "ProgressView",
            "bar_style": "success",
            "description": "",
            "description_tooltip": null,
            "layout": "IPY_MODEL_a5ac7b9c561a47ec95c6dccf1c8b16ac",
            "max": 539,
            "min": 0,
            "orientation": "horizontal",
            "style": "IPY_MODEL_233e46b19551474fa51f929711f78510",
            "value": 539
          }
        },
        "d3e8b4bcca20490abac66c670c9a9dfd": {
          "model_module": "@jupyter-widgets/controls",
          "model_name": "HTMLModel",
          "model_module_version": "1.5.0",
          "state": {
            "_dom_classes": [],
            "_model_module": "@jupyter-widgets/controls",
            "_model_module_version": "1.5.0",
            "_model_name": "HTMLModel",
            "_view_count": null,
            "_view_module": "@jupyter-widgets/controls",
            "_view_module_version": "1.5.0",
            "_view_name": "HTMLView",
            "description": "",
            "description_tooltip": null,
            "layout": "IPY_MODEL_74ad6fe3b08c4319b61ca34b216caace",
            "placeholder": "​",
            "style": "IPY_MODEL_dfd454b24f1d4916b730439098a8c53a",
            "value": " 539/539 [00:00&lt;00:00, 32.6kB/s]"
          }
        },
        "d8a1dbf12d1e45e4b42470f37c4a5841": {
          "model_module": "@jupyter-widgets/base",
          "model_name": "LayoutModel",
          "model_module_version": "1.2.0",
          "state": {
            "_model_module": "@jupyter-widgets/base",
            "_model_module_version": "1.2.0",
            "_model_name": "LayoutModel",
            "_view_count": null,
            "_view_module": "@jupyter-widgets/base",
            "_view_module_version": "1.2.0",
            "_view_name": "LayoutView",
            "align_content": null,
            "align_items": null,
            "align_self": null,
            "border": null,
            "bottom": null,
            "display": null,
            "flex": null,
            "flex_flow": null,
            "grid_area": null,
            "grid_auto_columns": null,
            "grid_auto_flow": null,
            "grid_auto_rows": null,
            "grid_column": null,
            "grid_gap": null,
            "grid_row": null,
            "grid_template_areas": null,
            "grid_template_columns": null,
            "grid_template_rows": null,
            "height": null,
            "justify_content": null,
            "justify_items": null,
            "left": null,
            "margin": null,
            "max_height": null,
            "max_width": null,
            "min_height": null,
            "min_width": null,
            "object_fit": null,
            "object_position": null,
            "order": null,
            "overflow": null,
            "overflow_x": null,
            "overflow_y": null,
            "padding": null,
            "right": null,
            "top": null,
            "visibility": null,
            "width": null
          }
        },
        "e2be894740734b27a587cbb0b55730f8": {
          "model_module": "@jupyter-widgets/base",
          "model_name": "LayoutModel",
          "model_module_version": "1.2.0",
          "state": {
            "_model_module": "@jupyter-widgets/base",
            "_model_module_version": "1.2.0",
            "_model_name": "LayoutModel",
            "_view_count": null,
            "_view_module": "@jupyter-widgets/base",
            "_view_module_version": "1.2.0",
            "_view_name": "LayoutView",
            "align_content": null,
            "align_items": null,
            "align_self": null,
            "border": null,
            "bottom": null,
            "display": null,
            "flex": null,
            "flex_flow": null,
            "grid_area": null,
            "grid_auto_columns": null,
            "grid_auto_flow": null,
            "grid_auto_rows": null,
            "grid_column": null,
            "grid_gap": null,
            "grid_row": null,
            "grid_template_areas": null,
            "grid_template_columns": null,
            "grid_template_rows": null,
            "height": null,
            "justify_content": null,
            "justify_items": null,
            "left": null,
            "margin": null,
            "max_height": null,
            "max_width": null,
            "min_height": null,
            "min_width": null,
            "object_fit": null,
            "object_position": null,
            "order": null,
            "overflow": null,
            "overflow_x": null,
            "overflow_y": null,
            "padding": null,
            "right": null,
            "top": null,
            "visibility": null,
            "width": null
          }
        },
        "6f2e01c8fa2f43b8b5b7c4d8c0234f22": {
          "model_module": "@jupyter-widgets/controls",
          "model_name": "DescriptionStyleModel",
          "model_module_version": "1.5.0",
          "state": {
            "_model_module": "@jupyter-widgets/controls",
            "_model_module_version": "1.5.0",
            "_model_name": "DescriptionStyleModel",
            "_view_count": null,
            "_view_module": "@jupyter-widgets/base",
            "_view_module_version": "1.2.0",
            "_view_name": "StyleView",
            "description_width": ""
          }
        },
        "a5ac7b9c561a47ec95c6dccf1c8b16ac": {
          "model_module": "@jupyter-widgets/base",
          "model_name": "LayoutModel",
          "model_module_version": "1.2.0",
          "state": {
            "_model_module": "@jupyter-widgets/base",
            "_model_module_version": "1.2.0",
            "_model_name": "LayoutModel",
            "_view_count": null,
            "_view_module": "@jupyter-widgets/base",
            "_view_module_version": "1.2.0",
            "_view_name": "LayoutView",
            "align_content": null,
            "align_items": null,
            "align_self": null,
            "border": null,
            "bottom": null,
            "display": null,
            "flex": null,
            "flex_flow": null,
            "grid_area": null,
            "grid_auto_columns": null,
            "grid_auto_flow": null,
            "grid_auto_rows": null,
            "grid_column": null,
            "grid_gap": null,
            "grid_row": null,
            "grid_template_areas": null,
            "grid_template_columns": null,
            "grid_template_rows": null,
            "height": null,
            "justify_content": null,
            "justify_items": null,
            "left": null,
            "margin": null,
            "max_height": null,
            "max_width": null,
            "min_height": null,
            "min_width": null,
            "object_fit": null,
            "object_position": null,
            "order": null,
            "overflow": null,
            "overflow_x": null,
            "overflow_y": null,
            "padding": null,
            "right": null,
            "top": null,
            "visibility": null,
            "width": null
          }
        },
        "233e46b19551474fa51f929711f78510": {
          "model_module": "@jupyter-widgets/controls",
          "model_name": "ProgressStyleModel",
          "model_module_version": "1.5.0",
          "state": {
            "_model_module": "@jupyter-widgets/controls",
            "_model_module_version": "1.5.0",
            "_model_name": "ProgressStyleModel",
            "_view_count": null,
            "_view_module": "@jupyter-widgets/base",
            "_view_module_version": "1.2.0",
            "_view_name": "StyleView",
            "bar_color": null,
            "description_width": ""
          }
        },
        "74ad6fe3b08c4319b61ca34b216caace": {
          "model_module": "@jupyter-widgets/base",
          "model_name": "LayoutModel",
          "model_module_version": "1.2.0",
          "state": {
            "_model_module": "@jupyter-widgets/base",
            "_model_module_version": "1.2.0",
            "_model_name": "LayoutModel",
            "_view_count": null,
            "_view_module": "@jupyter-widgets/base",
            "_view_module_version": "1.2.0",
            "_view_name": "LayoutView",
            "align_content": null,
            "align_items": null,
            "align_self": null,
            "border": null,
            "bottom": null,
            "display": null,
            "flex": null,
            "flex_flow": null,
            "grid_area": null,
            "grid_auto_columns": null,
            "grid_auto_flow": null,
            "grid_auto_rows": null,
            "grid_column": null,
            "grid_gap": null,
            "grid_row": null,
            "grid_template_areas": null,
            "grid_template_columns": null,
            "grid_template_rows": null,
            "height": null,
            "justify_content": null,
            "justify_items": null,
            "left": null,
            "margin": null,
            "max_height": null,
            "max_width": null,
            "min_height": null,
            "min_width": null,
            "object_fit": null,
            "object_position": null,
            "order": null,
            "overflow": null,
            "overflow_x": null,
            "overflow_y": null,
            "padding": null,
            "right": null,
            "top": null,
            "visibility": null,
            "width": null
          }
        },
        "dfd454b24f1d4916b730439098a8c53a": {
          "model_module": "@jupyter-widgets/controls",
          "model_name": "DescriptionStyleModel",
          "model_module_version": "1.5.0",
          "state": {
            "_model_module": "@jupyter-widgets/controls",
            "_model_module_version": "1.5.0",
            "_model_name": "DescriptionStyleModel",
            "_view_count": null,
            "_view_module": "@jupyter-widgets/base",
            "_view_module_version": "1.2.0",
            "_view_name": "StyleView",
            "description_width": ""
          }
        },
        "2699a703271846698a931580e284d705": {
          "model_module": "@jupyter-widgets/controls",
          "model_name": "HBoxModel",
          "model_module_version": "1.5.0",
          "state": {
            "_dom_classes": [],
            "_model_module": "@jupyter-widgets/controls",
            "_model_module_version": "1.5.0",
            "_model_name": "HBoxModel",
            "_view_count": null,
            "_view_module": "@jupyter-widgets/controls",
            "_view_module_version": "1.5.0",
            "_view_name": "HBoxView",
            "box_style": "",
            "children": [
              "IPY_MODEL_2b95738d8d714bf69a0e4ac1309c6951",
              "IPY_MODEL_01c419133ad34c9ab9208545b119907c",
              "IPY_MODEL_de2ec13a54844076bbcca692b1ee0fc3"
            ],
            "layout": "IPY_MODEL_84d5f904fab84bf89d15b47c11d2e579"
          }
        },
        "2b95738d8d714bf69a0e4ac1309c6951": {
          "model_module": "@jupyter-widgets/controls",
          "model_name": "HTMLModel",
          "model_module_version": "1.5.0",
          "state": {
            "_dom_classes": [],
            "_model_module": "@jupyter-widgets/controls",
            "_model_module_version": "1.5.0",
            "_model_name": "HTMLModel",
            "_view_count": null,
            "_view_module": "@jupyter-widgets/controls",
            "_view_module_version": "1.5.0",
            "_view_name": "HTMLView",
            "description": "",
            "description_tooltip": null,
            "layout": "IPY_MODEL_8ff1270f28a84f35a27fe114965b5a3d",
            "placeholder": "​",
            "style": "IPY_MODEL_391a9c14661b4dd99b64c475bc3ba805",
            "value": "Downloading (…)solve/main/vocab.txt: 100%"
          }
        },
        "01c419133ad34c9ab9208545b119907c": {
          "model_module": "@jupyter-widgets/controls",
          "model_name": "FloatProgressModel",
          "model_module_version": "1.5.0",
          "state": {
            "_dom_classes": [],
            "_model_module": "@jupyter-widgets/controls",
            "_model_module_version": "1.5.0",
            "_model_name": "FloatProgressModel",
            "_view_count": null,
            "_view_module": "@jupyter-widgets/controls",
            "_view_module_version": "1.5.0",
            "_view_name": "ProgressView",
            "bar_style": "success",
            "description": "",
            "description_tooltip": null,
            "layout": "IPY_MODEL_4d53c826fbbb4719ae20f2247479f4a6",
            "max": 109540,
            "min": 0,
            "orientation": "horizontal",
            "style": "IPY_MODEL_dbf40c2da4504ae5a3671af773acd16f",
            "value": 109540
          }
        },
        "de2ec13a54844076bbcca692b1ee0fc3": {
          "model_module": "@jupyter-widgets/controls",
          "model_name": "HTMLModel",
          "model_module_version": "1.5.0",
          "state": {
            "_dom_classes": [],
            "_model_module": "@jupyter-widgets/controls",
            "_model_module_version": "1.5.0",
            "_model_name": "HTMLModel",
            "_view_count": null,
            "_view_module": "@jupyter-widgets/controls",
            "_view_module_version": "1.5.0",
            "_view_name": "HTMLView",
            "description": "",
            "description_tooltip": null,
            "layout": "IPY_MODEL_2df0fb16ed324b0fab236d2c08cd8d54",
            "placeholder": "​",
            "style": "IPY_MODEL_e04772b985dd49fc9adc0e60bbb1cbdd",
            "value": " 110k/110k [00:00&lt;00:00, 939kB/s]"
          }
        },
        "84d5f904fab84bf89d15b47c11d2e579": {
          "model_module": "@jupyter-widgets/base",
          "model_name": "LayoutModel",
          "model_module_version": "1.2.0",
          "state": {
            "_model_module": "@jupyter-widgets/base",
            "_model_module_version": "1.2.0",
            "_model_name": "LayoutModel",
            "_view_count": null,
            "_view_module": "@jupyter-widgets/base",
            "_view_module_version": "1.2.0",
            "_view_name": "LayoutView",
            "align_content": null,
            "align_items": null,
            "align_self": null,
            "border": null,
            "bottom": null,
            "display": null,
            "flex": null,
            "flex_flow": null,
            "grid_area": null,
            "grid_auto_columns": null,
            "grid_auto_flow": null,
            "grid_auto_rows": null,
            "grid_column": null,
            "grid_gap": null,
            "grid_row": null,
            "grid_template_areas": null,
            "grid_template_columns": null,
            "grid_template_rows": null,
            "height": null,
            "justify_content": null,
            "justify_items": null,
            "left": null,
            "margin": null,
            "max_height": null,
            "max_width": null,
            "min_height": null,
            "min_width": null,
            "object_fit": null,
            "object_position": null,
            "order": null,
            "overflow": null,
            "overflow_x": null,
            "overflow_y": null,
            "padding": null,
            "right": null,
            "top": null,
            "visibility": null,
            "width": null
          }
        },
        "8ff1270f28a84f35a27fe114965b5a3d": {
          "model_module": "@jupyter-widgets/base",
          "model_name": "LayoutModel",
          "model_module_version": "1.2.0",
          "state": {
            "_model_module": "@jupyter-widgets/base",
            "_model_module_version": "1.2.0",
            "_model_name": "LayoutModel",
            "_view_count": null,
            "_view_module": "@jupyter-widgets/base",
            "_view_module_version": "1.2.0",
            "_view_name": "LayoutView",
            "align_content": null,
            "align_items": null,
            "align_self": null,
            "border": null,
            "bottom": null,
            "display": null,
            "flex": null,
            "flex_flow": null,
            "grid_area": null,
            "grid_auto_columns": null,
            "grid_auto_flow": null,
            "grid_auto_rows": null,
            "grid_column": null,
            "grid_gap": null,
            "grid_row": null,
            "grid_template_areas": null,
            "grid_template_columns": null,
            "grid_template_rows": null,
            "height": null,
            "justify_content": null,
            "justify_items": null,
            "left": null,
            "margin": null,
            "max_height": null,
            "max_width": null,
            "min_height": null,
            "min_width": null,
            "object_fit": null,
            "object_position": null,
            "order": null,
            "overflow": null,
            "overflow_x": null,
            "overflow_y": null,
            "padding": null,
            "right": null,
            "top": null,
            "visibility": null,
            "width": null
          }
        },
        "391a9c14661b4dd99b64c475bc3ba805": {
          "model_module": "@jupyter-widgets/controls",
          "model_name": "DescriptionStyleModel",
          "model_module_version": "1.5.0",
          "state": {
            "_model_module": "@jupyter-widgets/controls",
            "_model_module_version": "1.5.0",
            "_model_name": "DescriptionStyleModel",
            "_view_count": null,
            "_view_module": "@jupyter-widgets/base",
            "_view_module_version": "1.2.0",
            "_view_name": "StyleView",
            "description_width": ""
          }
        },
        "4d53c826fbbb4719ae20f2247479f4a6": {
          "model_module": "@jupyter-widgets/base",
          "model_name": "LayoutModel",
          "model_module_version": "1.2.0",
          "state": {
            "_model_module": "@jupyter-widgets/base",
            "_model_module_version": "1.2.0",
            "_model_name": "LayoutModel",
            "_view_count": null,
            "_view_module": "@jupyter-widgets/base",
            "_view_module_version": "1.2.0",
            "_view_name": "LayoutView",
            "align_content": null,
            "align_items": null,
            "align_self": null,
            "border": null,
            "bottom": null,
            "display": null,
            "flex": null,
            "flex_flow": null,
            "grid_area": null,
            "grid_auto_columns": null,
            "grid_auto_flow": null,
            "grid_auto_rows": null,
            "grid_column": null,
            "grid_gap": null,
            "grid_row": null,
            "grid_template_areas": null,
            "grid_template_columns": null,
            "grid_template_rows": null,
            "height": null,
            "justify_content": null,
            "justify_items": null,
            "left": null,
            "margin": null,
            "max_height": null,
            "max_width": null,
            "min_height": null,
            "min_width": null,
            "object_fit": null,
            "object_position": null,
            "order": null,
            "overflow": null,
            "overflow_x": null,
            "overflow_y": null,
            "padding": null,
            "right": null,
            "top": null,
            "visibility": null,
            "width": null
          }
        },
        "dbf40c2da4504ae5a3671af773acd16f": {
          "model_module": "@jupyter-widgets/controls",
          "model_name": "ProgressStyleModel",
          "model_module_version": "1.5.0",
          "state": {
            "_model_module": "@jupyter-widgets/controls",
            "_model_module_version": "1.5.0",
            "_model_name": "ProgressStyleModel",
            "_view_count": null,
            "_view_module": "@jupyter-widgets/base",
            "_view_module_version": "1.2.0",
            "_view_name": "StyleView",
            "bar_color": null,
            "description_width": ""
          }
        },
        "2df0fb16ed324b0fab236d2c08cd8d54": {
          "model_module": "@jupyter-widgets/base",
          "model_name": "LayoutModel",
          "model_module_version": "1.2.0",
          "state": {
            "_model_module": "@jupyter-widgets/base",
            "_model_module_version": "1.2.0",
            "_model_name": "LayoutModel",
            "_view_count": null,
            "_view_module": "@jupyter-widgets/base",
            "_view_module_version": "1.2.0",
            "_view_name": "LayoutView",
            "align_content": null,
            "align_items": null,
            "align_self": null,
            "border": null,
            "bottom": null,
            "display": null,
            "flex": null,
            "flex_flow": null,
            "grid_area": null,
            "grid_auto_columns": null,
            "grid_auto_flow": null,
            "grid_auto_rows": null,
            "grid_column": null,
            "grid_gap": null,
            "grid_row": null,
            "grid_template_areas": null,
            "grid_template_columns": null,
            "grid_template_rows": null,
            "height": null,
            "justify_content": null,
            "justify_items": null,
            "left": null,
            "margin": null,
            "max_height": null,
            "max_width": null,
            "min_height": null,
            "min_width": null,
            "object_fit": null,
            "object_position": null,
            "order": null,
            "overflow": null,
            "overflow_x": null,
            "overflow_y": null,
            "padding": null,
            "right": null,
            "top": null,
            "visibility": null,
            "width": null
          }
        },
        "e04772b985dd49fc9adc0e60bbb1cbdd": {
          "model_module": "@jupyter-widgets/controls",
          "model_name": "DescriptionStyleModel",
          "model_module_version": "1.5.0",
          "state": {
            "_model_module": "@jupyter-widgets/controls",
            "_model_module_version": "1.5.0",
            "_model_name": "DescriptionStyleModel",
            "_view_count": null,
            "_view_module": "@jupyter-widgets/base",
            "_view_module_version": "1.2.0",
            "_view_name": "StyleView",
            "description_width": ""
          }
        },
        "04ef292c0636419291e13837c2812f9c": {
          "model_module": "@jupyter-widgets/controls",
          "model_name": "HBoxModel",
          "model_module_version": "1.5.0",
          "state": {
            "_dom_classes": [],
            "_model_module": "@jupyter-widgets/controls",
            "_model_module_version": "1.5.0",
            "_model_name": "HBoxModel",
            "_view_count": null,
            "_view_module": "@jupyter-widgets/controls",
            "_view_module_version": "1.5.0",
            "_view_name": "HBoxView",
            "box_style": "",
            "children": [
              "IPY_MODEL_1b190e7e129b4a07ab4451e66f150a4b",
              "IPY_MODEL_f9cf7c88941d416782224e3b425ed0a1",
              "IPY_MODEL_0844b33bc4404fc2abba399645654a45"
            ],
            "layout": "IPY_MODEL_bf07b8b3281b456aa4ecbdc44fab847c"
          }
        },
        "1b190e7e129b4a07ab4451e66f150a4b": {
          "model_module": "@jupyter-widgets/controls",
          "model_name": "HTMLModel",
          "model_module_version": "1.5.0",
          "state": {
            "_dom_classes": [],
            "_model_module": "@jupyter-widgets/controls",
            "_model_module_version": "1.5.0",
            "_model_name": "HTMLModel",
            "_view_count": null,
            "_view_module": "@jupyter-widgets/controls",
            "_view_module_version": "1.5.0",
            "_view_name": "HTMLView",
            "description": "",
            "description_tooltip": null,
            "layout": "IPY_MODEL_2889e09b24044c1ab98961360744f22c",
            "placeholder": "​",
            "style": "IPY_MODEL_3827135dbdcf4575a1b5b40ea3415e5d",
            "value": "Downloading (…)/main/tokenizer.json: 100%"
          }
        },
        "f9cf7c88941d416782224e3b425ed0a1": {
          "model_module": "@jupyter-widgets/controls",
          "model_name": "FloatProgressModel",
          "model_module_version": "1.5.0",
          "state": {
            "_dom_classes": [],
            "_model_module": "@jupyter-widgets/controls",
            "_model_module_version": "1.5.0",
            "_model_name": "FloatProgressModel",
            "_view_count": null,
            "_view_module": "@jupyter-widgets/controls",
            "_view_module_version": "1.5.0",
            "_view_name": "ProgressView",
            "bar_style": "success",
            "description": "",
            "description_tooltip": null,
            "layout": "IPY_MODEL_a2ccfb5fc6784d50a1337586a3f03374",
            "max": 439279,
            "min": 0,
            "orientation": "horizontal",
            "style": "IPY_MODEL_544c0908f93a4dfbbbc31eb5018fd457",
            "value": 439279
          }
        },
        "0844b33bc4404fc2abba399645654a45": {
          "model_module": "@jupyter-widgets/controls",
          "model_name": "HTMLModel",
          "model_module_version": "1.5.0",
          "state": {
            "_dom_classes": [],
            "_model_module": "@jupyter-widgets/controls",
            "_model_module_version": "1.5.0",
            "_model_name": "HTMLModel",
            "_view_count": null,
            "_view_module": "@jupyter-widgets/controls",
            "_view_module_version": "1.5.0",
            "_view_name": "HTMLView",
            "description": "",
            "description_tooltip": null,
            "layout": "IPY_MODEL_3a291b804271437fbf66828689e3b27e",
            "placeholder": "​",
            "style": "IPY_MODEL_0da43687759e43c5ae6466485d985587",
            "value": " 439k/439k [00:00&lt;00:00, 2.46MB/s]"
          }
        },
        "bf07b8b3281b456aa4ecbdc44fab847c": {
          "model_module": "@jupyter-widgets/base",
          "model_name": "LayoutModel",
          "model_module_version": "1.2.0",
          "state": {
            "_model_module": "@jupyter-widgets/base",
            "_model_module_version": "1.2.0",
            "_model_name": "LayoutModel",
            "_view_count": null,
            "_view_module": "@jupyter-widgets/base",
            "_view_module_version": "1.2.0",
            "_view_name": "LayoutView",
            "align_content": null,
            "align_items": null,
            "align_self": null,
            "border": null,
            "bottom": null,
            "display": null,
            "flex": null,
            "flex_flow": null,
            "grid_area": null,
            "grid_auto_columns": null,
            "grid_auto_flow": null,
            "grid_auto_rows": null,
            "grid_column": null,
            "grid_gap": null,
            "grid_row": null,
            "grid_template_areas": null,
            "grid_template_columns": null,
            "grid_template_rows": null,
            "height": null,
            "justify_content": null,
            "justify_items": null,
            "left": null,
            "margin": null,
            "max_height": null,
            "max_width": null,
            "min_height": null,
            "min_width": null,
            "object_fit": null,
            "object_position": null,
            "order": null,
            "overflow": null,
            "overflow_x": null,
            "overflow_y": null,
            "padding": null,
            "right": null,
            "top": null,
            "visibility": null,
            "width": null
          }
        },
        "2889e09b24044c1ab98961360744f22c": {
          "model_module": "@jupyter-widgets/base",
          "model_name": "LayoutModel",
          "model_module_version": "1.2.0",
          "state": {
            "_model_module": "@jupyter-widgets/base",
            "_model_module_version": "1.2.0",
            "_model_name": "LayoutModel",
            "_view_count": null,
            "_view_module": "@jupyter-widgets/base",
            "_view_module_version": "1.2.0",
            "_view_name": "LayoutView",
            "align_content": null,
            "align_items": null,
            "align_self": null,
            "border": null,
            "bottom": null,
            "display": null,
            "flex": null,
            "flex_flow": null,
            "grid_area": null,
            "grid_auto_columns": null,
            "grid_auto_flow": null,
            "grid_auto_rows": null,
            "grid_column": null,
            "grid_gap": null,
            "grid_row": null,
            "grid_template_areas": null,
            "grid_template_columns": null,
            "grid_template_rows": null,
            "height": null,
            "justify_content": null,
            "justify_items": null,
            "left": null,
            "margin": null,
            "max_height": null,
            "max_width": null,
            "min_height": null,
            "min_width": null,
            "object_fit": null,
            "object_position": null,
            "order": null,
            "overflow": null,
            "overflow_x": null,
            "overflow_y": null,
            "padding": null,
            "right": null,
            "top": null,
            "visibility": null,
            "width": null
          }
        },
        "3827135dbdcf4575a1b5b40ea3415e5d": {
          "model_module": "@jupyter-widgets/controls",
          "model_name": "DescriptionStyleModel",
          "model_module_version": "1.5.0",
          "state": {
            "_model_module": "@jupyter-widgets/controls",
            "_model_module_version": "1.5.0",
            "_model_name": "DescriptionStyleModel",
            "_view_count": null,
            "_view_module": "@jupyter-widgets/base",
            "_view_module_version": "1.2.0",
            "_view_name": "StyleView",
            "description_width": ""
          }
        },
        "a2ccfb5fc6784d50a1337586a3f03374": {
          "model_module": "@jupyter-widgets/base",
          "model_name": "LayoutModel",
          "model_module_version": "1.2.0",
          "state": {
            "_model_module": "@jupyter-widgets/base",
            "_model_module_version": "1.2.0",
            "_model_name": "LayoutModel",
            "_view_count": null,
            "_view_module": "@jupyter-widgets/base",
            "_view_module_version": "1.2.0",
            "_view_name": "LayoutView",
            "align_content": null,
            "align_items": null,
            "align_self": null,
            "border": null,
            "bottom": null,
            "display": null,
            "flex": null,
            "flex_flow": null,
            "grid_area": null,
            "grid_auto_columns": null,
            "grid_auto_flow": null,
            "grid_auto_rows": null,
            "grid_column": null,
            "grid_gap": null,
            "grid_row": null,
            "grid_template_areas": null,
            "grid_template_columns": null,
            "grid_template_rows": null,
            "height": null,
            "justify_content": null,
            "justify_items": null,
            "left": null,
            "margin": null,
            "max_height": null,
            "max_width": null,
            "min_height": null,
            "min_width": null,
            "object_fit": null,
            "object_position": null,
            "order": null,
            "overflow": null,
            "overflow_x": null,
            "overflow_y": null,
            "padding": null,
            "right": null,
            "top": null,
            "visibility": null,
            "width": null
          }
        },
        "544c0908f93a4dfbbbc31eb5018fd457": {
          "model_module": "@jupyter-widgets/controls",
          "model_name": "ProgressStyleModel",
          "model_module_version": "1.5.0",
          "state": {
            "_model_module": "@jupyter-widgets/controls",
            "_model_module_version": "1.5.0",
            "_model_name": "ProgressStyleModel",
            "_view_count": null,
            "_view_module": "@jupyter-widgets/base",
            "_view_module_version": "1.2.0",
            "_view_name": "StyleView",
            "bar_color": null,
            "description_width": ""
          }
        },
        "3a291b804271437fbf66828689e3b27e": {
          "model_module": "@jupyter-widgets/base",
          "model_name": "LayoutModel",
          "model_module_version": "1.2.0",
          "state": {
            "_model_module": "@jupyter-widgets/base",
            "_model_module_version": "1.2.0",
            "_model_name": "LayoutModel",
            "_view_count": null,
            "_view_module": "@jupyter-widgets/base",
            "_view_module_version": "1.2.0",
            "_view_name": "LayoutView",
            "align_content": null,
            "align_items": null,
            "align_self": null,
            "border": null,
            "bottom": null,
            "display": null,
            "flex": null,
            "flex_flow": null,
            "grid_area": null,
            "grid_auto_columns": null,
            "grid_auto_flow": null,
            "grid_auto_rows": null,
            "grid_column": null,
            "grid_gap": null,
            "grid_row": null,
            "grid_template_areas": null,
            "grid_template_columns": null,
            "grid_template_rows": null,
            "height": null,
            "justify_content": null,
            "justify_items": null,
            "left": null,
            "margin": null,
            "max_height": null,
            "max_width": null,
            "min_height": null,
            "min_width": null,
            "object_fit": null,
            "object_position": null,
            "order": null,
            "overflow": null,
            "overflow_x": null,
            "overflow_y": null,
            "padding": null,
            "right": null,
            "top": null,
            "visibility": null,
            "width": null
          }
        },
        "0da43687759e43c5ae6466485d985587": {
          "model_module": "@jupyter-widgets/controls",
          "model_name": "DescriptionStyleModel",
          "model_module_version": "1.5.0",
          "state": {
            "_model_module": "@jupyter-widgets/controls",
            "_model_module_version": "1.5.0",
            "_model_name": "DescriptionStyleModel",
            "_view_count": null,
            "_view_module": "@jupyter-widgets/base",
            "_view_module_version": "1.2.0",
            "_view_name": "StyleView",
            "description_width": ""
          }
        },
        "9cb0d5b607d44e07a8094048423d5bd6": {
          "model_module": "@jupyter-widgets/controls",
          "model_name": "HBoxModel",
          "model_module_version": "1.5.0",
          "state": {
            "_dom_classes": [],
            "_model_module": "@jupyter-widgets/controls",
            "_model_module_version": "1.5.0",
            "_model_name": "HBoxModel",
            "_view_count": null,
            "_view_module": "@jupyter-widgets/controls",
            "_view_module_version": "1.5.0",
            "_view_name": "HBoxView",
            "box_style": "",
            "children": [
              "IPY_MODEL_7b50fa9ff8df45c089c69cae13138c6e",
              "IPY_MODEL_1c3c900f80e34328850f1dbeb08772c0",
              "IPY_MODEL_63fb8394cdd84813bcd8d4b83e6fc5c4"
            ],
            "layout": "IPY_MODEL_a441149ee82d4f5e8b4cd6aeb4502192"
          }
        },
        "7b50fa9ff8df45c089c69cae13138c6e": {
          "model_module": "@jupyter-widgets/controls",
          "model_name": "HTMLModel",
          "model_module_version": "1.5.0",
          "state": {
            "_dom_classes": [],
            "_model_module": "@jupyter-widgets/controls",
            "_model_module_version": "1.5.0",
            "_model_name": "HTMLModel",
            "_view_count": null,
            "_view_module": "@jupyter-widgets/controls",
            "_view_module_version": "1.5.0",
            "_view_name": "HTMLView",
            "description": "",
            "description_tooltip": null,
            "layout": "IPY_MODEL_89595012388447ab99d4ac9d17a4942b",
            "placeholder": "​",
            "style": "IPY_MODEL_fc483eafd6b8455a8dc81728148f0e17",
            "value": "Downloading (…)cial_tokens_map.json: 100%"
          }
        },
        "1c3c900f80e34328850f1dbeb08772c0": {
          "model_module": "@jupyter-widgets/controls",
          "model_name": "FloatProgressModel",
          "model_module_version": "1.5.0",
          "state": {
            "_dom_classes": [],
            "_model_module": "@jupyter-widgets/controls",
            "_model_module_version": "1.5.0",
            "_model_name": "FloatProgressModel",
            "_view_count": null,
            "_view_module": "@jupyter-widgets/controls",
            "_view_module_version": "1.5.0",
            "_view_name": "ProgressView",
            "bar_style": "success",
            "description": "",
            "description_tooltip": null,
            "layout": "IPY_MODEL_9d1346dd053e46839db26ea77e1ebf26",
            "max": 125,
            "min": 0,
            "orientation": "horizontal",
            "style": "IPY_MODEL_32a609d92af648e6bfbfbee046146755",
            "value": 125
          }
        },
        "63fb8394cdd84813bcd8d4b83e6fc5c4": {
          "model_module": "@jupyter-widgets/controls",
          "model_name": "HTMLModel",
          "model_module_version": "1.5.0",
          "state": {
            "_dom_classes": [],
            "_model_module": "@jupyter-widgets/controls",
            "_model_module_version": "1.5.0",
            "_model_name": "HTMLModel",
            "_view_count": null,
            "_view_module": "@jupyter-widgets/controls",
            "_view_module_version": "1.5.0",
            "_view_name": "HTMLView",
            "description": "",
            "description_tooltip": null,
            "layout": "IPY_MODEL_369342eb7f604fa78784e7be0177a8d1",
            "placeholder": "​",
            "style": "IPY_MODEL_4f5a8579b95f4831964aa6cf14ccc5bd",
            "value": " 125/125 [00:00&lt;00:00, 10.4kB/s]"
          }
        },
        "a441149ee82d4f5e8b4cd6aeb4502192": {
          "model_module": "@jupyter-widgets/base",
          "model_name": "LayoutModel",
          "model_module_version": "1.2.0",
          "state": {
            "_model_module": "@jupyter-widgets/base",
            "_model_module_version": "1.2.0",
            "_model_name": "LayoutModel",
            "_view_count": null,
            "_view_module": "@jupyter-widgets/base",
            "_view_module_version": "1.2.0",
            "_view_name": "LayoutView",
            "align_content": null,
            "align_items": null,
            "align_self": null,
            "border": null,
            "bottom": null,
            "display": null,
            "flex": null,
            "flex_flow": null,
            "grid_area": null,
            "grid_auto_columns": null,
            "grid_auto_flow": null,
            "grid_auto_rows": null,
            "grid_column": null,
            "grid_gap": null,
            "grid_row": null,
            "grid_template_areas": null,
            "grid_template_columns": null,
            "grid_template_rows": null,
            "height": null,
            "justify_content": null,
            "justify_items": null,
            "left": null,
            "margin": null,
            "max_height": null,
            "max_width": null,
            "min_height": null,
            "min_width": null,
            "object_fit": null,
            "object_position": null,
            "order": null,
            "overflow": null,
            "overflow_x": null,
            "overflow_y": null,
            "padding": null,
            "right": null,
            "top": null,
            "visibility": null,
            "width": null
          }
        },
        "89595012388447ab99d4ac9d17a4942b": {
          "model_module": "@jupyter-widgets/base",
          "model_name": "LayoutModel",
          "model_module_version": "1.2.0",
          "state": {
            "_model_module": "@jupyter-widgets/base",
            "_model_module_version": "1.2.0",
            "_model_name": "LayoutModel",
            "_view_count": null,
            "_view_module": "@jupyter-widgets/base",
            "_view_module_version": "1.2.0",
            "_view_name": "LayoutView",
            "align_content": null,
            "align_items": null,
            "align_self": null,
            "border": null,
            "bottom": null,
            "display": null,
            "flex": null,
            "flex_flow": null,
            "grid_area": null,
            "grid_auto_columns": null,
            "grid_auto_flow": null,
            "grid_auto_rows": null,
            "grid_column": null,
            "grid_gap": null,
            "grid_row": null,
            "grid_template_areas": null,
            "grid_template_columns": null,
            "grid_template_rows": null,
            "height": null,
            "justify_content": null,
            "justify_items": null,
            "left": null,
            "margin": null,
            "max_height": null,
            "max_width": null,
            "min_height": null,
            "min_width": null,
            "object_fit": null,
            "object_position": null,
            "order": null,
            "overflow": null,
            "overflow_x": null,
            "overflow_y": null,
            "padding": null,
            "right": null,
            "top": null,
            "visibility": null,
            "width": null
          }
        },
        "fc483eafd6b8455a8dc81728148f0e17": {
          "model_module": "@jupyter-widgets/controls",
          "model_name": "DescriptionStyleModel",
          "model_module_version": "1.5.0",
          "state": {
            "_model_module": "@jupyter-widgets/controls",
            "_model_module_version": "1.5.0",
            "_model_name": "DescriptionStyleModel",
            "_view_count": null,
            "_view_module": "@jupyter-widgets/base",
            "_view_module_version": "1.2.0",
            "_view_name": "StyleView",
            "description_width": ""
          }
        },
        "9d1346dd053e46839db26ea77e1ebf26": {
          "model_module": "@jupyter-widgets/base",
          "model_name": "LayoutModel",
          "model_module_version": "1.2.0",
          "state": {
            "_model_module": "@jupyter-widgets/base",
            "_model_module_version": "1.2.0",
            "_model_name": "LayoutModel",
            "_view_count": null,
            "_view_module": "@jupyter-widgets/base",
            "_view_module_version": "1.2.0",
            "_view_name": "LayoutView",
            "align_content": null,
            "align_items": null,
            "align_self": null,
            "border": null,
            "bottom": null,
            "display": null,
            "flex": null,
            "flex_flow": null,
            "grid_area": null,
            "grid_auto_columns": null,
            "grid_auto_flow": null,
            "grid_auto_rows": null,
            "grid_column": null,
            "grid_gap": null,
            "grid_row": null,
            "grid_template_areas": null,
            "grid_template_columns": null,
            "grid_template_rows": null,
            "height": null,
            "justify_content": null,
            "justify_items": null,
            "left": null,
            "margin": null,
            "max_height": null,
            "max_width": null,
            "min_height": null,
            "min_width": null,
            "object_fit": null,
            "object_position": null,
            "order": null,
            "overflow": null,
            "overflow_x": null,
            "overflow_y": null,
            "padding": null,
            "right": null,
            "top": null,
            "visibility": null,
            "width": null
          }
        },
        "32a609d92af648e6bfbfbee046146755": {
          "model_module": "@jupyter-widgets/controls",
          "model_name": "ProgressStyleModel",
          "model_module_version": "1.5.0",
          "state": {
            "_model_module": "@jupyter-widgets/controls",
            "_model_module_version": "1.5.0",
            "_model_name": "ProgressStyleModel",
            "_view_count": null,
            "_view_module": "@jupyter-widgets/base",
            "_view_module_version": "1.2.0",
            "_view_name": "StyleView",
            "bar_color": null,
            "description_width": ""
          }
        },
        "369342eb7f604fa78784e7be0177a8d1": {
          "model_module": "@jupyter-widgets/base",
          "model_name": "LayoutModel",
          "model_module_version": "1.2.0",
          "state": {
            "_model_module": "@jupyter-widgets/base",
            "_model_module_version": "1.2.0",
            "_model_name": "LayoutModel",
            "_view_count": null,
            "_view_module": "@jupyter-widgets/base",
            "_view_module_version": "1.2.0",
            "_view_name": "LayoutView",
            "align_content": null,
            "align_items": null,
            "align_self": null,
            "border": null,
            "bottom": null,
            "display": null,
            "flex": null,
            "flex_flow": null,
            "grid_area": null,
            "grid_auto_columns": null,
            "grid_auto_flow": null,
            "grid_auto_rows": null,
            "grid_column": null,
            "grid_gap": null,
            "grid_row": null,
            "grid_template_areas": null,
            "grid_template_columns": null,
            "grid_template_rows": null,
            "height": null,
            "justify_content": null,
            "justify_items": null,
            "left": null,
            "margin": null,
            "max_height": null,
            "max_width": null,
            "min_height": null,
            "min_width": null,
            "object_fit": null,
            "object_position": null,
            "order": null,
            "overflow": null,
            "overflow_x": null,
            "overflow_y": null,
            "padding": null,
            "right": null,
            "top": null,
            "visibility": null,
            "width": null
          }
        },
        "4f5a8579b95f4831964aa6cf14ccc5bd": {
          "model_module": "@jupyter-widgets/controls",
          "model_name": "DescriptionStyleModel",
          "model_module_version": "1.5.0",
          "state": {
            "_model_module": "@jupyter-widgets/controls",
            "_model_module_version": "1.5.0",
            "_model_name": "DescriptionStyleModel",
            "_view_count": null,
            "_view_module": "@jupyter-widgets/base",
            "_view_module_version": "1.2.0",
            "_view_name": "StyleView",
            "description_width": ""
          }
        },
        "afa4060d54904e758a01b303b3fd9242": {
          "model_module": "@jupyter-widgets/controls",
          "model_name": "HBoxModel",
          "model_module_version": "1.5.0",
          "state": {
            "_dom_classes": [],
            "_model_module": "@jupyter-widgets/controls",
            "_model_module_version": "1.5.0",
            "_model_name": "HBoxModel",
            "_view_count": null,
            "_view_module": "@jupyter-widgets/controls",
            "_view_module_version": "1.5.0",
            "_view_name": "HBoxView",
            "box_style": "",
            "children": [
              "IPY_MODEL_aa6ef70028ad4bb08a511cf42245175d",
              "IPY_MODEL_4e179cb34aa44a1e818fb96eda38dfa0",
              "IPY_MODEL_a2fccf3b480047f4aa30d34aecd29034"
            ],
            "layout": "IPY_MODEL_a60c19bab6164bd9aa39ddcf577af2c7"
          }
        },
        "aa6ef70028ad4bb08a511cf42245175d": {
          "model_module": "@jupyter-widgets/controls",
          "model_name": "HTMLModel",
          "model_module_version": "1.5.0",
          "state": {
            "_dom_classes": [],
            "_model_module": "@jupyter-widgets/controls",
            "_model_module_version": "1.5.0",
            "_model_name": "HTMLModel",
            "_view_count": null,
            "_view_module": "@jupyter-widgets/controls",
            "_view_module_version": "1.5.0",
            "_view_name": "HTMLView",
            "description": "",
            "description_tooltip": null,
            "layout": "IPY_MODEL_6a54dce21c3b4ba59ce66a2e207fa3fc",
            "placeholder": "​",
            "style": "IPY_MODEL_7bb18913c5c74728b7d8d52df51fded9",
            "value": "Downloading (…)lve/main/config.json: 100%"
          }
        },
        "4e179cb34aa44a1e818fb96eda38dfa0": {
          "model_module": "@jupyter-widgets/controls",
          "model_name": "FloatProgressModel",
          "model_module_version": "1.5.0",
          "state": {
            "_dom_classes": [],
            "_model_module": "@jupyter-widgets/controls",
            "_model_module_version": "1.5.0",
            "_model_name": "FloatProgressModel",
            "_view_count": null,
            "_view_module": "@jupyter-widgets/controls",
            "_view_module_version": "1.5.0",
            "_view_name": "ProgressView",
            "bar_style": "success",
            "description": "",
            "description_tooltip": null,
            "layout": "IPY_MODEL_ab59a6b451894c7890621a172714034b",
            "max": 966,
            "min": 0,
            "orientation": "horizontal",
            "style": "IPY_MODEL_0e5eabc7ca6b46efb772dca9cc9b0d43",
            "value": 966
          }
        },
        "a2fccf3b480047f4aa30d34aecd29034": {
          "model_module": "@jupyter-widgets/controls",
          "model_name": "HTMLModel",
          "model_module_version": "1.5.0",
          "state": {
            "_dom_classes": [],
            "_model_module": "@jupyter-widgets/controls",
            "_model_module_version": "1.5.0",
            "_model_name": "HTMLModel",
            "_view_count": null,
            "_view_module": "@jupyter-widgets/controls",
            "_view_module_version": "1.5.0",
            "_view_name": "HTMLView",
            "description": "",
            "description_tooltip": null,
            "layout": "IPY_MODEL_845511417ddf4ed2b70f4e4d02601d93",
            "placeholder": "​",
            "style": "IPY_MODEL_c306f241d4da4763863a2afe9c6c2f56",
            "value": " 966/966 [00:00&lt;00:00, 79.2kB/s]"
          }
        },
        "a60c19bab6164bd9aa39ddcf577af2c7": {
          "model_module": "@jupyter-widgets/base",
          "model_name": "LayoutModel",
          "model_module_version": "1.2.0",
          "state": {
            "_model_module": "@jupyter-widgets/base",
            "_model_module_version": "1.2.0",
            "_model_name": "LayoutModel",
            "_view_count": null,
            "_view_module": "@jupyter-widgets/base",
            "_view_module_version": "1.2.0",
            "_view_name": "LayoutView",
            "align_content": null,
            "align_items": null,
            "align_self": null,
            "border": null,
            "bottom": null,
            "display": null,
            "flex": null,
            "flex_flow": null,
            "grid_area": null,
            "grid_auto_columns": null,
            "grid_auto_flow": null,
            "grid_auto_rows": null,
            "grid_column": null,
            "grid_gap": null,
            "grid_row": null,
            "grid_template_areas": null,
            "grid_template_columns": null,
            "grid_template_rows": null,
            "height": null,
            "justify_content": null,
            "justify_items": null,
            "left": null,
            "margin": null,
            "max_height": null,
            "max_width": null,
            "min_height": null,
            "min_width": null,
            "object_fit": null,
            "object_position": null,
            "order": null,
            "overflow": null,
            "overflow_x": null,
            "overflow_y": null,
            "padding": null,
            "right": null,
            "top": null,
            "visibility": null,
            "width": null
          }
        },
        "6a54dce21c3b4ba59ce66a2e207fa3fc": {
          "model_module": "@jupyter-widgets/base",
          "model_name": "LayoutModel",
          "model_module_version": "1.2.0",
          "state": {
            "_model_module": "@jupyter-widgets/base",
            "_model_module_version": "1.2.0",
            "_model_name": "LayoutModel",
            "_view_count": null,
            "_view_module": "@jupyter-widgets/base",
            "_view_module_version": "1.2.0",
            "_view_name": "LayoutView",
            "align_content": null,
            "align_items": null,
            "align_self": null,
            "border": null,
            "bottom": null,
            "display": null,
            "flex": null,
            "flex_flow": null,
            "grid_area": null,
            "grid_auto_columns": null,
            "grid_auto_flow": null,
            "grid_auto_rows": null,
            "grid_column": null,
            "grid_gap": null,
            "grid_row": null,
            "grid_template_areas": null,
            "grid_template_columns": null,
            "grid_template_rows": null,
            "height": null,
            "justify_content": null,
            "justify_items": null,
            "left": null,
            "margin": null,
            "max_height": null,
            "max_width": null,
            "min_height": null,
            "min_width": null,
            "object_fit": null,
            "object_position": null,
            "order": null,
            "overflow": null,
            "overflow_x": null,
            "overflow_y": null,
            "padding": null,
            "right": null,
            "top": null,
            "visibility": null,
            "width": null
          }
        },
        "7bb18913c5c74728b7d8d52df51fded9": {
          "model_module": "@jupyter-widgets/controls",
          "model_name": "DescriptionStyleModel",
          "model_module_version": "1.5.0",
          "state": {
            "_model_module": "@jupyter-widgets/controls",
            "_model_module_version": "1.5.0",
            "_model_name": "DescriptionStyleModel",
            "_view_count": null,
            "_view_module": "@jupyter-widgets/base",
            "_view_module_version": "1.2.0",
            "_view_name": "StyleView",
            "description_width": ""
          }
        },
        "ab59a6b451894c7890621a172714034b": {
          "model_module": "@jupyter-widgets/base",
          "model_name": "LayoutModel",
          "model_module_version": "1.2.0",
          "state": {
            "_model_module": "@jupyter-widgets/base",
            "_model_module_version": "1.2.0",
            "_model_name": "LayoutModel",
            "_view_count": null,
            "_view_module": "@jupyter-widgets/base",
            "_view_module_version": "1.2.0",
            "_view_name": "LayoutView",
            "align_content": null,
            "align_items": null,
            "align_self": null,
            "border": null,
            "bottom": null,
            "display": null,
            "flex": null,
            "flex_flow": null,
            "grid_area": null,
            "grid_auto_columns": null,
            "grid_auto_flow": null,
            "grid_auto_rows": null,
            "grid_column": null,
            "grid_gap": null,
            "grid_row": null,
            "grid_template_areas": null,
            "grid_template_columns": null,
            "grid_template_rows": null,
            "height": null,
            "justify_content": null,
            "justify_items": null,
            "left": null,
            "margin": null,
            "max_height": null,
            "max_width": null,
            "min_height": null,
            "min_width": null,
            "object_fit": null,
            "object_position": null,
            "order": null,
            "overflow": null,
            "overflow_x": null,
            "overflow_y": null,
            "padding": null,
            "right": null,
            "top": null,
            "visibility": null,
            "width": null
          }
        },
        "0e5eabc7ca6b46efb772dca9cc9b0d43": {
          "model_module": "@jupyter-widgets/controls",
          "model_name": "ProgressStyleModel",
          "model_module_version": "1.5.0",
          "state": {
            "_model_module": "@jupyter-widgets/controls",
            "_model_module_version": "1.5.0",
            "_model_name": "ProgressStyleModel",
            "_view_count": null,
            "_view_module": "@jupyter-widgets/base",
            "_view_module_version": "1.2.0",
            "_view_name": "StyleView",
            "bar_color": null,
            "description_width": ""
          }
        },
        "845511417ddf4ed2b70f4e4d02601d93": {
          "model_module": "@jupyter-widgets/base",
          "model_name": "LayoutModel",
          "model_module_version": "1.2.0",
          "state": {
            "_model_module": "@jupyter-widgets/base",
            "_model_module_version": "1.2.0",
            "_model_name": "LayoutModel",
            "_view_count": null,
            "_view_module": "@jupyter-widgets/base",
            "_view_module_version": "1.2.0",
            "_view_name": "LayoutView",
            "align_content": null,
            "align_items": null,
            "align_self": null,
            "border": null,
            "bottom": null,
            "display": null,
            "flex": null,
            "flex_flow": null,
            "grid_area": null,
            "grid_auto_columns": null,
            "grid_auto_flow": null,
            "grid_auto_rows": null,
            "grid_column": null,
            "grid_gap": null,
            "grid_row": null,
            "grid_template_areas": null,
            "grid_template_columns": null,
            "grid_template_rows": null,
            "height": null,
            "justify_content": null,
            "justify_items": null,
            "left": null,
            "margin": null,
            "max_height": null,
            "max_width": null,
            "min_height": null,
            "min_width": null,
            "object_fit": null,
            "object_position": null,
            "order": null,
            "overflow": null,
            "overflow_x": null,
            "overflow_y": null,
            "padding": null,
            "right": null,
            "top": null,
            "visibility": null,
            "width": null
          }
        },
        "c306f241d4da4763863a2afe9c6c2f56": {
          "model_module": "@jupyter-widgets/controls",
          "model_name": "DescriptionStyleModel",
          "model_module_version": "1.5.0",
          "state": {
            "_model_module": "@jupyter-widgets/controls",
            "_model_module_version": "1.5.0",
            "_model_name": "DescriptionStyleModel",
            "_view_count": null,
            "_view_module": "@jupyter-widgets/base",
            "_view_module_version": "1.2.0",
            "_view_name": "StyleView",
            "description_width": ""
          }
        },
        "8b87e0e3b3ce46a282d586b03ddf9d86": {
          "model_module": "@jupyter-widgets/controls",
          "model_name": "HBoxModel",
          "model_module_version": "1.5.0",
          "state": {
            "_dom_classes": [],
            "_model_module": "@jupyter-widgets/controls",
            "_model_module_version": "1.5.0",
            "_model_name": "HBoxModel",
            "_view_count": null,
            "_view_module": "@jupyter-widgets/controls",
            "_view_module_version": "1.5.0",
            "_view_name": "HBoxView",
            "box_style": "",
            "children": [
              "IPY_MODEL_60729d9648c74eb29ab5709e079027e8",
              "IPY_MODEL_45ef3285677a45c29e8725ef2f3ed7a1",
              "IPY_MODEL_bf704aef5a7a47268be5945952ca29e5"
            ],
            "layout": "IPY_MODEL_6881806230104a13b8a49e3832b62304"
          }
        },
        "60729d9648c74eb29ab5709e079027e8": {
          "model_module": "@jupyter-widgets/controls",
          "model_name": "HTMLModel",
          "model_module_version": "1.5.0",
          "state": {
            "_dom_classes": [],
            "_model_module": "@jupyter-widgets/controls",
            "_model_module_version": "1.5.0",
            "_model_name": "HTMLModel",
            "_view_count": null,
            "_view_module": "@jupyter-widgets/controls",
            "_view_module_version": "1.5.0",
            "_view_name": "HTMLView",
            "description": "",
            "description_tooltip": null,
            "layout": "IPY_MODEL_0ef9fa5e45da41e0a15dcde83a677e8d",
            "placeholder": "​",
            "style": "IPY_MODEL_951dc85e3db74f2bb36efc81ffe02b98",
            "value": "Downloading (…)solve/main/models.py: 100%"
          }
        },
        "45ef3285677a45c29e8725ef2f3ed7a1": {
          "model_module": "@jupyter-widgets/controls",
          "model_name": "FloatProgressModel",
          "model_module_version": "1.5.0",
          "state": {
            "_dom_classes": [],
            "_model_module": "@jupyter-widgets/controls",
            "_model_module_version": "1.5.0",
            "_model_name": "FloatProgressModel",
            "_view_count": null,
            "_view_module": "@jupyter-widgets/controls",
            "_view_module_version": "1.5.0",
            "_view_name": "ProgressView",
            "bar_style": "success",
            "description": "",
            "description_tooltip": null,
            "layout": "IPY_MODEL_db2a4eb6facf4cb8880aee315692e2a1",
            "max": 21133,
            "min": 0,
            "orientation": "horizontal",
            "style": "IPY_MODEL_2d594d8d01f14469880769c35c283fec",
            "value": 21133
          }
        },
        "bf704aef5a7a47268be5945952ca29e5": {
          "model_module": "@jupyter-widgets/controls",
          "model_name": "HTMLModel",
          "model_module_version": "1.5.0",
          "state": {
            "_dom_classes": [],
            "_model_module": "@jupyter-widgets/controls",
            "_model_module_version": "1.5.0",
            "_model_name": "HTMLModel",
            "_view_count": null,
            "_view_module": "@jupyter-widgets/controls",
            "_view_module_version": "1.5.0",
            "_view_name": "HTMLView",
            "description": "",
            "description_tooltip": null,
            "layout": "IPY_MODEL_9d2973ff4beb40f398ffe09ff7f144ae",
            "placeholder": "​",
            "style": "IPY_MODEL_151e56a7a22340298a7aa2668854352a",
            "value": " 21.1k/21.1k [00:00&lt;00:00, 1.26MB/s]"
          }
        },
        "6881806230104a13b8a49e3832b62304": {
          "model_module": "@jupyter-widgets/base",
          "model_name": "LayoutModel",
          "model_module_version": "1.2.0",
          "state": {
            "_model_module": "@jupyter-widgets/base",
            "_model_module_version": "1.2.0",
            "_model_name": "LayoutModel",
            "_view_count": null,
            "_view_module": "@jupyter-widgets/base",
            "_view_module_version": "1.2.0",
            "_view_name": "LayoutView",
            "align_content": null,
            "align_items": null,
            "align_self": null,
            "border": null,
            "bottom": null,
            "display": null,
            "flex": null,
            "flex_flow": null,
            "grid_area": null,
            "grid_auto_columns": null,
            "grid_auto_flow": null,
            "grid_auto_rows": null,
            "grid_column": null,
            "grid_gap": null,
            "grid_row": null,
            "grid_template_areas": null,
            "grid_template_columns": null,
            "grid_template_rows": null,
            "height": null,
            "justify_content": null,
            "justify_items": null,
            "left": null,
            "margin": null,
            "max_height": null,
            "max_width": null,
            "min_height": null,
            "min_width": null,
            "object_fit": null,
            "object_position": null,
            "order": null,
            "overflow": null,
            "overflow_x": null,
            "overflow_y": null,
            "padding": null,
            "right": null,
            "top": null,
            "visibility": null,
            "width": null
          }
        },
        "0ef9fa5e45da41e0a15dcde83a677e8d": {
          "model_module": "@jupyter-widgets/base",
          "model_name": "LayoutModel",
          "model_module_version": "1.2.0",
          "state": {
            "_model_module": "@jupyter-widgets/base",
            "_model_module_version": "1.2.0",
            "_model_name": "LayoutModel",
            "_view_count": null,
            "_view_module": "@jupyter-widgets/base",
            "_view_module_version": "1.2.0",
            "_view_name": "LayoutView",
            "align_content": null,
            "align_items": null,
            "align_self": null,
            "border": null,
            "bottom": null,
            "display": null,
            "flex": null,
            "flex_flow": null,
            "grid_area": null,
            "grid_auto_columns": null,
            "grid_auto_flow": null,
            "grid_auto_rows": null,
            "grid_column": null,
            "grid_gap": null,
            "grid_row": null,
            "grid_template_areas": null,
            "grid_template_columns": null,
            "grid_template_rows": null,
            "height": null,
            "justify_content": null,
            "justify_items": null,
            "left": null,
            "margin": null,
            "max_height": null,
            "max_width": null,
            "min_height": null,
            "min_width": null,
            "object_fit": null,
            "object_position": null,
            "order": null,
            "overflow": null,
            "overflow_x": null,
            "overflow_y": null,
            "padding": null,
            "right": null,
            "top": null,
            "visibility": null,
            "width": null
          }
        },
        "951dc85e3db74f2bb36efc81ffe02b98": {
          "model_module": "@jupyter-widgets/controls",
          "model_name": "DescriptionStyleModel",
          "model_module_version": "1.5.0",
          "state": {
            "_model_module": "@jupyter-widgets/controls",
            "_model_module_version": "1.5.0",
            "_model_name": "DescriptionStyleModel",
            "_view_count": null,
            "_view_module": "@jupyter-widgets/base",
            "_view_module_version": "1.2.0",
            "_view_name": "StyleView",
            "description_width": ""
          }
        },
        "db2a4eb6facf4cb8880aee315692e2a1": {
          "model_module": "@jupyter-widgets/base",
          "model_name": "LayoutModel",
          "model_module_version": "1.2.0",
          "state": {
            "_model_module": "@jupyter-widgets/base",
            "_model_module_version": "1.2.0",
            "_model_name": "LayoutModel",
            "_view_count": null,
            "_view_module": "@jupyter-widgets/base",
            "_view_module_version": "1.2.0",
            "_view_name": "LayoutView",
            "align_content": null,
            "align_items": null,
            "align_self": null,
            "border": null,
            "bottom": null,
            "display": null,
            "flex": null,
            "flex_flow": null,
            "grid_area": null,
            "grid_auto_columns": null,
            "grid_auto_flow": null,
            "grid_auto_rows": null,
            "grid_column": null,
            "grid_gap": null,
            "grid_row": null,
            "grid_template_areas": null,
            "grid_template_columns": null,
            "grid_template_rows": null,
            "height": null,
            "justify_content": null,
            "justify_items": null,
            "left": null,
            "margin": null,
            "max_height": null,
            "max_width": null,
            "min_height": null,
            "min_width": null,
            "object_fit": null,
            "object_position": null,
            "order": null,
            "overflow": null,
            "overflow_x": null,
            "overflow_y": null,
            "padding": null,
            "right": null,
            "top": null,
            "visibility": null,
            "width": null
          }
        },
        "2d594d8d01f14469880769c35c283fec": {
          "model_module": "@jupyter-widgets/controls",
          "model_name": "ProgressStyleModel",
          "model_module_version": "1.5.0",
          "state": {
            "_model_module": "@jupyter-widgets/controls",
            "_model_module_version": "1.5.0",
            "_model_name": "ProgressStyleModel",
            "_view_count": null,
            "_view_module": "@jupyter-widgets/base",
            "_view_module_version": "1.2.0",
            "_view_name": "StyleView",
            "bar_color": null,
            "description_width": ""
          }
        },
        "9d2973ff4beb40f398ffe09ff7f144ae": {
          "model_module": "@jupyter-widgets/base",
          "model_name": "LayoutModel",
          "model_module_version": "1.2.0",
          "state": {
            "_model_module": "@jupyter-widgets/base",
            "_model_module_version": "1.2.0",
            "_model_name": "LayoutModel",
            "_view_count": null,
            "_view_module": "@jupyter-widgets/base",
            "_view_module_version": "1.2.0",
            "_view_name": "LayoutView",
            "align_content": null,
            "align_items": null,
            "align_self": null,
            "border": null,
            "bottom": null,
            "display": null,
            "flex": null,
            "flex_flow": null,
            "grid_area": null,
            "grid_auto_columns": null,
            "grid_auto_flow": null,
            "grid_auto_rows": null,
            "grid_column": null,
            "grid_gap": null,
            "grid_row": null,
            "grid_template_areas": null,
            "grid_template_columns": null,
            "grid_template_rows": null,
            "height": null,
            "justify_content": null,
            "justify_items": null,
            "left": null,
            "margin": null,
            "max_height": null,
            "max_width": null,
            "min_height": null,
            "min_width": null,
            "object_fit": null,
            "object_position": null,
            "order": null,
            "overflow": null,
            "overflow_x": null,
            "overflow_y": null,
            "padding": null,
            "right": null,
            "top": null,
            "visibility": null,
            "width": null
          }
        },
        "151e56a7a22340298a7aa2668854352a": {
          "model_module": "@jupyter-widgets/controls",
          "model_name": "DescriptionStyleModel",
          "model_module_version": "1.5.0",
          "state": {
            "_model_module": "@jupyter-widgets/controls",
            "_model_module_version": "1.5.0",
            "_model_name": "DescriptionStyleModel",
            "_view_count": null,
            "_view_module": "@jupyter-widgets/base",
            "_view_module_version": "1.2.0",
            "_view_name": "StyleView",
            "description_width": ""
          }
        },
        "146eab314feb4447a2e27ab801d1dfe8": {
          "model_module": "@jupyter-widgets/controls",
          "model_name": "HBoxModel",
          "model_module_version": "1.5.0",
          "state": {
            "_dom_classes": [],
            "_model_module": "@jupyter-widgets/controls",
            "_model_module_version": "1.5.0",
            "_model_name": "HBoxModel",
            "_view_count": null,
            "_view_module": "@jupyter-widgets/controls",
            "_view_module_version": "1.5.0",
            "_view_name": "HBoxView",
            "box_style": "",
            "children": [
              "IPY_MODEL_49b8cf50c06249679c8ae24bd8c184bd",
              "IPY_MODEL_ecbc51cd9972405fb88917ae771511a1",
              "IPY_MODEL_3648dbce23034de6ae4ab9ae286e10c8"
            ],
            "layout": "IPY_MODEL_054cfb40746344c9a87354af7f5cf3a5"
          }
        },
        "49b8cf50c06249679c8ae24bd8c184bd": {
          "model_module": "@jupyter-widgets/controls",
          "model_name": "HTMLModel",
          "model_module_version": "1.5.0",
          "state": {
            "_dom_classes": [],
            "_model_module": "@jupyter-widgets/controls",
            "_model_module_version": "1.5.0",
            "_model_name": "HTMLModel",
            "_view_count": null,
            "_view_module": "@jupyter-widgets/controls",
            "_view_module_version": "1.5.0",
            "_view_name": "HTMLView",
            "description": "",
            "description_tooltip": null,
            "layout": "IPY_MODEL_3ced163f49a546a4a325bc3e74704cce",
            "placeholder": "​",
            "style": "IPY_MODEL_112f9304615e450f8d646d38772dcd1b",
            "value": "Downloading pytorch_model.bin: 100%"
          }
        },
        "ecbc51cd9972405fb88917ae771511a1": {
          "model_module": "@jupyter-widgets/controls",
          "model_name": "FloatProgressModel",
          "model_module_version": "1.5.0",
          "state": {
            "_dom_classes": [],
            "_model_module": "@jupyter-widgets/controls",
            "_model_module_version": "1.5.0",
            "_model_name": "FloatProgressModel",
            "_view_count": null,
            "_view_module": "@jupyter-widgets/controls",
            "_view_module_version": "1.5.0",
            "_view_name": "ProgressView",
            "bar_style": "success",
            "description": "",
            "description_tooltip": null,
            "layout": "IPY_MODEL_0dc6dae373eb4f3b98d206e12ccc2c34",
            "max": 413868149,
            "min": 0,
            "orientation": "horizontal",
            "style": "IPY_MODEL_c117337e50da42bcaebd75199ab70082",
            "value": 413868149
          }
        },
        "3648dbce23034de6ae4ab9ae286e10c8": {
          "model_module": "@jupyter-widgets/controls",
          "model_name": "HTMLModel",
          "model_module_version": "1.5.0",
          "state": {
            "_dom_classes": [],
            "_model_module": "@jupyter-widgets/controls",
            "_model_module_version": "1.5.0",
            "_model_name": "HTMLModel",
            "_view_count": null,
            "_view_module": "@jupyter-widgets/controls",
            "_view_module_version": "1.5.0",
            "_view_name": "HTMLView",
            "description": "",
            "description_tooltip": null,
            "layout": "IPY_MODEL_349871a5859142ff81fbf0fb99b5306d",
            "placeholder": "​",
            "style": "IPY_MODEL_589ab01c7a61435fb28f735183f1e952",
            "value": " 414M/414M [00:07&lt;00:00, 51.5MB/s]"
          }
        },
        "054cfb40746344c9a87354af7f5cf3a5": {
          "model_module": "@jupyter-widgets/base",
          "model_name": "LayoutModel",
          "model_module_version": "1.2.0",
          "state": {
            "_model_module": "@jupyter-widgets/base",
            "_model_module_version": "1.2.0",
            "_model_name": "LayoutModel",
            "_view_count": null,
            "_view_module": "@jupyter-widgets/base",
            "_view_module_version": "1.2.0",
            "_view_name": "LayoutView",
            "align_content": null,
            "align_items": null,
            "align_self": null,
            "border": null,
            "bottom": null,
            "display": null,
            "flex": null,
            "flex_flow": null,
            "grid_area": null,
            "grid_auto_columns": null,
            "grid_auto_flow": null,
            "grid_auto_rows": null,
            "grid_column": null,
            "grid_gap": null,
            "grid_row": null,
            "grid_template_areas": null,
            "grid_template_columns": null,
            "grid_template_rows": null,
            "height": null,
            "justify_content": null,
            "justify_items": null,
            "left": null,
            "margin": null,
            "max_height": null,
            "max_width": null,
            "min_height": null,
            "min_width": null,
            "object_fit": null,
            "object_position": null,
            "order": null,
            "overflow": null,
            "overflow_x": null,
            "overflow_y": null,
            "padding": null,
            "right": null,
            "top": null,
            "visibility": null,
            "width": null
          }
        },
        "3ced163f49a546a4a325bc3e74704cce": {
          "model_module": "@jupyter-widgets/base",
          "model_name": "LayoutModel",
          "model_module_version": "1.2.0",
          "state": {
            "_model_module": "@jupyter-widgets/base",
            "_model_module_version": "1.2.0",
            "_model_name": "LayoutModel",
            "_view_count": null,
            "_view_module": "@jupyter-widgets/base",
            "_view_module_version": "1.2.0",
            "_view_name": "LayoutView",
            "align_content": null,
            "align_items": null,
            "align_self": null,
            "border": null,
            "bottom": null,
            "display": null,
            "flex": null,
            "flex_flow": null,
            "grid_area": null,
            "grid_auto_columns": null,
            "grid_auto_flow": null,
            "grid_auto_rows": null,
            "grid_column": null,
            "grid_gap": null,
            "grid_row": null,
            "grid_template_areas": null,
            "grid_template_columns": null,
            "grid_template_rows": null,
            "height": null,
            "justify_content": null,
            "justify_items": null,
            "left": null,
            "margin": null,
            "max_height": null,
            "max_width": null,
            "min_height": null,
            "min_width": null,
            "object_fit": null,
            "object_position": null,
            "order": null,
            "overflow": null,
            "overflow_x": null,
            "overflow_y": null,
            "padding": null,
            "right": null,
            "top": null,
            "visibility": null,
            "width": null
          }
        },
        "112f9304615e450f8d646d38772dcd1b": {
          "model_module": "@jupyter-widgets/controls",
          "model_name": "DescriptionStyleModel",
          "model_module_version": "1.5.0",
          "state": {
            "_model_module": "@jupyter-widgets/controls",
            "_model_module_version": "1.5.0",
            "_model_name": "DescriptionStyleModel",
            "_view_count": null,
            "_view_module": "@jupyter-widgets/base",
            "_view_module_version": "1.2.0",
            "_view_name": "StyleView",
            "description_width": ""
          }
        },
        "0dc6dae373eb4f3b98d206e12ccc2c34": {
          "model_module": "@jupyter-widgets/base",
          "model_name": "LayoutModel",
          "model_module_version": "1.2.0",
          "state": {
            "_model_module": "@jupyter-widgets/base",
            "_model_module_version": "1.2.0",
            "_model_name": "LayoutModel",
            "_view_count": null,
            "_view_module": "@jupyter-widgets/base",
            "_view_module_version": "1.2.0",
            "_view_name": "LayoutView",
            "align_content": null,
            "align_items": null,
            "align_self": null,
            "border": null,
            "bottom": null,
            "display": null,
            "flex": null,
            "flex_flow": null,
            "grid_area": null,
            "grid_auto_columns": null,
            "grid_auto_flow": null,
            "grid_auto_rows": null,
            "grid_column": null,
            "grid_gap": null,
            "grid_row": null,
            "grid_template_areas": null,
            "grid_template_columns": null,
            "grid_template_rows": null,
            "height": null,
            "justify_content": null,
            "justify_items": null,
            "left": null,
            "margin": null,
            "max_height": null,
            "max_width": null,
            "min_height": null,
            "min_width": null,
            "object_fit": null,
            "object_position": null,
            "order": null,
            "overflow": null,
            "overflow_x": null,
            "overflow_y": null,
            "padding": null,
            "right": null,
            "top": null,
            "visibility": null,
            "width": null
          }
        },
        "c117337e50da42bcaebd75199ab70082": {
          "model_module": "@jupyter-widgets/controls",
          "model_name": "ProgressStyleModel",
          "model_module_version": "1.5.0",
          "state": {
            "_model_module": "@jupyter-widgets/controls",
            "_model_module_version": "1.5.0",
            "_model_name": "ProgressStyleModel",
            "_view_count": null,
            "_view_module": "@jupyter-widgets/base",
            "_view_module_version": "1.2.0",
            "_view_name": "StyleView",
            "bar_color": null,
            "description_width": ""
          }
        },
        "349871a5859142ff81fbf0fb99b5306d": {
          "model_module": "@jupyter-widgets/base",
          "model_name": "LayoutModel",
          "model_module_version": "1.2.0",
          "state": {
            "_model_module": "@jupyter-widgets/base",
            "_model_module_version": "1.2.0",
            "_model_name": "LayoutModel",
            "_view_count": null,
            "_view_module": "@jupyter-widgets/base",
            "_view_module_version": "1.2.0",
            "_view_name": "LayoutView",
            "align_content": null,
            "align_items": null,
            "align_self": null,
            "border": null,
            "bottom": null,
            "display": null,
            "flex": null,
            "flex_flow": null,
            "grid_area": null,
            "grid_auto_columns": null,
            "grid_auto_flow": null,
            "grid_auto_rows": null,
            "grid_column": null,
            "grid_gap": null,
            "grid_row": null,
            "grid_template_areas": null,
            "grid_template_columns": null,
            "grid_template_rows": null,
            "height": null,
            "justify_content": null,
            "justify_items": null,
            "left": null,
            "margin": null,
            "max_height": null,
            "max_width": null,
            "min_height": null,
            "min_width": null,
            "object_fit": null,
            "object_position": null,
            "order": null,
            "overflow": null,
            "overflow_x": null,
            "overflow_y": null,
            "padding": null,
            "right": null,
            "top": null,
            "visibility": null,
            "width": null
          }
        },
        "589ab01c7a61435fb28f735183f1e952": {
          "model_module": "@jupyter-widgets/controls",
          "model_name": "DescriptionStyleModel",
          "model_module_version": "1.5.0",
          "state": {
            "_model_module": "@jupyter-widgets/controls",
            "_model_module_version": "1.5.0",
            "_model_name": "DescriptionStyleModel",
            "_view_count": null,
            "_view_module": "@jupyter-widgets/base",
            "_view_module_version": "1.2.0",
            "_view_name": "StyleView",
            "description_width": ""
          }
        }
      }
    }
  },
  "nbformat": 4,
  "nbformat_minor": 0
}