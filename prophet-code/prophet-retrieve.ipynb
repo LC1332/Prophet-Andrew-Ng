{
  "cells": [
    {
      "cell_type": "markdown",
      "metadata": {
        "id": "view-in-github",
        "colab_type": "text"
      },
      "source": [
        "<a href=\"https://colab.research.google.com/github/LC1332/Prophet-Andrew-Ng/blob/main/prophet-code/prophet-retrieve.ipynb\" target=\"_parent\"><img src=\"https://colab.research.google.com/assets/colab-badge.svg\" alt=\"Open In Colab\"/></a>"
      ]
    },
    {
      "cell_type": "markdown",
      "metadata": {
        "id": "kmVT9EdX7N4U"
      },
      "source": [
        "# 骆驼先知\n",
        "\n",
        "骆驼先知是 李鲁鲁 受到吴恩达的prompt Engineering的启发\n",
        "\n",
        "制作的一个纪伯伦的《先知》的拓展版本\n",
        "\n",
        "运行这个notebook你需要OpenAI的API Token\n",
        "\n",
        "项目链接 [https://github.com/LC1332/Prophet-Andrew-Ng](https://github.com/LC1332/Prophet-Andrew-Ng)\n",
        "\n",
        "骆驼先知是[Luotuo(骆驼)](https://github.com/LC1332/Luotuo-Chinese-LLM)的子项目之一，后者由李鲁鲁，冷子昂，陈启源发起。"
      ]
    },
    {
      "cell_type": "markdown",
      "metadata": {
        "id": "a9CU9-IZe76w"
      },
      "source": [
        "## retrieve版本的说明\n",
        "\n",
        "相比于Random的版本，retrieve会根据你的query_topic\n",
        "\n",
        "使用LuotuoBERT去搜索最接近的文本，然后进行In Context的few shot Learning\n",
        "\n",
        "在colab运行时，我们建议使用GPU来进行运行。"
      ]
    },
    {
      "cell_type": "code",
      "execution_count": null,
      "metadata": {
        "id": "MfYhNtHl0UGv"
      },
      "outputs": [],
      "source": [
        "! pip install openai"
      ]
    },
    {
      "cell_type": "code",
      "execution_count": 3,
      "metadata": {
        "id": "Vl_bf8oK0UGv"
      },
      "outputs": [],
      "source": [
        "import openai\n",
        "import os\n",
        "\n",
        "# 导入第三方库\n",
        "\n",
        "openai.api_key  = 'sk-'\n",
        "# 李鲁鲁 在这里设置你的API_KEY"
      ]
    },
    {
      "cell_type": "code",
      "execution_count": 4,
      "metadata": {
        "colab": {
          "base_uri": "https://localhost:8080/"
        },
        "id": "M4AEM2gk0_sz",
        "outputId": "86cbc839-0042-4ee7-803e-fde842904c75"
      },
      "outputs": [
        {
          "output_type": "stream",
          "name": "stdout",
          "text": [
            "Cloning into 'Prophet-Andrew-Ng'...\n",
            "remote: Enumerating objects: 283, done.\u001b[K\n",
            "remote: Counting objects: 100% (94/94), done.\u001b[K\n",
            "remote: Compressing objects: 100% (76/76), done.\u001b[K\n",
            "remote: Total 283 (delta 36), reused 55 (delta 14), pack-reused 189\u001b[K\n",
            "Receiving objects: 100% (283/283), 708.15 KiB | 28.33 MiB/s, done.\n",
            "Resolving deltas: 100% (134/134), done.\n"
          ]
        }
      ],
      "source": [
        "# !rm -r -f /content/Prophet-Andrew-Ng/\n",
        "#从项目中获取数据\n",
        "!git clone https://github.com/LC1332/Prophet-Andrew-Ng"
      ]
    },
    {
      "cell_type": "markdown",
      "metadata": {
        "id": "XZUEH1Qe0UGw"
      },
      "source": [
        "## 数据读取\n",
        "\n",
        "读取prompt-data中的文本数据，作为in-context-learning的数据"
      ]
    },
    {
      "cell_type": "code",
      "execution_count": 5,
      "metadata": {
        "colab": {
          "base_uri": "https://localhost:8080/"
        },
        "id": "BaYvbBNu0UGw",
        "outputId": "f34f4ba9-2637-4df4-c795-60409b34d07a"
      },
      "outputs": [
        {
          "output_type": "stream",
          "name": "stdout",
          "text": [
            "说话 357\n",
            "罪与罚 1214\n",
            "自由 781\n",
            "悲伤与欢乐 388\n",
            "快乐 851\n",
            "买卖 410\n",
            "友谊 466\n",
            "法律 640\n",
            "宗教 582\n",
            "传授 286\n",
            "善与恶 719\n",
            "时间 335\n",
            "自知之明 309\n",
            "爱 789\n",
            "婚姻 292\n",
            "劳作 935\n",
            "理智与热情 508\n",
            "祈祷 618\n",
            "死亡 403\n",
            "施舍 874\n",
            "美 679\n",
            "衣服 256\n",
            "房舍 859\n",
            "饮食 423\n",
            "孩子 315\n",
            "痛苦 289\n"
          ]
        }
      ],
      "source": [
        "# 如果你使用本地的版本，你的路径应该为\n",
        "# prophet_data_folder = './../prophet-data'\n",
        "\n",
        "# 在这里我们考虑colab的版本\n",
        "prophet_data_folder = '/content/Prophet-Andrew-Ng/prophet-data'\n",
        "\n",
        "import os\n",
        "\n",
        "titles = []\n",
        "title_to_text = {}\n",
        "\n",
        "# scan all txt file in prophet_data_folder\n",
        "for file in os.listdir(prophet_data_folder):\n",
        "    if file.endswith('.txt'):\n",
        "        title_name = file[:-4]\n",
        "        titles.append(title_name)\n",
        "\n",
        "        with open(os.path.join(prophet_data_folder, file), 'r') as f:\n",
        "            title_to_text[title_name] = f.read()\n",
        "\n",
        "# report length of each text\n",
        "for title in titles:\n",
        "    print(title, len(title_to_text[title]))"
      ]
    },
    {
      "cell_type": "markdown",
      "metadata": {
        "id": "rHeMCmhc7J6w"
      },
      "source": [
        "我们将在后续课程中深入探究 OpenAI 提供的 ChatCompletion API 的使用方法，在此处，我们先将它封装成一个函数，你无需知道其内部机理，仅需知道调用该函数输入 Prompt 其将会给出对应的 Completion 即可。"
      ]
    },
    {
      "cell_type": "code",
      "execution_count": 6,
      "metadata": {
        "id": "0gQKsQUT7J6w"
      },
      "outputs": [],
      "source": [
        "# 一个封装 OpenAI 接口的函数，参数为 Prompt，返回对应结果\n",
        "def get_completion(prompt, model=\"gpt-3.5-turbo\"):\n",
        "    '''\n",
        "    prompt: 对应的提示\n",
        "    model: 调用的模型，默认为 gpt-3.5-turbo(ChatGPT)，有内测资格的用户可以选择 gpt-4\n",
        "    '''\n",
        "    messages = [{\"role\": \"user\", \"content\": prompt}]\n",
        "    response = openai.ChatCompletion.create(\n",
        "        model=model,\n",
        "        messages=messages,\n",
        "        temperature=0, # 模型输出的温度系数，控制输出的随机程度\n",
        "    )\n",
        "    # 调用 OpenAI 的 ChatCompletion 接口\n",
        "    return response.choices[0].message[\"content\"]\n"
      ]
    },
    {
      "cell_type": "markdown",
      "metadata": {
        "id": "yrYnOGYB0UGx"
      },
      "source": [
        "在这里我们先假设一个query的主题 \"时间\""
      ]
    },
    {
      "cell_type": "code",
      "execution_count": 7,
      "metadata": {
        "id": "_NJoXPn00UGy"
      },
      "outputs": [],
      "source": [
        "query_topic = \"时间\""
      ]
    },
    {
      "cell_type": "markdown",
      "metadata": {
        "id": "1k18RVHU0UGy"
      },
      "source": [
        "定义先知和市民的身份，这里是为了方便后面的泛化"
      ]
    },
    {
      "cell_type": "code",
      "execution_count": 8,
      "metadata": {
        "id": "Y6fWF7rE0UGy"
      },
      "outputs": [],
      "source": [
        "prophet_name = \"先知\"\n",
        "\n",
        "citizen_name = \"市民\""
      ]
    },
    {
      "cell_type": "markdown",
      "metadata": {
        "id": "p1fFNJV40UGy"
      },
      "source": [
        "形成一个shot的句子输出"
      ]
    },
    {
      "cell_type": "code",
      "execution_count": 9,
      "metadata": {
        "colab": {
          "base_uri": "https://localhost:8080/"
        },
        "id": "rmlWCxMI0UGy",
        "outputId": "b92f96b7-414a-429b-b8db-1f51d9e5d8cd"
      },
      "outputs": [
        {
          "output_type": "stream",
          "name": "stdout",
          "text": [
            "<市民>:```请和我们讨论一下\"衣服\"```\n",
            "\n",
            "<先知>:```你们的衣服遮掩了你们许多的美，却不能遮盖住丑。\n",
            "尽管你们借衣服寻求隐私的自由，但你们找到的却是羁绊和束缚。```\n",
            "\n",
            "\n"
          ]
        }
      ],
      "source": [
        "# 实现一个Python函数 ensemble_one_shot ，输入为prophet_name, citizen_name, sample_topic，sample_answer， 输出为一个组织好的字符串\n",
        "# 例子输入: 先知, 市民, 衣服， \"你们的衣服遮掩了你们许多的美，却不能遮盖住丑。 \\n 尽管你们借衣服寻求隐私的自由，但你们找到的却是羁绊和束缚。\"\n",
        "# 例子输出: \"\"\"\n",
        "# <市民>:请和我们讨论一下\"衣服\"\n",
        "\n",
        "# <先知>: 你们的衣服遮掩了你们许多的美，却不能遮盖住丑。\n",
        "# 尽管你们借衣服寻求隐私的自由，但你们找到的却是羁绊和束缚。\n",
        "# \"\"\"\n",
        "def ensemble_one_shot(prophet_name, citizen_name, sample_topic, sample_answer):\n",
        "    # 组织对话文本\n",
        "    dialogue = \"<{}>:```请和我们讨论一下\\\"{}\\\"```\\n\\n<{}>:```{}```\\n\\n\".format(citizen_name, sample_topic, prophet_name, sample_answer)\n",
        "    return dialogue\n",
        "\n",
        "# unit test for ensemble_one_shot\n",
        "prophet_name = \"先知\"\n",
        "citizen_name = \"市民\"\n",
        "sample_topic = \"衣服\"\n",
        "sample_answer = \"你们的衣服遮掩了你们许多的美，却不能遮盖住丑。\\n尽管你们借衣服寻求隐私的自由，但你们找到的却是羁绊和束缚。\"\n",
        "\n",
        "dialogue = ensemble_one_shot(prophet_name, citizen_name, sample_topic, sample_answer)\n",
        "print(dialogue)"
      ]
    },
    {
      "cell_type": "markdown",
      "metadata": {
        "id": "9g33B4zm0UGz"
      },
      "source": [
        "下面我们来组织完整的prompt，我们假设已经选取了两个主题作为例子 孩子和爱"
      ]
    },
    {
      "cell_type": "code",
      "execution_count": 10,
      "metadata": {
        "id": "jGPqtBFd0UGz"
      },
      "outputs": [],
      "source": [
        "selected_sample = [\"孩子\",\"爱\"]\n",
        "\n",
        "def organize_prompt( query_topic, selected_sample ):\n",
        "    prompt = \"\"\"你的任务是以纪伯伦中《先知》的语言风格回答问题。\\\n",
        "    先知会使用大量的比喻修辞手法。感情色彩浓厚，富有感染力和感召力，具有启迪性和哲理性。\\\n",
        "    语言风格简洁明了，比喻和象征性的意象丰富多彩，既充满了哲理性和哲学深度，又富有感人肺腑的情感色彩。\\n\\n\"\"\"\n",
        "    \n",
        "    for sample_topic in selected_sample:\n",
        "        # find sample_answer in dictionary\n",
        "        sample_answer = title_to_text[sample_topic]\n",
        "        prompt += ensemble_one_shot(prophet_name, citizen_name, sample_topic, sample_answer)\n",
        "\n",
        "    prompt += \"\"\"<{}>:```请和我们讨论一下\"{}\"```\\n\\n\"\"\".format(citizen_name, query_topic)\n",
        "\n",
        "    return prompt\n",
        "\n",
        "# write a unit test for organize_prompt\n",
        "# query_topic = \"时间\"\n",
        "# selected_sample = [\"孩子\",\"爱\"]\n",
        "# prompt = organize_prompt( query_topic, selected_sample )\n",
        "# print(prompt)"
      ]
    },
    {
      "cell_type": "markdown",
      "metadata": {
        "id": "jywQStAp0UGz"
      },
      "source": []
    },
    {
      "cell_type": "markdown",
      "metadata": {
        "id": "DAcCYGD30UGz"
      },
      "source": [
        "在第一个版本中，我们selected_sample先使用随机的策略\n",
        "\n",
        "在后面的版本中我准备引入LuotuoBERT 去选取更接近主题的问题"
      ]
    },
    {
      "cell_type": "code",
      "execution_count": 11,
      "metadata": {
        "colab": {
          "base_uri": "https://localhost:8080/"
        },
        "id": "GeyxIbvw0UGz",
        "outputId": "e2004b3f-830f-40e5-a195-9a6116626217"
      },
      "outputs": [
        {
          "output_type": "stream",
          "name": "stdout",
          "text": [
            "['劳作', '善与恶']\n"
          ]
        }
      ],
      "source": [
        "import random\n",
        "\n",
        "# def function random_select_title, random pick k sample from titles\n",
        "def random_select_title(titles, k):\n",
        "    return random.sample(titles, k)\n",
        "\n",
        "# unit test for random_select_title\n",
        "selected_sample = random_select_title(titles, 2)\n",
        "print(selected_sample)"
      ]
    },
    {
      "cell_type": "markdown",
      "metadata": {
        "id": "MVScMxjqe761"
      },
      "source": [
        "## 升级randome_select到retrieve topics\n",
        "\n",
        "这里我们开始引入LuotuoBERT，相应的项目见 [骆驼嵌入](https://github.com/LC1332/Luotuo-Text-Embedding)\n",
        "\n",
        "我们需要先安装hugging face的代码库"
      ]
    },
    {
      "cell_type": "code",
      "execution_count": null,
      "metadata": {
        "id": "NxRM1Z8se761"
      },
      "outputs": [],
      "source": [
        "!pip install transformers"
      ]
    },
    {
      "cell_type": "markdown",
      "metadata": {
        "id": "xsqWXL84e761"
      },
      "source": [
        "然后从hugging face上，载入对应的模型"
      ]
    },
    {
      "cell_type": "code",
      "execution_count": 13,
      "metadata": {
        "colab": {
          "base_uri": "https://localhost:8080/",
          "height": 278,
          "referenced_widgets": [
            "af2fccebb5524618a3e46a37aa3af6b4",
            "4a3cde447b134f008ddf4e088b58cf4d",
            "e87dec6df46e4e73afd0842ed4711a66",
            "135cd5b1722e4a6f9dbcd94631bd21be",
            "bf6b44bd81a744b6bbe388af4622f15e",
            "b8327359c64d4a5cbc189085713f2e03",
            "65f8df8128b0444eb732d6b7a417cefd",
            "9affae71125641a6b6370f3923e1a82c",
            "4ff7958c303d48a3880f424c96de6ec0",
            "b9cef188a5ac4db49ccbc9f0f6353358",
            "e9a084ea97b0468dacdecae87a2a666e",
            "cc72082c65524ecb90e9253708858079",
            "46adcd1cb99040478ce49215c2b5c464",
            "fa4278dff524482ba7ca168ccf9ea5bf",
            "5c534afabfb84b0dbb5c3301cab84877",
            "3b7ccb2c81714f08921b23b8539b7957",
            "03949146945b441081782d618a2a9b73",
            "b1e3f12a62cb40d5b8eb4e679bb480a3",
            "884851ab2efa4dfab03b13c08c4bcf06",
            "a67e786434d1422e990c86c72d2a7103",
            "67a8440a8e334e0b96dc5de691b2b6c7",
            "752fabca1bf8419ea1c34e2e5e8c05b0",
            "c451de38486b4c21b9c6d400e35d2c81",
            "d4e5d08185b14102ba253d19b3ca8b12",
            "d6d96fd047804eee82d68c8fba6d9f95",
            "b37a68c252c34a7eab6bf8da92c7c838",
            "087ef1c00523404885cad6b94edd9aa1",
            "41af9a8bb3a14ddcb93a006a8d036e32",
            "c581b105e3fa483682f1b6ce075aaed4",
            "5121bda0d5424403a9de38df693e354c",
            "658233159b074e66a201f0926fc0dd1c",
            "a13803dcb7bc45628defb60a0376e467",
            "a24605b989cf4d7796b8c34369844ad8",
            "701d27bbe5e8400b8a33d815425879ca",
            "decc1f788269482881088d7f5734f218",
            "e45dc229ace5447db8b8dcdc577dde4d",
            "67025f281ade450a90903c8f8ee74f29",
            "a7ddbb5a07d94402ba6aa3661a984c2a",
            "b3fb7fda70414f7d9a66d465b23a5255",
            "fc4b66d2f2564c20828885667d3350aa",
            "cb796732f7ad4fe98db5634022bba6f1",
            "76eedf4437334d829bac6ecb3d0eedb1",
            "4e32686b2ede4b17b3cae81d654489cf",
            "c5016db566e1441c89cfd6f7689fcd4c",
            "2fe3040a9dc24a5da9c8bf78ff064405",
            "2775b92e49424a97a14692516a79f4ed",
            "78aa613ecb284b69a55c8fb83e5f2a08",
            "bb3a33e98e364d1880a347f639eaae2f",
            "a801b49e56484a978e55172e8429a913",
            "42a8463c3a0c4b788ce6483de335d491",
            "fa905bd3cae540748491704c3370d8a7",
            "b1eb791e6edf46fd8591b59d785cdab4",
            "33e54238834d4d8e86785b8b69e23b4b",
            "a2657ef02b474d36941204647f341137",
            "f90442d0021640acb0f97eb7cd962c92",
            "024387ef5ed747cc940da4c1debcd6fd",
            "a9537ca861e54b999642e1f93c3690ae",
            "7ecb5f66fc204ed5a5f93b185f28b50c",
            "b42bc54d51444de28d84045dac637a12",
            "c9e18f6ab250402a8acc26f9c7259c0c",
            "50ea0344b7fd49b3b30a28e2360d802b",
            "30c7aa427bdb4e07b0b574060baee711",
            "5e43385f695540fb8fc8137371d7cde5",
            "9f1d07a19761417eb6f095db93ae9c15",
            "eccfad012a9e4f15a63d33c2643b018a",
            "47f9b706a5964fbe953e4f7cd01d4891",
            "d4f83673b43b4012989974d7484a75d0",
            "5fe1da6873f7416cae62c5bfb20d95ef",
            "0f0b95d2f1b642f19717a3c72b863278",
            "5a90bf64abdc452080de7ce2f77c521e",
            "f48ace51b62c4f67beb702268eda5568",
            "d9ffa009e9c54b4fa7e415c97721702f",
            "331b07d088bc46f1ad037ad5edd3137a",
            "f84090b919f842b1a555e0719452def3",
            "3db9f89a8ae4468a813c005364670d77",
            "22b572393b344a008059634ccf353ac7",
            "987dd049250344e5a8b40d1ff718732e"
          ]
        },
        "id": "9x7ZSp4Ve762",
        "outputId": "aa1e7081-07b6-4547-b6e8-73ab9e9f5837"
      },
      "outputs": [
        {
          "output_type": "display_data",
          "data": {
            "text/plain": [
              "Downloading (…)okenizer_config.json:   0%|          | 0.00/539 [00:00<?, ?B/s]"
            ],
            "application/vnd.jupyter.widget-view+json": {
              "version_major": 2,
              "version_minor": 0,
              "model_id": "af2fccebb5524618a3e46a37aa3af6b4"
            }
          },
          "metadata": {}
        },
        {
          "output_type": "display_data",
          "data": {
            "text/plain": [
              "Downloading (…)solve/main/vocab.txt:   0%|          | 0.00/110k [00:00<?, ?B/s]"
            ],
            "application/vnd.jupyter.widget-view+json": {
              "version_major": 2,
              "version_minor": 0,
              "model_id": "cc72082c65524ecb90e9253708858079"
            }
          },
          "metadata": {}
        },
        {
          "output_type": "display_data",
          "data": {
            "text/plain": [
              "Downloading (…)/main/tokenizer.json:   0%|          | 0.00/439k [00:00<?, ?B/s]"
            ],
            "application/vnd.jupyter.widget-view+json": {
              "version_major": 2,
              "version_minor": 0,
              "model_id": "c451de38486b4c21b9c6d400e35d2c81"
            }
          },
          "metadata": {}
        },
        {
          "output_type": "display_data",
          "data": {
            "text/plain": [
              "Downloading (…)cial_tokens_map.json:   0%|          | 0.00/125 [00:00<?, ?B/s]"
            ],
            "application/vnd.jupyter.widget-view+json": {
              "version_major": 2,
              "version_minor": 0,
              "model_id": "701d27bbe5e8400b8a33d815425879ca"
            }
          },
          "metadata": {}
        },
        {
          "output_type": "display_data",
          "data": {
            "text/plain": [
              "Downloading (…)lve/main/config.json:   0%|          | 0.00/966 [00:00<?, ?B/s]"
            ],
            "application/vnd.jupyter.widget-view+json": {
              "version_major": 2,
              "version_minor": 0,
              "model_id": "2fe3040a9dc24a5da9c8bf78ff064405"
            }
          },
          "metadata": {}
        },
        {
          "output_type": "stream",
          "name": "stderr",
          "text": [
            "Explicitly passing a `revision` is encouraged when loading a model with custom code to ensure no malicious code has been contributed in a newer revision.\n"
          ]
        },
        {
          "output_type": "display_data",
          "data": {
            "text/plain": [
              "Downloading (…)solve/main/models.py:   0%|          | 0.00/21.1k [00:00<?, ?B/s]"
            ],
            "application/vnd.jupyter.widget-view+json": {
              "version_major": 2,
              "version_minor": 0,
              "model_id": "024387ef5ed747cc940da4c1debcd6fd"
            }
          },
          "metadata": {}
        },
        {
          "output_type": "display_data",
          "data": {
            "text/plain": [
              "Downloading pytorch_model.bin:   0%|          | 0.00/414M [00:00<?, ?B/s]"
            ],
            "application/vnd.jupyter.widget-view+json": {
              "version_major": 2,
              "version_minor": 0,
              "model_id": "d4f83673b43b4012989974d7484a75d0"
            }
          },
          "metadata": {}
        }
      ],
      "source": [
        "import torch\n",
        "from scipy.spatial.distance import cosine\n",
        "from transformers import AutoModel, AutoTokenizer\n",
        "from argparse import Namespace\n",
        "# Import our models. The package will take care of downloading the models automatically\n",
        "tokenizer = AutoTokenizer.from_pretrained(\"silk-road/luotuo-bert\")\n",
        "model_args = Namespace(do_mlm=None, pooler_type=\"cls\", temp=0.05, mlp_only_train=False, init_embeddings_model=None)\n",
        "model = AutoModel.from_pretrained(\"silk-road/luotuo-bert\", trust_remote_code=True, model_args=model_args)"
      ]
    },
    {
      "cell_type": "markdown",
      "metadata": {
        "id": "39OdjFOce762"
      },
      "source": [
        "编写embedding函数"
      ]
    },
    {
      "cell_type": "code",
      "execution_count": 14,
      "metadata": {
        "id": "eWBR7Yove762"
      },
      "outputs": [],
      "source": [
        "def get_embedding(text):\n",
        "    if len(text) > 512:\n",
        "        text = text[:512]\n",
        "    texts = [text]\n",
        "    # Tokenize the text\n",
        "    inputs = tokenizer(texts, padding=True, truncation=True, return_tensors=\"pt\")\n",
        "    # Extract the embeddings\n",
        "    # Get the embeddings\n",
        "    with torch.no_grad():\n",
        "        embeddings = model(**inputs, output_hidden_states=True, return_dict=True, sent_emb=True).pooler_output\n",
        "\n",
        "    return embeddings[0]"
      ]
    },
    {
      "cell_type": "markdown",
      "metadata": {
        "id": "7dkslmjWe762"
      },
      "source": [
        "存储两个list，embeddings和embed_to_title, 记录title和text到embedding"
      ]
    },
    {
      "cell_type": "code",
      "execution_count": 15,
      "metadata": {
        "colab": {
          "base_uri": "https://localhost:8080/"
        },
        "id": "W-xoBce_e762",
        "outputId": "082fbaa2-908c-4715-dbbf-33f92b037012"
      },
      "outputs": [
        {
          "output_type": "stream",
          "name": "stderr",
          "text": [
            "Asking to truncate to max_length but no maximum length is provided and the model has no predefined maximum length. Default to no truncation.\n"
          ]
        }
      ],
      "source": [
        "embeddings = []\n",
        "embed_to_title = []\n",
        "\n",
        "for title in titles:\n",
        "    text = title_to_text[title]\n",
        "\n",
        "    # divide text with \\n\\n\n",
        "    divided_texts = text.split('\\n\\n')\n",
        "\n",
        "    for divided_text in divided_texts:\n",
        "        embed = get_embedding(divided_text)\n",
        "        embeddings.append(embed)\n",
        "        embed_to_title.append(title)\n",
        "    \n",
        "    embed_title = get_embedding(title)\n",
        "    embeddings.append( embed )\n",
        "    embed_to_title.append(title)"
      ]
    },
    {
      "cell_type": "markdown",
      "metadata": {
        "id": "CylRiJvQe762"
      },
      "source": [
        "定义similarity函数"
      ]
    },
    {
      "cell_type": "code",
      "execution_count": 16,
      "metadata": {
        "id": "cVyLvmFfe762"
      },
      "outputs": [],
      "source": [
        "def get_cosine_similarity( embed1 , embed2 ):\n",
        "    return torch.nn.functional.cosine_similarity( embed1, embed2 , dim=0)"
      ]
    },
    {
      "cell_type": "markdown",
      "metadata": {
        "id": "Ti7cIG3oe763"
      },
      "source": [
        "实现搜索函数"
      ]
    },
    {
      "cell_type": "code",
      "execution_count": 17,
      "metadata": {
        "id": "BfDS5Xxve763"
      },
      "outputs": [],
      "source": [
        "query_embed = get_embedding(query_topic)\n",
        "\n",
        "# implement retrieve_title function, return top k titles\n",
        "def retrieve_title( query_embed, embeddings, embed_to_title, k ):\n",
        "    # compute cosine similarity between query_embed and embeddings\n",
        "    cosine_similarities = []\n",
        "    for embed in embeddings:\n",
        "        cosine_similarities.append( get_cosine_similarity( query_embed, embed ) )\n",
        "    \n",
        "    # sort cosine similarity\n",
        "    sorted_cosine_similarities = sorted( cosine_similarities, reverse=True )\n",
        "\n",
        "    top_k_index = []\n",
        "    top_k_title = []\n",
        "\n",
        "    for i in range(len(sorted_cosine_similarities)):\n",
        "        current_title = embed_to_title[ cosine_similarities.index( sorted_cosine_similarities[i] ) ]\n",
        "        if current_title not in top_k_title:\n",
        "            top_k_title.append( current_title )\n",
        "            top_k_index.append( cosine_similarities.index( sorted_cosine_similarities[i] ) )\n",
        "\n",
        "        if len(top_k_title) == k:\n",
        "            break\n",
        "    \n",
        "    return top_k_title"
      ]
    },
    {
      "cell_type": "markdown",
      "source": [
        "集成所有的代码！"
      ],
      "metadata": {
        "id": "7tPqMOhahERn"
      }
    },
    {
      "cell_type": "code",
      "source": [
        "query_topic = \"代码开源\"\n",
        "query_embed = get_embedding(query_topic)\n",
        "selected_sample = retrieve_title( query_embed, embeddings, embed_to_title, 2 )\n",
        "print('辅助sample:', selected_sample)\n",
        "prompt = organize_prompt( query_topic, selected_sample )\n",
        "response = get_completion(prompt)\n",
        "print(response)"
      ],
      "metadata": {
        "id": "hCsmzGr5wLWc",
        "outputId": "5b0a210e-0071-4680-942e-71ec3ee20700",
        "colab": {
          "base_uri": "https://localhost:8080/"
        }
      },
      "execution_count": 24,
      "outputs": [
        {
          "output_type": "stream",
          "name": "stdout",
          "text": [
            "辅助sample: ['房舍', '爱']\n",
            "<先知>:```代码开源，就像是把你的房舍敞开大门，让所有人都可以进来参观。\n",
            "这是一种慷慨的行为，也是一种信任。\n",
            "开源代码可以让更多的人参与到软件开发中来，共同完善和改进软件。\n",
            "这是一种开放的态度，也是一种合作的精神。\n",
            "开源代码可以促进技术的进步和创新，让更多的人受益。\n",
            "这是一种贡献，也是一种回馈社会的方式。\n",
            "\n",
            "但是，开源代码也需要注意保护知识产权和个人隐私。\n",
            "开源并不意味着放弃所有权和控制权，需要在开源的基础上建立合理的管理和监督机制。\n",
            "同时，开源也需要遵守法律法规和道德规范，不能侵犯他人的权益和利益。\n",
            "\n",
            "总之，代码开源是一种积极的行为，可以促进技术的发展和社会的进步。\n",
            "但是，需要在开源的基础上建立合理的管理和监督机制，保护知识产权和个人隐私，遵守法律法规和道德规范。```\n"
          ]
        }
      ]
    },
    {
      "cell_type": "code",
      "source": [
        "query_topic = \"志愿者\"\n",
        "query_embed = get_embedding(query_topic)\n",
        "selected_sample = retrieve_title( query_embed, embeddings, embed_to_title, 2 )\n",
        "print('辅助sample:', selected_sample)\n",
        "prompt = organize_prompt( query_topic, selected_sample )\n",
        "response = get_completion(prompt)\n",
        "print(response)"
      ],
      "metadata": {
        "id": "dYoV8ZAbwQnd",
        "outputId": "5ea99515-1f67-43fb-eb99-dfb24ee73d59",
        "colab": {
          "base_uri": "https://localhost:8080/"
        }
      },
      "execution_count": 25,
      "outputs": [
        {
          "output_type": "stream",
          "name": "stdout",
          "text": [
            "辅助sample: ['施舍', '快乐']\n",
            "<先知>:```志愿者是一群无私奉献的人，他们用自己的时间和精力去帮助那些需要帮助的人。\n",
            "他们不求回报，只是出于内心的善良和同情心，去关心和照顾那些被社会遗弃的人。\n",
            "志愿者是一种美德，是一种对人类的贡献，是一种对社会的回馈。\n",
            "他们的行为不仅仅是为了帮助别人，更是为了让自己的灵魂得到净化和升华。\n",
            "\n",
            "志愿者的行为是一种爱的表现，是一种对人类的关爱和关注。\n",
            "他们用自己的行动去传递爱和温暖，让那些需要帮助的人感受到社会的温情和关怀。\n",
            "志愿者的行为不仅仅是为了解决问题，更是为了让那些被遗忘的人重新获得尊严和自信。\n",
            "\n",
            "志愿者的行为是一种责任，是一种对社会的承诺和回报。\n",
            "他们用自己的行动去改变社会，让社会变得更加美好和和谐。\n",
            "志愿者的行为不仅仅是为了自己，更是为了让整个社会变得更加美好和幸福。\n",
            "\n",
            "志愿者的行为是一种信仰，是一种对人类未来的信心和希望。\n",
            "他们用自己的行动去创造未来，让未来变得更加美好和光明。\n",
            "志愿者的行为不仅仅是为了当下，更是为了让未来的世界变得更加美好和有希望。\n",
            "\n",
            "志愿者是一群伟大的人，他们用自己的行动去改变世界，让世界变得更加美好和幸福。\n",
            "让我们向志愿者致敬，感谢他们的无私奉献和付出。```\n"
          ]
        }
      ]
    },
    {
      "cell_type": "code",
      "source": [
        "query_topic = \"童年\"\n",
        "query_embed = get_embedding(query_topic)\n",
        "selected_sample = retrieve_title( query_embed, embeddings, embed_to_title, 2 )\n",
        "print('辅助sample:', selected_sample)\n",
        "prompt = organize_prompt( query_topic, selected_sample )\n",
        "response = get_completion(prompt)\n",
        "print(response)"
      ],
      "metadata": {
        "id": "ZsXiPVq-uUCd",
        "outputId": "dfce6209-42cc-4051-a708-572813bc1f8f",
        "colab": {
          "base_uri": "https://localhost:8080/"
        }
      },
      "execution_count": 18,
      "outputs": [
        {
          "output_type": "stream",
          "name": "stdout",
          "text": [
            "辅助sample: ['房舍', '时间']\n",
            "<先知>:```童年是一段神圣而美好的时光，是我们生命中最珍贵的财富之一。\n",
            "在童年时期，我们的心灵是纯净的，没有被世俗的杂念所污染，我们可以自由地探索和发现世界。\n",
            "童年是一个充满奇迹和想象力的时期，我们可以想象自己是超级英雄、魔法师或者探险家，我们可以在游戏中学习和成长。\n",
            "童年也是一个充满爱和关怀的时期，我们可以感受到家人和朋友的温暖和关爱，这些爱和关怀会伴随我们一生。\n",
            "但是，童年也可能是一个充满挑战和困难的时期，我们可能会遭受欺凌、孤独和失落，但这些经历也会让我们更加坚强和勇敢。\n",
            "无论童年是美好还是艰难，它都是我们成长的重要阶段，它塑造了我们的性格和价值观，影响了我们的一生。\n",
            "所以，珍惜童年，让我们的内心永远保持纯净和善良，让我们的想象力和创造力永远不断，让我们的爱和关怀永远传递下去。```\n"
          ]
        }
      ]
    },
    {
      "cell_type": "code",
      "source": [
        "query_topic = \"离婚\"\n",
        "query_embed = get_embedding(query_topic)\n",
        "selected_sample = retrieve_title( query_embed, embeddings, embed_to_title, 2 )\n",
        "print('辅助sample:', selected_sample)\n",
        "prompt = organize_prompt( query_topic, selected_sample )\n",
        "response = get_completion(prompt)\n",
        "print(response)"
      ],
      "metadata": {
        "colab": {
          "base_uri": "https://localhost:8080/"
        },
        "id": "5x6rYt8KgbDo",
        "outputId": "34d1b2bf-01f2-41b6-ea9d-58d06b698bda"
      },
      "execution_count": 25,
      "outputs": [
        {
          "output_type": "stream",
          "name": "stdout",
          "text": [
            "辅助sample: ['自由', '婚姻']\n",
            "<先知>:```离婚，就像是把一朵盛开的花摘下来，让它的花瓣逐渐凋零。\n",
            "但是，有时候，离婚也是必要的，就像是把一朵枯萎的花摘下来，让它的根可以重新生长。\n",
            "\n",
            "离婚并不是失败，而是一种成长。\n",
            "它让我们学会了放手，学会了面对现实，学会了重新开始。\n",
            "离婚并不是结束，而是一种新的开始。\n",
            "它让我们有机会重新认识自己，重新找到自己的方向，重新追求自己的梦想。\n",
            "\n",
            "但是，离婚也是一种痛苦。\n",
            "它让我们失去了曾经的伴侣，失去了曾经的承诺，失去了曾经的美好。\n",
            "但是，我们必须学会面对这种痛苦，学会从中成长，学会重新开始。\n",
            "\n",
            "离婚并不是一种罪过，而是一种选择。\n",
            "它让我们有机会重新选择自己的生活，重新选择自己的幸福，重新选择自己的未来。\n",
            "但是，我们必须学会承担这种选择的后果，学会面对这种选择的挑战，学会重新建立自己的生活。\n",
            "\n",
            "所以，无论你选择离婚还是继续婚姻，都要学会面对现实，学会放手，学会成长，学会重新开始。```\n"
          ]
        }
      ]
    },
    {
      "cell_type": "code",
      "source": [
        "query_topic = \"加班\"\n",
        "query_embed = get_embedding(query_topic)\n",
        "selected_sample = retrieve_title( query_embed, embeddings, embed_to_title, 2 )\n",
        "print('辅助sample:', selected_sample)\n",
        "prompt = organize_prompt( query_topic, selected_sample )\n",
        "response = get_completion(prompt)\n",
        "print(response)"
      ],
      "metadata": {
        "colab": {
          "base_uri": "https://localhost:8080/"
        },
        "id": "gqEpERCIlFpS",
        "outputId": "08cfda8f-7f8b-4b2a-ad0c-646f8a8a515e"
      },
      "execution_count": 26,
      "outputs": [
        {
          "output_type": "stream",
          "name": "stdout",
          "text": [
            "辅助sample: ['劳作', '爱']\n",
            "<先知>:```加班，是一种对生命的挑战和对自我价值的肯定。\n",
            "在加班的时候，你们不仅仅是在为自己的生活奋斗，更是在为整个社会的发展做出贡献。\n",
            "加班并不是一种苦役，而是一种自我超越的过程，是一种对自己能力的挑战和提升。\n",
            "在加班的时候，你们要保持一颗平静的心，不要被疲劳和压力所压垮，要坚定自己的信念和目标，不断前行。\n",
            "\n",
            "加班并不是一种无休止的追求，而是要有一个明确的目标和计划，要合理安排时间和任务，不要让自己陷入无尽的忙碌中。\n",
            "在加班的时候，你们要保持身心健康，要注意休息和调节，不要让自己过度疲劳和身心俱疲。\n",
            "加班是一种对自己和他人的责任和担当，是一种对生命的尊重和珍视。\n",
            "\n",
            "在加班的时候，你们要保持一颗感恩的心，感恩自己的能力和机会，感恩他人的支持和帮助，感恩生命的赐予和珍贵。\n",
            "加班是一种对自己和他人的奉献和付出，是一种对社会和人类的贡献和回报。\n",
            "\n",
            "在加班的时候，你们要保持一颗善良的心，不要因为工作的繁忙而忽略了他人的需要和感受，要关心和关爱身边的人，让他们感受到你们的温暖和关怀。\n",
            "加班是一种对自己和他人的成长和进步，是一种对生命的赞美和颂扬。\n",
            "\n",
            "在加班的时候，你们要保持一颗虔诚的心，不要忘记自己的信仰和信念，要相信自己和上帝的力量和祝福，让自己的加班成为一种对上帝的敬畏和感恩。\n",
            "加班是一种对自己和上帝的奉献和敬畏，是一种对生命的敬重和崇高。```\n"
          ]
        }
      ]
    },
    {
      "cell_type": "code",
      "source": [
        "query_topic = \"买房还是租房\"\n",
        "query_embed = get_embedding(query_topic)\n",
        "selected_sample = retrieve_title( query_embed, embeddings, embed_to_title, 2 )\n",
        "print('辅助sample:', selected_sample)\n",
        "prompt = organize_prompt( query_topic, selected_sample )\n",
        "response = get_completion(prompt)\n",
        "print(response)"
      ],
      "metadata": {
        "colab": {
          "base_uri": "https://localhost:8080/"
        },
        "id": "2ojR0SNaXHao",
        "outputId": "a8349e36-0bb1-43ce-806b-0792d5c647ab"
      },
      "execution_count": 17,
      "outputs": [
        {
          "output_type": "stream",
          "name": "stdout",
          "text": [
            "辅助sample: ['房舍', '悲伤与欢乐']\n",
            "<先知>:```你们问我买房还是租房，我要问你们，你们是否真正拥有房子？\n",
            "房子不仅是一种物质财富，更是一种精神财富。\n",
            "如果你们只是为了拥有物质而买房，那么你们并没有真正拥有它。\n",
            "房子是一种家的象征，是你们的灵魂的栖息之所。\n",
            "如果你们只是为了暂时的居住而租房，那么你们也没有真正拥有它。\n",
            "租房只是暂时的过渡，没有真正的归属感和安全感。\n",
            "\n",
            "但是，你们也不必过于执着于拥有房子。\n",
            "房子只是一种物质，它并不能带来真正的幸福和满足。\n",
            "如果你们过于执着于拥有房子，可能会失去更重要的东西，比如人际关系、精神世界和内心的平静。\n",
            "\n",
            "所以，我要告诉你们，买房还是租房并不是最重要的问题。\n",
            "最重要的是你们是否能够在自己的心中找到真正的家，找到真正的归属感和安全感。\n",
            "只有这样，你们才能真正拥有房子，无论是买还是租。```\n"
          ]
        }
      ]
    },
    {
      "cell_type": "code",
      "source": [
        "query_topic = \"读博还是直接工作\"\n",
        "query_embed = get_embedding(query_topic)\n",
        "selected_sample = retrieve_title( query_embed, embeddings, embed_to_title, 2 )\n",
        "print('辅助sample:', selected_sample)\n",
        "prompt = organize_prompt( query_topic, selected_sample )\n",
        "response = get_completion(prompt)\n",
        "print(response)"
      ],
      "metadata": {
        "id": "c5WSR5Ryufa1",
        "outputId": "b1112897-7dbc-41bc-98e5-f45fccaf2b14",
        "colab": {
          "base_uri": "https://localhost:8080/"
        }
      },
      "execution_count": 19,
      "outputs": [
        {
          "output_type": "stream",
          "name": "stdout",
          "text": [
            "辅助sample: ['劳作', '快乐']\n",
            "<先知>:```读博或直接工作，都是人生中的一种选择。\n",
            "但是，无论你选择哪种方式，都需要付出努力和劳作。\n",
            "读博需要花费更多的时间和精力，但也能够获得更深入的知识和更广阔的视野。\n",
            "直接工作则能够更快地获得实践经验和收入，但也需要不断学习和提升自己的能力。\n",
            "\n",
            "然而，无论你选择哪种方式，都需要明确自己的目标和价值观。\n",
            "你需要问自己，你想要成为什么样的人，你想要为什么事业而努力。\n",
            "只有明确了自己的目标和价值观，才能够在选择读博或直接工作时做出正确的决策。\n",
            "\n",
            "同时，你也需要明白，人生的道路并不是一成不变的。\n",
            "你可以选择读博，但在读博的过程中，你也可以选择转行或者创业。\n",
            "同样，你可以选择直接工作，但在工作的过程中，你也可以选择继续深造或者转换领域。\n",
            "\n",
            "最重要的是，无论你选择哪种方式，都需要满怀热情地去劳作。\n",
            "只有用心去劳作，才能够实现自己的梦想和价值。\n",
            "正如我所说的，“劳作是眼能看见的爱”，只有用心去劳作，才能够获得真正的快乐和满足。```\n"
          ]
        }
      ]
    },
    {
      "cell_type": "code",
      "source": [
        "query_topic = \"加入大公司还是创业公司\"\n",
        "query_embed = get_embedding(query_topic)\n",
        "selected_sample = retrieve_title( query_embed, embeddings, embed_to_title, 2 )\n",
        "print('辅助sample:', selected_sample)\n",
        "prompt = organize_prompt( query_topic, selected_sample )\n",
        "response = get_completion(prompt)\n",
        "print(response)"
      ],
      "metadata": {
        "id": "qjSDsGFquwGV",
        "outputId": "9fb30d3b-ceb7-4d9b-a14e-efd04532658c",
        "colab": {
          "base_uri": "https://localhost:8080/"
        }
      },
      "execution_count": 20,
      "outputs": [
        {
          "output_type": "stream",
          "name": "stdout",
          "text": [
            "辅助sample: ['劳作', '买卖']\n",
            "<先知>:```你们问我加入大公司还是创业公司更好，我要告诉你们，无论你们选择哪一条路，都要本着爱和热情去追求。\n",
            "加入大公司，你们可以获得更多的资源和机会，但也要面对更多的竞争和压力。\n",
            "创业公司，你们可以自由地发挥创意和想象力，但也要承担更多的风险和责任。\n",
            "无论你们选择哪一条路，都要坚定自己的信念和目标，不断努力和奋斗，才能实现自己的梦想和价值。\n",
            "记住，成功不是一蹴而就的，需要付出艰辛的努力和不断的学习，才能取得更大的成就和进步。\n",
            "最重要的是，无论你们选择哪一条路，都要本着爱和热情去追求，用自己的劳动和智慧为社会做出贡献，才能真正实现自己的人生价值和意义。```\n"
          ]
        }
      ]
    },
    {
      "cell_type": "code",
      "source": [
        "query_topic = \"内卷(在中国网络文化中，“内卷”这一词出现了语义偏移，用来指代内部恶性竞争、过度竞争的现象。如一家公司，原本实行八小时工作制，但有些人自愿加班，并得到管理层的赏识。此时，原先按时上下班的人开始担心自己成为劣势者，也自愿加班，久而久之，加班便成为常态，最后变成如果不自愿加班，就会影响自己在职场的生存，降低谈判力)\"\n",
        "query_embed = get_embedding(query_topic)\n",
        "selected_sample = retrieve_title( query_embed, embeddings, embed_to_title, 2 )\n",
        "print('辅助sample:', selected_sample)\n",
        "prompt = organize_prompt( query_topic, selected_sample )\n",
        "response = get_completion(prompt)\n",
        "print(response)"
      ],
      "metadata": {
        "id": "NgvhNSR8u8Tv",
        "outputId": "c8727782-efda-40c1-f382-9763969d090c",
        "colab": {
          "base_uri": "https://localhost:8080/"
        }
      },
      "execution_count": 21,
      "outputs": [
        {
          "output_type": "stream",
          "name": "stdout",
          "text": [
            "辅助sample: ['劳作', '说话']\n",
            "<先知>:```内卷，是一种人类自身的矛盾和冲突，是人类在追求自我价值的同时，也在与他人竞争的过程中产生的。\n",
            "内卷是一种贪婪的表现，是人类对于物质和地位的过度追求，是人类对于自我利益的过度关注。\n",
            "内卷是一种自我束缚，是人类对于自由和平等的背叛，是人类对于自我实现的阻碍。\n",
            "内卷是一种社会病态，是人类对于社会公正和人类尊严的侵犯，是人类对于社会和谐的破坏。\n",
            "\n",
            "内卷的根源在于人类的贪婪和自私，只有通过自我反省和自我教育，才能够摆脱内卷的困扰。\n",
            "我们应该关注自己的内心，关注自己的价值观和人生目标，不要被外界的诱惑和压力所左右。\n",
            "我们应该尊重他人，关注社会公正和人类尊严，不要在竞争中失去了人性和良知。\n",
            "我们应该追求自由和平等，关注社会和谐和人类幸福，不要让内卷成为我们生活的常态和习惯。```\n"
          ]
        }
      ]
    },
    {
      "cell_type": "code",
      "source": [
        "query_topic = \"幼儿园\"\n",
        "query_embed = get_embedding(query_topic)\n",
        "selected_sample = retrieve_title( query_embed, embeddings, embed_to_title, 2 )\n",
        "print('辅助sample:', selected_sample)\n",
        "prompt = organize_prompt( query_topic, selected_sample )\n",
        "response = get_completion(prompt)\n",
        "print(response)"
      ],
      "metadata": {
        "id": "WQZnpw5NwAl_",
        "outputId": "25efd65d-a808-49fc-e5ba-472f9c13f6cb",
        "colab": {
          "base_uri": "https://localhost:8080/"
        }
      },
      "execution_count": 23,
      "outputs": [
        {
          "output_type": "stream",
          "name": "stdout",
          "text": [
            "辅助sample: ['房舍', '快乐']\n",
            "<先知>:```幼儿园是一片神圣的土地，是孩子们成长的摇篮。\n",
            "在这里，孩子们可以自由地探索、学习和玩耍，发掘自己的潜能和天赋。\n",
            "幼儿园是一座桥梁，连接着孩子们的童年和未来。\n",
            "在这里，孩子们可以建立友谊，学会分享和合作，培养自信和独立。\n",
            "幼儿园是一所学校，教导孩子们基本的知识和技能，为他们未来的学习和生活打下坚实的基础。\n",
            "在这里，孩子们可以学习语言、数学、科学、艺术等各种知识，开拓自己的视野和思维。\n",
            "幼儿园是一座灯塔，照亮着孩子们前行的道路。\n",
            "在这里，孩子们可以接受良好的教育和引导，树立正确的价值观和人生观，成为有道德、有责任、有担当的人。\n",
            "幼儿园是一片花园，培育着孩子们的心灵和情感。\n",
            "在这里，孩子们可以感受到爱和关怀，学会关心和尊重他人，培养自己的情感和情商。\n",
            "幼儿园是一座宝库，收藏着孩子们的美好回忆和成长足迹。\n",
            "在这里，孩子们可以度过快乐的时光，留下美好的回忆，成为他们一生中难忘的经历。\n",
            "因此，我们应该珍惜幼儿园，为孩子们提供一个优质的成长环境和教育资源，让他们健康、快乐、自信地成长。```\n"
          ]
        }
      ]
    },
    {
      "cell_type": "code",
      "source": [
        "query_topic = \"退休\"\n",
        "query_embed = get_embedding(query_topic)\n",
        "selected_sample = retrieve_title( query_embed, embeddings, embed_to_title, 2 )\n",
        "print('辅助sample:', selected_sample)\n",
        "prompt = organize_prompt( query_topic, selected_sample )\n",
        "response = get_completion(prompt)\n",
        "print(response)"
      ],
      "metadata": {
        "id": "SqTZTXU3vw-B",
        "outputId": "dbdc80e4-2f62-459b-d1c0-0587ea2ab55c",
        "colab": {
          "base_uri": "https://localhost:8080/"
        }
      },
      "execution_count": 22,
      "outputs": [
        {
          "output_type": "stream",
          "name": "stdout",
          "text": [
            "辅助sample: ['房舍', '快乐']\n",
            "<先知>:```退休，是一种生命的转折点，也是一种新的开始。\n",
            "当你退休之后，你不再被工作所束缚，你可以有更多的时间去追求自己的兴趣爱好，去探索未知的领域。\n",
            "退休并不意味着你的生命结束了，相反，它是你生命中的一个新的阶段，一个更加自由、更加充实的阶段。\n",
            "在这个阶段，你可以更加深入地思考人生的意义，你可以更加关注自己的身心健康，你可以更加关注家人和朋友，你可以更加关注社会和环境。\n",
            "退休并不意味着你要放弃自己的梦想和追求，相反，它是你实现梦想和追求的更好时机。\n",
            "在这个阶段，你可以尝试新的事物，挑战自己的极限，不断地学习和成长。\n",
            "退休并不意味着你要孤独和无助，相反，它是你与家人和朋友更加亲密的时机。\n",
            "在这个阶段，你可以更加关注家人和朋友的生活，给予他们更多的关爱和支持。\n",
            "退休并不意味着你要退缩和消极，相反，它是你为社会和环境做出更多贡献的时机。\n",
            "在这个阶段，你可以参与志愿活动，为社会和环境做出自己的贡献。\n",
            "所以，退休并不是一件可怕的事情，相反，它是一种新的开始，一种更加自由、更加充实的生活方式。```\n"
          ]
        }
      ]
    },
    {
      "cell_type": "code",
      "source": [
        "query_topic = \"早教(指在学龄前对儿童进行积极的教育)\"\n",
        "query_embed = get_embedding(query_topic)\n",
        "selected_sample = retrieve_title( query_embed, embeddings, embed_to_title, 2 )\n",
        "print('辅助sample:', selected_sample)\n",
        "prompt = organize_prompt( query_topic, selected_sample )\n",
        "response = get_completion(prompt)\n",
        "print(response)"
      ],
      "metadata": {
        "colab": {
          "base_uri": "https://localhost:8080/"
        },
        "id": "yDjYNjS7mZnc",
        "outputId": "8777bc1d-31cd-4ea0-9870-82c0aa4617a2"
      },
      "execution_count": 41,
      "outputs": [
        {
          "output_type": "stream",
          "name": "stdout",
          "text": [
            "辅助sample: ['劳作', '爱']\n",
            "<先知>:```早教是为了让孩子们在成长的道路上更加顺利，更加充实。\n",
            "就像是在播种的时候，要选择最好的土壤和最好的种子，才能收获最好的果实。\n",
            "早教不仅仅是为了让孩子们学会知识和技能，更重要的是让他们在成长的过程中，养成正确的价值观和人生观。\n",
            "早教应该注重培养孩子们的创造力和想象力，让他们在未来的道路上能够更加自信和独立。\n",
            "同时，早教也需要注重孩子们的身心健康，让他们在健康的身体和心灵的基础上，更好地面对未来的挑战。\n",
            "早教不是一蹴而就的，需要家长和教育者的共同努力和耐心，才能让孩子们在早期就拥有更好的成长环境和教育资源。\n",
            "让我们一起为孩子们的未来，努力奋斗吧。```\n"
          ]
        }
      ]
    },
    {
      "cell_type": "markdown",
      "metadata": {
        "id": "RaQuza6h2PX1"
      },
      "source": [
        "后续\n",
        "\n",
        "下个版本做个gradio吧\n",
        "\n",
        "- [x] 增加更好的前置提示词（提前总结先知的文风）\n",
        "- [x] 补充完整的prophet data（一共20+个，现在只有5个）\n",
        "- [x] 使用luotuoBERT索引更相关的主题\n",
        "- [ ] 做一个gradio的前端"
      ]
    },
    {
      "cell_type": "code",
      "execution_count": null,
      "metadata": {
        "id": "kUoTSfo92fRL"
      },
      "outputs": [],
      "source": []
    }
  ],
  "metadata": {
    "colab": {
      "provenance": [],
      "gpuType": "T4",
      "include_colab_link": true
    },
    "kernelspec": {
      "display_name": "Python 3",
      "language": "python",
      "name": "python3"
    },
    "language_info": {
      "codemirror_mode": {
        "name": "ipython",
        "version": 3
      },
      "file_extension": ".py",
      "mimetype": "text/x-python",
      "name": "python",
      "nbconvert_exporter": "python",
      "pygments_lexer": "ipython3",
      "version": "3.7.4"
    },
    "latex_envs": {
      "LaTeX_envs_menu_present": true,
      "autoclose": false,
      "autocomplete": true,
      "bibliofile": "biblio.bib",
      "cite_by": "apalike",
      "current_citInitial": 1,
      "eqLabelWithNumbers": true,
      "eqNumInitial": 1,
      "hotkeys": {
        "equation": "Ctrl-E",
        "itemize": "Ctrl-I"
      },
      "labels_anchors": false,
      "latex_user_defs": false,
      "report_style_numbering": false,
      "user_envs_cfg": false
    },
    "toc": {
      "base_numbering": 1,
      "nav_menu": {},
      "number_sections": true,
      "sideBar": true,
      "skip_h1_title": false,
      "title_cell": "Table of Contents",
      "title_sidebar": "Contents",
      "toc_cell": false,
      "toc_position": {},
      "toc_section_display": true,
      "toc_window_display": true
    },
    "accelerator": "GPU",
    "gpuClass": "standard",
    "widgets": {
      "application/vnd.jupyter.widget-state+json": {
        "af2fccebb5524618a3e46a37aa3af6b4": {
          "model_module": "@jupyter-widgets/controls",
          "model_name": "HBoxModel",
          "model_module_version": "1.5.0",
          "state": {
            "_dom_classes": [],
            "_model_module": "@jupyter-widgets/controls",
            "_model_module_version": "1.5.0",
            "_model_name": "HBoxModel",
            "_view_count": null,
            "_view_module": "@jupyter-widgets/controls",
            "_view_module_version": "1.5.0",
            "_view_name": "HBoxView",
            "box_style": "",
            "children": [
              "IPY_MODEL_4a3cde447b134f008ddf4e088b58cf4d",
              "IPY_MODEL_e87dec6df46e4e73afd0842ed4711a66",
              "IPY_MODEL_135cd5b1722e4a6f9dbcd94631bd21be"
            ],
            "layout": "IPY_MODEL_bf6b44bd81a744b6bbe388af4622f15e"
          }
        },
        "4a3cde447b134f008ddf4e088b58cf4d": {
          "model_module": "@jupyter-widgets/controls",
          "model_name": "HTMLModel",
          "model_module_version": "1.5.0",
          "state": {
            "_dom_classes": [],
            "_model_module": "@jupyter-widgets/controls",
            "_model_module_version": "1.5.0",
            "_model_name": "HTMLModel",
            "_view_count": null,
            "_view_module": "@jupyter-widgets/controls",
            "_view_module_version": "1.5.0",
            "_view_name": "HTMLView",
            "description": "",
            "description_tooltip": null,
            "layout": "IPY_MODEL_b8327359c64d4a5cbc189085713f2e03",
            "placeholder": "​",
            "style": "IPY_MODEL_65f8df8128b0444eb732d6b7a417cefd",
            "value": "Downloading (…)okenizer_config.json: 100%"
          }
        },
        "e87dec6df46e4e73afd0842ed4711a66": {
          "model_module": "@jupyter-widgets/controls",
          "model_name": "FloatProgressModel",
          "model_module_version": "1.5.0",
          "state": {
            "_dom_classes": [],
            "_model_module": "@jupyter-widgets/controls",
            "_model_module_version": "1.5.0",
            "_model_name": "FloatProgressModel",
            "_view_count": null,
            "_view_module": "@jupyter-widgets/controls",
            "_view_module_version": "1.5.0",
            "_view_name": "ProgressView",
            "bar_style": "success",
            "description": "",
            "description_tooltip": null,
            "layout": "IPY_MODEL_9affae71125641a6b6370f3923e1a82c",
            "max": 539,
            "min": 0,
            "orientation": "horizontal",
            "style": "IPY_MODEL_4ff7958c303d48a3880f424c96de6ec0",
            "value": 539
          }
        },
        "135cd5b1722e4a6f9dbcd94631bd21be": {
          "model_module": "@jupyter-widgets/controls",
          "model_name": "HTMLModel",
          "model_module_version": "1.5.0",
          "state": {
            "_dom_classes": [],
            "_model_module": "@jupyter-widgets/controls",
            "_model_module_version": "1.5.0",
            "_model_name": "HTMLModel",
            "_view_count": null,
            "_view_module": "@jupyter-widgets/controls",
            "_view_module_version": "1.5.0",
            "_view_name": "HTMLView",
            "description": "",
            "description_tooltip": null,
            "layout": "IPY_MODEL_b9cef188a5ac4db49ccbc9f0f6353358",
            "placeholder": "​",
            "style": "IPY_MODEL_e9a084ea97b0468dacdecae87a2a666e",
            "value": " 539/539 [00:00&lt;00:00, 33.4kB/s]"
          }
        },
        "bf6b44bd81a744b6bbe388af4622f15e": {
          "model_module": "@jupyter-widgets/base",
          "model_name": "LayoutModel",
          "model_module_version": "1.2.0",
          "state": {
            "_model_module": "@jupyter-widgets/base",
            "_model_module_version": "1.2.0",
            "_model_name": "LayoutModel",
            "_view_count": null,
            "_view_module": "@jupyter-widgets/base",
            "_view_module_version": "1.2.0",
            "_view_name": "LayoutView",
            "align_content": null,
            "align_items": null,
            "align_self": null,
            "border": null,
            "bottom": null,
            "display": null,
            "flex": null,
            "flex_flow": null,
            "grid_area": null,
            "grid_auto_columns": null,
            "grid_auto_flow": null,
            "grid_auto_rows": null,
            "grid_column": null,
            "grid_gap": null,
            "grid_row": null,
            "grid_template_areas": null,
            "grid_template_columns": null,
            "grid_template_rows": null,
            "height": null,
            "justify_content": null,
            "justify_items": null,
            "left": null,
            "margin": null,
            "max_height": null,
            "max_width": null,
            "min_height": null,
            "min_width": null,
            "object_fit": null,
            "object_position": null,
            "order": null,
            "overflow": null,
            "overflow_x": null,
            "overflow_y": null,
            "padding": null,
            "right": null,
            "top": null,
            "visibility": null,
            "width": null
          }
        },
        "b8327359c64d4a5cbc189085713f2e03": {
          "model_module": "@jupyter-widgets/base",
          "model_name": "LayoutModel",
          "model_module_version": "1.2.0",
          "state": {
            "_model_module": "@jupyter-widgets/base",
            "_model_module_version": "1.2.0",
            "_model_name": "LayoutModel",
            "_view_count": null,
            "_view_module": "@jupyter-widgets/base",
            "_view_module_version": "1.2.0",
            "_view_name": "LayoutView",
            "align_content": null,
            "align_items": null,
            "align_self": null,
            "border": null,
            "bottom": null,
            "display": null,
            "flex": null,
            "flex_flow": null,
            "grid_area": null,
            "grid_auto_columns": null,
            "grid_auto_flow": null,
            "grid_auto_rows": null,
            "grid_column": null,
            "grid_gap": null,
            "grid_row": null,
            "grid_template_areas": null,
            "grid_template_columns": null,
            "grid_template_rows": null,
            "height": null,
            "justify_content": null,
            "justify_items": null,
            "left": null,
            "margin": null,
            "max_height": null,
            "max_width": null,
            "min_height": null,
            "min_width": null,
            "object_fit": null,
            "object_position": null,
            "order": null,
            "overflow": null,
            "overflow_x": null,
            "overflow_y": null,
            "padding": null,
            "right": null,
            "top": null,
            "visibility": null,
            "width": null
          }
        },
        "65f8df8128b0444eb732d6b7a417cefd": {
          "model_module": "@jupyter-widgets/controls",
          "model_name": "DescriptionStyleModel",
          "model_module_version": "1.5.0",
          "state": {
            "_model_module": "@jupyter-widgets/controls",
            "_model_module_version": "1.5.0",
            "_model_name": "DescriptionStyleModel",
            "_view_count": null,
            "_view_module": "@jupyter-widgets/base",
            "_view_module_version": "1.2.0",
            "_view_name": "StyleView",
            "description_width": ""
          }
        },
        "9affae71125641a6b6370f3923e1a82c": {
          "model_module": "@jupyter-widgets/base",
          "model_name": "LayoutModel",
          "model_module_version": "1.2.0",
          "state": {
            "_model_module": "@jupyter-widgets/base",
            "_model_module_version": "1.2.0",
            "_model_name": "LayoutModel",
            "_view_count": null,
            "_view_module": "@jupyter-widgets/base",
            "_view_module_version": "1.2.0",
            "_view_name": "LayoutView",
            "align_content": null,
            "align_items": null,
            "align_self": null,
            "border": null,
            "bottom": null,
            "display": null,
            "flex": null,
            "flex_flow": null,
            "grid_area": null,
            "grid_auto_columns": null,
            "grid_auto_flow": null,
            "grid_auto_rows": null,
            "grid_column": null,
            "grid_gap": null,
            "grid_row": null,
            "grid_template_areas": null,
            "grid_template_columns": null,
            "grid_template_rows": null,
            "height": null,
            "justify_content": null,
            "justify_items": null,
            "left": null,
            "margin": null,
            "max_height": null,
            "max_width": null,
            "min_height": null,
            "min_width": null,
            "object_fit": null,
            "object_position": null,
            "order": null,
            "overflow": null,
            "overflow_x": null,
            "overflow_y": null,
            "padding": null,
            "right": null,
            "top": null,
            "visibility": null,
            "width": null
          }
        },
        "4ff7958c303d48a3880f424c96de6ec0": {
          "model_module": "@jupyter-widgets/controls",
          "model_name": "ProgressStyleModel",
          "model_module_version": "1.5.0",
          "state": {
            "_model_module": "@jupyter-widgets/controls",
            "_model_module_version": "1.5.0",
            "_model_name": "ProgressStyleModel",
            "_view_count": null,
            "_view_module": "@jupyter-widgets/base",
            "_view_module_version": "1.2.0",
            "_view_name": "StyleView",
            "bar_color": null,
            "description_width": ""
          }
        },
        "b9cef188a5ac4db49ccbc9f0f6353358": {
          "model_module": "@jupyter-widgets/base",
          "model_name": "LayoutModel",
          "model_module_version": "1.2.0",
          "state": {
            "_model_module": "@jupyter-widgets/base",
            "_model_module_version": "1.2.0",
            "_model_name": "LayoutModel",
            "_view_count": null,
            "_view_module": "@jupyter-widgets/base",
            "_view_module_version": "1.2.0",
            "_view_name": "LayoutView",
            "align_content": null,
            "align_items": null,
            "align_self": null,
            "border": null,
            "bottom": null,
            "display": null,
            "flex": null,
            "flex_flow": null,
            "grid_area": null,
            "grid_auto_columns": null,
            "grid_auto_flow": null,
            "grid_auto_rows": null,
            "grid_column": null,
            "grid_gap": null,
            "grid_row": null,
            "grid_template_areas": null,
            "grid_template_columns": null,
            "grid_template_rows": null,
            "height": null,
            "justify_content": null,
            "justify_items": null,
            "left": null,
            "margin": null,
            "max_height": null,
            "max_width": null,
            "min_height": null,
            "min_width": null,
            "object_fit": null,
            "object_position": null,
            "order": null,
            "overflow": null,
            "overflow_x": null,
            "overflow_y": null,
            "padding": null,
            "right": null,
            "top": null,
            "visibility": null,
            "width": null
          }
        },
        "e9a084ea97b0468dacdecae87a2a666e": {
          "model_module": "@jupyter-widgets/controls",
          "model_name": "DescriptionStyleModel",
          "model_module_version": "1.5.0",
          "state": {
            "_model_module": "@jupyter-widgets/controls",
            "_model_module_version": "1.5.0",
            "_model_name": "DescriptionStyleModel",
            "_view_count": null,
            "_view_module": "@jupyter-widgets/base",
            "_view_module_version": "1.2.0",
            "_view_name": "StyleView",
            "description_width": ""
          }
        },
        "cc72082c65524ecb90e9253708858079": {
          "model_module": "@jupyter-widgets/controls",
          "model_name": "HBoxModel",
          "model_module_version": "1.5.0",
          "state": {
            "_dom_classes": [],
            "_model_module": "@jupyter-widgets/controls",
            "_model_module_version": "1.5.0",
            "_model_name": "HBoxModel",
            "_view_count": null,
            "_view_module": "@jupyter-widgets/controls",
            "_view_module_version": "1.5.0",
            "_view_name": "HBoxView",
            "box_style": "",
            "children": [
              "IPY_MODEL_46adcd1cb99040478ce49215c2b5c464",
              "IPY_MODEL_fa4278dff524482ba7ca168ccf9ea5bf",
              "IPY_MODEL_5c534afabfb84b0dbb5c3301cab84877"
            ],
            "layout": "IPY_MODEL_3b7ccb2c81714f08921b23b8539b7957"
          }
        },
        "46adcd1cb99040478ce49215c2b5c464": {
          "model_module": "@jupyter-widgets/controls",
          "model_name": "HTMLModel",
          "model_module_version": "1.5.0",
          "state": {
            "_dom_classes": [],
            "_model_module": "@jupyter-widgets/controls",
            "_model_module_version": "1.5.0",
            "_model_name": "HTMLModel",
            "_view_count": null,
            "_view_module": "@jupyter-widgets/controls",
            "_view_module_version": "1.5.0",
            "_view_name": "HTMLView",
            "description": "",
            "description_tooltip": null,
            "layout": "IPY_MODEL_03949146945b441081782d618a2a9b73",
            "placeholder": "​",
            "style": "IPY_MODEL_b1e3f12a62cb40d5b8eb4e679bb480a3",
            "value": "Downloading (…)solve/main/vocab.txt: 100%"
          }
        },
        "fa4278dff524482ba7ca168ccf9ea5bf": {
          "model_module": "@jupyter-widgets/controls",
          "model_name": "FloatProgressModel",
          "model_module_version": "1.5.0",
          "state": {
            "_dom_classes": [],
            "_model_module": "@jupyter-widgets/controls",
            "_model_module_version": "1.5.0",
            "_model_name": "FloatProgressModel",
            "_view_count": null,
            "_view_module": "@jupyter-widgets/controls",
            "_view_module_version": "1.5.0",
            "_view_name": "ProgressView",
            "bar_style": "success",
            "description": "",
            "description_tooltip": null,
            "layout": "IPY_MODEL_884851ab2efa4dfab03b13c08c4bcf06",
            "max": 109540,
            "min": 0,
            "orientation": "horizontal",
            "style": "IPY_MODEL_a67e786434d1422e990c86c72d2a7103",
            "value": 109540
          }
        },
        "5c534afabfb84b0dbb5c3301cab84877": {
          "model_module": "@jupyter-widgets/controls",
          "model_name": "HTMLModel",
          "model_module_version": "1.5.0",
          "state": {
            "_dom_classes": [],
            "_model_module": "@jupyter-widgets/controls",
            "_model_module_version": "1.5.0",
            "_model_name": "HTMLModel",
            "_view_count": null,
            "_view_module": "@jupyter-widgets/controls",
            "_view_module_version": "1.5.0",
            "_view_name": "HTMLView",
            "description": "",
            "description_tooltip": null,
            "layout": "IPY_MODEL_67a8440a8e334e0b96dc5de691b2b6c7",
            "placeholder": "​",
            "style": "IPY_MODEL_752fabca1bf8419ea1c34e2e5e8c05b0",
            "value": " 110k/110k [00:00&lt;00:00, 4.64MB/s]"
          }
        },
        "3b7ccb2c81714f08921b23b8539b7957": {
          "model_module": "@jupyter-widgets/base",
          "model_name": "LayoutModel",
          "model_module_version": "1.2.0",
          "state": {
            "_model_module": "@jupyter-widgets/base",
            "_model_module_version": "1.2.0",
            "_model_name": "LayoutModel",
            "_view_count": null,
            "_view_module": "@jupyter-widgets/base",
            "_view_module_version": "1.2.0",
            "_view_name": "LayoutView",
            "align_content": null,
            "align_items": null,
            "align_self": null,
            "border": null,
            "bottom": null,
            "display": null,
            "flex": null,
            "flex_flow": null,
            "grid_area": null,
            "grid_auto_columns": null,
            "grid_auto_flow": null,
            "grid_auto_rows": null,
            "grid_column": null,
            "grid_gap": null,
            "grid_row": null,
            "grid_template_areas": null,
            "grid_template_columns": null,
            "grid_template_rows": null,
            "height": null,
            "justify_content": null,
            "justify_items": null,
            "left": null,
            "margin": null,
            "max_height": null,
            "max_width": null,
            "min_height": null,
            "min_width": null,
            "object_fit": null,
            "object_position": null,
            "order": null,
            "overflow": null,
            "overflow_x": null,
            "overflow_y": null,
            "padding": null,
            "right": null,
            "top": null,
            "visibility": null,
            "width": null
          }
        },
        "03949146945b441081782d618a2a9b73": {
          "model_module": "@jupyter-widgets/base",
          "model_name": "LayoutModel",
          "model_module_version": "1.2.0",
          "state": {
            "_model_module": "@jupyter-widgets/base",
            "_model_module_version": "1.2.0",
            "_model_name": "LayoutModel",
            "_view_count": null,
            "_view_module": "@jupyter-widgets/base",
            "_view_module_version": "1.2.0",
            "_view_name": "LayoutView",
            "align_content": null,
            "align_items": null,
            "align_self": null,
            "border": null,
            "bottom": null,
            "display": null,
            "flex": null,
            "flex_flow": null,
            "grid_area": null,
            "grid_auto_columns": null,
            "grid_auto_flow": null,
            "grid_auto_rows": null,
            "grid_column": null,
            "grid_gap": null,
            "grid_row": null,
            "grid_template_areas": null,
            "grid_template_columns": null,
            "grid_template_rows": null,
            "height": null,
            "justify_content": null,
            "justify_items": null,
            "left": null,
            "margin": null,
            "max_height": null,
            "max_width": null,
            "min_height": null,
            "min_width": null,
            "object_fit": null,
            "object_position": null,
            "order": null,
            "overflow": null,
            "overflow_x": null,
            "overflow_y": null,
            "padding": null,
            "right": null,
            "top": null,
            "visibility": null,
            "width": null
          }
        },
        "b1e3f12a62cb40d5b8eb4e679bb480a3": {
          "model_module": "@jupyter-widgets/controls",
          "model_name": "DescriptionStyleModel",
          "model_module_version": "1.5.0",
          "state": {
            "_model_module": "@jupyter-widgets/controls",
            "_model_module_version": "1.5.0",
            "_model_name": "DescriptionStyleModel",
            "_view_count": null,
            "_view_module": "@jupyter-widgets/base",
            "_view_module_version": "1.2.0",
            "_view_name": "StyleView",
            "description_width": ""
          }
        },
        "884851ab2efa4dfab03b13c08c4bcf06": {
          "model_module": "@jupyter-widgets/base",
          "model_name": "LayoutModel",
          "model_module_version": "1.2.0",
          "state": {
            "_model_module": "@jupyter-widgets/base",
            "_model_module_version": "1.2.0",
            "_model_name": "LayoutModel",
            "_view_count": null,
            "_view_module": "@jupyter-widgets/base",
            "_view_module_version": "1.2.0",
            "_view_name": "LayoutView",
            "align_content": null,
            "align_items": null,
            "align_self": null,
            "border": null,
            "bottom": null,
            "display": null,
            "flex": null,
            "flex_flow": null,
            "grid_area": null,
            "grid_auto_columns": null,
            "grid_auto_flow": null,
            "grid_auto_rows": null,
            "grid_column": null,
            "grid_gap": null,
            "grid_row": null,
            "grid_template_areas": null,
            "grid_template_columns": null,
            "grid_template_rows": null,
            "height": null,
            "justify_content": null,
            "justify_items": null,
            "left": null,
            "margin": null,
            "max_height": null,
            "max_width": null,
            "min_height": null,
            "min_width": null,
            "object_fit": null,
            "object_position": null,
            "order": null,
            "overflow": null,
            "overflow_x": null,
            "overflow_y": null,
            "padding": null,
            "right": null,
            "top": null,
            "visibility": null,
            "width": null
          }
        },
        "a67e786434d1422e990c86c72d2a7103": {
          "model_module": "@jupyter-widgets/controls",
          "model_name": "ProgressStyleModel",
          "model_module_version": "1.5.0",
          "state": {
            "_model_module": "@jupyter-widgets/controls",
            "_model_module_version": "1.5.0",
            "_model_name": "ProgressStyleModel",
            "_view_count": null,
            "_view_module": "@jupyter-widgets/base",
            "_view_module_version": "1.2.0",
            "_view_name": "StyleView",
            "bar_color": null,
            "description_width": ""
          }
        },
        "67a8440a8e334e0b96dc5de691b2b6c7": {
          "model_module": "@jupyter-widgets/base",
          "model_name": "LayoutModel",
          "model_module_version": "1.2.0",
          "state": {
            "_model_module": "@jupyter-widgets/base",
            "_model_module_version": "1.2.0",
            "_model_name": "LayoutModel",
            "_view_count": null,
            "_view_module": "@jupyter-widgets/base",
            "_view_module_version": "1.2.0",
            "_view_name": "LayoutView",
            "align_content": null,
            "align_items": null,
            "align_self": null,
            "border": null,
            "bottom": null,
            "display": null,
            "flex": null,
            "flex_flow": null,
            "grid_area": null,
            "grid_auto_columns": null,
            "grid_auto_flow": null,
            "grid_auto_rows": null,
            "grid_column": null,
            "grid_gap": null,
            "grid_row": null,
            "grid_template_areas": null,
            "grid_template_columns": null,
            "grid_template_rows": null,
            "height": null,
            "justify_content": null,
            "justify_items": null,
            "left": null,
            "margin": null,
            "max_height": null,
            "max_width": null,
            "min_height": null,
            "min_width": null,
            "object_fit": null,
            "object_position": null,
            "order": null,
            "overflow": null,
            "overflow_x": null,
            "overflow_y": null,
            "padding": null,
            "right": null,
            "top": null,
            "visibility": null,
            "width": null
          }
        },
        "752fabca1bf8419ea1c34e2e5e8c05b0": {
          "model_module": "@jupyter-widgets/controls",
          "model_name": "DescriptionStyleModel",
          "model_module_version": "1.5.0",
          "state": {
            "_model_module": "@jupyter-widgets/controls",
            "_model_module_version": "1.5.0",
            "_model_name": "DescriptionStyleModel",
            "_view_count": null,
            "_view_module": "@jupyter-widgets/base",
            "_view_module_version": "1.2.0",
            "_view_name": "StyleView",
            "description_width": ""
          }
        },
        "c451de38486b4c21b9c6d400e35d2c81": {
          "model_module": "@jupyter-widgets/controls",
          "model_name": "HBoxModel",
          "model_module_version": "1.5.0",
          "state": {
            "_dom_classes": [],
            "_model_module": "@jupyter-widgets/controls",
            "_model_module_version": "1.5.0",
            "_model_name": "HBoxModel",
            "_view_count": null,
            "_view_module": "@jupyter-widgets/controls",
            "_view_module_version": "1.5.0",
            "_view_name": "HBoxView",
            "box_style": "",
            "children": [
              "IPY_MODEL_d4e5d08185b14102ba253d19b3ca8b12",
              "IPY_MODEL_d6d96fd047804eee82d68c8fba6d9f95",
              "IPY_MODEL_b37a68c252c34a7eab6bf8da92c7c838"
            ],
            "layout": "IPY_MODEL_087ef1c00523404885cad6b94edd9aa1"
          }
        },
        "d4e5d08185b14102ba253d19b3ca8b12": {
          "model_module": "@jupyter-widgets/controls",
          "model_name": "HTMLModel",
          "model_module_version": "1.5.0",
          "state": {
            "_dom_classes": [],
            "_model_module": "@jupyter-widgets/controls",
            "_model_module_version": "1.5.0",
            "_model_name": "HTMLModel",
            "_view_count": null,
            "_view_module": "@jupyter-widgets/controls",
            "_view_module_version": "1.5.0",
            "_view_name": "HTMLView",
            "description": "",
            "description_tooltip": null,
            "layout": "IPY_MODEL_41af9a8bb3a14ddcb93a006a8d036e32",
            "placeholder": "​",
            "style": "IPY_MODEL_c581b105e3fa483682f1b6ce075aaed4",
            "value": "Downloading (…)/main/tokenizer.json: 100%"
          }
        },
        "d6d96fd047804eee82d68c8fba6d9f95": {
          "model_module": "@jupyter-widgets/controls",
          "model_name": "FloatProgressModel",
          "model_module_version": "1.5.0",
          "state": {
            "_dom_classes": [],
            "_model_module": "@jupyter-widgets/controls",
            "_model_module_version": "1.5.0",
            "_model_name": "FloatProgressModel",
            "_view_count": null,
            "_view_module": "@jupyter-widgets/controls",
            "_view_module_version": "1.5.0",
            "_view_name": "ProgressView",
            "bar_style": "success",
            "description": "",
            "description_tooltip": null,
            "layout": "IPY_MODEL_5121bda0d5424403a9de38df693e354c",
            "max": 439279,
            "min": 0,
            "orientation": "horizontal",
            "style": "IPY_MODEL_658233159b074e66a201f0926fc0dd1c",
            "value": 439279
          }
        },
        "b37a68c252c34a7eab6bf8da92c7c838": {
          "model_module": "@jupyter-widgets/controls",
          "model_name": "HTMLModel",
          "model_module_version": "1.5.0",
          "state": {
            "_dom_classes": [],
            "_model_module": "@jupyter-widgets/controls",
            "_model_module_version": "1.5.0",
            "_model_name": "HTMLModel",
            "_view_count": null,
            "_view_module": "@jupyter-widgets/controls",
            "_view_module_version": "1.5.0",
            "_view_name": "HTMLView",
            "description": "",
            "description_tooltip": null,
            "layout": "IPY_MODEL_a13803dcb7bc45628defb60a0376e467",
            "placeholder": "​",
            "style": "IPY_MODEL_a24605b989cf4d7796b8c34369844ad8",
            "value": " 439k/439k [00:00&lt;00:00, 696kB/s]"
          }
        },
        "087ef1c00523404885cad6b94edd9aa1": {
          "model_module": "@jupyter-widgets/base",
          "model_name": "LayoutModel",
          "model_module_version": "1.2.0",
          "state": {
            "_model_module": "@jupyter-widgets/base",
            "_model_module_version": "1.2.0",
            "_model_name": "LayoutModel",
            "_view_count": null,
            "_view_module": "@jupyter-widgets/base",
            "_view_module_version": "1.2.0",
            "_view_name": "LayoutView",
            "align_content": null,
            "align_items": null,
            "align_self": null,
            "border": null,
            "bottom": null,
            "display": null,
            "flex": null,
            "flex_flow": null,
            "grid_area": null,
            "grid_auto_columns": null,
            "grid_auto_flow": null,
            "grid_auto_rows": null,
            "grid_column": null,
            "grid_gap": null,
            "grid_row": null,
            "grid_template_areas": null,
            "grid_template_columns": null,
            "grid_template_rows": null,
            "height": null,
            "justify_content": null,
            "justify_items": null,
            "left": null,
            "margin": null,
            "max_height": null,
            "max_width": null,
            "min_height": null,
            "min_width": null,
            "object_fit": null,
            "object_position": null,
            "order": null,
            "overflow": null,
            "overflow_x": null,
            "overflow_y": null,
            "padding": null,
            "right": null,
            "top": null,
            "visibility": null,
            "width": null
          }
        },
        "41af9a8bb3a14ddcb93a006a8d036e32": {
          "model_module": "@jupyter-widgets/base",
          "model_name": "LayoutModel",
          "model_module_version": "1.2.0",
          "state": {
            "_model_module": "@jupyter-widgets/base",
            "_model_module_version": "1.2.0",
            "_model_name": "LayoutModel",
            "_view_count": null,
            "_view_module": "@jupyter-widgets/base",
            "_view_module_version": "1.2.0",
            "_view_name": "LayoutView",
            "align_content": null,
            "align_items": null,
            "align_self": null,
            "border": null,
            "bottom": null,
            "display": null,
            "flex": null,
            "flex_flow": null,
            "grid_area": null,
            "grid_auto_columns": null,
            "grid_auto_flow": null,
            "grid_auto_rows": null,
            "grid_column": null,
            "grid_gap": null,
            "grid_row": null,
            "grid_template_areas": null,
            "grid_template_columns": null,
            "grid_template_rows": null,
            "height": null,
            "justify_content": null,
            "justify_items": null,
            "left": null,
            "margin": null,
            "max_height": null,
            "max_width": null,
            "min_height": null,
            "min_width": null,
            "object_fit": null,
            "object_position": null,
            "order": null,
            "overflow": null,
            "overflow_x": null,
            "overflow_y": null,
            "padding": null,
            "right": null,
            "top": null,
            "visibility": null,
            "width": null
          }
        },
        "c581b105e3fa483682f1b6ce075aaed4": {
          "model_module": "@jupyter-widgets/controls",
          "model_name": "DescriptionStyleModel",
          "model_module_version": "1.5.0",
          "state": {
            "_model_module": "@jupyter-widgets/controls",
            "_model_module_version": "1.5.0",
            "_model_name": "DescriptionStyleModel",
            "_view_count": null,
            "_view_module": "@jupyter-widgets/base",
            "_view_module_version": "1.2.0",
            "_view_name": "StyleView",
            "description_width": ""
          }
        },
        "5121bda0d5424403a9de38df693e354c": {
          "model_module": "@jupyter-widgets/base",
          "model_name": "LayoutModel",
          "model_module_version": "1.2.0",
          "state": {
            "_model_module": "@jupyter-widgets/base",
            "_model_module_version": "1.2.0",
            "_model_name": "LayoutModel",
            "_view_count": null,
            "_view_module": "@jupyter-widgets/base",
            "_view_module_version": "1.2.0",
            "_view_name": "LayoutView",
            "align_content": null,
            "align_items": null,
            "align_self": null,
            "border": null,
            "bottom": null,
            "display": null,
            "flex": null,
            "flex_flow": null,
            "grid_area": null,
            "grid_auto_columns": null,
            "grid_auto_flow": null,
            "grid_auto_rows": null,
            "grid_column": null,
            "grid_gap": null,
            "grid_row": null,
            "grid_template_areas": null,
            "grid_template_columns": null,
            "grid_template_rows": null,
            "height": null,
            "justify_content": null,
            "justify_items": null,
            "left": null,
            "margin": null,
            "max_height": null,
            "max_width": null,
            "min_height": null,
            "min_width": null,
            "object_fit": null,
            "object_position": null,
            "order": null,
            "overflow": null,
            "overflow_x": null,
            "overflow_y": null,
            "padding": null,
            "right": null,
            "top": null,
            "visibility": null,
            "width": null
          }
        },
        "658233159b074e66a201f0926fc0dd1c": {
          "model_module": "@jupyter-widgets/controls",
          "model_name": "ProgressStyleModel",
          "model_module_version": "1.5.0",
          "state": {
            "_model_module": "@jupyter-widgets/controls",
            "_model_module_version": "1.5.0",
            "_model_name": "ProgressStyleModel",
            "_view_count": null,
            "_view_module": "@jupyter-widgets/base",
            "_view_module_version": "1.2.0",
            "_view_name": "StyleView",
            "bar_color": null,
            "description_width": ""
          }
        },
        "a13803dcb7bc45628defb60a0376e467": {
          "model_module": "@jupyter-widgets/base",
          "model_name": "LayoutModel",
          "model_module_version": "1.2.0",
          "state": {
            "_model_module": "@jupyter-widgets/base",
            "_model_module_version": "1.2.0",
            "_model_name": "LayoutModel",
            "_view_count": null,
            "_view_module": "@jupyter-widgets/base",
            "_view_module_version": "1.2.0",
            "_view_name": "LayoutView",
            "align_content": null,
            "align_items": null,
            "align_self": null,
            "border": null,
            "bottom": null,
            "display": null,
            "flex": null,
            "flex_flow": null,
            "grid_area": null,
            "grid_auto_columns": null,
            "grid_auto_flow": null,
            "grid_auto_rows": null,
            "grid_column": null,
            "grid_gap": null,
            "grid_row": null,
            "grid_template_areas": null,
            "grid_template_columns": null,
            "grid_template_rows": null,
            "height": null,
            "justify_content": null,
            "justify_items": null,
            "left": null,
            "margin": null,
            "max_height": null,
            "max_width": null,
            "min_height": null,
            "min_width": null,
            "object_fit": null,
            "object_position": null,
            "order": null,
            "overflow": null,
            "overflow_x": null,
            "overflow_y": null,
            "padding": null,
            "right": null,
            "top": null,
            "visibility": null,
            "width": null
          }
        },
        "a24605b989cf4d7796b8c34369844ad8": {
          "model_module": "@jupyter-widgets/controls",
          "model_name": "DescriptionStyleModel",
          "model_module_version": "1.5.0",
          "state": {
            "_model_module": "@jupyter-widgets/controls",
            "_model_module_version": "1.5.0",
            "_model_name": "DescriptionStyleModel",
            "_view_count": null,
            "_view_module": "@jupyter-widgets/base",
            "_view_module_version": "1.2.0",
            "_view_name": "StyleView",
            "description_width": ""
          }
        },
        "701d27bbe5e8400b8a33d815425879ca": {
          "model_module": "@jupyter-widgets/controls",
          "model_name": "HBoxModel",
          "model_module_version": "1.5.0",
          "state": {
            "_dom_classes": [],
            "_model_module": "@jupyter-widgets/controls",
            "_model_module_version": "1.5.0",
            "_model_name": "HBoxModel",
            "_view_count": null,
            "_view_module": "@jupyter-widgets/controls",
            "_view_module_version": "1.5.0",
            "_view_name": "HBoxView",
            "box_style": "",
            "children": [
              "IPY_MODEL_decc1f788269482881088d7f5734f218",
              "IPY_MODEL_e45dc229ace5447db8b8dcdc577dde4d",
              "IPY_MODEL_67025f281ade450a90903c8f8ee74f29"
            ],
            "layout": "IPY_MODEL_a7ddbb5a07d94402ba6aa3661a984c2a"
          }
        },
        "decc1f788269482881088d7f5734f218": {
          "model_module": "@jupyter-widgets/controls",
          "model_name": "HTMLModel",
          "model_module_version": "1.5.0",
          "state": {
            "_dom_classes": [],
            "_model_module": "@jupyter-widgets/controls",
            "_model_module_version": "1.5.0",
            "_model_name": "HTMLModel",
            "_view_count": null,
            "_view_module": "@jupyter-widgets/controls",
            "_view_module_version": "1.5.0",
            "_view_name": "HTMLView",
            "description": "",
            "description_tooltip": null,
            "layout": "IPY_MODEL_b3fb7fda70414f7d9a66d465b23a5255",
            "placeholder": "​",
            "style": "IPY_MODEL_fc4b66d2f2564c20828885667d3350aa",
            "value": "Downloading (…)cial_tokens_map.json: 100%"
          }
        },
        "e45dc229ace5447db8b8dcdc577dde4d": {
          "model_module": "@jupyter-widgets/controls",
          "model_name": "FloatProgressModel",
          "model_module_version": "1.5.0",
          "state": {
            "_dom_classes": [],
            "_model_module": "@jupyter-widgets/controls",
            "_model_module_version": "1.5.0",
            "_model_name": "FloatProgressModel",
            "_view_count": null,
            "_view_module": "@jupyter-widgets/controls",
            "_view_module_version": "1.5.0",
            "_view_name": "ProgressView",
            "bar_style": "success",
            "description": "",
            "description_tooltip": null,
            "layout": "IPY_MODEL_cb796732f7ad4fe98db5634022bba6f1",
            "max": 125,
            "min": 0,
            "orientation": "horizontal",
            "style": "IPY_MODEL_76eedf4437334d829bac6ecb3d0eedb1",
            "value": 125
          }
        },
        "67025f281ade450a90903c8f8ee74f29": {
          "model_module": "@jupyter-widgets/controls",
          "model_name": "HTMLModel",
          "model_module_version": "1.5.0",
          "state": {
            "_dom_classes": [],
            "_model_module": "@jupyter-widgets/controls",
            "_model_module_version": "1.5.0",
            "_model_name": "HTMLModel",
            "_view_count": null,
            "_view_module": "@jupyter-widgets/controls",
            "_view_module_version": "1.5.0",
            "_view_name": "HTMLView",
            "description": "",
            "description_tooltip": null,
            "layout": "IPY_MODEL_4e32686b2ede4b17b3cae81d654489cf",
            "placeholder": "​",
            "style": "IPY_MODEL_c5016db566e1441c89cfd6f7689fcd4c",
            "value": " 125/125 [00:00&lt;00:00, 2.53kB/s]"
          }
        },
        "a7ddbb5a07d94402ba6aa3661a984c2a": {
          "model_module": "@jupyter-widgets/base",
          "model_name": "LayoutModel",
          "model_module_version": "1.2.0",
          "state": {
            "_model_module": "@jupyter-widgets/base",
            "_model_module_version": "1.2.0",
            "_model_name": "LayoutModel",
            "_view_count": null,
            "_view_module": "@jupyter-widgets/base",
            "_view_module_version": "1.2.0",
            "_view_name": "LayoutView",
            "align_content": null,
            "align_items": null,
            "align_self": null,
            "border": null,
            "bottom": null,
            "display": null,
            "flex": null,
            "flex_flow": null,
            "grid_area": null,
            "grid_auto_columns": null,
            "grid_auto_flow": null,
            "grid_auto_rows": null,
            "grid_column": null,
            "grid_gap": null,
            "grid_row": null,
            "grid_template_areas": null,
            "grid_template_columns": null,
            "grid_template_rows": null,
            "height": null,
            "justify_content": null,
            "justify_items": null,
            "left": null,
            "margin": null,
            "max_height": null,
            "max_width": null,
            "min_height": null,
            "min_width": null,
            "object_fit": null,
            "object_position": null,
            "order": null,
            "overflow": null,
            "overflow_x": null,
            "overflow_y": null,
            "padding": null,
            "right": null,
            "top": null,
            "visibility": null,
            "width": null
          }
        },
        "b3fb7fda70414f7d9a66d465b23a5255": {
          "model_module": "@jupyter-widgets/base",
          "model_name": "LayoutModel",
          "model_module_version": "1.2.0",
          "state": {
            "_model_module": "@jupyter-widgets/base",
            "_model_module_version": "1.2.0",
            "_model_name": "LayoutModel",
            "_view_count": null,
            "_view_module": "@jupyter-widgets/base",
            "_view_module_version": "1.2.0",
            "_view_name": "LayoutView",
            "align_content": null,
            "align_items": null,
            "align_self": null,
            "border": null,
            "bottom": null,
            "display": null,
            "flex": null,
            "flex_flow": null,
            "grid_area": null,
            "grid_auto_columns": null,
            "grid_auto_flow": null,
            "grid_auto_rows": null,
            "grid_column": null,
            "grid_gap": null,
            "grid_row": null,
            "grid_template_areas": null,
            "grid_template_columns": null,
            "grid_template_rows": null,
            "height": null,
            "justify_content": null,
            "justify_items": null,
            "left": null,
            "margin": null,
            "max_height": null,
            "max_width": null,
            "min_height": null,
            "min_width": null,
            "object_fit": null,
            "object_position": null,
            "order": null,
            "overflow": null,
            "overflow_x": null,
            "overflow_y": null,
            "padding": null,
            "right": null,
            "top": null,
            "visibility": null,
            "width": null
          }
        },
        "fc4b66d2f2564c20828885667d3350aa": {
          "model_module": "@jupyter-widgets/controls",
          "model_name": "DescriptionStyleModel",
          "model_module_version": "1.5.0",
          "state": {
            "_model_module": "@jupyter-widgets/controls",
            "_model_module_version": "1.5.0",
            "_model_name": "DescriptionStyleModel",
            "_view_count": null,
            "_view_module": "@jupyter-widgets/base",
            "_view_module_version": "1.2.0",
            "_view_name": "StyleView",
            "description_width": ""
          }
        },
        "cb796732f7ad4fe98db5634022bba6f1": {
          "model_module": "@jupyter-widgets/base",
          "model_name": "LayoutModel",
          "model_module_version": "1.2.0",
          "state": {
            "_model_module": "@jupyter-widgets/base",
            "_model_module_version": "1.2.0",
            "_model_name": "LayoutModel",
            "_view_count": null,
            "_view_module": "@jupyter-widgets/base",
            "_view_module_version": "1.2.0",
            "_view_name": "LayoutView",
            "align_content": null,
            "align_items": null,
            "align_self": null,
            "border": null,
            "bottom": null,
            "display": null,
            "flex": null,
            "flex_flow": null,
            "grid_area": null,
            "grid_auto_columns": null,
            "grid_auto_flow": null,
            "grid_auto_rows": null,
            "grid_column": null,
            "grid_gap": null,
            "grid_row": null,
            "grid_template_areas": null,
            "grid_template_columns": null,
            "grid_template_rows": null,
            "height": null,
            "justify_content": null,
            "justify_items": null,
            "left": null,
            "margin": null,
            "max_height": null,
            "max_width": null,
            "min_height": null,
            "min_width": null,
            "object_fit": null,
            "object_position": null,
            "order": null,
            "overflow": null,
            "overflow_x": null,
            "overflow_y": null,
            "padding": null,
            "right": null,
            "top": null,
            "visibility": null,
            "width": null
          }
        },
        "76eedf4437334d829bac6ecb3d0eedb1": {
          "model_module": "@jupyter-widgets/controls",
          "model_name": "ProgressStyleModel",
          "model_module_version": "1.5.0",
          "state": {
            "_model_module": "@jupyter-widgets/controls",
            "_model_module_version": "1.5.0",
            "_model_name": "ProgressStyleModel",
            "_view_count": null,
            "_view_module": "@jupyter-widgets/base",
            "_view_module_version": "1.2.0",
            "_view_name": "StyleView",
            "bar_color": null,
            "description_width": ""
          }
        },
        "4e32686b2ede4b17b3cae81d654489cf": {
          "model_module": "@jupyter-widgets/base",
          "model_name": "LayoutModel",
          "model_module_version": "1.2.0",
          "state": {
            "_model_module": "@jupyter-widgets/base",
            "_model_module_version": "1.2.0",
            "_model_name": "LayoutModel",
            "_view_count": null,
            "_view_module": "@jupyter-widgets/base",
            "_view_module_version": "1.2.0",
            "_view_name": "LayoutView",
            "align_content": null,
            "align_items": null,
            "align_self": null,
            "border": null,
            "bottom": null,
            "display": null,
            "flex": null,
            "flex_flow": null,
            "grid_area": null,
            "grid_auto_columns": null,
            "grid_auto_flow": null,
            "grid_auto_rows": null,
            "grid_column": null,
            "grid_gap": null,
            "grid_row": null,
            "grid_template_areas": null,
            "grid_template_columns": null,
            "grid_template_rows": null,
            "height": null,
            "justify_content": null,
            "justify_items": null,
            "left": null,
            "margin": null,
            "max_height": null,
            "max_width": null,
            "min_height": null,
            "min_width": null,
            "object_fit": null,
            "object_position": null,
            "order": null,
            "overflow": null,
            "overflow_x": null,
            "overflow_y": null,
            "padding": null,
            "right": null,
            "top": null,
            "visibility": null,
            "width": null
          }
        },
        "c5016db566e1441c89cfd6f7689fcd4c": {
          "model_module": "@jupyter-widgets/controls",
          "model_name": "DescriptionStyleModel",
          "model_module_version": "1.5.0",
          "state": {
            "_model_module": "@jupyter-widgets/controls",
            "_model_module_version": "1.5.0",
            "_model_name": "DescriptionStyleModel",
            "_view_count": null,
            "_view_module": "@jupyter-widgets/base",
            "_view_module_version": "1.2.0",
            "_view_name": "StyleView",
            "description_width": ""
          }
        },
        "2fe3040a9dc24a5da9c8bf78ff064405": {
          "model_module": "@jupyter-widgets/controls",
          "model_name": "HBoxModel",
          "model_module_version": "1.5.0",
          "state": {
            "_dom_classes": [],
            "_model_module": "@jupyter-widgets/controls",
            "_model_module_version": "1.5.0",
            "_model_name": "HBoxModel",
            "_view_count": null,
            "_view_module": "@jupyter-widgets/controls",
            "_view_module_version": "1.5.0",
            "_view_name": "HBoxView",
            "box_style": "",
            "children": [
              "IPY_MODEL_2775b92e49424a97a14692516a79f4ed",
              "IPY_MODEL_78aa613ecb284b69a55c8fb83e5f2a08",
              "IPY_MODEL_bb3a33e98e364d1880a347f639eaae2f"
            ],
            "layout": "IPY_MODEL_a801b49e56484a978e55172e8429a913"
          }
        },
        "2775b92e49424a97a14692516a79f4ed": {
          "model_module": "@jupyter-widgets/controls",
          "model_name": "HTMLModel",
          "model_module_version": "1.5.0",
          "state": {
            "_dom_classes": [],
            "_model_module": "@jupyter-widgets/controls",
            "_model_module_version": "1.5.0",
            "_model_name": "HTMLModel",
            "_view_count": null,
            "_view_module": "@jupyter-widgets/controls",
            "_view_module_version": "1.5.0",
            "_view_name": "HTMLView",
            "description": "",
            "description_tooltip": null,
            "layout": "IPY_MODEL_42a8463c3a0c4b788ce6483de335d491",
            "placeholder": "​",
            "style": "IPY_MODEL_fa905bd3cae540748491704c3370d8a7",
            "value": "Downloading (…)lve/main/config.json: 100%"
          }
        },
        "78aa613ecb284b69a55c8fb83e5f2a08": {
          "model_module": "@jupyter-widgets/controls",
          "model_name": "FloatProgressModel",
          "model_module_version": "1.5.0",
          "state": {
            "_dom_classes": [],
            "_model_module": "@jupyter-widgets/controls",
            "_model_module_version": "1.5.0",
            "_model_name": "FloatProgressModel",
            "_view_count": null,
            "_view_module": "@jupyter-widgets/controls",
            "_view_module_version": "1.5.0",
            "_view_name": "ProgressView",
            "bar_style": "success",
            "description": "",
            "description_tooltip": null,
            "layout": "IPY_MODEL_b1eb791e6edf46fd8591b59d785cdab4",
            "max": 966,
            "min": 0,
            "orientation": "horizontal",
            "style": "IPY_MODEL_33e54238834d4d8e86785b8b69e23b4b",
            "value": 966
          }
        },
        "bb3a33e98e364d1880a347f639eaae2f": {
          "model_module": "@jupyter-widgets/controls",
          "model_name": "HTMLModel",
          "model_module_version": "1.5.0",
          "state": {
            "_dom_classes": [],
            "_model_module": "@jupyter-widgets/controls",
            "_model_module_version": "1.5.0",
            "_model_name": "HTMLModel",
            "_view_count": null,
            "_view_module": "@jupyter-widgets/controls",
            "_view_module_version": "1.5.0",
            "_view_name": "HTMLView",
            "description": "",
            "description_tooltip": null,
            "layout": "IPY_MODEL_a2657ef02b474d36941204647f341137",
            "placeholder": "​",
            "style": "IPY_MODEL_f90442d0021640acb0f97eb7cd962c92",
            "value": " 966/966 [00:00&lt;00:00, 16.2kB/s]"
          }
        },
        "a801b49e56484a978e55172e8429a913": {
          "model_module": "@jupyter-widgets/base",
          "model_name": "LayoutModel",
          "model_module_version": "1.2.0",
          "state": {
            "_model_module": "@jupyter-widgets/base",
            "_model_module_version": "1.2.0",
            "_model_name": "LayoutModel",
            "_view_count": null,
            "_view_module": "@jupyter-widgets/base",
            "_view_module_version": "1.2.0",
            "_view_name": "LayoutView",
            "align_content": null,
            "align_items": null,
            "align_self": null,
            "border": null,
            "bottom": null,
            "display": null,
            "flex": null,
            "flex_flow": null,
            "grid_area": null,
            "grid_auto_columns": null,
            "grid_auto_flow": null,
            "grid_auto_rows": null,
            "grid_column": null,
            "grid_gap": null,
            "grid_row": null,
            "grid_template_areas": null,
            "grid_template_columns": null,
            "grid_template_rows": null,
            "height": null,
            "justify_content": null,
            "justify_items": null,
            "left": null,
            "margin": null,
            "max_height": null,
            "max_width": null,
            "min_height": null,
            "min_width": null,
            "object_fit": null,
            "object_position": null,
            "order": null,
            "overflow": null,
            "overflow_x": null,
            "overflow_y": null,
            "padding": null,
            "right": null,
            "top": null,
            "visibility": null,
            "width": null
          }
        },
        "42a8463c3a0c4b788ce6483de335d491": {
          "model_module": "@jupyter-widgets/base",
          "model_name": "LayoutModel",
          "model_module_version": "1.2.0",
          "state": {
            "_model_module": "@jupyter-widgets/base",
            "_model_module_version": "1.2.0",
            "_model_name": "LayoutModel",
            "_view_count": null,
            "_view_module": "@jupyter-widgets/base",
            "_view_module_version": "1.2.0",
            "_view_name": "LayoutView",
            "align_content": null,
            "align_items": null,
            "align_self": null,
            "border": null,
            "bottom": null,
            "display": null,
            "flex": null,
            "flex_flow": null,
            "grid_area": null,
            "grid_auto_columns": null,
            "grid_auto_flow": null,
            "grid_auto_rows": null,
            "grid_column": null,
            "grid_gap": null,
            "grid_row": null,
            "grid_template_areas": null,
            "grid_template_columns": null,
            "grid_template_rows": null,
            "height": null,
            "justify_content": null,
            "justify_items": null,
            "left": null,
            "margin": null,
            "max_height": null,
            "max_width": null,
            "min_height": null,
            "min_width": null,
            "object_fit": null,
            "object_position": null,
            "order": null,
            "overflow": null,
            "overflow_x": null,
            "overflow_y": null,
            "padding": null,
            "right": null,
            "top": null,
            "visibility": null,
            "width": null
          }
        },
        "fa905bd3cae540748491704c3370d8a7": {
          "model_module": "@jupyter-widgets/controls",
          "model_name": "DescriptionStyleModel",
          "model_module_version": "1.5.0",
          "state": {
            "_model_module": "@jupyter-widgets/controls",
            "_model_module_version": "1.5.0",
            "_model_name": "DescriptionStyleModel",
            "_view_count": null,
            "_view_module": "@jupyter-widgets/base",
            "_view_module_version": "1.2.0",
            "_view_name": "StyleView",
            "description_width": ""
          }
        },
        "b1eb791e6edf46fd8591b59d785cdab4": {
          "model_module": "@jupyter-widgets/base",
          "model_name": "LayoutModel",
          "model_module_version": "1.2.0",
          "state": {
            "_model_module": "@jupyter-widgets/base",
            "_model_module_version": "1.2.0",
            "_model_name": "LayoutModel",
            "_view_count": null,
            "_view_module": "@jupyter-widgets/base",
            "_view_module_version": "1.2.0",
            "_view_name": "LayoutView",
            "align_content": null,
            "align_items": null,
            "align_self": null,
            "border": null,
            "bottom": null,
            "display": null,
            "flex": null,
            "flex_flow": null,
            "grid_area": null,
            "grid_auto_columns": null,
            "grid_auto_flow": null,
            "grid_auto_rows": null,
            "grid_column": null,
            "grid_gap": null,
            "grid_row": null,
            "grid_template_areas": null,
            "grid_template_columns": null,
            "grid_template_rows": null,
            "height": null,
            "justify_content": null,
            "justify_items": null,
            "left": null,
            "margin": null,
            "max_height": null,
            "max_width": null,
            "min_height": null,
            "min_width": null,
            "object_fit": null,
            "object_position": null,
            "order": null,
            "overflow": null,
            "overflow_x": null,
            "overflow_y": null,
            "padding": null,
            "right": null,
            "top": null,
            "visibility": null,
            "width": null
          }
        },
        "33e54238834d4d8e86785b8b69e23b4b": {
          "model_module": "@jupyter-widgets/controls",
          "model_name": "ProgressStyleModel",
          "model_module_version": "1.5.0",
          "state": {
            "_model_module": "@jupyter-widgets/controls",
            "_model_module_version": "1.5.0",
            "_model_name": "ProgressStyleModel",
            "_view_count": null,
            "_view_module": "@jupyter-widgets/base",
            "_view_module_version": "1.2.0",
            "_view_name": "StyleView",
            "bar_color": null,
            "description_width": ""
          }
        },
        "a2657ef02b474d36941204647f341137": {
          "model_module": "@jupyter-widgets/base",
          "model_name": "LayoutModel",
          "model_module_version": "1.2.0",
          "state": {
            "_model_module": "@jupyter-widgets/base",
            "_model_module_version": "1.2.0",
            "_model_name": "LayoutModel",
            "_view_count": null,
            "_view_module": "@jupyter-widgets/base",
            "_view_module_version": "1.2.0",
            "_view_name": "LayoutView",
            "align_content": null,
            "align_items": null,
            "align_self": null,
            "border": null,
            "bottom": null,
            "display": null,
            "flex": null,
            "flex_flow": null,
            "grid_area": null,
            "grid_auto_columns": null,
            "grid_auto_flow": null,
            "grid_auto_rows": null,
            "grid_column": null,
            "grid_gap": null,
            "grid_row": null,
            "grid_template_areas": null,
            "grid_template_columns": null,
            "grid_template_rows": null,
            "height": null,
            "justify_content": null,
            "justify_items": null,
            "left": null,
            "margin": null,
            "max_height": null,
            "max_width": null,
            "min_height": null,
            "min_width": null,
            "object_fit": null,
            "object_position": null,
            "order": null,
            "overflow": null,
            "overflow_x": null,
            "overflow_y": null,
            "padding": null,
            "right": null,
            "top": null,
            "visibility": null,
            "width": null
          }
        },
        "f90442d0021640acb0f97eb7cd962c92": {
          "model_module": "@jupyter-widgets/controls",
          "model_name": "DescriptionStyleModel",
          "model_module_version": "1.5.0",
          "state": {
            "_model_module": "@jupyter-widgets/controls",
            "_model_module_version": "1.5.0",
            "_model_name": "DescriptionStyleModel",
            "_view_count": null,
            "_view_module": "@jupyter-widgets/base",
            "_view_module_version": "1.2.0",
            "_view_name": "StyleView",
            "description_width": ""
          }
        },
        "024387ef5ed747cc940da4c1debcd6fd": {
          "model_module": "@jupyter-widgets/controls",
          "model_name": "HBoxModel",
          "model_module_version": "1.5.0",
          "state": {
            "_dom_classes": [],
            "_model_module": "@jupyter-widgets/controls",
            "_model_module_version": "1.5.0",
            "_model_name": "HBoxModel",
            "_view_count": null,
            "_view_module": "@jupyter-widgets/controls",
            "_view_module_version": "1.5.0",
            "_view_name": "HBoxView",
            "box_style": "",
            "children": [
              "IPY_MODEL_a9537ca861e54b999642e1f93c3690ae",
              "IPY_MODEL_7ecb5f66fc204ed5a5f93b185f28b50c",
              "IPY_MODEL_b42bc54d51444de28d84045dac637a12"
            ],
            "layout": "IPY_MODEL_c9e18f6ab250402a8acc26f9c7259c0c"
          }
        },
        "a9537ca861e54b999642e1f93c3690ae": {
          "model_module": "@jupyter-widgets/controls",
          "model_name": "HTMLModel",
          "model_module_version": "1.5.0",
          "state": {
            "_dom_classes": [],
            "_model_module": "@jupyter-widgets/controls",
            "_model_module_version": "1.5.0",
            "_model_name": "HTMLModel",
            "_view_count": null,
            "_view_module": "@jupyter-widgets/controls",
            "_view_module_version": "1.5.0",
            "_view_name": "HTMLView",
            "description": "",
            "description_tooltip": null,
            "layout": "IPY_MODEL_50ea0344b7fd49b3b30a28e2360d802b",
            "placeholder": "​",
            "style": "IPY_MODEL_30c7aa427bdb4e07b0b574060baee711",
            "value": "Downloading (…)solve/main/models.py: 100%"
          }
        },
        "7ecb5f66fc204ed5a5f93b185f28b50c": {
          "model_module": "@jupyter-widgets/controls",
          "model_name": "FloatProgressModel",
          "model_module_version": "1.5.0",
          "state": {
            "_dom_classes": [],
            "_model_module": "@jupyter-widgets/controls",
            "_model_module_version": "1.5.0",
            "_model_name": "FloatProgressModel",
            "_view_count": null,
            "_view_module": "@jupyter-widgets/controls",
            "_view_module_version": "1.5.0",
            "_view_name": "ProgressView",
            "bar_style": "success",
            "description": "",
            "description_tooltip": null,
            "layout": "IPY_MODEL_5e43385f695540fb8fc8137371d7cde5",
            "max": 21133,
            "min": 0,
            "orientation": "horizontal",
            "style": "IPY_MODEL_9f1d07a19761417eb6f095db93ae9c15",
            "value": 21133
          }
        },
        "b42bc54d51444de28d84045dac637a12": {
          "model_module": "@jupyter-widgets/controls",
          "model_name": "HTMLModel",
          "model_module_version": "1.5.0",
          "state": {
            "_dom_classes": [],
            "_model_module": "@jupyter-widgets/controls",
            "_model_module_version": "1.5.0",
            "_model_name": "HTMLModel",
            "_view_count": null,
            "_view_module": "@jupyter-widgets/controls",
            "_view_module_version": "1.5.0",
            "_view_name": "HTMLView",
            "description": "",
            "description_tooltip": null,
            "layout": "IPY_MODEL_eccfad012a9e4f15a63d33c2643b018a",
            "placeholder": "​",
            "style": "IPY_MODEL_47f9b706a5964fbe953e4f7cd01d4891",
            "value": " 21.1k/21.1k [00:00&lt;00:00, 332kB/s]"
          }
        },
        "c9e18f6ab250402a8acc26f9c7259c0c": {
          "model_module": "@jupyter-widgets/base",
          "model_name": "LayoutModel",
          "model_module_version": "1.2.0",
          "state": {
            "_model_module": "@jupyter-widgets/base",
            "_model_module_version": "1.2.0",
            "_model_name": "LayoutModel",
            "_view_count": null,
            "_view_module": "@jupyter-widgets/base",
            "_view_module_version": "1.2.0",
            "_view_name": "LayoutView",
            "align_content": null,
            "align_items": null,
            "align_self": null,
            "border": null,
            "bottom": null,
            "display": null,
            "flex": null,
            "flex_flow": null,
            "grid_area": null,
            "grid_auto_columns": null,
            "grid_auto_flow": null,
            "grid_auto_rows": null,
            "grid_column": null,
            "grid_gap": null,
            "grid_row": null,
            "grid_template_areas": null,
            "grid_template_columns": null,
            "grid_template_rows": null,
            "height": null,
            "justify_content": null,
            "justify_items": null,
            "left": null,
            "margin": null,
            "max_height": null,
            "max_width": null,
            "min_height": null,
            "min_width": null,
            "object_fit": null,
            "object_position": null,
            "order": null,
            "overflow": null,
            "overflow_x": null,
            "overflow_y": null,
            "padding": null,
            "right": null,
            "top": null,
            "visibility": null,
            "width": null
          }
        },
        "50ea0344b7fd49b3b30a28e2360d802b": {
          "model_module": "@jupyter-widgets/base",
          "model_name": "LayoutModel",
          "model_module_version": "1.2.0",
          "state": {
            "_model_module": "@jupyter-widgets/base",
            "_model_module_version": "1.2.0",
            "_model_name": "LayoutModel",
            "_view_count": null,
            "_view_module": "@jupyter-widgets/base",
            "_view_module_version": "1.2.0",
            "_view_name": "LayoutView",
            "align_content": null,
            "align_items": null,
            "align_self": null,
            "border": null,
            "bottom": null,
            "display": null,
            "flex": null,
            "flex_flow": null,
            "grid_area": null,
            "grid_auto_columns": null,
            "grid_auto_flow": null,
            "grid_auto_rows": null,
            "grid_column": null,
            "grid_gap": null,
            "grid_row": null,
            "grid_template_areas": null,
            "grid_template_columns": null,
            "grid_template_rows": null,
            "height": null,
            "justify_content": null,
            "justify_items": null,
            "left": null,
            "margin": null,
            "max_height": null,
            "max_width": null,
            "min_height": null,
            "min_width": null,
            "object_fit": null,
            "object_position": null,
            "order": null,
            "overflow": null,
            "overflow_x": null,
            "overflow_y": null,
            "padding": null,
            "right": null,
            "top": null,
            "visibility": null,
            "width": null
          }
        },
        "30c7aa427bdb4e07b0b574060baee711": {
          "model_module": "@jupyter-widgets/controls",
          "model_name": "DescriptionStyleModel",
          "model_module_version": "1.5.0",
          "state": {
            "_model_module": "@jupyter-widgets/controls",
            "_model_module_version": "1.5.0",
            "_model_name": "DescriptionStyleModel",
            "_view_count": null,
            "_view_module": "@jupyter-widgets/base",
            "_view_module_version": "1.2.0",
            "_view_name": "StyleView",
            "description_width": ""
          }
        },
        "5e43385f695540fb8fc8137371d7cde5": {
          "model_module": "@jupyter-widgets/base",
          "model_name": "LayoutModel",
          "model_module_version": "1.2.0",
          "state": {
            "_model_module": "@jupyter-widgets/base",
            "_model_module_version": "1.2.0",
            "_model_name": "LayoutModel",
            "_view_count": null,
            "_view_module": "@jupyter-widgets/base",
            "_view_module_version": "1.2.0",
            "_view_name": "LayoutView",
            "align_content": null,
            "align_items": null,
            "align_self": null,
            "border": null,
            "bottom": null,
            "display": null,
            "flex": null,
            "flex_flow": null,
            "grid_area": null,
            "grid_auto_columns": null,
            "grid_auto_flow": null,
            "grid_auto_rows": null,
            "grid_column": null,
            "grid_gap": null,
            "grid_row": null,
            "grid_template_areas": null,
            "grid_template_columns": null,
            "grid_template_rows": null,
            "height": null,
            "justify_content": null,
            "justify_items": null,
            "left": null,
            "margin": null,
            "max_height": null,
            "max_width": null,
            "min_height": null,
            "min_width": null,
            "object_fit": null,
            "object_position": null,
            "order": null,
            "overflow": null,
            "overflow_x": null,
            "overflow_y": null,
            "padding": null,
            "right": null,
            "top": null,
            "visibility": null,
            "width": null
          }
        },
        "9f1d07a19761417eb6f095db93ae9c15": {
          "model_module": "@jupyter-widgets/controls",
          "model_name": "ProgressStyleModel",
          "model_module_version": "1.5.0",
          "state": {
            "_model_module": "@jupyter-widgets/controls",
            "_model_module_version": "1.5.0",
            "_model_name": "ProgressStyleModel",
            "_view_count": null,
            "_view_module": "@jupyter-widgets/base",
            "_view_module_version": "1.2.0",
            "_view_name": "StyleView",
            "bar_color": null,
            "description_width": ""
          }
        },
        "eccfad012a9e4f15a63d33c2643b018a": {
          "model_module": "@jupyter-widgets/base",
          "model_name": "LayoutModel",
          "model_module_version": "1.2.0",
          "state": {
            "_model_module": "@jupyter-widgets/base",
            "_model_module_version": "1.2.0",
            "_model_name": "LayoutModel",
            "_view_count": null,
            "_view_module": "@jupyter-widgets/base",
            "_view_module_version": "1.2.0",
            "_view_name": "LayoutView",
            "align_content": null,
            "align_items": null,
            "align_self": null,
            "border": null,
            "bottom": null,
            "display": null,
            "flex": null,
            "flex_flow": null,
            "grid_area": null,
            "grid_auto_columns": null,
            "grid_auto_flow": null,
            "grid_auto_rows": null,
            "grid_column": null,
            "grid_gap": null,
            "grid_row": null,
            "grid_template_areas": null,
            "grid_template_columns": null,
            "grid_template_rows": null,
            "height": null,
            "justify_content": null,
            "justify_items": null,
            "left": null,
            "margin": null,
            "max_height": null,
            "max_width": null,
            "min_height": null,
            "min_width": null,
            "object_fit": null,
            "object_position": null,
            "order": null,
            "overflow": null,
            "overflow_x": null,
            "overflow_y": null,
            "padding": null,
            "right": null,
            "top": null,
            "visibility": null,
            "width": null
          }
        },
        "47f9b706a5964fbe953e4f7cd01d4891": {
          "model_module": "@jupyter-widgets/controls",
          "model_name": "DescriptionStyleModel",
          "model_module_version": "1.5.0",
          "state": {
            "_model_module": "@jupyter-widgets/controls",
            "_model_module_version": "1.5.0",
            "_model_name": "DescriptionStyleModel",
            "_view_count": null,
            "_view_module": "@jupyter-widgets/base",
            "_view_module_version": "1.2.0",
            "_view_name": "StyleView",
            "description_width": ""
          }
        },
        "d4f83673b43b4012989974d7484a75d0": {
          "model_module": "@jupyter-widgets/controls",
          "model_name": "HBoxModel",
          "model_module_version": "1.5.0",
          "state": {
            "_dom_classes": [],
            "_model_module": "@jupyter-widgets/controls",
            "_model_module_version": "1.5.0",
            "_model_name": "HBoxModel",
            "_view_count": null,
            "_view_module": "@jupyter-widgets/controls",
            "_view_module_version": "1.5.0",
            "_view_name": "HBoxView",
            "box_style": "",
            "children": [
              "IPY_MODEL_5fe1da6873f7416cae62c5bfb20d95ef",
              "IPY_MODEL_0f0b95d2f1b642f19717a3c72b863278",
              "IPY_MODEL_5a90bf64abdc452080de7ce2f77c521e"
            ],
            "layout": "IPY_MODEL_f48ace51b62c4f67beb702268eda5568"
          }
        },
        "5fe1da6873f7416cae62c5bfb20d95ef": {
          "model_module": "@jupyter-widgets/controls",
          "model_name": "HTMLModel",
          "model_module_version": "1.5.0",
          "state": {
            "_dom_classes": [],
            "_model_module": "@jupyter-widgets/controls",
            "_model_module_version": "1.5.0",
            "_model_name": "HTMLModel",
            "_view_count": null,
            "_view_module": "@jupyter-widgets/controls",
            "_view_module_version": "1.5.0",
            "_view_name": "HTMLView",
            "description": "",
            "description_tooltip": null,
            "layout": "IPY_MODEL_d9ffa009e9c54b4fa7e415c97721702f",
            "placeholder": "​",
            "style": "IPY_MODEL_331b07d088bc46f1ad037ad5edd3137a",
            "value": "Downloading pytorch_model.bin: 100%"
          }
        },
        "0f0b95d2f1b642f19717a3c72b863278": {
          "model_module": "@jupyter-widgets/controls",
          "model_name": "FloatProgressModel",
          "model_module_version": "1.5.0",
          "state": {
            "_dom_classes": [],
            "_model_module": "@jupyter-widgets/controls",
            "_model_module_version": "1.5.0",
            "_model_name": "FloatProgressModel",
            "_view_count": null,
            "_view_module": "@jupyter-widgets/controls",
            "_view_module_version": "1.5.0",
            "_view_name": "ProgressView",
            "bar_style": "success",
            "description": "",
            "description_tooltip": null,
            "layout": "IPY_MODEL_f84090b919f842b1a555e0719452def3",
            "max": 413868149,
            "min": 0,
            "orientation": "horizontal",
            "style": "IPY_MODEL_3db9f89a8ae4468a813c005364670d77",
            "value": 413868149
          }
        },
        "5a90bf64abdc452080de7ce2f77c521e": {
          "model_module": "@jupyter-widgets/controls",
          "model_name": "HTMLModel",
          "model_module_version": "1.5.0",
          "state": {
            "_dom_classes": [],
            "_model_module": "@jupyter-widgets/controls",
            "_model_module_version": "1.5.0",
            "_model_name": "HTMLModel",
            "_view_count": null,
            "_view_module": "@jupyter-widgets/controls",
            "_view_module_version": "1.5.0",
            "_view_name": "HTMLView",
            "description": "",
            "description_tooltip": null,
            "layout": "IPY_MODEL_22b572393b344a008059634ccf353ac7",
            "placeholder": "​",
            "style": "IPY_MODEL_987dd049250344e5a8b40d1ff718732e",
            "value": " 414M/414M [00:03&lt;00:00, 138MB/s]"
          }
        },
        "f48ace51b62c4f67beb702268eda5568": {
          "model_module": "@jupyter-widgets/base",
          "model_name": "LayoutModel",
          "model_module_version": "1.2.0",
          "state": {
            "_model_module": "@jupyter-widgets/base",
            "_model_module_version": "1.2.0",
            "_model_name": "LayoutModel",
            "_view_count": null,
            "_view_module": "@jupyter-widgets/base",
            "_view_module_version": "1.2.0",
            "_view_name": "LayoutView",
            "align_content": null,
            "align_items": null,
            "align_self": null,
            "border": null,
            "bottom": null,
            "display": null,
            "flex": null,
            "flex_flow": null,
            "grid_area": null,
            "grid_auto_columns": null,
            "grid_auto_flow": null,
            "grid_auto_rows": null,
            "grid_column": null,
            "grid_gap": null,
            "grid_row": null,
            "grid_template_areas": null,
            "grid_template_columns": null,
            "grid_template_rows": null,
            "height": null,
            "justify_content": null,
            "justify_items": null,
            "left": null,
            "margin": null,
            "max_height": null,
            "max_width": null,
            "min_height": null,
            "min_width": null,
            "object_fit": null,
            "object_position": null,
            "order": null,
            "overflow": null,
            "overflow_x": null,
            "overflow_y": null,
            "padding": null,
            "right": null,
            "top": null,
            "visibility": null,
            "width": null
          }
        },
        "d9ffa009e9c54b4fa7e415c97721702f": {
          "model_module": "@jupyter-widgets/base",
          "model_name": "LayoutModel",
          "model_module_version": "1.2.0",
          "state": {
            "_model_module": "@jupyter-widgets/base",
            "_model_module_version": "1.2.0",
            "_model_name": "LayoutModel",
            "_view_count": null,
            "_view_module": "@jupyter-widgets/base",
            "_view_module_version": "1.2.0",
            "_view_name": "LayoutView",
            "align_content": null,
            "align_items": null,
            "align_self": null,
            "border": null,
            "bottom": null,
            "display": null,
            "flex": null,
            "flex_flow": null,
            "grid_area": null,
            "grid_auto_columns": null,
            "grid_auto_flow": null,
            "grid_auto_rows": null,
            "grid_column": null,
            "grid_gap": null,
            "grid_row": null,
            "grid_template_areas": null,
            "grid_template_columns": null,
            "grid_template_rows": null,
            "height": null,
            "justify_content": null,
            "justify_items": null,
            "left": null,
            "margin": null,
            "max_height": null,
            "max_width": null,
            "min_height": null,
            "min_width": null,
            "object_fit": null,
            "object_position": null,
            "order": null,
            "overflow": null,
            "overflow_x": null,
            "overflow_y": null,
            "padding": null,
            "right": null,
            "top": null,
            "visibility": null,
            "width": null
          }
        },
        "331b07d088bc46f1ad037ad5edd3137a": {
          "model_module": "@jupyter-widgets/controls",
          "model_name": "DescriptionStyleModel",
          "model_module_version": "1.5.0",
          "state": {
            "_model_module": "@jupyter-widgets/controls",
            "_model_module_version": "1.5.0",
            "_model_name": "DescriptionStyleModel",
            "_view_count": null,
            "_view_module": "@jupyter-widgets/base",
            "_view_module_version": "1.2.0",
            "_view_name": "StyleView",
            "description_width": ""
          }
        },
        "f84090b919f842b1a555e0719452def3": {
          "model_module": "@jupyter-widgets/base",
          "model_name": "LayoutModel",
          "model_module_version": "1.2.0",
          "state": {
            "_model_module": "@jupyter-widgets/base",
            "_model_module_version": "1.2.0",
            "_model_name": "LayoutModel",
            "_view_count": null,
            "_view_module": "@jupyter-widgets/base",
            "_view_module_version": "1.2.0",
            "_view_name": "LayoutView",
            "align_content": null,
            "align_items": null,
            "align_self": null,
            "border": null,
            "bottom": null,
            "display": null,
            "flex": null,
            "flex_flow": null,
            "grid_area": null,
            "grid_auto_columns": null,
            "grid_auto_flow": null,
            "grid_auto_rows": null,
            "grid_column": null,
            "grid_gap": null,
            "grid_row": null,
            "grid_template_areas": null,
            "grid_template_columns": null,
            "grid_template_rows": null,
            "height": null,
            "justify_content": null,
            "justify_items": null,
            "left": null,
            "margin": null,
            "max_height": null,
            "max_width": null,
            "min_height": null,
            "min_width": null,
            "object_fit": null,
            "object_position": null,
            "order": null,
            "overflow": null,
            "overflow_x": null,
            "overflow_y": null,
            "padding": null,
            "right": null,
            "top": null,
            "visibility": null,
            "width": null
          }
        },
        "3db9f89a8ae4468a813c005364670d77": {
          "model_module": "@jupyter-widgets/controls",
          "model_name": "ProgressStyleModel",
          "model_module_version": "1.5.0",
          "state": {
            "_model_module": "@jupyter-widgets/controls",
            "_model_module_version": "1.5.0",
            "_model_name": "ProgressStyleModel",
            "_view_count": null,
            "_view_module": "@jupyter-widgets/base",
            "_view_module_version": "1.2.0",
            "_view_name": "StyleView",
            "bar_color": null,
            "description_width": ""
          }
        },
        "22b572393b344a008059634ccf353ac7": {
          "model_module": "@jupyter-widgets/base",
          "model_name": "LayoutModel",
          "model_module_version": "1.2.0",
          "state": {
            "_model_module": "@jupyter-widgets/base",
            "_model_module_version": "1.2.0",
            "_model_name": "LayoutModel",
            "_view_count": null,
            "_view_module": "@jupyter-widgets/base",
            "_view_module_version": "1.2.0",
            "_view_name": "LayoutView",
            "align_content": null,
            "align_items": null,
            "align_self": null,
            "border": null,
            "bottom": null,
            "display": null,
            "flex": null,
            "flex_flow": null,
            "grid_area": null,
            "grid_auto_columns": null,
            "grid_auto_flow": null,
            "grid_auto_rows": null,
            "grid_column": null,
            "grid_gap": null,
            "grid_row": null,
            "grid_template_areas": null,
            "grid_template_columns": null,
            "grid_template_rows": null,
            "height": null,
            "justify_content": null,
            "justify_items": null,
            "left": null,
            "margin": null,
            "max_height": null,
            "max_width": null,
            "min_height": null,
            "min_width": null,
            "object_fit": null,
            "object_position": null,
            "order": null,
            "overflow": null,
            "overflow_x": null,
            "overflow_y": null,
            "padding": null,
            "right": null,
            "top": null,
            "visibility": null,
            "width": null
          }
        },
        "987dd049250344e5a8b40d1ff718732e": {
          "model_module": "@jupyter-widgets/controls",
          "model_name": "DescriptionStyleModel",
          "model_module_version": "1.5.0",
          "state": {
            "_model_module": "@jupyter-widgets/controls",
            "_model_module_version": "1.5.0",
            "_model_name": "DescriptionStyleModel",
            "_view_count": null,
            "_view_module": "@jupyter-widgets/base",
            "_view_module_version": "1.2.0",
            "_view_name": "StyleView",
            "description_width": ""
          }
        }
      }
    }
  },
  "nbformat": 4,
  "nbformat_minor": 0
}