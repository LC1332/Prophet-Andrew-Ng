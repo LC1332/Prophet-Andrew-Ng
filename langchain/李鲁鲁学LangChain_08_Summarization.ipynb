{
  "nbformat": 4,
  "nbformat_minor": 0,
  "metadata": {
    "colab": {
      "provenance": [],
      "include_colab_link": true
    },
    "kernelspec": {
      "name": "python3",
      "display_name": "Python 3"
    },
    "language_info": {
      "name": "python"
    }
  },
  "cells": [
    {
      "cell_type": "markdown",
      "metadata": {
        "id": "view-in-github",
        "colab_type": "text"
      },
      "source": [
        "<a href=\"https://colab.research.google.com/github/LC1332/Prophet-Andrew-Ng/blob/main/langchain/%E6%9D%8E%E9%B2%81%E9%B2%81%E5%AD%A6LangChain_08_Summarization.ipynb\" target=\"_parent\"><img src=\"https://colab.research.google.com/assets/colab-badge.svg\" alt=\"Open In Colab\"/></a>"
      ]
    },
    {
      "cell_type": "markdown",
      "source": [
        "# 李鲁鲁学LangChain 08 Summarization\n",
        "\n",
        "这是李鲁鲁的学习笔记，对Sam Witteveen的油管课程的记录\n",
        "\n",
        "增加了李鲁鲁学习时候的吐槽\n",
        "\n",
        "因为一个独立的md文件导入知乎会更方便，所以这个课程的笔记会记录在md中\n",
        "\n",
        "比如这节课在\n",
        "\n",
        "https://github.com/LC1332/Prophet-Andrew-Ng/blob/main/langchain/%E6%9D%8E%E9%B2%81%E9%B2%81%E5%AD%A6LangChain%2007.md\n",
        "\n",
        "欢迎访问[骆驼项目](https://github.com/LC1332/Luotuo-Chinese-LLM)主页和点赞"
      ],
      "metadata": {
        "id": "OjNU7UlyiiZA"
      }
    },
    {
      "cell_type": "code",
      "execution_count": 1,
      "metadata": {
        "id": "RRYSu48huSUW",
        "colab": {
          "base_uri": "https://localhost:8080/"
        },
        "outputId": "6eb293f0-1aac-4107-8a13-0ea4329744c3"
      },
      "outputs": [
        {
          "output_type": "stream",
          "name": "stdout",
          "text": [
            "\u001b[2K     \u001b[90m━━━━━━━━━━━━━━━━━━━━━━━━━━━━━━━━━━━━━━\u001b[0m \u001b[32m993.7/993.7 kB\u001b[0m \u001b[31m17.0 MB/s\u001b[0m eta \u001b[36m0:00:00\u001b[0m\n",
            "\u001b[2K     \u001b[90m━━━━━━━━━━━━━━━━━━━━━━━━━━━━━━━━━━━━━━━━\u001b[0m \u001b[32m70.1/70.1 kB\u001b[0m \u001b[31m4.4 MB/s\u001b[0m eta \u001b[36m0:00:00\u001b[0m\n",
            "\u001b[2K     \u001b[90m━━━━━━━━━━━━━━━━━━━━━━━━━━━━━━━━━━━━━━━━\u001b[0m \u001b[32m1.7/1.7 MB\u001b[0m \u001b[31m45.8 MB/s\u001b[0m eta \u001b[36m0:00:00\u001b[0m\n",
            "\u001b[2K     \u001b[90m━━━━━━━━━━━━━━━━━━━━━━━━━━━━━━━━━━━━━━━━\u001b[0m \u001b[32m1.0/1.0 MB\u001b[0m \u001b[31m47.3 MB/s\u001b[0m eta \u001b[36m0:00:00\u001b[0m\n",
            "\u001b[2K     \u001b[90m━━━━━━━━━━━━━━━━━━━━━━━━━━━━━━━━━━━━━━━━\u001b[0m \u001b[32m90.0/90.0 kB\u001b[0m \u001b[31m7.6 MB/s\u001b[0m eta \u001b[36m0:00:00\u001b[0m\n",
            "\u001b[2K     \u001b[90m━━━━━━━━━━━━━━━━━━━━━━━━━━━━━━━━━━━━━━━\u001b[0m \u001b[32m114.5/114.5 kB\u001b[0m \u001b[31m8.5 MB/s\u001b[0m eta \u001b[36m0:00:00\u001b[0m\n",
            "\u001b[2K     \u001b[90m━━━━━━━━━━━━━━━━━━━━━━━━━━━━━━━━━━━━━━\u001b[0m \u001b[32m268.8/268.8 kB\u001b[0m \u001b[31m14.9 MB/s\u001b[0m eta \u001b[36m0:00:00\u001b[0m\n",
            "\u001b[2K     \u001b[90m━━━━━━━━━━━━━━━━━━━━━━━━━━━━━━━━━━━━━━\u001b[0m \u001b[32m149.6/149.6 kB\u001b[0m \u001b[31m13.3 MB/s\u001b[0m eta \u001b[36m0:00:00\u001b[0m\n",
            "\u001b[2K     \u001b[90m━━━━━━━━━━━━━━━━━━━━━━━━━━━━━━━━━━━━━━━━\u001b[0m \u001b[32m49.1/49.1 kB\u001b[0m \u001b[31m4.4 MB/s\u001b[0m eta \u001b[36m0:00:00\u001b[0m\n",
            "\u001b[?25h"
          ]
        }
      ],
      "source": [
        "!pip -q install langchain openai==0.27.0 tiktoken"
      ]
    },
    {
      "cell_type": "markdown",
      "source": [
        "# Summarization\n",
        "\n",
        "History  \n",
        "Challenges  \n",
        "Fine-tuning  \n",
        "Instruct Tuning"
      ],
      "metadata": {
        "id": "wW6FD6FsT5Qf"
      }
    },
    {
      "cell_type": "code",
      "source": [
        "import os\n",
        "\n",
        "os.environ[\"OPENAI_API_KEY\"] = \"sk-KP8Zco\""
      ],
      "metadata": {
        "id": "dNA4TsHpu6OM"
      },
      "execution_count": 2,
      "outputs": []
    },
    {
      "cell_type": "code",
      "source": [
        "!pip show langchain"
      ],
      "metadata": {
        "id": "J-KFB7J_u_3L",
        "colab": {
          "base_uri": "https://localhost:8080/"
        },
        "outputId": "45493e88-15e1-4c35-8f8a-e1ac4710ecb7"
      },
      "execution_count": 3,
      "outputs": [
        {
          "output_type": "stream",
          "name": "stdout",
          "text": [
            "Name: langchain\n",
            "Version: 0.0.191\n",
            "Summary: Building applications with LLMs through composability\n",
            "Home-page: https://www.github.com/hwchase17/langchain\n",
            "Author: \n",
            "Author-email: \n",
            "License: MIT\n",
            "Location: /usr/local/lib/python3.10/dist-packages\n",
            "Requires: aiohttp, async-timeout, dataclasses-json, numexpr, numpy, openapi-schema-pydantic, pydantic, PyYAML, requests, SQLAlchemy, tenacity\n",
            "Required-by: \n"
          ]
        }
      ]
    },
    {
      "cell_type": "markdown",
      "source": [
        "### Setting up Summarization Chain"
      ],
      "metadata": {
        "id": "HqwsGJDhvAQ5"
      }
    },
    {
      "cell_type": "code",
      "source": [
        "from langchain import OpenAI, PromptTemplate, LLMChain\n",
        "from langchain.text_splitter import CharacterTextSplitter\n",
        "from langchain.chains.mapreduce import MapReduceChain\n",
        "from langchain.prompts import PromptTemplate\n",
        "\n",
        "# llm = OpenAI(temperature=0)"
      ],
      "metadata": {
        "id": "lgesD0jrvDyG"
      },
      "execution_count": 4,
      "outputs": []
    },
    {
      "cell_type": "markdown",
      "source": [
        "李鲁鲁:替换成3.5"
      ],
      "metadata": {
        "id": "KuMi6VqZkFEh"
      }
    },
    {
      "cell_type": "code",
      "source": [
        "from langchain.chat_models import ChatOpenAI\n",
        "\n",
        "llm = ChatOpenAI(model_name='gpt-3.5-turbo')"
      ],
      "metadata": {
        "id": "LsYI7LSxkPUM"
      },
      "execution_count": 37,
      "outputs": []
    },
    {
      "cell_type": "code",
      "source": [
        "text_splitter = CharacterTextSplitter(\n",
        "    chunk_size = 1600,\n",
        "    chunk_overlap  = 50)"
      ],
      "metadata": {
        "id": "pyPulL7tvQOw"
      },
      "execution_count": 25,
      "outputs": []
    },
    {
      "cell_type": "markdown",
      "source": [
        "我们把文章换个天龙八部吧"
      ],
      "metadata": {
        "id": "CoK98kvPlwln"
      }
    },
    {
      "cell_type": "code",
      "source": [
        "!wget https://raw.githubusercontent.com/LC1332/Prophet-Andrew-Ng/main/langchain/%E5%A4%A9%E9%BE%99%E5%85%AB%E9%83%A8%E7%89%87%E6%AE%B5.txt"
      ],
      "metadata": {
        "colab": {
          "base_uri": "https://localhost:8080/"
        },
        "id": "R_s4qEehlvDX",
        "outputId": "772361fd-5362-4fb5-dc92-44db3199952a"
      },
      "execution_count": 7,
      "outputs": [
        {
          "output_type": "stream",
          "name": "stdout",
          "text": [
            "--2023-06-06 05:34:11--  https://raw.githubusercontent.com/LC1332/Prophet-Andrew-Ng/main/langchain/%E5%A4%A9%E9%BE%99%E5%85%AB%E9%83%A8%E7%89%87%E6%AE%B5.txt\n",
            "Resolving raw.githubusercontent.com (raw.githubusercontent.com)... 185.199.108.133, 185.199.109.133, 185.199.110.133, ...\n",
            "Connecting to raw.githubusercontent.com (raw.githubusercontent.com)|185.199.108.133|:443... connected.\n",
            "HTTP request sent, awaiting response... 200 OK\n",
            "Length: 35333 (35K) [text/plain]\n",
            "Saving to: ‘天龙八部片段.txt’\n",
            "\n",
            "\r天龙八部片段.txt      0%[                    ]       0  --.-KB/s               \r天龙八部片段.txt    100%[===================>]  34.50K  --.-KB/s    in 0.002s  \n",
            "\n",
            "2023-06-06 05:34:12 (18.4 MB/s) - ‘天龙八部片段.txt’ saved [35333/35333]\n",
            "\n"
          ]
        }
      ]
    },
    {
      "cell_type": "code",
      "source": [
        "# load the doc\n",
        "with open('/content/天龙八部片段.txt') as f:\n",
        "    demi_gods = f.read()\n",
        "texts = text_splitter.split_text(demi_gods)"
      ],
      "metadata": {
        "id": "sCfCSX9sOv2A"
      },
      "execution_count": 26,
      "outputs": []
    },
    {
      "cell_type": "code",
      "source": [
        "print(len(texts))\n",
        "print(len(texts[-1]))"
      ],
      "metadata": {
        "colab": {
          "base_uri": "https://localhost:8080/"
        },
        "id": "k6KdLobvkLje",
        "outputId": "345bdcf3-eb11-46a5-e7ca-d2e2f9163bb9"
      },
      "execution_count": 27,
      "outputs": [
        {
          "output_type": "stream",
          "name": "stdout",
          "text": [
            "8\n",
            "1151\n"
          ]
        }
      ]
    },
    {
      "cell_type": "code",
      "source": [
        "from langchain.docstore.document import Document\n",
        "\n",
        "docs = [Document(page_content=t) for t in texts]"
      ],
      "metadata": {
        "id": "8L6ztJUJO2j8"
      },
      "execution_count": 31,
      "outputs": []
    },
    {
      "cell_type": "code",
      "source": [
        "docs"
      ],
      "metadata": {
        "id": "WlSA_nIxdrSU"
      },
      "execution_count": null,
      "outputs": []
    },
    {
      "cell_type": "markdown",
      "source": [
        "##  3 types of CombineDocuments Chains\n",
        "\n",
        "[Taken from the LangChain Docs](https://langchain.readthedocs.io/en/latest/modules/indexes/combine_docs.html)"
      ],
      "metadata": {
        "id": "IczFCIKaLCet"
      }
    },
    {
      "cell_type": "markdown",
      "source": [
        "## Summarize Simple with map_reduce"
      ],
      "metadata": {
        "id": "a6kbcja8O7-Q"
      }
    },
    {
      "cell_type": "markdown",
      "source": [
        "### Map Reduce\n",
        "This method involves **an initial prompt on each chunk of data ***\n",
        "( for summarization tasks, this could be a summary of that chunk; for question-answering tasks, it could be an answer based solely on that chunk). **Then a different prompt is run to combine all the initial outputs.** This is implemented in the LangChain as the MapReduceDocumentsChain.\n",
        "\n",
        "**Pros:** Can scale to larger documents (and more documents) than StuffDocumentsChain. The calls to the LLM on individual documents are independent and can therefore be parallelized.\n",
        "\n",
        "**Cons:** Requires many more calls to the LLM than StuffDocumentsChain. Loses some information during the final combining call."
      ],
      "metadata": {
        "id": "1zr-AO5qlJNZ"
      }
    },
    {
      "cell_type": "code",
      "source": [
        "from langchain.chains.summarize import load_summarize_chain\n",
        "import textwrap"
      ],
      "metadata": {
        "id": "lFYz2IztO2nE"
      },
      "execution_count": 29,
      "outputs": []
    },
    {
      "cell_type": "code",
      "source": [
        "chain = load_summarize_chain(llm, \n",
        "                             chain_type=\"map_reduce\")\n",
        "\n",
        "\n",
        "output_summary = chain.run(docs)\n",
        "wrapped_text = textwrap.fill(output_summary, width=100)\n",
        "print(wrapped_text)"
      ],
      "metadata": {
        "colab": {
          "base_uri": "https://localhost:8080/"
        },
        "id": "h4nRP8oGO2qf",
        "outputId": "ecfaab8c-ff9c-4ded-b29f-07449ff35aa1"
      },
      "execution_count": 22,
      "outputs": [
        {
          "output_type": "stream",
          "name": "stdout",
          "text": [
            "Jiumozhi, a monk, arrives at Shaolin Temple and claims to have mastered all 72 of Shaolin's martial\n",
            "arts techniques, which is met with skepticism. He impresses the high-ranking monks with his skills\n",
            "and challenges them to disperse. Later, Xuzhu, a young monk, helps defend the temple against\n",
            "Jiumozhi and engages in a fierce battle. Despite reaching a stalemate, Xu Zhu improves and counter-\n",
            "attacks, causing concern among some of the monks. Jiumozhi resorts to using a knife but accidentally\n",
            "stabs Xu Zhu in the end.\n"
          ]
        }
      ]
    },
    {
      "cell_type": "code",
      "source": [
        "# for summarizing each part\n",
        "chain.llm_chain.prompt.template"
      ],
      "metadata": {
        "colab": {
          "base_uri": "https://localhost:8080/",
          "height": 35
        },
        "id": "k0OK53Q3fReD",
        "outputId": "fbe24d38-9416-4010-c272-73c3a3803be8"
      },
      "execution_count": 25,
      "outputs": [
        {
          "output_type": "execute_result",
          "data": {
            "text/plain": [
              "'Write a concise summary of the following:\\n\\n\\n\"{text}\"\\n\\n\\nCONCISE SUMMARY:'"
            ],
            "application/vnd.google.colaboratory.intrinsic+json": {
              "type": "string"
            }
          },
          "metadata": {},
          "execution_count": 25
        }
      ]
    },
    {
      "cell_type": "code",
      "source": [
        "# for combining the parts\n",
        "chain.combine_document_chain.llm_chain.prompt.template"
      ],
      "metadata": {
        "colab": {
          "base_uri": "https://localhost:8080/",
          "height": 35
        },
        "id": "L2JttqnWpR0H",
        "outputId": "10e441d1-b95f-4654-de40-f6b0e9e892d7"
      },
      "execution_count": 26,
      "outputs": [
        {
          "output_type": "execute_result",
          "data": {
            "text/plain": [
              "'Write a concise summary of the following:\\n\\n\\n\"{text}\"\\n\\n\\nCONCISE SUMMARY:'"
            ],
            "application/vnd.google.colaboratory.intrinsic+json": {
              "type": "string"
            }
          },
          "metadata": {},
          "execution_count": 26
        }
      ]
    },
    {
      "cell_type": "markdown",
      "source": [
        "看看能不能换成中文"
      ],
      "metadata": {
        "id": "ezcJz05ToEiX"
      }
    },
    {
      "cell_type": "code",
      "source": [
        "# for summarizing each part\n",
        "chain.llm_chain.prompt.template = \"\"\"对下列文本编写一个简明的总结:\\n\\n\\n\"{text}\"\\n\\n\\n总结:\"\"\""
      ],
      "metadata": {
        "id": "7KD4wTgWn8ZA"
      },
      "execution_count": 27,
      "outputs": []
    },
    {
      "cell_type": "code",
      "source": [
        "# for combining the parts\n",
        "chain.combine_document_chain.llm_chain.prompt.template = \"\"\"对下列文本编写一个简明的总结:\\n\\n\\n\"{text}\"\\n\\n\\n总结:\"\"\""
      ],
      "metadata": {
        "id": "kGcDV6JyoIns"
      },
      "execution_count": 28,
      "outputs": []
    },
    {
      "cell_type": "code",
      "source": [
        "chain = load_summarize_chain(llm, \n",
        "                             chain_type=\"map_reduce\")\n",
        "\n",
        "\n",
        "output_summary = chain.run(docs)\n",
        "wrapped_text = textwrap.fill(output_summary, width=100)\n",
        "print(wrapped_text)"
      ],
      "metadata": {
        "colab": {
          "base_uri": "https://localhost:8080/"
        },
        "id": "9g2NyJmIoGyE",
        "outputId": "a943a7f6-4a53-4a54-f8a6-222ed3833f8a"
      },
      "execution_count": 29,
      "outputs": [
        {
          "output_type": "stream",
          "name": "stderr",
          "text": [
            "WARNING:langchain.chat_models.openai:Retrying langchain.chat_models.openai.ChatOpenAI.completion_with_retry.<locals>._completion_with_retry in 1.0 seconds as it raised RateLimitError: That model is currently overloaded with other requests. You can retry your request, or contact us through our help center at help.openai.com if the error persists. (Please include the request ID b61d0d1465d9286b984dfa443768cd4d in your message.).\n"
          ]
        },
        {
          "output_type": "stream",
          "name": "stdout",
          "text": [
            "鸠摩智以超凡口才和精湛武功惊艳了少林寺的众僧。他展示了自己的绝世武功，让高僧们叹服。虚竹在少林寺遇到了种种怪事，展示了高超的轮指封穴技巧。鸠摩智与虚竹展开激烈的武术对决，虚竹使用逍遥派的武学技巧，而鸠\n",
            "摩智使用火焰刀等危险技巧。最终虚竹以反击和抓住鸠摩智的手腕为契机，战胜了鸠摩智。\n"
          ]
        }
      ]
    },
    {
      "cell_type": "markdown",
      "source": [
        "\n",
        "鸠摩智以超凡口才和精湛武功惊艳了少林寺的众僧。他展示了自己的绝世武功，让高僧们叹服。虚竹在少林寺遇到了种种怪事，展示了高超的轮指封穴技巧。鸠摩智与虚竹展开激烈的武术对决，虚竹使用逍遥派的武学技巧，而鸠\n",
        "摩智使用火焰刀等危险技巧。最终虚竹以反击和抓住鸠摩智的手腕为契机，战胜了鸠摩智。"
      ],
      "metadata": {
        "id": "cqXZCCLfp1RN"
      }
    },
    {
      "cell_type": "code",
      "source": [
        "chain = load_summarize_chain(llm, \n",
        "                             chain_type=\"map_reduce\",\n",
        "                             verbose=True\n",
        "                             )\n",
        "\n",
        "\n",
        "output_summary = chain.run(docs)\n",
        "wrapped_text = textwrap.fill(output_summary, \n",
        "                             width=100,\n",
        "                             break_long_words=False,\n",
        "                             replace_whitespace=False)\n",
        "print(wrapped_text)"
      ],
      "metadata": {
        "id": "6TfECjDdpd7u"
      },
      "execution_count": null,
      "outputs": []
    },
    {
      "cell_type": "markdown",
      "source": [
        "我保留一下sam原来的代码"
      ],
      "metadata": {
        "id": "mCX0uMV3pfmW"
      }
    },
    {
      "cell_type": "code",
      "source": [
        "chain = load_summarize_chain(llm, \n",
        "                             chain_type=\"map_reduce\",\n",
        "                             verbose=True\n",
        "                             )\n",
        "\n",
        "\n",
        "output_summary = chain.run(docs)\n",
        "wrapped_text = textwrap.fill(output_summary, \n",
        "                             width=100,\n",
        "                             break_long_words=False,\n",
        "                             replace_whitespace=False)\n",
        "print(wrapped_text)"
      ],
      "metadata": {
        "colab": {
          "base_uri": "https://localhost:8080/"
        },
        "id": "6AUZ_e7MfsI1",
        "outputId": "b7551b05-a60d-4458-933b-ffb2354a0324"
      },
      "execution_count": null,
      "outputs": [
        {
          "output_type": "stream",
          "name": "stdout",
          "text": [
            "\n",
            "\n",
            "\u001b[1m> Entering new MapReduceDocumentsChain chain...\u001b[0m\n",
            "Prompt after formatting:\n",
            "\u001b[32;1m\u001b[1;3mWrite a concise summary of the following:\n",
            "\n",
            "\n",
            "\"How This Book Was Written-And Why \n",
            "by \n",
            "\n",
            "Dale Carnegie \n",
            "\n",
            "During the first thirty-five years of the twentieth century, the \n",
            "publishing houses of America printed more than a fifth of a million \n",
            "different books. Most of them were deadly dull, and many were \n",
            "financial failures. \"Many,\" did I say? The president of one of the \n",
            "largest publishing houses in the world confessed to me that his \n",
            "company, after seventy-five years of publishing experience, still lost \n",
            "money on seven out of every eight books it published. \n",
            "\n",
            "Why, then, did I have the temerity to write another book? And, after \n",
            "I had written it, why should you bother to read it? \n",
            "\n",
            "\n",
            "Fair questions, both; and I'll try to answer them. \n",
            "\n",
            "\n",
            "I have, since 1912, been conducting educational courses for business \n",
            "and professional men and women in New York. At first, I conducted \n",
            "courses in public speaking only - courses designed to train adults, by \n",
            "actual experience, to think on their feet and express their ideas with \n",
            "more clarity, more effectiveness and more poise, both in business \n",
            "interviews and before groups. \n",
            "\n",
            "But gradually, as the seasons passed, I realized that as sorely as \n",
            "these adults needed training in effective speaking, they needed still \n",
            "more training in the fine art of getting along with people in everyday \n",
            "business and social contacts. \n",
            "\n",
            "I also gradually realized that I was sorely in need of such training \n",
            "myself. As I look back across the years, I am appalled at my own \n",
            "frequent lack of finesse and understanding. How I wish a book such \n",
            "as this had been placed in my hands twenty years ago! What a \n",
            "priceless boon it would have been. \n",
            "\n",
            "Dealing with people is probably the biggest problem you face, \n",
            "especially if you are in business. Yes, and that is also true if you are \n",
            "a housewife, architect or engineer. Research done a few years ago \n",
            "under the auspices of the Carnegie Foundation for the Advancement \n",
            "of Teaching uncovered a most important and significant fact - a fact \n",
            "later confirmed by additional studies made at the Carnegie Institute \n",
            "of Technology. These investigations revealed that even in such \n",
            "technical lines as engineering, about 15 percent of one's financial \n",
            "success is due to one's technical knowledge and about 85 percent is \n",
            "due to skill in human engineering-to personality and the ability to \n",
            "lead people. \n",
            "\n",
            "For many years, I conducted courses each season at the Engineers' \n",
            "Club of Philadelphia, and also courses for the New York Chapter of \n",
            "the American Institute of Electrical Engineers. A total of probably \n",
            "more than fifteen hundred engineers have passed through my \n",
            "classes. They came to me because they had finally realized, after \n",
            "years of observation and experience, that the highest-paid personnel \n",
            "in engineering are frequently not those who know the most about \n",
            "engineering. One can for example, hire mere technical ability in \n",
            "engineering, accountancy, architecture or any other profession at \n",
            "nominal salaries. But the person who has technical knowledge plus \n",
            "the ability to express ideas, to assume leadership, and to arouse \n",
            "enthusiasm among people-that person is headed for higher earning \n",
            "power. \n",
            "\n",
            "In the heyday of his activity, John D. Rockefeller said that \"the ability \n",
            "to deal with people is as purchasable a commodity as sugar or \n",
            "coffee.\" \"And I will pay more for that ability,\" said John D., \"than for \n",
            "any other under the sun.\" \n",
            "\n",
            "\n",
            "\n",
            "Wouldn't you suppose that every college in the land would conduct \n",
            "courses to develop the highest-priced ability under the sun? But if \n",
            "there is just one practical, common-sense course of that kind given \n",
            "for adults in even one college in the land, it has escaped my \n",
            "attention up to the present writing. \n",
            "\n",
            "The University of Chicago and the United Y.M.C.A. Schools conducted \n",
            "a survey to determine what adults want to study.\"\n",
            "\n",
            "\n",
            "CONCISE SUMMARY:\u001b[0m\n",
            "Prompt after formatting:\n",
            "\u001b[32;1m\u001b[1;3mWrite a concise summary of the following:\n",
            "\n",
            "\n",
            "\"The University of Chicago and the United Y.M.C.A. Schools conducted \n",
            "a survey to determine what adults want to study. \n",
            "\n",
            "That survey cost $25,000 and took two years. The last part of the \n",
            "survey was made in Meriden, Connecticut. It had been chosen as a \n",
            "typical American town. Every adult in Meriden was interviewed and \n",
            "requested to answer 156 questions-questions such as \"What is your \n",
            "business or profession? Your education? How do you spend your \n",
            "spare time? What is your income? Your hobbies? Your ambitions? \n",
            "Your problems? What subjects are you most interested in studying?\" \n",
            "And so on. That survey revealed that health is the prime interest of \n",
            "adults and that their second interest is people; how to understand \n",
            "and get along with people; how to make people like you; and how to \n",
            "win others to your way of thinking. \n",
            "\n",
            "So the committee conducting this survey resolved to conduct such a \n",
            "course for adults in Meriden. They searched diligently for a practical \n",
            "textbook on the subject and found-not one. Finally they approached \n",
            "one of the world's outstanding authorities on adult education and \n",
            "asked him if he knew of any book that met the needs of this group. \n",
            "\"No,\" he replied, \"I know what those adults want. But the book they \n",
            "need has never been written.\" \n",
            "\n",
            "I knew from experience that this statement was true, for I myself \n",
            "had been searching for years to discover a practical, working \n",
            "handbook on human relations. \n",
            "\n",
            "Since no such book existed, I have tried to write one for use in my \n",
            "own courses. And here it is. I hope you like it. \n",
            "\n",
            "In preparation for this book, I read everything that I could find on \n",
            "the subject- everything from newspaper columns, magazine articles, \n",
            "records of the family courts, the writings of the old philosophers and \n",
            "the new psychologists. In addition, I hired a trained researcher to \n",
            "spend one and a half years in various libraries reading everything I \n",
            "had missed, plowing through erudite tomes on psychology, poring \n",
            "over hundreds of magazine articles, searching through countless \n",
            "biographies, trying to ascertain how the great leaders of all ages had \n",
            "dealt with people. We read their biographies, We read the life stories \n",
            "of all great leaders from Julius Caesar to Thomas Edison. I recall that \n",
            "we read over one hundred biographies of Theodore Roosevelt alone. \n",
            "We were determined to spare no time, no expense, to discover every \n",
            "practical idea that anyone had ever used throughout the ages for \n",
            "winning friends and influencing people. \n",
            "\n",
            "\n",
            "\n",
            "I personally interviewed scores of successful people, some of them \n",
            "world-famous-inventors like Marconi and Edison; political leaders like \n",
            "Franklin D. Roosevelt and James Farley; business leaders like Owen \n",
            "D. Young; movie stars like Clark Gable and Mary Pickford; and \n",
            "explorers like Martin Johnson-and tried to discover the techniques \n",
            "they used in human relations. \n",
            "\n",
            "From all this material, I prepared a short talk. I called it \"How to Win \n",
            "Friends and Influence People.\" I say \"short.\" It was short in the \n",
            "beginning, but it soon expanded to a lecture that consumed one \n",
            "hour and thirty minutes. For years, I gave this talk each season to \n",
            "the adults in the Carnegie Institute courses in New York. \n",
            "\n",
            "I gave the talk and urged the listeners to go out and test it in their \n",
            "business and social contacts, and then come back to class and speak \n",
            "about their experiences and the results they had achieved. What an \n",
            "interesting assignment! These men and women, hungry for self- \n",
            "improvement, were fascinated by the idea of working in a new kind \n",
            "of laboratory - the first and only laboratory of human relationships \n",
            "for adults that had ever existed. \n",
            "\n",
            "This book wasn't written in the usual sense of the word. It grew as a \n",
            "child grows. It grew and developed out of that laboratory, out of the \n",
            "experiences of thousands of adults.\"\n",
            "\n",
            "\n",
            "CONCISE SUMMARY:\u001b[0m\n",
            "Prompt after formatting:\n",
            "\u001b[32;1m\u001b[1;3mWrite a concise summary of the following:\n",
            "\n",
            "\n",
            "\"This book wasn't written in the usual sense of the word. It grew as a \n",
            "child grows. It grew and developed out of that laboratory, out of the \n",
            "experiences of thousands of adults. \n",
            "\n",
            "Years ago, we started with a set of rules printed on a card no larger \n",
            "than a postcard. The next season we printed a larger card, then a \n",
            "leaflet, then a series of booklets, each one expanding in size and \n",
            "scope. After fifteen years of experiment and research came this \n",
            "book. \n",
            "\n",
            "The rules we have set down here are not mere theories or \n",
            "guesswork. They work like magic. Incredible as it sounds, I have \n",
            "seen the application of these principles literally revolutionize the lives \n",
            "of many people. \n",
            "\n",
            "To illustrate: A man with 314 employees joined one of these courses. \n",
            "For years, he had driven and criticized and condemned his \n",
            "employees without stint or discretion. Kindness, words of \n",
            "appreciation and encouragement were alien to his lips. After studying \n",
            "the principles discussed in this book, this employer sharply altered \n",
            "his philosophy of life. His organization is now inspired with a new \n",
            "loyalty, a new enthusiasm, a new spirit of team-work. Three hundred \n",
            "and fourteen enemies have been turned into 314 friends. As he \n",
            "proudly said in a speech before the class: \"When I used to walk \n",
            "through my establishment, no one greeted me. My employees \n",
            "actually looked the other way when they saw me approaching. But \n",
            "now they are all my friends and even the janitor calls me by my first \n",
            "name.\" \n",
            "\n",
            "\n",
            "\n",
            "This employer gained more profit, more leisure and -what is infinitely \n",
            "more important-he found far more happiness in his business and in \n",
            "his home. \n",
            "\n",
            "Countless numbers of salespeople have sharply increased their sales \n",
            "by the use of these principles. Many have opened up new accounts - \n",
            "accounts that they had formerly solicited in vain. Executives have \n",
            "been given increased authority, increased pay. One executive \n",
            "reported a large increase in salary because he applied these truths. \n",
            "Another, an executive in the Philadelphia Gas Works Company, was \n",
            "slated for demotion when he was sixty-five because of his \n",
            "belligerence, because of his inability to lead people skillfully. This \n",
            "training not only saved him from the demotion but brought him a \n",
            "promotion with increased pay. \n",
            "\n",
            "On innumerable occasions, spouses attending the banquet given at \n",
            "the end of the course have told me that their homes have been \n",
            "much happier since their husbands or wives started this training. \n",
            "\n",
            "People are frequently astonished at the new results they achieve. It \n",
            "all seems like magic. In some cases, in their enthusiasm, they have \n",
            "telephoned me at my home on Sundays because they couldn't wait \n",
            "forty-eight hours to report their achievements at the regular session \n",
            "of the course. \n",
            "\n",
            "One man was so stirred by a talk on these principles that he sat far \n",
            "into the night discussing them with other members of the class. At \n",
            "three o'clock in the morning, the others went home. But he was so \n",
            "shaken by a realization of his own mistakes, so inspired by the vista \n",
            "of a new and richer world opening before him, that he was unable to \n",
            "sleep. He didn't sleep that night or the next day or the next night. \n",
            "\n",
            "Who was he? A naive, untrained individual ready to gush over any \n",
            "new theory that came along? No, Far from it. He was a sophisticated, \n",
            "blasM dealer in art, very much the man about town, who spoke three \n",
            "languages fluently and was a graduate of two European universities. \n",
            "\n",
            "While writing this chapter, I received a letter from a German of the \n",
            "old school, an aristocrat whose forebears had served for generations \n",
            "as professional army officers under the Hohenzollerns. His letter, \n",
            "written from a transatlantic steamer, telling about the application of \n",
            "these principles, rose almost to a religious fervor.\"\n",
            "\n",
            "\n",
            "CONCISE SUMMARY:\u001b[0m\n",
            "Prompt after formatting:\n",
            "\u001b[32;1m\u001b[1;3mWrite a concise summary of the following:\n",
            "\n",
            "\n",
            "\"Another man, an old New Yorker, a Harvard graduate, a wealthy \n",
            "man, the owner of a large carpet factory, declared he had learned \n",
            "more in fourteen weeks through this system of training about the \n",
            "fine art of influencing people than he had learned about the same \n",
            "subject during his four years in college. Absurd? Laughable? \n",
            "Fantastic? Of course, you are privileged to dismiss this statement \n",
            "\n",
            "\n",
            "\n",
            "with whatever adjective you wish. I am merely reporting, without \n",
            "comment, a declaration made by a conservative and eminently \n",
            "successful Harvard graduate in a public address to approximately six \n",
            "hundred people at the Yale Club in New York on the evening of \n",
            "Thursday, February 23, 1933. \n",
            "\n",
            "\"Compared to what we ought to be,\" said the famous Professor \n",
            "William James of Harvard, \"compared to what we ought to be, we \n",
            "are only half awake. We are making use of only a small part of our \n",
            "physical and mental resources. Stating the thing broadly, the human \n",
            "individual thus lives far within his limits. He possesses powers of \n",
            "various sorts which he habitually fails to use,\" \n",
            "\n",
            "Those powers which you \"habitually fail to use\"! The sole purpose of \n",
            "this book is to help you discover, develop and profit by those \n",
            "dormant and unused assets, \n",
            "\n",
            "\"Education,\" said Dr. John G. Hibben, former president of Princeton \n",
            "University, \"is the ability to meet life's situations,\" \n",
            "\n",
            "If by the time you have finished reading the first three chapters of \n",
            "this book- if you aren't then a little better equipped to meet life's \n",
            "situations, then I shall consider this book to be a total failure so far \n",
            "as you are concerned. For \"the great aim of education,\" said Herbert \n",
            "Spencer, \"is not knowledge but action.\" \n",
            "\n",
            "And this is an action book. \n",
            "\n",
            "DALE CARNEGIE 1936\"\n",
            "\n",
            "\n",
            "CONCISE SUMMARY:\u001b[0m\n",
            "\n",
            "\n",
            "\u001b[1m> Entering new LLMChain chain...\u001b[0m\n",
            "Prompt after formatting:\n",
            "\u001b[32;1m\u001b[1;3mWrite a concise summary of the following:\n",
            "\n",
            "\n",
            "\" Dale Carnegie wrote this book to provide practical, common-sense advice on how to deal with people in everyday business and social contacts. He has been conducting educational courses for business and professional men and women since 1912, and has realized that people need more training in this area. Research has shown that 85% of one's financial success is due to skill in human engineering, and John D. Rockefeller said that the ability to deal with people is the highest-priced commodity. Despite this, there are no practical courses available to adults to develop this ability.\n",
            "\n",
            " The University of Chicago and the United Y.M.C.A. Schools conducted a survey to determine what adults want to study. The survey revealed that health and understanding people were the prime interests of adults. Since no practical textbook on the subject existed, the author wrote one based on his own experience, research, and interviews with successful people. The book grew out of the experiences of thousands of adults in the first and only laboratory of human relationships for adults.\n",
            "\n",
            " This book was developed over 15 years of research and experimentation, and the rules it contains are not mere theories or guesswork. They have been seen to revolutionize the lives of many people, from employers to salespeople to executives. Examples are given of people who have seen incredible success in their lives and businesses by applying these principles. The enthusiasm for these principles is so great that people have even called the author at home on Sundays to report their successes.\n",
            "\n",
            " This book is about discovering, developing, and profiting from dormant and unused assets. It is an action book, and its purpose is to help readers become better equipped to meet life's situations. The author cites a Harvard graduate who claims to have learned more about influencing people in 14 weeks than he did in 4 years of college. The book was written by Dale Carnegie in 1936.\"\n",
            "\n",
            "\n",
            "CONCISE SUMMARY:\u001b[0m\n",
            "\n",
            "\u001b[1m> Finished chain.\u001b[0m\n",
            "\n",
            "\u001b[1m> Finished chain.\u001b[0m\n",
            " Dale Carnegie wrote this book to provide practical advice on how to deal with people in everyday\n",
            "business and social contacts. It was developed over 15 years of research and experimentation, and\n",
            "the rules it contains have been seen to revolutionize the lives of many people. It is an action\n",
            "book, and its purpose is to help readers become better equipped to meet life's situations. The\n",
            "enthusiasm for these principles is so great that people have even called the author at home on\n",
            "Sundays to report their successes.\n"
          ]
        }
      ]
    },
    {
      "cell_type": "markdown",
      "source": [
        "### Summarizing with the 'stuff' Chain"
      ],
      "metadata": {
        "id": "M6yiwXNnvzxO"
      }
    },
    {
      "cell_type": "markdown",
      "source": [
        "\n",
        "\n",
        "### Stuffing\n",
        "Stuffing is the simplest method, whereby you simply stuff all the related data into the prompt as context to pass to the language model. This is implemented in LangChain as the StuffDocumentsChain.\n",
        "\n",
        "**Pros:** Only makes a single call to the LLM. When generating text, the LLM has access to all the data at once.\n",
        "\n",
        "**Cons:** Most LLMs have a context length, and for large documents (or many documents) this will not work as it will result in a prompt larger than the context length.\n",
        "\n",
        "The main downside of this method is that **it only works one smaller pieces of data.**  Once you are working with many pieces of data, this approach is no longer feasible. The next two approaches are designed to help deal with that.\n",
        "\n"
      ],
      "metadata": {
        "id": "9o7FgrlMhuW2"
      }
    },
    {
      "cell_type": "code",
      "source": [
        "chain = load_summarize_chain(llm, chain_type=\"stuff\")\n",
        "\n",
        "# for summarizing each part\n",
        "chain.llm_chain.prompt.template = \"\"\"对下列文本编写一个简明的总结:\\n\\n\\n\"{text}\"\\n\\n\\n总结:\"\"\""
      ],
      "metadata": {
        "id": "OzCHODNOPKnO"
      },
      "execution_count": 32,
      "outputs": []
    },
    {
      "cell_type": "code",
      "source": [
        "print(chain.document_prompt)"
      ],
      "metadata": {
        "colab": {
          "base_uri": "https://localhost:8080/"
        },
        "id": "e5Aas6OuqbG4",
        "outputId": "d1c19a00-bf5e-4f9d-bc68-bfac1e3cceb8"
      },
      "execution_count": 36,
      "outputs": [
        {
          "output_type": "stream",
          "name": "stdout",
          "text": [
            "input_variables=['page_content'] output_parser=None partial_variables={} template='{page_content}' template_format='f-string' validate_template=True\n"
          ]
        }
      ]
    },
    {
      "cell_type": "code",
      "source": [
        "prompt_template = \"\"\"对以下内容进行简明的要点总结，用bullet point形式:\n",
        "\n",
        "\n",
        "{text}\n",
        "\n",
        "\n",
        "使用BULLET POINTS形式总结:\"\"\"\n",
        "\n",
        "BULLET_POINT_PROMPT = PromptTemplate(template=prompt_template, \n",
        "                        input_variables=[\"text\"])\n"
      ],
      "metadata": {
        "id": "XTMPc6oQPQr0"
      },
      "execution_count": 43,
      "outputs": []
    },
    {
      "cell_type": "code",
      "source": [
        "chain = load_summarize_chain(llm, \n",
        "                             chain_type=\"stuff\", \n",
        "                             prompt=BULLET_POINT_PROMPT)\n",
        "\n",
        "output_summary = chain.run(docs[:1])\n",
        "\n",
        "wrapped_text = textwrap.fill(output_summary, \n",
        "                             width=100,\n",
        "                             break_long_words=True,\n",
        "                             replace_whitespace=False)\n",
        "print(wrapped_text)"
      ],
      "metadata": {
        "colab": {
          "base_uri": "https://localhost:8080/"
        },
        "id": "nrtSb8VphVG-",
        "outputId": "71a695b0-c5bb-4a0e-9c6d-1d43a61e791a"
      },
      "execution_count": 41,
      "outputs": [
        {
          "output_type": "stream",
          "name": "stdout",
          "text": [
            "- A clear and calm voice is heard outside the temple, asking to join the discussion on martial arts\n",
            "at Shaolin Temple.\n",
            "- The voice belongs to a monk named Ji Mo Zhi, who is introduced as a respected\n",
            "figure from Tibet.\n",
            "- Ji Mo Zhi claims to have mastered all 72 Shaolin martial arts, which is\n",
            "considered impossible by the other monks present.\n",
            "- Ji Mo Zhi demonstrates his skills by using the\n",
            "\"Big Golden Fist\" and the \"Diamond Palm\" techniques, impressing the monks with his precision and\n",
            "power.\n",
            "- Ji Mo Zhi claims that he learned the Shaolin martial arts through his own efforts and\n",
            "practice, not by stealing them from the Shaolin Temple.\n",
            "- The other monks are skeptical of Ji Mo\n",
            "Zhi's claims, but are also impressed by his skills.\n",
            "- The discussion on martial arts continues, with\n",
            "Ji Mo Zhi offering his insights and opinions.\n"
          ]
        }
      ]
    },
    {
      "cell_type": "markdown",
      "source": [
        "### Ver 3 With 'map_reduce' with our custom prompt"
      ],
      "metadata": {
        "id": "cJ_ig4J_PYbm"
      }
    },
    {
      "cell_type": "code",
      "source": [
        "chain = load_summarize_chain(llm, \n",
        "                             chain_type=\"map_reduce\",\n",
        "                             map_prompt=BULLET_POINT_PROMPT, \n",
        "                             combine_prompt=BULLET_POINT_PROMPT)\n",
        "\n",
        "# chain.llm_chain.prompt= BULLET_POINT_PROMPT\n",
        "# chain.combine_document_chain.llm_chain.prompt= BULLET_POINT_PROMPT\n",
        "\n",
        "output_summary = chain.run(docs[:])\n",
        "wrapped_text = textwrap.fill(output_summary, \n",
        "                             width=100,\n",
        "                             break_long_words=False,\n",
        "                             replace_whitespace=False)\n",
        "print(wrapped_text)"
      ],
      "metadata": {
        "colab": {
          "base_uri": "https://localhost:8080/"
        },
        "id": "4lS7vYgKPcqV",
        "outputId": "5273ca9f-21f3-4377-edd7-44dd84b732eb"
      },
      "execution_count": 45,
      "outputs": [
        {
          "output_type": "stream",
          "name": "stdout",
          "text": [
            "- 一个声音请求成为旁听者，自称吐蕃国师大轮明王，被邀请进来\n",
            "- 鸠摩智认为玄生大师和哲罗星大师的武功有不足之处，群僧惊异，玄生请他指点开示\n",
            "-\n",
            "鸠摩智展现出了超越常人的武功实力，使用的招数叫做“三入地狱”和袈裟伏魔功\n",
            "- 玄慈方丈认为虚竹武功精奇，可以与鸠摩智匹敌，决定让虚竹出去抵挡一阵\n",
            "-\n",
            "鸠摩智出般若掌，虚竹出韦陀掌，两者是少林武功的两个极端，两人开始战斗\n",
            "- 虚竹使用北冥真气护体，鸠摩智使用多罗指和燃木刀法，两人近身肉搏，掌力强劲\n",
            "-\n",
            "为维护少林一派声誉，不志在杀人，最终虚竹使用逍遥派武学招数，鸠摩智使用匕首偷袭，旁观群僧对此不满\n"
          ]
        }
      ]
    },
    {
      "cell_type": "code",
      "source": [
        "# with a custom prompt\n",
        "prompt_template = \"\"\"对以下内容进行简明的要点总结，用bullet points形式:\n",
        "\n",
        "\n",
        "{text}\n",
        "\n",
        "\n",
        "使用BULLET POINTS形式总结:\"\"\"\n",
        "\n",
        "PROMPT = PromptTemplate(template=prompt_template, \n",
        "                        input_variables=[\"text\"])\n",
        "\n",
        "\n",
        "\n",
        "llm = ChatOpenAI(model_name='gpt-3.5-turbo')\n",
        "\n",
        "## with intermediate steps\n",
        "chain = load_summarize_chain(llm, \n",
        "                             chain_type=\"map_reduce\", \n",
        "                             return_intermediate_steps=True, \n",
        "                             map_prompt=PROMPT, \n",
        "                             combine_prompt=PROMPT)\n",
        "\n",
        "output_summary = chain({\"input_documents\": docs}, return_only_outputs=True)\n",
        "wrapped_text = textwrap.fill(output_summary['output_text'], \n",
        "                             width=100,\n",
        "                             break_long_words=False,\n",
        "                             replace_whitespace=False)\n",
        "print(wrapped_text)"
      ],
      "metadata": {
        "colab": {
          "base_uri": "https://localhost:8080/"
        },
        "id": "bUFsaodtPkl4",
        "outputId": "d18600d0-95ca-42e3-862e-d127c8989c17"
      },
      "execution_count": 40,
      "outputs": [
        {
          "output_type": "stream",
          "name": "stdout",
          "text": [
            "- 鸠摩智展示少林派七十二门绝技中的问题和自己的武功\n",
            "- 虚竹目睹鸠摩智的武功表演，展示了自己的医术和武功\n",
            "- 群僧对鸠摩智和虚竹的武功和行为产生疑问\n",
            "- 主人公来到少林寺，与虚竹进行一场较量\n",
            "-\n",
            "两人使用少林派基础武功和七十二绝技进行交手\n",
            "- 虚竹最终使用天山六阳掌化解鸠摩智的攻击\n",
            "- 两人进行近身肉搏，众高僧生平从未见过这样的打法\n",
            "- 虚竹最终掌握天山六阳掌的精妙，得到少林群僧的欢喜\n",
            "-\n",
            "神山上人和波罗星也有自己的武学追求\n",
            "- 虚竹使用逍遥派武学的狠辣招数，引起旁观者惊惧\n",
            "- 鸠摩智使用匕首偷袭虚竹，被谴责\n"
          ]
        }
      ]
    },
    {
      "cell_type": "code",
      "source": [
        "wrapped_text = textwrap.fill(output_summary['intermediate_steps'][2], \n",
        "                             width=100,\n",
        "                             break_long_words=False,\n",
        "                             replace_whitespace=False)\n",
        "print(wrapped_text)"
      ],
      "metadata": {
        "colab": {
          "base_uri": "https://localhost:8080/"
        },
        "id": "OvksjoTytSCb",
        "outputId": "c6dbd7c8-16a2-44d7-9788-fa344778df0b"
      },
      "execution_count": 41,
      "outputs": [
        {
          "output_type": "stream",
          "name": "stdout",
          "text": [
            "- 虚竹目睹鸠摩智的武功表演\n",
            "- 鸠摩智使用“小无相功”掌控其他武功\n",
            "- “小无相功”是道家武学，与佛教武功不同\n",
            "- 众僧虽有疑虑，但不了解“小无相功”的威力和特点\n",
            "-\n",
            "虚竹想指出鸠摩智并非使用少林派绝技，但一直沉默不语\n",
            "- 鸠摩智建议少林寺解散，引起众僧不满\n",
            "- 鸠摩智意在瓦解少林寺，取得好处\n"
          ]
        }
      ]
    },
    {
      "cell_type": "code",
      "source": [
        "for inter_result in output_summary['intermediate_steps']:\n",
        "    print(inter_result)"
      ],
      "metadata": {
        "colab": {
          "base_uri": "https://localhost:8080/"
        },
        "id": "DI5xCHjqPVXT",
        "outputId": "ede80d5d-c776-4f4e-920d-3857b018f092"
      },
      "execution_count": 43,
      "outputs": [
        {
          "output_type": "stream",
          "name": "stdout",
          "text": [
            "• 一个清朗的声音传来，是吐蕃国山僧鸠摩智，参见少林寺方丈。\n",
            "• 群僧对他的身手感到惊异，他坐在神山的上首。\n",
            "• 鸠摩智指出少林派七十二门绝技中的问题，包括每年能成一项绝技的说法。\n",
            "• 群僧不理解他的意思，玄生请他解释。\n",
            "• 鸠摩智展示了大金刚拳法中的一招“洛钟东应”，展示出了深得“大金刚拳”的秘要。\n",
            "• 群僧对他的能力感到惊叹，但有些人仍持怀疑态度。\n",
            "- 鸠摩智使用般若掌中的“慑伏外道”掌法，将铜鼎上的一块手掌般的物件割落\n",
            "- 众僧惊叹他的“三入地狱”摩诃指功，认为他的功力已超凡入圣的境地\n",
            "- 落下的物件是一只黄铜手掌，袍袖一拂后，他展示了“袈裟伏魔功”，玄慈方丈对其赞叹不已\n",
            "- 玄慈方丈认为鸠摩智武功高极，少林派技不如人，将波罗星请离寺院\n",
            "- 众僧心生失落，感受到少林派在中土武学中的失位，玄慈方丈也深思熟虑，认为再扣留波罗星已无益\n",
            "- 鸠摩智的绝世神功让整个大殿寂静无声，震慑众人\n",
            "- 虚竹目睹鸠摩智的武功表演\n",
            "- 鸠摩智使用“小无相功”掌控其他武功\n",
            "- “小无相功”是道家武学，与佛教武功不同\n",
            "- 众僧虽有疑虑，但不了解“小无相功”的威力和特点\n",
            "- 虚竹想指出鸠摩智并非使用少林派绝技，但一直沉默不语\n",
            "- 鸠摩智建议少林寺解散，引起众僧不满\n",
            "- 鸠摩智意在瓦解少林寺，取得好处\n",
            "- 一位僧人称赞大理天龙寺，玄渡大师受挫\n",
            "- 虚竹救治玄渡大师，展示高超医术\n",
            "- 群僧对虚竹的武功和行为产生疑问\n",
            "- 庄聚贤要求少林派承认其为中原武林盟主，众高僧为此烦恼\n",
            "- 虚竹师父慧轮在园中偷偷挑粪浇菜，众高僧不知\n",
            "- 群僧对鸠摩智的指法产生质疑，鸠摩智恍然大悟\n",
            "- 主人公是一个天生聪明、运气好的人，从小就遇到奇遇，从未败过。\n",
            "- 他来到少林寺，想单枪匹马打败这座千年古刹。\n",
            "- 他和虚竹进行了一场较量，虚竹使用了玄渡太师伯的拈花指和小无相功。\n",
            "- 鸠摩智试了虚竹一招般若掌，虚竹用天山六阳掌将其化解。\n",
            "- 鸠摩智要求虚竹使用少林派的功夫，虚竹只会罗汉拳和韦陀掌。\n",
            "- 方丈让虚竹与鸠摩智过招，虚竹使用了韦陀掌的起手式灵山礼佛。\n",
            "- 鸠摩智使用般若掌的上乘功夫，但最终不得不避战。\n",
            "- 韦陀掌是少林派的基础武功\n",
            "- 学韦陀掌后，可学习般若掌，需要数十年练习\n",
            "- 般若掌是少林派七十二绝技之一，无穷无尽\n",
            "- 鸠摩智与虚竹交手，使用多种少林派神功，虚竹只使用“黑虎偷心”一招\n",
            "- “黑虎偷心”虽拙劣，但劲力不断增强，逼退鸠摩智\n",
            "- 鸠摩智发现虚竹拳力中有小无相功，但未能发挥威力\n",
            "- 鸠摩智使用少林绝技“龙爪功”抓住虚竹拳头\n",
            "- 虚竹用“天山折梅手”反抓鸠摩智的左腕\n",
            "- 鸠摩智用少林派武功攻击虚竹，虚竹用天山六阳掌化解\n",
            "- 两人近身肉搏，掌力强劲，少林寺辈份较低的僧侣抵受不住，玄字辈高僧各运内力抗拒\n",
            "- 虚竹用力抓住鸠摩智左腕，鸠摩智双掌连环变化、交互为用的诸般妙着便使不出来\n",
            "- 两人僵持不下，众高僧生平从未见过这样的打法，群僧提心吊胆\n",
            "- 虚竹渐渐掌握天山六阳掌的精妙，能在十招中反攻两三招\n",
            "- 得到少林群僧的欢喜，但众人仍不想杀了鸠摩智，只为维护少林派的声誉\n",
            "- 神山上人希望鸠摩智和虚竹两败俱伤，自己可以创立清凉寺的三门绝技\n",
            "- 波罗星研习武功后感到不满足，想要学习更高阶的武学\n",
            "- 虚竹使用逍遥派武学的狠辣招数，令旁观者惊惧\n",
            "- 少林派历代均是走刚阳路子，制敌而非杀人\n",
            "- 鸠摩智使用匕首偷袭虚竹，被旁观者谴责\n"
          ]
        }
      ]
    },
    {
      "cell_type": "markdown",
      "source": [
        "### With the 'refine' CombineDocument Chain"
      ],
      "metadata": {
        "id": "caaAmomfPv9j"
      }
    },
    {
      "cell_type": "markdown",
      "source": [
        "## Refine\n",
        "This method involves **an initial prompt on the first chunk of data, generating some output. For the remaining documents, that output is passed in, along with the next document**, asking the LLM to refine the output based on the new document.\n",
        "\n",
        "**Pros:** Can pull in more relevant context, and may be less lossy than MapReduceDocumentsChain.\n",
        "\n",
        "**Cons:** Requires many more calls to the LLM than StuffDocumentsChain. The calls are also NOT independent, meaning they cannot be paralleled like MapReduceDocumentsChain. There is also some potential dependencies on the ordering of the documents."
      ],
      "metadata": {
        "id": "39P6zjy9lT5X"
      }
    },
    {
      "cell_type": "code",
      "source": [
        "chain = load_summarize_chain(llm, chain_type=\"refine\")\n",
        "\n",
        "output_summary = chain.run(docs)\n",
        "wrapped_text = textwrap.fill(output_summary, width=100)\n",
        "print(wrapped_text)"
      ],
      "metadata": {
        "colab": {
          "base_uri": "https://localhost:8080/"
        },
        "id": "7Ji2D8Q0P2gh",
        "outputId": "cb493a3e-93f2-4fee-e6fc-4e4308e62aa4"
      },
      "execution_count": null,
      "outputs": [
        {
          "output_type": "stream",
          "name": "stdout",
          "text": [
            "  Dale Carnegie wrote this book to provide practical, common-sense training to adults in how to\n",
            "effectively deal with people in everyday business and social contacts. He has been conducting\n",
            "educational courses for business and professional men and women since 1912 and has found that even\n",
            "in technical lines such as engineering, 85% of one's financial success is due to skill in human\n",
            "engineering. He believes that every college should provide courses to develop this ability, but has\n",
            "not found one that does. To create this book, Carnegie conducted a survey to determine what adults\n",
            "wanted to study, read extensively on the subject, and interviewed successful people to discover the\n",
            "techniques they used in human relations. The book was developed out of the experiences of thousands\n",
            "of adults in a laboratory of human relationships, the first of its kind. Carnegie's book provides\n",
            "practical advice on how to revolutionize one's life and relationships through the application of his\n",
            "principles. He has seen the application of these principles literally revolutionize the lives of\n",
            "many people, from increased profits and pay for business people to increased happiness in homes.\n",
            "People are frequently astonished at the new results they achieve, and Carnegie has received letters\n",
            "from all over the world testifying to the success of his principles. Carnegie's book aims to help\n",
            "readers discover, develop and profit from their dormant and\n"
          ]
        }
      ]
    },
    {
      "cell_type": "code",
      "source": [
        "prompt_template = \"\"\"Write a concise summary of the following extracting the key information:\n",
        "\n",
        "\n",
        "{text}\n",
        "\n",
        "\n",
        "CONCISE SUMMARY:\"\"\"\n",
        "PROMPT = PromptTemplate(template=prompt_template, \n",
        "                        input_variables=[\"text\"])\n",
        "\n",
        "refine_template = (\n",
        "    \"Your job is to produce a final summary\\n\"\n",
        "    \"We have provided an existing summary up to a certain point: {existing_answer}\\n\"\n",
        "    \"We have the opportunity to refine the existing summary\"\n",
        "    \"(only if needed) with some more context below.\\n\"\n",
        "    \"------------\\n\"\n",
        "    \"{text}\\n\"\n",
        "    \"------------\\n\"\n",
        "    \"Given the new context, refine the original summary\"\n",
        "    \"If the context isn't useful, return the original summary.\"\n",
        ")\n",
        "refine_prompt = PromptTemplate(\n",
        "    input_variables=[\"existing_answer\", \"text\"],\n",
        "    template=refine_template,\n",
        ")\n",
        "chain = load_summarize_chain(OpenAI(temperature=0), \n",
        "                             chain_type=\"refine\", \n",
        "                             return_intermediate_steps=True, \n",
        "                             question_prompt=PROMPT, \n",
        "                             refine_prompt=refine_prompt)\n"
      ],
      "metadata": {
        "id": "JsoM2yyoQNzF"
      },
      "execution_count": null,
      "outputs": []
    },
    {
      "cell_type": "code",
      "source": [
        "prompt_template = \"\"\"提取关键信息，写出以下内容的简明概述:\n",
        "\n",
        "\n",
        "{text}\n",
        "\n",
        "\n",
        "简明总结:\"\"\"\n",
        "\n",
        "llm = ChatOpenAI(model_name='gpt-3.5-turbo')\n",
        "\n",
        "\n",
        "PROMPT = PromptTemplate(template=prompt_template, \n",
        "                        input_variables=[\"text\"])\n",
        "\n",
        "refine_template = (\n",
        "    \"您的工作是生成一个最终的总结\\n\"\n",
        "    \"我们已经提供了一个前半部分的现有的总结：{existing_answer}\\n\"\n",
        "    \"我们将通过增量的一些段落的上下文来补充现有的总结(只有在需要的情况下)。\\n\"\n",
        "    \"------------\\n\"\n",
        "    \"{text}\\n\"\n",
        "    \"------------\\n\"\n",
        "    \"根据新的上下文，完善原始的总结\"\n",
        "    \"如果这个上下文不相关，可以返回原始的总结。\"\n",
        ")\n",
        "\n",
        "refine_prompt = PromptTemplate(\n",
        "    input_variables=[\"existing_answer\", \"text\"],\n",
        "    template=refine_template,\n",
        ")\n",
        "chain = load_summarize_chain(llm, \n",
        "                             chain_type=\"refine\", \n",
        "                             return_intermediate_steps=True, \n",
        "                             question_prompt=PROMPT, \n",
        "                             refine_prompt=refine_prompt)\n"
      ],
      "metadata": {
        "id": "hq0LKGd7QZg8"
      },
      "execution_count": 45,
      "outputs": []
    },
    {
      "cell_type": "code",
      "source": [
        "output_summary = chain({\"input_documents\": docs}, return_only_outputs=True)\n"
      ],
      "metadata": {
        "id": "mgIuOQWbfFep"
      },
      "execution_count": null,
      "outputs": []
    },
    {
      "cell_type": "code",
      "source": [
        "wrapped_text = textwrap.fill(output_summary['output_text'], \n",
        "                             width=35,\n",
        "                             break_long_words=True,\n",
        "                             replace_whitespace=False)\n",
        "print(wrapped_text)"
      ],
      "metadata": {
        "colab": {
          "base_uri": "https://localhost:8080/"
        },
        "id": "d-UXMBixTbf4",
        "outputId": "357aa129-d0a2-425d-83c7-791126c732b4"
      },
      "execution_count": 51,
      "outputs": [
        {
          "output_type": "stream",
          "name": "stdout",
          "text": [
            "在这场激烈的战斗中，虚竹和鸠摩智的武艺都得到了提升。虚竹通过领悟天山六\n",
            "阳掌的精髓，开始有了反击的能力，而鸠摩智的攻势也因此略有顿挫。随着时间\n",
            "的推移，虚竹越来越能够反击，少林群僧也因此欣喜。他们并不是想杀死鸠摩智\n",
            "，而是为了维护少林派的声誉。虽然虚竹的天山六阳掌和鸠摩智的少林派武功形\n",
            "成了僵持之局，但是虚竹逐渐掌握了进攻的主动权，让众人惊叹。在这个故事中\n",
            "，武学、医学、宗教和政治相互交织，一个人的道德和信仰如何能够影响整个社\n",
            "会。最终，虚竹成为了少林寺的一位神僧，而鸠摩智也为自己的行为所付出了代\n",
            "价。然而，这场战斗也让人思考，对于武学的探索和研究，到底是为了何种目的\n",
            "，是为了更高级的武功还是为了自己的私欲？这是值得深思的问题。\n"
          ]
        }
      ]
    },
    {
      "cell_type": "code",
      "source": [
        "wrapped_text = textwrap.fill(output_summary['intermediate_steps'][2], \n",
        "                             width=35,\n",
        "                             break_long_words=True,\n",
        "                             replace_whitespace=False)\n",
        "print(wrapped_text)"
      ],
      "metadata": {
        "colab": {
          "base_uri": "https://localhost:8080/"
        },
        "id": "dt7v2DVavMpX",
        "outputId": "8dd750f1-46f5-4a6d-b554-334a18fcc003"
      },
      "execution_count": 58,
      "outputs": [
        {
          "output_type": "stream",
          "name": "stdout",
          "text": [
            "鸠摩智展示出惊人的武功，让少林寺的众僧大受震撼。虚竹心中有疑惑，发现鸠\n",
            "摩智所使用的各种招式均是运用他所掌握的“小无相功”，而非少林派绝技。然\n",
            "而，少林寺中无人能够看出这一点，因为“小无相功”是道家的武学，而少林弟\n",
            "子都是佛门弟子。在鸠摩智的压迫下，少林寺的高僧们不得不让波罗星离开寺庙\n",
            "。最终，鸠摩智提出将少林寺散掉的建议，少林群僧愤然反驳，但他们也意识到\n",
            "鸠摩智要以一人之力将少林寺挑了，这对于吐蕃国大有好处。在众人惊叹的目光\n",
            "下，鸠摩智成为了少林寺的一位神僧。\n"
          ]
        }
      ]
    },
    {
      "cell_type": "code",
      "source": [],
      "metadata": {
        "id": "WtEBpGcCRGzk"
      },
      "execution_count": null,
      "outputs": []
    }
  ]
}