{
  "nbformat": 4,
  "nbformat_minor": 0,
  "metadata": {
    "colab": {
      "provenance": [],
      "include_colab_link": true
    },
    "kernelspec": {
      "name": "python3",
      "display_name": "Python 3"
    },
    "language_info": {
      "name": "python"
    }
  },
  "cells": [
    {
      "cell_type": "markdown",
      "metadata": {
        "id": "view-in-github",
        "colab_type": "text"
      },
      "source": [
        "<a href=\"https://colab.research.google.com/github/LC1332/Prophet-Andrew-Ng/blob/main/langchain/%E6%9D%8E%E9%B2%81%E9%B2%81%E5%AD%A6LangChain_02_Tools_and_Chains.ipynb\" target=\"_parent\"><img src=\"https://colab.research.google.com/assets/colab-badge.svg\" alt=\"Open In Colab\"/></a>"
      ]
    },
    {
      "cell_type": "markdown",
      "source": [
        "# 李鲁鲁学LangChain 02 Tools and Chains\n",
        "\n",
        "这是李鲁鲁的学习笔记，原来是Sam Witteveen的笔记\n",
        "\n",
        "增加了李鲁鲁学习时候的吐槽\n",
        "\n",
        "因为一个独立的md文件导入知乎会更方便，所以这个课程的笔记会记录在md中\n",
        "\n",
        "比如这节课在\n",
        "\n",
        "https://github.com/LC1332/Prophet-Andrew-Ng/blob/main/langchain/%E6%9D%8E%E9%B2%81%E9%B2%81%E5%AD%A6LangChain%2001.md\n",
        "\n",
        "欢迎访问[骆驼项目](https://github.com/LC1332/Luotuo-Chinese-LLM)主页和点赞"
      ],
      "metadata": {
        "id": "lpG17-Hn3NYF"
      }
    },
    {
      "cell_type": "markdown",
      "source": [
        "# Langchain: Tools & Chains"
      ],
      "metadata": {
        "id": "XoJ-RGiUo-uJ"
      }
    },
    {
      "cell_type": "code",
      "execution_count": 1,
      "metadata": {
        "colab": {
          "base_uri": "https://localhost:8080/"
        },
        "id": "8RSTxnoIozRN",
        "outputId": "b6341b14-634a-40e2-eadc-949c91aca37a"
      },
      "outputs": [
        {
          "output_type": "stream",
          "name": "stdout",
          "text": [
            "\u001b[2K     \u001b[90m━━━━━━━━━━━━━━━━━━━━━━━━━━━━━━━━━━━━━━━━\u001b[0m \u001b[32m72.0/72.0 kB\u001b[0m \u001b[31m1.7 MB/s\u001b[0m eta \u001b[36m0:00:00\u001b[0m\n",
            "\u001b[2K     \u001b[90m━━━━━━━━━━━━━━━━━━━━━━━━━━━━━━━━━━━━━━\u001b[0m \u001b[32m938.0/938.0 kB\u001b[0m \u001b[31m10.1 MB/s\u001b[0m eta \u001b[36m0:00:00\u001b[0m\n",
            "\u001b[2K     \u001b[90m━━━━━━━━━━━━━━━━━━━━━━━━━━━━━━━━━━━━━━\u001b[0m \u001b[32m224.5/224.5 kB\u001b[0m \u001b[31m14.9 MB/s\u001b[0m eta \u001b[36m0:00:00\u001b[0m\n",
            "\u001b[2K     \u001b[90m━━━━━━━━━━━━━━━━━━━━━━━━━━━━━━━━━━━━━━━━\u001b[0m \u001b[32m1.0/1.0 MB\u001b[0m \u001b[31m32.1 MB/s\u001b[0m eta \u001b[36m0:00:00\u001b[0m\n",
            "\u001b[2K     \u001b[90m━━━━━━━━━━━━━━━━━━━━━━━━━━━━━━━━━━━━━━━━\u001b[0m \u001b[32m90.0/90.0 kB\u001b[0m \u001b[31m4.4 MB/s\u001b[0m eta \u001b[36m0:00:00\u001b[0m\n",
            "\u001b[2K     \u001b[90m━━━━━━━━━━━━━━━━━━━━━━━━━━━━━━━━━━━━━━━\u001b[0m \u001b[32m114.5/114.5 kB\u001b[0m \u001b[31m1.6 MB/s\u001b[0m eta \u001b[36m0:00:00\u001b[0m\n",
            "\u001b[2K     \u001b[90m━━━━━━━━━━━━━━━━━━━━━━━━━━━━━━━━━━━━━━\u001b[0m \u001b[32m268.8/268.8 kB\u001b[0m \u001b[31m10.4 MB/s\u001b[0m eta \u001b[36m0:00:00\u001b[0m\n",
            "\u001b[2K     \u001b[90m━━━━━━━━━━━━━━━━━━━━━━━━━━━━━━━━━━━━━━━\u001b[0m \u001b[32m149.6/149.6 kB\u001b[0m \u001b[31m8.2 MB/s\u001b[0m eta \u001b[36m0:00:00\u001b[0m\n",
            "\u001b[2K     \u001b[90m━━━━━━━━━━━━━━━━━━━━━━━━━━━━━━━━━━━━━━━━\u001b[0m \u001b[32m49.1/49.1 kB\u001b[0m \u001b[31m2.2 MB/s\u001b[0m eta \u001b[36m0:00:00\u001b[0m\n",
            "\u001b[?25h"
          ]
        }
      ],
      "source": [
        "!pip -q install openai langchain huggingface_hub"
      ]
    },
    {
      "cell_type": "code",
      "source": [
        "import os\n",
        "\n",
        "os.environ['OPENAI_API_KEY'] = 'sk-DfFyR'\n",
        "os.environ['HUGGINGFACEHUB_API_TOKEN'] = ''"
      ],
      "metadata": {
        "id": "9iIacDfgpB2M"
      },
      "execution_count": 31,
      "outputs": []
    },
    {
      "cell_type": "code",
      "source": [],
      "metadata": {
        "id": "ktJiR23xQz6a"
      },
      "execution_count": null,
      "outputs": []
    },
    {
      "cell_type": "markdown",
      "source": [
        "## Basic LLMChain - Fact Extraction"
      ],
      "metadata": {
        "id": "-KB9qA8bpxgJ"
      }
    },
    {
      "cell_type": "code",
      "source": [
        "from langchain.prompts import PromptTemplate\n",
        "from langchain.llms import OpenAI\n",
        "from langchain.chains import LLMChain"
      ],
      "metadata": {
        "id": "-lzO5PfUpwfv"
      },
      "execution_count": 3,
      "outputs": []
    },
    {
      "cell_type": "code",
      "source": [
        "llm = OpenAI(model_name='text-davinci-003', \n",
        "             temperature=0, \n",
        "             max_tokens = 256)"
      ],
      "metadata": {
        "id": "sTiEn3tKp7mZ"
      },
      "execution_count": 4,
      "outputs": []
    },
    {
      "cell_type": "code",
      "source": [
        "article = '''Coinbase, the second-largest crypto exchange by trading volume, released its Q4 2022 earnings on Tuesday, giving shareholders and market players alike an updated look into its financials. In response to the report, the company's shares are down modestly in early after-hours trading.In the fourth quarter of 2022, Coinbase generated $605 million in total revenue, down sharply from $2.49 billion in the year-ago quarter. Coinbase's top line was not enough to cover its expenses: The company lost $557 million in the three-month period on a GAAP basis (net income) worth -$2.46 per share, and an adjusted EBITDA deficit of $124 million.Wall Street expected Coinbase to report $581.2 million in revenue and earnings per share of -$2.44 with adjusted EBITDA of -$201.8 million driven by 8.4 million monthly transaction users (MTUs), according to data provided by Yahoo Finance.Before its Q4 earnings were released, Coinbase's stock had risen 86% year-to-date. Even with that rally, the value of Coinbase when measured on a per-share basis is still down significantly from its 52-week high of $206.79.That Coinbase beat revenue expectations is notable in that it came with declines in trading volume; Coinbase historically generated the bulk of its revenues from trading fees, making Q4 2022 notable. Consumer trading volumes fell from $26 billion in the third quarter of last year to $20 billion in Q4, while institutional volumes across the same timeframe fell from $133 billion to $125 billion.The overall crypto market capitalization fell about 64%, or $1.5 trillion during 2022, which resulted in Coinbase's total trading volumes and transaction revenues to fall 50% and 66% year-over-year, respectively, the company reported.As you would expect with declines in trading volume, trading revenue at Coinbase fell in Q4 compared to the third quarter of last year, dipping from $365.9 million to $322.1 million. (TechCrunch is comparing Coinbase's Q4 2022 results to Q3 2022 instead of Q4 2021, as the latter comparison would be less useful given how much the crypto market has changed in the last year; we're all aware that overall crypto activity has fallen from the final months of 2021.)There were bits of good news in the Coinbase report. While Coinbase's trading revenues were less than exuberant, the company's other revenues posted gains. What Coinbase calls its \"subscription and services revenue\" rose from $210.5 million in Q3 2022 to $282.8 million in Q4 of the same year, a gain of just over 34% in a single quarter.And even as the crypto industry faced a number of catastrophic events, including the Terra/LUNA and FTX collapses to name a few, there was still growth in other areas. The monthly active developers in crypto have more than doubled since 2020 to over 20,000, while major brands like Starbucks, Nike and Adidas have dived into the space alongside social media platforms like Instagram and Reddit.With big players getting into crypto, industry players are hoping this move results in greater adoption both for product use cases and trading volumes. Although there was a lot of movement from traditional retail markets and Web 2.0 businesses, trading volume for both consumer and institutional users fell quarter-over-quarter for Coinbase.Looking forward, it'll be interesting to see if these pieces pick back up and trading interest reemerges in 2023, or if platforms like Coinbase will have to keep looking elsewhere for revenue (like its subscription service) if users continue to shy away from the market.\n",
        "'''"
      ],
      "metadata": {
        "id": "WCBfxD4cqXsx"
      },
      "execution_count": 5,
      "outputs": []
    },
    {
      "cell_type": "code",
      "source": [
        "len(article)"
      ],
      "metadata": {
        "colab": {
          "base_uri": "https://localhost:8080/"
        },
        "id": "eMnYNdKIjJiq",
        "outputId": "6cdf109b-c17f-420a-d722-b0886ddc6463"
      },
      "execution_count": 6,
      "outputs": [
        {
          "output_type": "execute_result",
          "data": {
            "text/plain": [
              "3533"
            ]
          },
          "metadata": {},
          "execution_count": 6
        }
      ]
    },
    {
      "cell_type": "code",
      "source": [
        "fact_extraction_prompt = PromptTemplate(\n",
        "    input_variables=[\"text_input\"],\n",
        "    template=\"Extract the key facts out of this text. Don't include opinions. Give each fact a number and keep them short sentences. :\\n\\n {text_input}\"\n",
        ")"
      ],
      "metadata": {
        "id": "qYPq1mrSfVTt"
      },
      "execution_count": 7,
      "outputs": []
    },
    {
      "cell_type": "code",
      "source": [
        "fact_extraction_chain = LLMChain(llm=llm, prompt=fact_extraction_prompt)\n",
        "\n",
        "facts = fact_extraction_chain.run(article)\n",
        "\n",
        "print(facts)"
      ],
      "metadata": {
        "colab": {
          "base_uri": "https://localhost:8080/"
        },
        "id": "RmumMw1mfweL",
        "outputId": "ced60296-8187-425b-ef7e-411a053c6c05"
      },
      "execution_count": 8,
      "outputs": [
        {
          "output_type": "stream",
          "name": "stdout",
          "text": [
            "\n",
            "1. Coinbase released its Q4 2022 earnings on Tuesday.\n",
            "2. Coinbase generated $605 million in total revenue in Q4 2022.\n",
            "3. Coinbase lost $557 million in the three-month period on a GAAP basis.\n",
            "4. Wall Street expected Coinbase to report $581.2 million in revenue.\n",
            "5. Coinbase's stock had risen 86% year-to-date before its Q4 earnings were released.\n",
            "6. Consumer trading volumes fell from $26 billion in Q3 2022 to $20 billion in Q4 2022.\n",
            "7. Institutional volumes across the same timeframe fell from $133 billion to $125 billion.\n",
            "8. The overall crypto market capitalization fell about 64%, or $1.5 trillion during 2022.\n",
            "9. Coinbase's total trading volumes and transaction revenues fell 50% and 66% year-over-year, respectively.\n",
            "10. Trading revenue at Coinbase fell from $365.9 million in Q3 2022 to $322.1 million in Q4 2022.\n",
            "11. Coinbase's \"subscription and services revenue\" rose from $210.5 million in Q3 2022 to $282.8 million in Q4 2022.\n",
            "12. Monthly active developers in crypto have more than doubled since\n"
          ]
        }
      ]
    },
    {
      "cell_type": "code",
      "source": [
        "print(facts)"
      ],
      "metadata": {
        "colab": {
          "base_uri": "https://localhost:8080/"
        },
        "id": "rByDz-oxlA6j",
        "outputId": "8687f8a5-aa5f-4744-d4f6-27c638a19e5b"
      },
      "execution_count": null,
      "outputs": [
        {
          "output_type": "stream",
          "name": "stdout",
          "text": [
            "\n",
            "1. Coinbase released its Q4 2022 earnings on Tuesday.\n",
            "2. Coinbase generated $605 million in total revenue in Q4 2022.\n",
            "3. Coinbase lost $557 million in the three-month period on a GAAP basis.\n",
            "4. Coinbase's stock had risen 86% year-to-date before its Q4 earnings were released.\n",
            "5. Consumer trading volumes fell from $26 billion in Q3 2022 to $20 billion in Q4 2022.\n",
            "6. Institutional volumes across the same timeframe fell from $133 billion to $125 billion.\n",
            "7. The overall crypto market capitalization fell about 64%, or $1.5 trillion during 2022.\n",
            "8. Trading revenue at Coinbase fell from $365.9 million in Q3 2022 to $322.1 million in Q4 2022.\n",
            "9. Coinbase's \"subscription and services revenue\" rose from $210.5 million in Q3 2022 to $282.8 million in Q4 2022.\n",
            "10. Monthly active developers in crypto have more than doubled since 2020 to over 20,000.\n"
          ]
        }
      ]
    },
    {
      "cell_type": "markdown",
      "source": [
        "## Rewrite as a summary from the facts"
      ],
      "metadata": {
        "id": "YR2JtDm0hs03"
      }
    },
    {
      "cell_type": "code",
      "source": [
        "investor_update_prompt = PromptTemplate(\n",
        "    input_variables=[\"facts\"],\n",
        "    template=\"You are a Goldman Sachs analyst. Take the following list of facts and use them to write a short paragrah for investors. Don't leave out key info:\\n\\n {facts}\"\n",
        ")"
      ],
      "metadata": {
        "id": "nG--CuMJh1Gi"
      },
      "execution_count": 9,
      "outputs": []
    },
    {
      "cell_type": "code",
      "source": [
        "print(investor_update_prompt)"
      ],
      "metadata": {
        "colab": {
          "base_uri": "https://localhost:8080/"
        },
        "id": "zITFmzVU7VwZ",
        "outputId": "b75872a2-8d52-44be-895b-233c2be11275"
      },
      "execution_count": 12,
      "outputs": [
        {
          "output_type": "stream",
          "name": "stdout",
          "text": [
            "input_variables=['facts'] output_parser=None partial_variables={} template=\"You are a Goldman Sachs analyst. Take the following list of facts and use them to write a short paragrah for investors. Don't leave out key info:\\n\\n {facts}\" template_format='f-string' validate_template=True\n"
          ]
        }
      ]
    },
    {
      "cell_type": "code",
      "source": [
        "investor_update_chain = LLMChain(llm=llm, prompt=investor_update_prompt)\n",
        "\n",
        "investor_update = investor_update_chain.run(facts)\n",
        "\n",
        "print(investor_update)\n",
        "len(investor_update)"
      ],
      "metadata": {
        "colab": {
          "base_uri": "https://localhost:8080/"
        },
        "outputId": "4e7c960f-c994-4eb4-c8dd-590724a614c4",
        "id": "1rJu6HOoh1Gi"
      },
      "execution_count": 13,
      "outputs": [
        {
          "output_type": "stream",
          "name": "stdout",
          "text": [
            " the start of 2022.\n",
            "\n",
            "Coinbase released its Q4 2022 earnings on Tuesday, reporting total revenue of $605 million, which was slightly above Wall Street's expectations of $581.2 million. Despite the positive revenue figure, Coinbase reported a GAAP loss of $557 million in the three-month period. Coinbase's stock had risen 86% year-to-date before its Q4 earnings were released. Consumer trading volumes fell from $26 billion in Q3 2022 to $20 billion in Q4 2022, while institutional volumes across the same timeframe fell from $133 billion to $125 billion. The overall crypto market capitalization fell about 64%, or $1.5 trillion during 2022, leading to a 50% and 66% year-over-year decline in Coinbase's total trading volumes and transaction revenues, respectively. Trading revenue at Coinbase fell from $365.9 million in Q3 2022 to $322.1 million in Q4 2022, while its \"subscription and services revenue\" rose from $210.5 million in Q3 2022 to $282.8 million in Q4 2022. Despite the overall decline in the crypto market, monthly active developers in crypto have more than doubled since the start of 2022.\n"
          ]
        },
        {
          "output_type": "execute_result",
          "data": {
            "text/plain": [
              "1105"
            ]
          },
          "metadata": {},
          "execution_count": 13
        }
      ]
    },
    {
      "cell_type": "code",
      "source": [],
      "metadata": {
        "id": "uCEfXHyFi-K8"
      },
      "execution_count": null,
      "outputs": []
    },
    {
      "cell_type": "code",
      "source": [
        "triples_prompt = PromptTemplate(\n",
        "    input_variables=[\"facts\"],\n",
        "    template=\"Take the following list of facts and turn them into triples for a knowledge graph:\\n\\n {facts}\"\n",
        ")"
      ],
      "metadata": {
        "id": "mQ2TNW1emNHu"
      },
      "execution_count": 14,
      "outputs": []
    },
    {
      "cell_type": "code",
      "source": [
        "triples_chain = LLMChain(llm=llm, prompt=triples_prompt)\n",
        "\n",
        "triples = triples_chain.run(facts)\n",
        "\n",
        "print(triples)\n",
        "len(triples)"
      ],
      "metadata": {
        "colab": {
          "base_uri": "https://localhost:8080/"
        },
        "outputId": "9e1b1939-e42e-46a1-c363-cf875eecbd3a",
        "id": "ZWyFFkDomNH5"
      },
      "execution_count": 15,
      "outputs": [
        {
          "output_type": "stream",
          "name": "stdout",
          "text": [
            " the start of 2022.\n",
            "\n",
            "1. (Coinbase, released, Q4 2022 earnings)\n",
            "2. (Coinbase, generated, $605 million total revenue)\n",
            "3. (Coinbase, lost, $557 million GAAP basis)\n",
            "4. (Wall Street, expected, $581.2 million revenue)\n",
            "5. (Coinbase's stock, risen, 86% year-to-date)\n",
            "6. (Consumer trading volumes, fell, $26 billion Q3 2022)\n",
            "7. (Institutional volumes, fell, $133 billion)\n",
            "8. (Overall crypto market capitalization, fell, $1.5 trillion)\n",
            "9. (Coinbase's total trading volumes, fell, 50% year-over-year)\n",
            "10. (Coinbase's transaction revenues, fell, 66% year-over-year)\n",
            "11. (Trading revenue, fell, $365.9 million Q3 2022)\n",
            "12. (Coinbase's subscription and services revenue, rose, $210.5 million Q3 2022)\n",
            "13. (Monthly active developers in crypto, more than doubled, since start of 2022)\n"
          ]
        },
        {
          "output_type": "execute_result",
          "data": {
            "text/plain": [
              "768"
            ]
          },
          "metadata": {},
          "execution_count": 15
        }
      ]
    },
    {
      "cell_type": "markdown",
      "source": [
        "## Chaining these together"
      ],
      "metadata": {
        "id": "-FNzbLpWnRy4"
      }
    },
    {
      "cell_type": "code",
      "source": [
        "from langchain.chains import SimpleSequentialChain, SequentialChain\n",
        "\n",
        "full_chain = SimpleSequentialChain(chains=[fact_extraction_chain, investor_update_chain], verbose=True)"
      ],
      "metadata": {
        "id": "XZLtU9O-nVya"
      },
      "execution_count": 16,
      "outputs": []
    },
    {
      "cell_type": "code",
      "source": [
        "response = full_chain.run(article)"
      ],
      "metadata": {
        "colab": {
          "base_uri": "https://localhost:8080/"
        },
        "id": "fomCgIYCnsQA",
        "outputId": "9975d59f-4fac-42e2-bb25-6cffe6149a1b"
      },
      "execution_count": 17,
      "outputs": [
        {
          "output_type": "stream",
          "name": "stdout",
          "text": [
            "\n",
            "\n",
            "\u001b[1m> Entering new SimpleSequentialChain chain...\u001b[0m\n",
            "\u001b[36;1m\u001b[1;3m\n",
            "1. Coinbase released its Q4 2022 earnings on Tuesday.\n",
            "2. Coinbase generated $605 million in total revenue in Q4 2022.\n",
            "3. Coinbase lost $557 million in the three-month period on a GAAP basis.\n",
            "4. Wall Street expected Coinbase to report $581.2 million in revenue.\n",
            "5. Coinbase's stock had risen 86% year-to-date before its Q4 earnings were released.\n",
            "6. Consumer trading volumes fell from $26 billion in Q3 2022 to $20 billion in Q4 2022.\n",
            "7. Institutional volumes across the same timeframe fell from $133 billion to $125 billion.\n",
            "8. The overall crypto market capitalization fell about 64%, or $1.5 trillion during 2022.\n",
            "9. Coinbase's total trading volumes and transaction revenues fell 50% and 66% year-over-year, respectively.\n",
            "10. Trading revenue at Coinbase fell from $365.9 million in Q3 2022 to $322.1 million in Q4 2022.\n",
            "11. Coinbase's \"subscription and services revenue\" rose from $210.5 million in Q3 2022 to $282.8 million in Q4 2022.\n",
            "12. Monthly active developers in crypto have more than doubled since\u001b[0m\n",
            "\u001b[33;1m\u001b[1;3m the start of 2022.\n",
            "\n",
            "Coinbase released its Q4 2022 earnings on Tuesday, reporting total revenue of $605 million, which was slightly above Wall Street's expectations of $581.2 million. Despite the positive revenue figure, Coinbase reported a GAAP loss of $557 million in the three-month period. Coinbase's stock had risen 86% year-to-date before its Q4 earnings were released. Consumer trading volumes fell from $26 billion in Q3 2022 to $20 billion in Q4 2022, while institutional volumes across the same timeframe fell from $133 billion to $125 billion. The overall crypto market capitalization fell about 64%, or $1.5 trillion during 2022, leading to a 50% and 66% year-over-year decline in Coinbase's total trading volumes and transaction revenues, respectively. Trading revenue at Coinbase fell from $365.9 million in Q3 2022 to $322.1 million in Q4 2022, while its \"subscription and services revenue\" rose from $210.5 million in Q3 2022 to $282.8 million in Q4 2022. Despite the overall decline in the crypto market, monthly active developers in crypto have more than doubled since the start of 2022.\u001b[0m\n",
            "\n",
            "\u001b[1m> Finished chain.\u001b[0m\n"
          ]
        }
      ]
    },
    {
      "cell_type": "code",
      "source": [
        "response"
      ],
      "metadata": {
        "colab": {
          "base_uri": "https://localhost:8080/",
          "height": 140
        },
        "id": "8fGYacnpoYP7",
        "outputId": "c0d70925-b0d7-4f5c-a7de-a1bae4e2cf52"
      },
      "execution_count": 18,
      "outputs": [
        {
          "output_type": "execute_result",
          "data": {
            "text/plain": [
              "' the start of 2022.\\n\\nCoinbase released its Q4 2022 earnings on Tuesday, reporting total revenue of $605 million, which was slightly above Wall Street\\'s expectations of $581.2 million. Despite the positive revenue figure, Coinbase reported a GAAP loss of $557 million in the three-month period. Coinbase\\'s stock had risen 86% year-to-date before its Q4 earnings were released. Consumer trading volumes fell from $26 billion in Q3 2022 to $20 billion in Q4 2022, while institutional volumes across the same timeframe fell from $133 billion to $125 billion. The overall crypto market capitalization fell about 64%, or $1.5 trillion during 2022, leading to a 50% and 66% year-over-year decline in Coinbase\\'s total trading volumes and transaction revenues, respectively. Trading revenue at Coinbase fell from $365.9 million in Q3 2022 to $322.1 million in Q4 2022, while its \"subscription and services revenue\" rose from $210.5 million in Q3 2022 to $282.8 million in Q4 2022. Despite the overall decline in the crypto market, monthly active developers in crypto have more than doubled since the start of 2022.'"
            ],
            "application/vnd.google.colaboratory.intrinsic+json": {
              "type": "string"
            }
          },
          "metadata": {},
          "execution_count": 18
        }
      ]
    },
    {
      "cell_type": "markdown",
      "source": [
        "## PAL Math Chain"
      ],
      "metadata": {
        "id": "2l3HG0YUqLlF"
      }
    },
    {
      "cell_type": "code",
      "source": [
        "from langchain.chains import PALChain"
      ],
      "metadata": {
        "id": "ZF-jpK_XqPK0"
      },
      "execution_count": 19,
      "outputs": []
    },
    {
      "cell_type": "code",
      "source": [
        "llm = OpenAI(model_name='text-davinci-003', \n",
        "             temperature=0, \n",
        "             max_tokens=512)"
      ],
      "metadata": {
        "id": "Ggg2goAsqX2F"
      },
      "execution_count": 38,
      "outputs": []
    },
    {
      "cell_type": "code",
      "source": [
        "pal_chain = PALChain.from_math_prompt(llm, verbose=True)"
      ],
      "metadata": {
        "id": "d7QPImg8qX9F"
      },
      "execution_count": 39,
      "outputs": []
    },
    {
      "cell_type": "code",
      "source": [
        "print(pal_chain)"
      ],
      "metadata": {
        "colab": {
          "base_uri": "https://localhost:8080/"
        },
        "id": "Fx9L6AHc-vgU",
        "outputId": "8c1f04a4-19c3-4628-95b9-57804594255e"
      },
      "execution_count": 40,
      "outputs": [
        {
          "output_type": "stream",
          "name": "stdout",
          "text": [
            "memory=None callbacks=None callback_manager=None verbose=True llm_chain=LLMChain(memory=None, callbacks=None, callback_manager=None, verbose=False, prompt=PromptTemplate(input_variables=['question'], output_parser=None, partial_variables={}, template='Q: Olivia has $23. She bought five bagels for $3 each. How much money does she have left?\\n\\n# solution in Python:\\n\\n\\ndef solution():\\n    \"\"\"Olivia has $23. She bought five bagels for $3 each. How much money does she have left?\"\"\"\\n    money_initial = 23\\n    bagels = 5\\n    bagel_cost = 3\\n    money_spent = bagels * bagel_cost\\n    money_left = money_initial - money_spent\\n    result = money_left\\n    return result\\n\\n\\n\\n\\n\\nQ: Michael had 58 golf balls. On tuesday, he lost 23 golf balls. On wednesday, he lost 2 more. How many golf balls did he have at the end of wednesday?\\n\\n# solution in Python:\\n\\n\\ndef solution():\\n    \"\"\"Michael had 58 golf balls. On tuesday, he lost 23 golf balls. On wednesday, he lost 2 more. How many golf balls did he have at the end of wednesday?\"\"\"\\n    golf_balls_initial = 58\\n    golf_balls_lost_tuesday = 23\\n    golf_balls_lost_wednesday = 2\\n    golf_balls_left = golf_balls_initial - golf_balls_lost_tuesday - golf_balls_lost_wednesday\\n    result = golf_balls_left\\n    return result\\n\\n\\n\\n\\n\\nQ: There were nine computers in the server room. Five more computers were installed each day, from monday to thursday. How many computers are now in the server room?\\n\\n# solution in Python:\\n\\n\\ndef solution():\\n    \"\"\"There were nine computers in the server room. Five more computers were installed each day, from monday to thursday. How many computers are now in the server room?\"\"\"\\n    computers_initial = 9\\n    computers_per_day = 5\\n    num_days = 4  # 4 days between monday and thursday\\n    computers_added = computers_per_day * num_days\\n    computers_total = computers_initial + computers_added\\n    result = computers_total\\n    return result\\n\\n\\n\\n\\n\\nQ: Shawn has five toys. For Christmas, he got two toys each from his mom and dad. How many toys does he have now?\\n\\n# solution in Python:\\n\\n\\ndef solution():\\n    \"\"\"Shawn has five toys. For Christmas, he got two toys each from his mom and dad. How many toys does he have now?\"\"\"\\n    toys_initial = 5\\n    mom_toys = 2\\n    dad_toys = 2\\n    total_received = mom_toys + dad_toys\\n    total_toys = toys_initial + total_received\\n    result = total_toys\\n    return result\\n\\n\\n\\n\\n\\nQ: Jason had 20 lollipops. He gave Denny some lollipops. Now Jason has 12 lollipops. How many lollipops did Jason give to Denny?\\n\\n# solution in Python:\\n\\n\\ndef solution():\\n    \"\"\"Jason had 20 lollipops. He gave Denny some lollipops. Now Jason has 12 lollipops. How many lollipops did Jason give to Denny?\"\"\"\\n    jason_lollipops_initial = 20\\n    jason_lollipops_after = 12\\n    denny_lollipops = jason_lollipops_initial - jason_lollipops_after\\n    result = denny_lollipops\\n    return result\\n\\n\\n\\n\\n\\nQ: Leah had 32 chocolates and her sister had 42. If they ate 35, how many pieces do they have left in total?\\n\\n# solution in Python:\\n\\n\\ndef solution():\\n    \"\"\"Leah had 32 chocolates and her sister had 42. If they ate 35, how many pieces do they have left in total?\"\"\"\\n    leah_chocolates = 32\\n    sister_chocolates = 42\\n    total_chocolates = leah_chocolates + sister_chocolates\\n    chocolates_eaten = 35\\n    chocolates_left = total_chocolates - chocolates_eaten\\n    result = chocolates_left\\n    return result\\n\\n\\n\\n\\n\\nQ: If there are 3 cars in the parking lot and 2 more cars arrive, how many cars are in the parking lot?\\n\\n# solution in Python:\\n\\n\\ndef solution():\\n    \"\"\"If there are 3 cars in the parking lot and 2 more cars arrive, how many cars are in the parking lot?\"\"\"\\n    cars_initial = 3\\n    cars_arrived = 2\\n    total_cars = cars_initial + cars_arrived\\n    result = total_cars\\n    return result\\n\\n\\n\\n\\n\\nQ: There are 15 trees in the grove. Grove workers will plant trees in the grove today. After they are done, there will be 21 trees. How many trees did the grove workers plant today?\\n\\n# solution in Python:\\n\\n\\ndef solution():\\n    \"\"\"There are 15 trees in the grove. Grove workers will plant trees in the grove today. After they are done, there will be 21 trees. How many trees did the grove workers plant today?\"\"\"\\n    trees_initial = 15\\n    trees_after = 21\\n    trees_added = trees_after - trees_initial\\n    result = trees_added\\n    return result\\n\\n\\n\\n\\n\\nQ: {question}\\n\\n# solution in Python:\\n\\n\\n', template_format='f-string', validate_template=True), llm=OpenAI(cache=None, verbose=False, callbacks=None, callback_manager=None, client=<class 'openai.api_resources.completion.Completion'>, model_name='text-davinci-003', temperature=0.0, max_tokens=512, top_p=1, frequency_penalty=0, presence_penalty=0, n=1, best_of=1, model_kwargs={}, openai_api_key=None, openai_api_base=None, openai_organization=None, openai_proxy=None, batch_size=20, request_timeout=None, logit_bias={}, max_retries=6, streaming=False, allowed_special=set(), disallowed_special='all'), output_key='text') llm=None prompt=PromptTemplate(input_variables=['question'], output_parser=None, partial_variables={}, template='Q: Olivia has $23. She bought five bagels for $3 each. How much money does she have left?\\n\\n# solution in Python:\\n\\n\\ndef solution():\\n    \"\"\"Olivia has $23. She bought five bagels for $3 each. How much money does she have left?\"\"\"\\n    money_initial = 23\\n    bagels = 5\\n    bagel_cost = 3\\n    money_spent = bagels * bagel_cost\\n    money_left = money_initial - money_spent\\n    result = money_left\\n    return result\\n\\n\\n\\n\\n\\nQ: Michael had 58 golf balls. On tuesday, he lost 23 golf balls. On wednesday, he lost 2 more. How many golf balls did he have at the end of wednesday?\\n\\n# solution in Python:\\n\\n\\ndef solution():\\n    \"\"\"Michael had 58 golf balls. On tuesday, he lost 23 golf balls. On wednesday, he lost 2 more. How many golf balls did he have at the end of wednesday?\"\"\"\\n    golf_balls_initial = 58\\n    golf_balls_lost_tuesday = 23\\n    golf_balls_lost_wednesday = 2\\n    golf_balls_left = golf_balls_initial - golf_balls_lost_tuesday - golf_balls_lost_wednesday\\n    result = golf_balls_left\\n    return result\\n\\n\\n\\n\\n\\nQ: There were nine computers in the server room. Five more computers were installed each day, from monday to thursday. How many computers are now in the server room?\\n\\n# solution in Python:\\n\\n\\ndef solution():\\n    \"\"\"There were nine computers in the server room. Five more computers were installed each day, from monday to thursday. How many computers are now in the server room?\"\"\"\\n    computers_initial = 9\\n    computers_per_day = 5\\n    num_days = 4  # 4 days between monday and thursday\\n    computers_added = computers_per_day * num_days\\n    computers_total = computers_initial + computers_added\\n    result = computers_total\\n    return result\\n\\n\\n\\n\\n\\nQ: Shawn has five toys. For Christmas, he got two toys each from his mom and dad. How many toys does he have now?\\n\\n# solution in Python:\\n\\n\\ndef solution():\\n    \"\"\"Shawn has five toys. For Christmas, he got two toys each from his mom and dad. How many toys does he have now?\"\"\"\\n    toys_initial = 5\\n    mom_toys = 2\\n    dad_toys = 2\\n    total_received = mom_toys + dad_toys\\n    total_toys = toys_initial + total_received\\n    result = total_toys\\n    return result\\n\\n\\n\\n\\n\\nQ: Jason had 20 lollipops. He gave Denny some lollipops. Now Jason has 12 lollipops. How many lollipops did Jason give to Denny?\\n\\n# solution in Python:\\n\\n\\ndef solution():\\n    \"\"\"Jason had 20 lollipops. He gave Denny some lollipops. Now Jason has 12 lollipops. How many lollipops did Jason give to Denny?\"\"\"\\n    jason_lollipops_initial = 20\\n    jason_lollipops_after = 12\\n    denny_lollipops = jason_lollipops_initial - jason_lollipops_after\\n    result = denny_lollipops\\n    return result\\n\\n\\n\\n\\n\\nQ: Leah had 32 chocolates and her sister had 42. If they ate 35, how many pieces do they have left in total?\\n\\n# solution in Python:\\n\\n\\ndef solution():\\n    \"\"\"Leah had 32 chocolates and her sister had 42. If they ate 35, how many pieces do they have left in total?\"\"\"\\n    leah_chocolates = 32\\n    sister_chocolates = 42\\n    total_chocolates = leah_chocolates + sister_chocolates\\n    chocolates_eaten = 35\\n    chocolates_left = total_chocolates - chocolates_eaten\\n    result = chocolates_left\\n    return result\\n\\n\\n\\n\\n\\nQ: If there are 3 cars in the parking lot and 2 more cars arrive, how many cars are in the parking lot?\\n\\n# solution in Python:\\n\\n\\ndef solution():\\n    \"\"\"If there are 3 cars in the parking lot and 2 more cars arrive, how many cars are in the parking lot?\"\"\"\\n    cars_initial = 3\\n    cars_arrived = 2\\n    total_cars = cars_initial + cars_arrived\\n    result = total_cars\\n    return result\\n\\n\\n\\n\\n\\nQ: There are 15 trees in the grove. Grove workers will plant trees in the grove today. After they are done, there will be 21 trees. How many trees did the grove workers plant today?\\n\\n# solution in Python:\\n\\n\\ndef solution():\\n    \"\"\"There are 15 trees in the grove. Grove workers will plant trees in the grove today. After they are done, there will be 21 trees. How many trees did the grove workers plant today?\"\"\"\\n    trees_initial = 15\\n    trees_after = 21\\n    trees_added = trees_after - trees_initial\\n    result = trees_added\\n    return result\\n\\n\\n\\n\\n\\nQ: {question}\\n\\n# solution in Python:\\n\\n\\n', template_format='f-string', validate_template=True) stop='\\n\\n' get_answer_expr='print(solution())' python_globals=None python_locals=None output_key='result' return_intermediate_steps=False\n"
          ]
        }
      ]
    },
    {
      "cell_type": "code",
      "source": [
        "question_02= \"The cafeteria had 23 apples. If they used 20 for lunch and bought 6 more, how many apples do they have?\""
      ],
      "metadata": {
        "id": "2NMqJo2zrYdf"
      },
      "execution_count": 42,
      "outputs": []
    },
    {
      "cell_type": "code",
      "source": [
        "pal_chain.run(question_02)"
      ],
      "metadata": {
        "colab": {
          "base_uri": "https://localhost:8080/",
          "height": 261
        },
        "id": "ZOlbkO5Kqv4k",
        "outputId": "cf3dcfcc-f908-45fa-95ef-f5a332e7644b"
      },
      "execution_count": 43,
      "outputs": [
        {
          "output_type": "stream",
          "name": "stdout",
          "text": [
            "\n",
            "\n",
            "\u001b[1m> Entering new PALChain chain...\u001b[0m\n",
            "\u001b[32;1m\u001b[1;3mdef solution():\n",
            "    \"\"\"The cafeteria had 23 apples. If they used 20 for lunch and bought 6 more, how many apples do they have?\"\"\"\n",
            "    apples_initial = 23\n",
            "    apples_used = 20\n",
            "    apples_bought = 6\n",
            "    apples_total = apples_initial + apples_bought - apples_used\n",
            "    result = apples_total\n",
            "    return result\u001b[0m\n",
            "\n",
            "\u001b[1m> Finished chain.\u001b[0m\n"
          ]
        },
        {
          "output_type": "execute_result",
          "data": {
            "text/plain": [
              "'9'"
            ],
            "application/vnd.google.colaboratory.intrinsic+json": {
              "type": "string"
            }
          },
          "metadata": {},
          "execution_count": 43
        }
      ]
    },
    {
      "cell_type": "code",
      "source": [
        "question = \"Jan has three times the number of pets as Marcia. Marcia has two more pets than Cindy. If Cindy has four pets, how many total pets do the three have?\""
      ],
      "metadata": {
        "id": "k6ac7ibXC0j3"
      },
      "execution_count": 44,
      "outputs": []
    },
    {
      "cell_type": "code",
      "source": [
        "pal_chain.run(question)"
      ],
      "metadata": {
        "colab": {
          "base_uri": "https://localhost:8080/",
          "height": 261
        },
        "id": "xZ9pu-t2C1Ik",
        "outputId": "b6f6af41-7771-416c-b2a6-2d73c1888b4d"
      },
      "execution_count": 45,
      "outputs": [
        {
          "output_type": "stream",
          "name": "stdout",
          "text": [
            "\n",
            "\n",
            "\u001b[1m> Entering new PALChain chain...\u001b[0m\n",
            "\u001b[32;1m\u001b[1;3mdef solution():\n",
            "    \"\"\"Jan has three times the number of pets as Marcia. Marcia has two more pets than Cindy. If Cindy has four pets, how many total pets do the three have?\"\"\"\n",
            "    cindy_pets = 4\n",
            "    marcia_pets = cindy_pets + 2\n",
            "    jan_pets = marcia_pets * 3\n",
            "    total_pets = cindy_pets + marcia_pets + jan_pets\n",
            "    result = total_pets\n",
            "    return result\u001b[0m\n",
            "\n",
            "\u001b[1m> Finished chain.\u001b[0m\n"
          ]
        },
        {
          "output_type": "execute_result",
          "data": {
            "text/plain": [
              "'28'"
            ],
            "application/vnd.google.colaboratory.intrinsic+json": {
              "type": "string"
            }
          },
          "metadata": {},
          "execution_count": 45
        }
      ]
    },
    {
      "cell_type": "markdown",
      "source": [
        "## API Chains - OpenMeteo - Weather information\n",
        "\n",
        "can throw errors based on API return length"
      ],
      "metadata": {
        "id": "xidOhWp7rk_5"
      }
    },
    {
      "cell_type": "code",
      "source": [
        "from langchain import OpenAI\n",
        "from langchain.chains.api.prompt import API_RESPONSE_PROMPT\n",
        "\n",
        "from langchain.chains import APIChain\n",
        "from langchain.prompts.prompt import PromptTemplate\n"
      ],
      "metadata": {
        "id": "8p96niVlRPh8"
      },
      "execution_count": 46,
      "outputs": []
    },
    {
      "cell_type": "code",
      "source": [
        "llm = OpenAI(temperature=0,\n",
        "             max_tokens=100)"
      ],
      "metadata": {
        "id": "BsPzhnj_RUPy"
      },
      "execution_count": 47,
      "outputs": []
    },
    {
      "cell_type": "code",
      "source": [
        "print(open_meteo_docs.OPEN_METEO_DOCS)"
      ],
      "metadata": {
        "colab": {
          "base_uri": "https://localhost:8080/"
        },
        "id": "ioIcq1V1DiNl",
        "outputId": "b9195b5b-f918-44d6-aa1b-c827fe1a85a3"
      },
      "execution_count": 51,
      "outputs": [
        {
          "output_type": "stream",
          "name": "stdout",
          "text": [
            "BASE URL: https://api.open-meteo.com/\n",
            "\n",
            "API Documentation\n",
            "The API endpoint /v1/forecast accepts a geographical coordinate, a list of weather variables and responds with a JSON hourly weather forecast for 7 days. Time always starts at 0:00 today and contains 168 hours. All URL parameters are listed below:\n",
            "\n",
            "Parameter\tFormat\tRequired\tDefault\tDescription\n",
            "latitude, longitude\tFloating point\tYes\t\tGeographical WGS84 coordinate of the location\n",
            "hourly\tString array\tNo\t\tA list of weather variables which should be returned. Values can be comma separated, or multiple &hourly= parameter in the URL can be used.\n",
            "daily\tString array\tNo\t\tA list of daily weather variable aggregations which should be returned. Values can be comma separated, or multiple &daily= parameter in the URL can be used. If daily weather variables are specified, parameter timezone is required.\n",
            "current_weather\tBool\tNo\tfalse\tInclude current weather conditions in the JSON output.\n",
            "temperature_unit\tString\tNo\tcelsius\tIf fahrenheit is set, all temperature values are converted to Fahrenheit.\n",
            "windspeed_unit\tString\tNo\tkmh\tOther wind speed speed units: ms, mph and kn\n",
            "precipitation_unit\tString\tNo\tmm\tOther precipitation amount units: inch\n",
            "timeformat\tString\tNo\tiso8601\tIf format unixtime is selected, all time values are returned in UNIX epoch time in seconds. Please note that all timestamp are in GMT+0! For daily values with unix timestamps, please apply utc_offset_seconds again to get the correct date.\n",
            "timezone\tString\tNo\tGMT\tIf timezone is set, all timestamps are returned as local-time and data is returned starting at 00:00 local-time. Any time zone name from the time zone database is supported. If auto is set as a time zone, the coordinates will be automatically resolved to the local time zone.\n",
            "past_days\tInteger (0-2)\tNo\t0\tIf past_days is set, yesterday or the day before yesterday data are also returned.\n",
            "start_date\n",
            "end_date\tString (yyyy-mm-dd)\tNo\t\tThe time interval to get weather data. A day must be specified as an ISO8601 date (e.g. 2022-06-30).\n",
            "models\tString array\tNo\tauto\tManually select one or more weather models. Per default, the best suitable weather models will be combined.\n",
            "\n",
            "Hourly Parameter Definition\n",
            "The parameter &hourly= accepts the following values. Most weather variables are given as an instantaneous value for the indicated hour. Some variables like precipitation are calculated from the preceding hour as an average or sum.\n",
            "\n",
            "Variable\tValid time\tUnit\tDescription\n",
            "temperature_2m\tInstant\t°C (°F)\tAir temperature at 2 meters above ground\n",
            "snowfall\tPreceding hour sum\tcm (inch)\tSnowfall amount of the preceding hour in centimeters. For the water equivalent in millimeter, divide by 7. E.g. 7 cm snow = 10 mm precipitation water equivalent\n",
            "rain\tPreceding hour sum\tmm (inch)\tRain from large scale weather systems of the preceding hour in millimeter\n",
            "showers\tPreceding hour sum\tmm (inch)\tShowers from convective precipitation in millimeters from the preceding hour\n",
            "weathercode\tInstant\tWMO code\tWeather condition as a numeric code. Follow WMO weather interpretation codes. See table below for details.\n",
            "snow_depth\tInstant\tmeters\tSnow depth on the ground\n",
            "freezinglevel_height\tInstant\tmeters\tAltitude above sea level of the 0°C level\n",
            "visibility\tInstant\tmeters\tViewing distance in meters. Influenced by low clouds, humidity and aerosols. Maximum visibility is approximately 24 km.\n"
          ]
        }
      ]
    },
    {
      "cell_type": "code",
      "source": [
        "from langchain.chains.api import open_meteo_docs\n",
        "chain_new = APIChain.from_llm_and_api_docs(llm, \n",
        "                                           open_meteo_docs.OPEN_METEO_DOCS, \n",
        "                                           verbose=True)"
      ],
      "metadata": {
        "id": "THJPYYB_cD8U"
      },
      "execution_count": 48,
      "outputs": []
    },
    {
      "cell_type": "code",
      "source": [
        "chain_new.run('What is the temperature like right now in Bedok, Singapore in degrees Celcius?')"
      ],
      "metadata": {
        "colab": {
          "base_uri": "https://localhost:8080/",
          "height": 177
        },
        "id": "mkfkkjpzcKym",
        "outputId": "62c2fa43-32a0-42ae-e4ff-f466306fec3c"
      },
      "execution_count": 49,
      "outputs": [
        {
          "output_type": "stream",
          "name": "stdout",
          "text": [
            "\n",
            "\n",
            "\u001b[1m> Entering new APIChain chain...\u001b[0m\n",
            "\u001b[32;1m\u001b[1;3mhttps://api.open-meteo.com/v1/forecast?latitude=1.3&longitude=103.9&hourly=temperature_2m&current_weather=true&temperature_unit=celsius\u001b[0m\n",
            "\u001b[33;1m\u001b[1;3m{\"latitude\":1.375,\"longitude\":103.875,\"generationtime_ms\":0.14197826385498047,\"utc_offset_seconds\":0,\"timezone\":\"GMT\",\"timezone_abbreviation\":\"GMT\",\"elevation\":6.0,\"current_weather\":{\"temperature\":28.1,\"windspeed\":9.2,\"winddirection\":225.0,\"weathercode\":80,\"is_day\":1,\"time\":\"2023-05-29T01:00\"},\"hourly_units\":{\"time\":\"iso8601\",\"temperature_2m\":\"°C\"},\"hourly\":{\"time\":[\"2023-05-29T00:00\",\"2023-05-29T01:00\",\"2023-05-29T02:00\",\"2023-05-29T03:00\",\"2023-05-29T04:00\",\"2023-05-29T05:00\",\"2023-05-29T06:00\",\"2023-05-29T07:00\",\"2023-05-29T08:00\",\"2023-05-29T09:00\",\"2023-05-29T10:00\",\"2023-05-29T11:00\",\"2023-05-29T12:00\",\"2023-05-29T13:00\",\"2023-05-29T14:00\",\"2023-05-29T15:00\",\"2023-05-29T16:00\",\"2023-05-29T17:00\",\"2023-05-29T18:00\",\"2023-05-29T19:00\",\"2023-05-29T20:00\",\"2023-05-29T21:00\",\"2023-05-29T22:00\",\"2023-05-29T23:00\",\"2023-05-30T00:00\",\"2023-05-30T01:00\",\"2023-05-30T02:00\",\"2023-05-30T03:00\",\"2023-05-30T04:00\",\"2023-05-30T05:00\",\"2023-05-30T06:00\",\"2023-05-30T07:00\",\"2023-05-30T08:00\",\"2023-05-30T09:00\",\"2023-05-30T10:00\",\"2023-05-30T11:00\",\"2023-05-30T12:00\",\"2023-05-30T13:00\",\"2023-05-30T14:00\",\"2023-05-30T15:00\",\"2023-05-30T16:00\",\"2023-05-30T17:00\",\"2023-05-30T18:00\",\"2023-05-30T19:00\",\"2023-05-30T20:00\",\"2023-05-30T21:00\",\"2023-05-30T22:00\",\"2023-05-30T23:00\",\"2023-05-31T00:00\",\"2023-05-31T01:00\",\"2023-05-31T02:00\",\"2023-05-31T03:00\",\"2023-05-31T04:00\",\"2023-05-31T05:00\",\"2023-05-31T06:00\",\"2023-05-31T07:00\",\"2023-05-31T08:00\",\"2023-05-31T09:00\",\"2023-05-31T10:00\",\"2023-05-31T11:00\",\"2023-05-31T12:00\",\"2023-05-31T13:00\",\"2023-05-31T14:00\",\"2023-05-31T15:00\",\"2023-05-31T16:00\",\"2023-05-31T17:00\",\"2023-05-31T18:00\",\"2023-05-31T19:00\",\"2023-05-31T20:00\",\"2023-05-31T21:00\",\"2023-05-31T22:00\",\"2023-05-31T23:00\",\"2023-06-01T00:00\",\"2023-06-01T01:00\",\"2023-06-01T02:00\",\"2023-06-01T03:00\",\"2023-06-01T04:00\",\"2023-06-01T05:00\",\"2023-06-01T06:00\",\"2023-06-01T07:00\",\"2023-06-01T08:00\",\"2023-06-01T09:00\",\"2023-06-01T10:00\",\"2023-06-01T11:00\",\"2023-06-01T12:00\",\"2023-06-01T13:00\",\"2023-06-01T14:00\",\"2023-06-01T15:00\",\"2023-06-01T16:00\",\"2023-06-01T17:00\",\"2023-06-01T18:00\",\"2023-06-01T19:00\",\"2023-06-01T20:00\",\"2023-06-01T21:00\",\"2023-06-01T22:00\",\"2023-06-01T23:00\",\"2023-06-02T00:00\",\"2023-06-02T01:00\",\"2023-06-02T02:00\",\"2023-06-02T03:00\",\"2023-06-02T04:00\",\"2023-06-02T05:00\",\"2023-06-02T06:00\",\"2023-06-02T07:00\",\"2023-06-02T08:00\",\"2023-06-02T09:00\",\"2023-06-02T10:00\",\"2023-06-02T11:00\",\"2023-06-02T12:00\",\"2023-06-02T13:00\",\"2023-06-02T14:00\",\"2023-06-02T15:00\",\"2023-06-02T16:00\",\"2023-06-02T17:00\",\"2023-06-02T18:00\",\"2023-06-02T19:00\",\"2023-06-02T20:00\",\"2023-06-02T21:00\",\"2023-06-02T22:00\",\"2023-06-02T23:00\",\"2023-06-03T00:00\",\"2023-06-03T01:00\",\"2023-06-03T02:00\",\"2023-06-03T03:00\",\"2023-06-03T04:00\",\"2023-06-03T05:00\",\"2023-06-03T06:00\",\"2023-06-03T07:00\",\"2023-06-03T08:00\",\"2023-06-03T09:00\",\"2023-06-03T10:00\",\"2023-06-03T11:00\",\"2023-06-03T12:00\",\"2023-06-03T13:00\",\"2023-06-03T14:00\",\"2023-06-03T15:00\",\"2023-06-03T16:00\",\"2023-06-03T17:00\",\"2023-06-03T18:00\",\"2023-06-03T19:00\",\"2023-06-03T20:00\",\"2023-06-03T21:00\",\"2023-06-03T22:00\",\"2023-06-03T23:00\",\"2023-06-04T00:00\",\"2023-06-04T01:00\",\"2023-06-04T02:00\",\"2023-06-04T03:00\",\"2023-06-04T04:00\",\"2023-06-04T05:00\",\"2023-06-04T06:00\",\"2023-06-04T07:00\",\"2023-06-04T08:00\",\"2023-06-04T09:00\",\"2023-06-04T10:00\",\"2023-06-04T11:00\",\"2023-06-04T12:00\",\"2023-06-04T13:00\",\"2023-06-04T14:00\",\"2023-06-04T15:00\",\"2023-06-04T16:00\",\"2023-06-04T17:00\",\"2023-06-04T18:00\",\"2023-06-04T19:00\",\"2023-06-04T20:00\",\"2023-06-04T21:00\",\"2023-06-04T22:00\",\"2023-06-04T23:00\"],\"temperature_2m\":[27.4,28.1,29.0,29.8,30.5,31.0,30.9,31.1,31.5,31.3,30.9,30.1,29.4,28.9,28.6,28.3,28.1,27.9,27.7,27.5,27.4,27.3,27.3,27.2,28.0,28.9,29.2,29.8,30.5,31.0,30.8,30.8,30.4,30.2,30.0,29.6,29.1,28.8,28.5,28.3,28.1,28.0,27.9,27.7,27.6,27.6,27.5,27.5,28.1,29.4,30.2,31.0,31.6,31.9,32.0,32.2,32.2,31.8,31.3,30.5,29.8,29.2,28.8,28.5,28.3,28.1,28.0,27.8,27.8,27.8,27.8,27.7,28.2,28.7,29.5,30.2,30.7,31.2,31.6,31.7,31.7,31.5,30.9,30.2,29.5,29.1,28.8,28.5,28.3,28.1,28.0,27.8,27.7,27.7,27.7,27.8,28.1,28.9,29.8,30.6,31.2,31.6,31.9,32.1,32.2,32.0,31.4,30.5,29.7,29.2,28.8,28.5,28.3,28.1,28.0,27.9,27.7,27.6,27.5,27.6,28.0,29.0,30.4,31.5,32.2,32.7,33.0,33.2,33.1,32.8,32.0,31.0,30.1,29.5,29.1,28.8,28.6,28.4,28.2,28.0,27.9,27.8,27.7,27.7,28.0,29.1,30.5,31.6,32.2,32.5,32.6,32.5,32.3,31.9,31.5,30.9,30.4,29.8,29.1,28.6,28.3,28.1,27.9,27.7,27.6,27.5,27.6,27.8]}}\u001b[0m\n",
            "\n",
            "\u001b[1m> Finished chain.\u001b[0m\n"
          ]
        },
        {
          "output_type": "execute_result",
          "data": {
            "text/plain": [
              "' The temperature right now in Bedok, Singapore is 28.1°C.'"
            ],
            "application/vnd.google.colaboratory.intrinsic+json": {
              "type": "string"
            }
          },
          "metadata": {},
          "execution_count": 49
        }
      ]
    },
    {
      "cell_type": "code",
      "source": [
        "chain_new.run('Is it raining in Singapore?')"
      ],
      "metadata": {
        "colab": {
          "base_uri": "https://localhost:8080/",
          "height": 177
        },
        "id": "0qziCnvURUkI",
        "outputId": "2354ce54-db7b-44d8-d47d-fa2670e42451"
      },
      "execution_count": 52,
      "outputs": [
        {
          "output_type": "stream",
          "name": "stdout",
          "text": [
            "\n",
            "\n",
            "\u001b[1m> Entering new APIChain chain...\u001b[0m\n",
            "\u001b[32;1m\u001b[1;3mhttps://api.open-meteo.com/v1/forecast?latitude=1.3521&longitude=103.8198&current_weather=true&rain=true\u001b[0m\n",
            "\u001b[33;1m\u001b[1;3m{\"latitude\":1.375,\"longitude\":103.875,\"generationtime_ms\":0.11491775512695312,\"utc_offset_seconds\":0,\"timezone\":\"GMT\",\"timezone_abbreviation\":\"GMT\",\"elevation\":46.0,\"current_weather\":{\"temperature\":27.8,\"windspeed\":9.2,\"winddirection\":225.0,\"weathercode\":80,\"is_day\":1,\"time\":\"2023-05-29T01:00\"}}\u001b[0m\n",
            "\n",
            "\u001b[1m> Finished chain.\u001b[0m\n"
          ]
        },
        {
          "output_type": "execute_result",
          "data": {
            "text/plain": [
              "' It is currently raining in Singapore, with a temperature of 27.8°C and a windspeed of 9.2 km/h.'"
            ],
            "application/vnd.google.colaboratory.intrinsic+json": {
              "type": "string"
            }
          },
          "metadata": {},
          "execution_count": 52
        }
      ]
    },
    {
      "cell_type": "code",
      "source": [
        "# chain_new."
      ],
      "metadata": {
        "id": "LcZKznlUTyJH"
      },
      "execution_count": null,
      "outputs": []
    },
    {
      "cell_type": "code",
      "source": [],
      "metadata": {
        "id": "zN6kl7u7eK1l"
      },
      "execution_count": null,
      "outputs": []
    }
  ]
}