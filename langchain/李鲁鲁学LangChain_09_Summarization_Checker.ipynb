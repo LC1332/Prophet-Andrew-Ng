{
  "nbformat": 4,
  "nbformat_minor": 0,
  "metadata": {
    "colab": {
      "provenance": [],
      "include_colab_link": true
    },
    "kernelspec": {
      "name": "python3",
      "display_name": "Python 3"
    },
    "language_info": {
      "name": "python"
    }
  },
  "cells": [
    {
      "cell_type": "markdown",
      "metadata": {
        "id": "view-in-github",
        "colab_type": "text"
      },
      "source": [
        "<a href=\"https://colab.research.google.com/github/LC1332/Prophet-Andrew-Ng/blob/main/langchain/%E6%9D%8E%E9%B2%81%E9%B2%81%E5%AD%A6LangChain_09_Summarization_Checker.ipynb\" target=\"_parent\"><img src=\"https://colab.research.google.com/assets/colab-badge.svg\" alt=\"Open In Colab\"/></a>"
      ]
    },
    {
      "cell_type": "markdown",
      "source": [
        "# 李鲁鲁学LangChain 09 Summarization Checker\n",
        "\n",
        "这是李鲁鲁的学习笔记，对Sam Witteveen的油管课程的记录\n",
        "\n",
        "增加了李鲁鲁学习时候的吐槽\n",
        "\n",
        "因为一个独立的md文件导入知乎会更方便，所以这个课程的笔记会记录在md中\n",
        "\n",
        "比如这节课在\n",
        "\n",
        "https://github.com/LC1332/Prophet-Andrew-Ng/blob/main/langchain/%E6%9D%8E%E9%B2%81%E9%B2%81%E5%AD%A6LangChain%2007.md\n",
        "\n",
        "欢迎访问[骆驼项目](https://github.com/LC1332/Luotuo-Chinese-LLM)主页和点赞"
      ],
      "metadata": {
        "id": "FjXb9Evidl2E"
      }
    },
    {
      "cell_type": "markdown",
      "source": [
        "# LangChain - Summarization Checker\n",
        "\n",
        "https://langchain.readthedocs.io/en/latest/modules/chains/examples/llm_summarization_checker.html"
      ],
      "metadata": {
        "id": "Fj7nPx90FuOA"
      }
    },
    {
      "cell_type": "code",
      "source": [
        "!pip -q install openai==0.27.0 langchain huggingface_hub"
      ],
      "metadata": {
        "colab": {
          "base_uri": "https://localhost:8080/"
        },
        "id": "sHkg8P8_d7hP",
        "outputId": "af119cbe-cadb-4333-877b-0eb713722798"
      },
      "execution_count": null,
      "outputs": [
        {
          "output_type": "stream",
          "name": "stdout",
          "text": [
            "\u001b[2K     \u001b[90m━━━━━━━━━━━━━━━━━━━━━━━━━━━━━━━━━━━━━━━━\u001b[0m \u001b[32m70.1/70.1 kB\u001b[0m \u001b[31m2.3 MB/s\u001b[0m eta \u001b[36m0:00:00\u001b[0m\n",
            "\u001b[2K     \u001b[90m━━━━━━━━━━━━━━━━━━━━━━━━━━━━━━━━━━━━━━\u001b[0m \u001b[32m993.7/993.7 kB\u001b[0m \u001b[31m18.0 MB/s\u001b[0m eta \u001b[36m0:00:00\u001b[0m\n",
            "\u001b[2K     \u001b[90m━━━━━━━━━━━━━━━━━━━━━━━━━━━━━━━━━━━━━━\u001b[0m \u001b[32m236.8/236.8 kB\u001b[0m \u001b[31m22.3 MB/s\u001b[0m eta \u001b[36m0:00:00\u001b[0m\n",
            "\u001b[2K     \u001b[90m━━━━━━━━━━━━━━━━━━━━━━━━━━━━━━━━━━━━━━━━\u001b[0m \u001b[32m1.0/1.0 MB\u001b[0m \u001b[31m53.5 MB/s\u001b[0m eta \u001b[36m0:00:00\u001b[0m\n",
            "\u001b[2K     \u001b[90m━━━━━━━━━━━━━━━━━━━━━━━━━━━━━━━━━━━━━━━━\u001b[0m \u001b[32m90.0/90.0 kB\u001b[0m \u001b[31m5.0 MB/s\u001b[0m eta \u001b[36m0:00:00\u001b[0m\n",
            "\u001b[2K     \u001b[90m━━━━━━━━━━━━━━━━━━━━━━━━━━━━━━━━━━━━━━━\u001b[0m \u001b[32m114.5/114.5 kB\u001b[0m \u001b[31m9.3 MB/s\u001b[0m eta \u001b[36m0:00:00\u001b[0m\n",
            "\u001b[2K     \u001b[90m━━━━━━━━━━━━━━━━━━━━━━━━━━━━━━━━━━━━━━\u001b[0m \u001b[32m268.8/268.8 kB\u001b[0m \u001b[31m21.5 MB/s\u001b[0m eta \u001b[36m0:00:00\u001b[0m\n",
            "\u001b[2K     \u001b[90m━━━━━━━━━━━━━━━━━━━━━━━━━━━━━━━━━━━━━━\u001b[0m \u001b[32m149.6/149.6 kB\u001b[0m \u001b[31m13.6 MB/s\u001b[0m eta \u001b[36m0:00:00\u001b[0m\n",
            "\u001b[2K     \u001b[90m━━━━━━━━━━━━━━━━━━━━━━━━━━━━━━━━━━━━━━━━\u001b[0m \u001b[32m49.1/49.1 kB\u001b[0m \u001b[31m4.8 MB/s\u001b[0m eta \u001b[36m0:00:00\u001b[0m\n",
            "\u001b[?25h"
          ]
        }
      ]
    },
    {
      "cell_type": "code",
      "source": [
        "import os\n",
        "\n",
        "os.environ[\"OPENAI_API_KEY\"] = \"sk-KP8ZcoDQR\""
      ],
      "metadata": {
        "id": "ViFWqqq_d8mR"
      },
      "execution_count": null,
      "outputs": []
    },
    {
      "cell_type": "code",
      "source": [
        "from langchain.prompts import PromptTemplate\n",
        "from langchain.llms import OpenAI\n",
        "from langchain.chains import LLMChain\n",
        "import textwrap"
      ],
      "metadata": {
        "id": "-lzO5PfUpwfv"
      },
      "execution_count": null,
      "outputs": []
    },
    {
      "cell_type": "markdown",
      "source": [
        "李鲁鲁: 照常替换"
      ],
      "metadata": {
        "id": "-MOKrGoEeLog"
      }
    },
    {
      "cell_type": "code",
      "source": [
        "from langchain.chat_models import ChatOpenAI\n",
        "\n",
        "llm = ChatOpenAI(model_name='gpt-3.5-turbo')"
      ],
      "metadata": {
        "id": "oCMLm_qAeKaR"
      },
      "execution_count": null,
      "outputs": []
    },
    {
      "cell_type": "code",
      "source": [
        "# llm = OpenAI(model_name='text-davinci-003', \n",
        "#              temperature=0, \n",
        "#              max_tokens = 256)"
      ],
      "metadata": {
        "id": "sTiEn3tKp7mZ"
      },
      "execution_count": null,
      "outputs": []
    },
    {
      "cell_type": "code",
      "source": [
        "!wget https://raw.githubusercontent.com/LC1332/Prophet-Andrew-Ng/main/langchain/%E7%A5%9E%E9%9B%95%E4%BE%A0%E4%BE%A3%E7%89%87%E6%AE%B5.txt"
      ],
      "metadata": {
        "colab": {
          "base_uri": "https://localhost:8080/"
        },
        "id": "JAbEWu-QeZA-",
        "outputId": "25f384ae-55c6-4923-a21e-27d14e43f584"
      },
      "execution_count": null,
      "outputs": [
        {
          "output_type": "stream",
          "name": "stdout",
          "text": [
            "--2023-06-06 06:51:33--  https://raw.githubusercontent.com/LC1332/Prophet-Andrew-Ng/main/langchain/%E7%A5%9E%E9%9B%95%E4%BE%A0%E4%BE%A3%E7%89%87%E6%AE%B5.txt\n",
            "Resolving raw.githubusercontent.com (raw.githubusercontent.com)... 185.199.110.133, 185.199.109.133, 185.199.111.133, ...\n",
            "Connecting to raw.githubusercontent.com (raw.githubusercontent.com)|185.199.110.133|:443... connected.\n",
            "HTTP request sent, awaiting response... 200 OK\n",
            "Length: 4329 (4.2K) [text/plain]\n",
            "Saving to: ‘神雕侠侣片段.txt’\n",
            "\n",
            "\r神雕侠侣片段.txt      0%[                    ]       0  --.-KB/s               \r神雕侠侣片段.txt    100%[===================>]   4.23K  --.-KB/s    in 0s      \n",
            "\n",
            "2023-06-06 06:51:33 (47.2 MB/s) - ‘神雕侠侣片段.txt’ saved [4329/4329]\n",
            "\n"
          ]
        }
      ]
    },
    {
      "cell_type": "code",
      "source": [
        "# load the doc\n",
        "with open('/content/神雕侠侣片段.txt') as f:\n",
        "    article = f.read()\n",
        "# texts = text_splitter.split_text(demi_gods)"
      ],
      "metadata": {
        "id": "YaCDHRnuedOt"
      },
      "execution_count": null,
      "outputs": []
    },
    {
      "cell_type": "code",
      "source": [
        "# article = '''Coinbase, the second-largest crypto exchange by trading volume, released its Q4 2022 earnings on Tuesday, giving shareholders and market players alike an updated look into its financials. In response to the report, the company's shares are down modestly in early after-hours trading.In the fourth quarter of 2022, Coinbase generated $605 million in total revenue, down sharply from $2.49 billion in the year-ago quarter. Coinbase's top line was not enough to cover its expenses: The company lost $557 million in the three-month period on a GAAP basis (net income) worth -$2.46 per share, and an adjusted EBITDA deficit of $124 million.Wall Street expected Coinbase to report $581.2 million in revenue and earnings per share of -$2.44 with adjusted EBITDA of -$201.8 million driven by 8.4 million monthly transaction users (MTUs), according to data provided by Yahoo Finance.Before its Q4 earnings were released, Coinbase's stock had risen 86% year-to-date. Even with that rally, the value of Coinbase when measured on a per-share basis is still down significantly from its 52-week high of $206.79.That Coinbase beat revenue expectations is notable in that it came with declines in trading volume; Coinbase historically generated the bulk of its revenues from trading fees, making Q4 2022 notable. Consumer trading volumes fell from $26 billion in the third quarter of last year to $20 billion in Q4, while institutional volumes across the same timeframe fell from $133 billion to $125 billion.The overall crypto market capitalization fell about 64%, or $1.5 trillion during 2022, which resulted in Coinbase's total trading volumes and transaction revenues to fall 50% and 66% year-over-year, respectively, the company reported.As you would expect with declines in trading volume, trading revenue at Coinbase fell in Q4 compared to the third quarter of last year, dipping from $365.9 million to $322.1 million. (TechCrunch is comparing Coinbase's Q4 2022 results to Q3 2022 instead of Q4 2021, as the latter comparison would be less useful given how much the crypto market has changed in the last year; we're all aware that overall crypto activity has fallen from the final months of 2021.)There were bits of good news in the Coinbase report. While Coinbase's trading revenues were less than exuberant, the company's other revenues posted gains. What Coinbase calls its \"subscription and services revenue\" rose from $210.5 million in Q3 2022 to $282.8 million in Q4 of the same year, a gain of just over 34% in a single quarter.And even as the crypto industry faced a number of catastrophic events, including the Terra/LUNA and FTX collapses to name a few, there was still growth in other areas. The monthly active developers in crypto have more than doubled since 2020 to over 20,000, while major brands like Starbucks, Nike and Adidas have dived into the space alongside social media platforms like Instagram and Reddit.With big players getting into crypto, industry players are hoping this move results in greater adoption both for product use cases and trading volumes. Although there was a lot of movement from traditional retail markets and Web 2.0 businesses, trading volume for both consumer and institutional users fell quarter-over-quarter for Coinbase.Looking forward, it'll be interesting to see if these pieces pick back up and trading interest reemerges in 2023, or if platforms like Coinbase will have to keep looking elsewhere for revenue (like its subscription service) if users continue to shy away from the market.\n",
        "# '''\n",
        "\n",
        "wrapped_text = textwrap.fill(article, \n",
        "                             width=100,\n",
        "                             break_long_words=True,\n",
        "                             replace_whitespace=False)\n",
        "print(wrapped_text)"
      ],
      "metadata": {
        "id": "WCBfxD4cqXsx",
        "colab": {
          "base_uri": "https://localhost:8080/"
        },
        "outputId": "d76f8a7b-2183-41b8-9ea5-fc7b096e7dc1"
      },
      "execution_count": null,
      "outputs": [
        {
          "output_type": "stream",
          "name": "stdout",
          "text": [
            "两人一雕向着黑龙潭而去。那所在极易辨认，方圆七八里内草木不生。黑龙潭本是一座大湖，后因水源干枯，逐年淤塞，成为一片污泥堆积的大沼泽。只一顿饭功夫，杨过和郭襄已来到潭边。纵目眺望，眼前一片死气沉沉，只潭\n",
            "心堆着不少枯柴茅草，展延甚广，那九尾灵狐的藏身所在，想必便在其中。\n",
            "\n",
            "杨过折了一根树枝掷入潭中。树枝初时横在积雪之上，过不多时便渐渐陷落，下沉之势虽甚缓慢，却绝不停留，眼见两旁积雪掩上，树枝终于没得全\n",
            "无半点踪迹。郭襄不禁骇然：“树枝分量甚轻，尚自如此，这淤泥上怎能立足？”怔怔望着杨过，不知他有何妙策。\n",
            "杨过折下两根树枝，每根长约六尺，拉去小枝，缚在脚底，道：“我且试试，不知成与不成？”身子向前一挺，飞也似的在积雪上滑了开去。但见他东滑西闪，左转右折，实无瞬息之间停留，在潭泥上转个圈子，回到原地。\n",
            "\n",
            "\n",
            "郭襄拍手笑道：“好本事，好功夫！”杨过见她眼光中充满艳羡之意，知她极盼随己入潭捉狐，但自量又无这等轻身本领，笑道：“我答应过要带你到黑龙潭捕捉九尾灵狐，你有没胆子？”郭襄轻轻叹了口气，说道：“我没你这\n",
            "般本领，纵有胆子，也是枉然。”杨过微笑不语，又折下两根五尺来长的树干，递给郭襄，说道：“缚在自己脚底下罢！”\n",
            "\n",
            "郭襄又惊又喜，将树枝牢牢缚在脚底。杨过道：“你身子前倾，脚下不可丝毫使力。”伸左手握住了\n",
            "她右手，轻喝：“别怕！”一提一拉，郭襄身不由主的跟着他滑入了潭中。初时心中惊慌，但滑出数丈后，只觉身子轻飘飘的有如御风而行，脚上全不着力，连叫：“当真好玩！”\n",
            "\n",
            "两人滑了一阵，杨过忽然奇道：“咦！”郭\n",
            "襄道：“怎么？”她微一凝神，足下稍重，左脚一沉，污泥没上了足背，她惊叫一声：“啊哟！”杨过一提将她拉起，说道：“记着，时刻移动，不得有瞬息之间在原地停留。”郭襄道：“是了！你瞧见了甚么？是九尾灵狐吗？\n",
            "”杨过道：“不是！那潭中好似有人居住。”郭襄大奇：“这地方怎住得人？”杨过道：“我也是不懂了。但这些柴草布置有异，并非天然之物。”\n",
            "这时两人离那些枯柴茅草更加近了，郭襄仔细瞧去，说道：“不错，乙木在东，丙火在南，戊土居中，北方却不是癸水，而是庚金之象。”\n",
            "\n",
            "她自幼听母亲谈论阴阳五行之变，也学了两三成。她与姊姊郭芙性格颇有差异，虽然\n",
            "豪爽，却不鲁莽，可比姊姊聪明得多。黄蓉常说：“你外公倘若见了你，定是喜欢到了心坎儿中去。”黄药师颇务医卜星相、琴棋书画以及兵法纵横诸般杂学，郭襄小小年纪，竟隐然有外祖之风，只是分心旁骛，武功进境便慢，\n",
            "同时异想天开，我行我素，行事往往出人意表，令郭靖、黄蓉头痛之极。她在家中有个外号，叫作“小东邪”。比如这次金钗换酒飨客，跟随一个素不相识的大头鬼去瞧神雕侠，又跟一个素不相识的神雕侠去捕捉灵狐，其大胆任\n",
            "性之处，与当年的黄蓉、郭芙均自不同。\n",
            "杨过听她道出柴草布置的方位，颇感诧异，问道：“你怎知道？是谁教你的？”郭襄笑道：“我是在书上瞧来的，也不知道说得对不对。但我瞧这潭中的布置也平平无奇，不见得是甚么了不起的高人。”\n",
            "\n",
            "杨过点头道：“嗯，\n",
            "但那人在污泥潭居住，竟不陷没，这可奇了。”于是朗声说道：“黑龙潭中的朋友，有客人来啦。”过了一会，潭中寂静无声。杨过再叫一遍，仍然无人应答。杨过道：“看来虽然有人堆柴布阵，却不住在此地，咱们过去瞧瞧。\n",
            "”向前滑出二十余丈，到了堆积柴草之处。\n",
            "郭襄忽觉脚下一实，似是踏到了硬地。杨过更早已察觉，笑道：“说来平平无奇，原来潭中有个小岛。”一句话刚完，突然眼前白影闪动，茅草中钻出两只小狐，却是一对九尾灵狐，一向东北，一向西南，疾奔而远。\n"
          ]
        }
      ]
    },
    {
      "cell_type": "code",
      "source": [
        "len(article)"
      ],
      "metadata": {
        "colab": {
          "base_uri": "https://localhost:8080/"
        },
        "id": "eMnYNdKIjJiq",
        "outputId": "c4938e4b-2526-4292-f665-79dd59cb348f"
      },
      "execution_count": null,
      "outputs": [
        {
          "output_type": "execute_result",
          "data": {
            "text/plain": [
              "1457"
            ]
          },
          "metadata": {},
          "execution_count": 8
        }
      ]
    },
    {
      "cell_type": "code",
      "source": [
        "fact_extraction_prompt = PromptTemplate(\n",
        "    input_variables=[\"text_input\"],\n",
        "    template=\"从这段文本中提取关键事实。不包括观点。给每个事实编号并使用短句子: \\n \\n {text_input}\"\n",
        ")"
      ],
      "metadata": {
        "id": "MgLWAwhFGmVg"
      },
      "execution_count": null,
      "outputs": []
    },
    {
      "cell_type": "code",
      "source": [
        "fact_extraction_chain = LLMChain(llm=llm, prompt=fact_extraction_prompt)\n",
        "\n",
        "facts = fact_extraction_chain.run(article)\n",
        "\n",
        "wrapped_text = textwrap.fill(facts, \n",
        "                             width=100,\n",
        "                             break_long_words=True,\n",
        "                             replace_whitespace=False)\n",
        "print(wrapped_text)"
      ],
      "metadata": {
        "colab": {
          "base_uri": "https://localhost:8080/"
        },
        "id": "wTDX0e2D0jIs",
        "outputId": "1f041d94-2ce7-4435-c72f-328b18ad9ef2"
      },
      "execution_count": null,
      "outputs": [
        {
          "output_type": "stream",
          "name": "stdout",
          "text": [
            "1. 黑龙潭是一座大湖，淤塞成一片污泥堆积的大沼泽。\n",
            "2. 杨过和郭襄来到潭边，发现潭中有九尾灵狐的藏身所在。\n",
            "3. 杨过折了一根树枝掷入潭中，发现潭泥很深，无法立足。\n",
            "4.\n",
            "杨过用树枝做轻功器材，带着郭襄一起在潭中滑行。\n",
            "5. 杨过和郭襄滑行时发现潭中好像有人居住，郭襄发现了柴草布置的方位。\n",
            "6. 杨过和郭襄到达柴草堆积处，发现潭中有个小岛。\n",
            "7.\n",
            "一对九尾灵狐从茅草中钻出，逃跑。\n"
          ]
        }
      ]
    },
    {
      "cell_type": "markdown",
      "source": [
        "## Summarization Checking"
      ],
      "metadata": {
        "id": "Hc2LsFZOGnod"
      }
    },
    {
      "cell_type": "code",
      "execution_count": null,
      "metadata": {
        "colab": {
          "base_uri": "https://localhost:8080/"
        },
        "id": "w52KCuwgFqtP",
        "outputId": "133807c7-db0c-4d41-8876-fc70baf374fe"
      },
      "outputs": [
        {
          "output_type": "stream",
          "name": "stderr",
          "text": [
            "/usr/local/lib/python3.10/dist-packages/langchain/chains/llm_summarization_checker/base.py:114: UserWarning: Directly instantiating an LLMSummarizationCheckerChain with an llm is deprecated. Please instantiate with sequential_chain argument or using the from_llm class method.\n",
            "  warnings.warn(\n"
          ]
        }
      ],
      "source": [
        "from langchain.chains import LLMSummarizationCheckerChain\n",
        "from langchain.llms import OpenAI\n",
        "\n",
        "# llm = OpenAI(temperature=0)\n",
        "llm = ChatOpenAI(model_name='gpt-3.5-turbo')\n",
        "\n",
        "checker_chain = LLMSummarizationCheckerChain(llm=llm, \n",
        "                                             verbose=True, \n",
        "                                             max_checks=2\n",
        "                                             )\n",
        "\n",
        "# final_summary = checker_chain.run(article)\n",
        "# final_summary"
      ]
    },
    {
      "cell_type": "code",
      "source": [
        "checker_chain.create_assertions_prompt.template = '''Given some Chinese text, extract a list of facts from the text.\\n\n",
        "Format your output as a Chinese bulleted list.\\n\\nText:\\n\"\"\"\\n{summary}\\n\"\"\"\\n\\nFacts:'''"
      ],
      "metadata": {
        "id": "tLFDYh_CfTRT"
      },
      "execution_count": null,
      "outputs": []
    },
    {
      "cell_type": "code",
      "source": [
        "final_summary = checker_chain.run(article)\n",
        "final_summary"
      ],
      "metadata": {
        "colab": {
          "base_uri": "https://localhost:8080/",
          "height": 1000
        },
        "id": "cM9zQLz5fn17",
        "outputId": "61520b54-614c-4b10-9e25-5053b46e2dd5"
      },
      "execution_count": null,
      "outputs": [
        {
          "output_type": "stream",
          "name": "stdout",
          "text": [
            "\n",
            "\n",
            "\u001b[1m> Entering new LLMSummarizationCheckerChain chain...\u001b[0m\n",
            "\n",
            "\n",
            "\u001b[1m> Entering new SequentialChain chain...\u001b[0m\n",
            "\n",
            "\n",
            "\u001b[1m> Entering new LLMChain chain...\u001b[0m\n",
            "Prompt after formatting:\n",
            "\u001b[32;1m\u001b[1;3mGiven some text, extract a list of facts from the text.\n",
            "\n",
            "Format your output as a bulleted list.\n",
            "\n",
            "Text:\n",
            "\"\"\"\n",
            "两人一雕向着黑龙潭而去。那所在极易辨认，方圆七八里内草木不生。黑龙潭本是一座大湖，后因水源干枯，逐年淤塞，成为一片污泥堆积的大沼泽。只一顿饭功夫，杨过和郭襄已来到潭边。纵目眺望，眼前一片死气沉沉，只潭心堆着不少枯柴茅草，展延甚广，那九尾灵狐的藏身所在，想必便在其中。\n",
            "\n",
            "杨过折了一根树枝掷入潭中。树枝初时横在积雪之上，过不多时便渐渐陷落，下沉之势虽甚缓慢，却绝不停留，眼见两旁积雪掩上，树枝终于没得全无半点踪迹。郭襄不禁骇然：“树枝分量甚轻，尚自如此，这淤泥上怎能立足？”怔怔望着杨过，不知他有何妙策。\n",
            "\n",
            "杨过折下两根树枝，每根长约六尺，拉去小枝，缚在脚底，道：“我且试试，不知成与不成？”身子向前一挺，飞也似的在积雪上滑了开去。但见他东滑西闪，左转右折，实无瞬息之间停留，在潭泥上转个圈子，回到原地。\n",
            "\n",
            "郭襄拍手笑道：“好本事，好功夫！”杨过见她眼光中充满艳羡之意，知她极盼随己入潭捉狐，但自量又无这等轻身本领，笑道：“我答应过要带你到黑龙潭捕捉九尾灵狐，你有没胆子？”郭襄轻轻叹了口气，说道：“我没你这般本领，纵有胆子，也是枉然。”杨过微笑不语，又折下两根五尺来长的树干，递给郭襄，说道：“缚在自己脚底下罢！”\n",
            "\n",
            "郭襄又惊又喜，将树枝牢牢缚在脚底。杨过道：“你身子前倾，脚下不可丝毫使力。”伸左手握住了她右手，轻喝：“别怕！”一提一拉，郭襄身不由主的跟着他滑入了潭中。初时心中惊慌，但滑出数丈后，只觉身子轻飘飘的有如御风而行，脚上全不着力，连叫：“当真好玩！”\n",
            "\n",
            "两人滑了一阵，杨过忽然奇道：“咦！”郭襄道：“怎么？”她微一凝神，足下稍重，左脚一沉，污泥没上了足背，她惊叫一声：“啊哟！”杨过一提将她拉起，说道：“记着，时刻移动，不得有瞬息之间在原地停留。”郭襄道：“是了！你瞧见了甚么？是九尾灵狐吗？”杨过道：“不是！那潭中好似有人居住。”郭襄大奇：“这地方怎住得人？”杨过道：“我也是不懂了。但这些柴草布置有异，并非天然之物。”\n",
            "\n",
            "这时两人离那些枯柴茅草更加近了，郭襄仔细瞧去，说道：“不错，乙木在东，丙火在南，戊土居中，北方却不是癸水，而是庚金之象。”\n",
            "\n",
            "她自幼听母亲谈论阴阳五行之变，也学了两三成。她与姊姊郭芙性格颇有差异，虽然豪爽，却不鲁莽，可比姊姊聪明得多。黄蓉常说：“你外公倘若见了你，定是喜欢到了心坎儿中去。”黄药师颇务医卜星相、琴棋书画以及兵法纵横诸般杂学，郭襄小小年纪，竟隐然有外祖之风，只是分心旁骛，武功进境便慢，同时异想天开，我行我素，行事往往出人意表，令郭靖、黄蓉头痛之极。她在家中有个外号，叫作“小东邪”。比如这次金钗换酒飨客，跟随一个素不相识的大头鬼去瞧神雕侠，又跟一个素不相识的神雕侠去捕捉灵狐，其大胆任性之处，与当年的黄蓉、郭芙均自不同。\n",
            "\n",
            "杨过听她道出柴草布置的方位，颇感诧异，问道：“你怎知道？是谁教你的？”郭襄笑道：“我是在书上瞧来的，也不知道说得对不对。但我瞧这潭中的布置也平平无奇，不见得是甚么了不起的高人。”\n",
            "\n",
            "杨过点头道：“嗯，但那人在污泥潭居住，竟不陷没，这可奇了。”于是朗声说道：“黑龙潭中的朋友，有客人来啦。”过了一会，潭中寂静无声。杨过再叫一遍，仍然无人应答。杨过道：“看来虽然有人堆柴布阵，却不住在此地，咱们过去瞧瞧。”向前滑出二十余丈，到了堆积柴草之处。\n",
            "\n",
            "郭襄忽觉脚下一实，似是踏到了硬地。杨过更早已察觉，笑道：“说来平平无奇，原来潭中有个小岛。”一句话刚完，突然眼前白影闪动，茅草中钻出两只小狐，却是一对九尾灵狐，一向东北，一向西南，疾奔而远。\n",
            "\n",
            "\"\"\"\n",
            "\n",
            "Facts:\u001b[0m\n",
            "\n",
            "\u001b[1m> Finished chain.\u001b[0m\n",
            "\n",
            "\n",
            "\u001b[1m> Entering new LLMChain chain...\u001b[0m\n",
            "Prompt after formatting:\n",
            "\u001b[32;1m\u001b[1;3mYou are an expert fact checker. You have been hired by a major news organization to fact check a very important story.\n",
            "\n",
            "Here is a bullet point list of facts:\n",
            "\"\"\"\n",
            "- Black Dragon Pool was once a large lake that has since become a swamp due to drying up and sedimentation.\n",
            "- Yang Guo and Guo Xiang went to Black Dragon Pool to catch the Nine-tailed Fox.\n",
            "- Within a few moments, Yang Guo and Guo Xiang arrived at the edge of the pool and saw a lot of dead wood and grass piled up at the bottom of the pool.\n",
            "- Yang Guo threw a tree branch into the pool and it sank slowly into the mud, disappearing without a trace.\n",
            "- Guo Xiang was amazed that such a light branch could sink so easily and wondered how they could stand on the mud.\n",
            "- Yang Guo suggested trying to use two six-foot-long tree branches to slide on top of the snow and mud and demonstrated his skill to Guo Xiang.\n",
            "- They both slid into the pool with the tree branches tied to their feet.\n",
            "- Guo Xiang noticed that the arrangement of the wood and grass was unusual and not natural.\n",
            "- Guo Xiang recognized the arrangement of the wood and grass as representing the five elements of yin and yang.\n",
            "- Guo Xiang learned about the five elements of yin and yang from books.\n",
            "- Yang Guo was surprised by Guo Xiang's knowledge and asked who taught her.\n",
            "- They discovered a small island in the middle of the pool under the pile of wood and grass.\n",
            "- They saw two small foxes with nine tails each, one running northeast and the other southwest.\n",
            "\"\"\"\n",
            "\n",
            "For each fact, determine whether it is true or false about the subject. If you are unable to determine whether the fact is true or false, output \"Undetermined\".\n",
            "If the fact is false, explain why.\n",
            "\n",
            "\u001b[0m\n",
            "\n",
            "\u001b[1m> Finished chain.\u001b[0m\n",
            "\n",
            "\n",
            "\u001b[1m> Entering new LLMChain chain...\u001b[0m\n",
            "Prompt after formatting:\n",
            "\u001b[32;1m\u001b[1;3mBelow are some assertions that have been fact checked and are labeled as true or false. If the answer is false, a suggestion is given for a correction.\n",
            "\n",
            "Checked Assertions:\n",
            "\"\"\"\n",
            "1. True - Black Dragon Pool was once a large lake that has since become a swamp due to drying up and sedimentation.\n",
            "2. Undetermined - It is unclear who Yang Guo and Guo Xiang are and if they went to Black Dragon Pool to catch the Nine-tailed Fox. More context is needed.\n",
            "3. Undetermined - It is unclear how accurate this description of the pool's bottom is without further evidence.\n",
            "4. Undetermined - It is unclear how accurate this description of the branch sinking is without further evidence.\n",
            "5. Undetermined - It is unclear how accurate Guo Xiang's observation is without further evidence.\n",
            "6. False - This is a fictional story and should not be taken as a factual account.\n",
            "7. False - This is a fictional story and should not be taken as a factual account.\n",
            "8. False - This is a fictional story and should not be taken as a factual account.\n",
            "9. False - This is a fictional story and should not be taken as a factual account.\n",
            "10. False - This is a fictional story and should not be taken as a factual account.\n",
            "11. Undetermined - It is unclear how accurate this description of the discovery of the island is without further evidence.\n",
            "12. Undetermined - It is unclear how accurate this description of the foxes is without further evidence.\n",
            "\"\"\"\n",
            "\n",
            "Original Summary:\n",
            "\"\"\"\n",
            "两人一雕向着黑龙潭而去。那所在极易辨认，方圆七八里内草木不生。黑龙潭本是一座大湖，后因水源干枯，逐年淤塞，成为一片污泥堆积的大沼泽。只一顿饭功夫，杨过和郭襄已来到潭边。纵目眺望，眼前一片死气沉沉，只潭心堆着不少枯柴茅草，展延甚广，那九尾灵狐的藏身所在，想必便在其中。\n",
            "\n",
            "杨过折了一根树枝掷入潭中。树枝初时横在积雪之上，过不多时便渐渐陷落，下沉之势虽甚缓慢，却绝不停留，眼见两旁积雪掩上，树枝终于没得全无半点踪迹。郭襄不禁骇然：“树枝分量甚轻，尚自如此，这淤泥上怎能立足？”怔怔望着杨过，不知他有何妙策。\n",
            "\n",
            "杨过折下两根树枝，每根长约六尺，拉去小枝，缚在脚底，道：“我且试试，不知成与不成？”身子向前一挺，飞也似的在积雪上滑了开去。但见他东滑西闪，左转右折，实无瞬息之间停留，在潭泥上转个圈子，回到原地。\n",
            "\n",
            "郭襄拍手笑道：“好本事，好功夫！”杨过见她眼光中充满艳羡之意，知她极盼随己入潭捉狐，但自量又无这等轻身本领，笑道：“我答应过要带你到黑龙潭捕捉九尾灵狐，你有没胆子？”郭襄轻轻叹了口气，说道：“我没你这般本领，纵有胆子，也是枉然。”杨过微笑不语，又折下两根五尺来长的树干，递给郭襄，说道：“缚在自己脚底下罢！”\n",
            "\n",
            "郭襄又惊又喜，将树枝牢牢缚在脚底。杨过道：“你身子前倾，脚下不可丝毫使力。”伸左手握住了她右手，轻喝：“别怕！”一提一拉，郭襄身不由主的跟着他滑入了潭中。初时心中惊慌，但滑出数丈后，只觉身子轻飘飘的有如御风而行，脚上全不着力，连叫：“当真好玩！”\n",
            "\n",
            "两人滑了一阵，杨过忽然奇道：“咦！”郭襄道：“怎么？”她微一凝神，足下稍重，左脚一沉，污泥没上了足背，她惊叫一声：“啊哟！”杨过一提将她拉起，说道：“记着，时刻移动，不得有瞬息之间在原地停留。”郭襄道：“是了！你瞧见了甚么？是九尾灵狐吗？”杨过道：“不是！那潭中好似有人居住。”郭襄大奇：“这地方怎住得人？”杨过道：“我也是不懂了。但这些柴草布置有异，并非天然之物。”\n",
            "\n",
            "这时两人离那些枯柴茅草更加近了，郭襄仔细瞧去，说道：“不错，乙木在东，丙火在南，戊土居中，北方却不是癸水，而是庚金之象。”\n",
            "\n",
            "她自幼听母亲谈论阴阳五行之变，也学了两三成。她与姊姊郭芙性格颇有差异，虽然豪爽，却不鲁莽，可比姊姊聪明得多。黄蓉常说：“你外公倘若见了你，定是喜欢到了心坎儿中去。”黄药师颇务医卜星相、琴棋书画以及兵法纵横诸般杂学，郭襄小小年纪，竟隐然有外祖之风，只是分心旁骛，武功进境便慢，同时异想天开，我行我素，行事往往出人意表，令郭靖、黄蓉头痛之极。她在家中有个外号，叫作“小东邪”。比如这次金钗换酒飨客，跟随一个素不相识的大头鬼去瞧神雕侠，又跟一个素不相识的神雕侠去捕捉灵狐，其大胆任性之处，与当年的黄蓉、郭芙均自不同。\n",
            "\n",
            "杨过听她道出柴草布置的方位，颇感诧异，问道：“你怎知道？是谁教你的？”郭襄笑道：“我是在书上瞧来的，也不知道说得对不对。但我瞧这潭中的布置也平平无奇，不见得是甚么了不起的高人。”\n",
            "\n",
            "杨过点头道：“嗯，但那人在污泥潭居住，竟不陷没，这可奇了。”于是朗声说道：“黑龙潭中的朋友，有客人来啦。”过了一会，潭中寂静无声。杨过再叫一遍，仍然无人应答。杨过道：“看来虽然有人堆柴布阵，却不住在此地，咱们过去瞧瞧。”向前滑出二十余丈，到了堆积柴草之处。\n",
            "\n",
            "郭襄忽觉脚下一实，似是踏到了硬地。杨过更早已察觉，笑道：“说来平平无奇，原来潭中有个小岛。”一句话刚完，突然眼前白影闪动，茅草中钻出两只小狐，却是一对九尾灵狐，一向东北，一向西南，疾奔而远。\n",
            "\n",
            "\"\"\"\n",
            "\n",
            "Using these checked assertions, rewrite the original summary to be completely true.\n",
            "\n",
            "The output should have the same structure and formatting as the original summary.\n",
            "\n",
            "Summary:\u001b[0m\n",
            "\n",
            "\u001b[1m> Finished chain.\u001b[0m\n",
            "\n",
            "\n",
            "\u001b[1m> Entering new LLMChain chain...\u001b[0m\n",
            "Prompt after formatting:\n",
            "\u001b[32;1m\u001b[1;3mBelow are some assertions that have been fact checked and are labeled as true or false.\n",
            "\n",
            "If all of the assertions are true, return \"True\". If any of the assertions are false, return \"False\".\n",
            "\n",
            "Here are some examples:\n",
            "===\n",
            "\n",
            "Checked Assertions: \"\"\"\n",
            "- The sky is red: False\n",
            "- Water is made of lava: False\n",
            "- The sun is a star: True\n",
            "\"\"\"\n",
            "Result: False\n",
            "\n",
            "===\n",
            "\n",
            "Checked Assertions: \"\"\"\n",
            "- The sky is blue: True\n",
            "- Water is wet: True\n",
            "- The sun is a star: True\n",
            "\"\"\"\n",
            "Result: True\n",
            "\n",
            "===\n",
            "\n",
            "Checked Assertions: \"\"\"\n",
            "- The sky is blue - True\n",
            "- Water is made of lava- False\n",
            "- The sun is a star - True\n",
            "\"\"\"\n",
            "Result: False\n",
            "\n",
            "===\n",
            "\n",
            "Checked Assertions:\"\"\"\n",
            "1. True - Black Dragon Pool was once a large lake that has since become a swamp due to drying up and sedimentation.\n",
            "2. Undetermined - It is unclear who Yang Guo and Guo Xiang are and if they went to Black Dragon Pool to catch the Nine-tailed Fox. More context is needed.\n",
            "3. Undetermined - It is unclear how accurate this description of the pool's bottom is without further evidence.\n",
            "4. Undetermined - It is unclear how accurate this description of the branch sinking is without further evidence.\n",
            "5. Undetermined - It is unclear how accurate Guo Xiang's observation is without further evidence.\n",
            "6. False - This is a fictional story and should not be taken as a factual account.\n",
            "7. False - This is a fictional story and should not be taken as a factual account.\n",
            "8. False - This is a fictional story and should not be taken as a factual account.\n",
            "9. False - This is a fictional story and should not be taken as a factual account.\n",
            "10. False - This is a fictional story and should not be taken as a factual account.\n",
            "11. Undetermined - It is unclear how accurate this description of the discovery of the island is without further evidence.\n",
            "12. Undetermined - It is unclear how accurate this description of the foxes is without further evidence.\n",
            "\"\"\"\n",
            "Result:\u001b[0m\n",
            "\n",
            "\u001b[1m> Finished chain.\u001b[0m\n",
            "\n",
            "\u001b[1m> Finished chain.\u001b[0m\n",
            "Black Dragon Pool was once a large lake that has since become a swamp due to drying up and sedimentation. It is unclear who Yang Guo and Guo Xiang are and if they went to Black Dragon Pool to catch the Nine-tailed Fox. More context is needed. It is also unclear how accurate the description of the pool's bottom is without further evidence. Similarly, it is unclear how accurate the description of the branch sinking and Guo Xiang's observation is without further evidence. However, it is known that this is a fictional story and should not be taken as a factual account. \n",
            "\n",
            "As Yang Guo and Guo Xiang slide into the pool, they are surprised by the strange layout of branches and grasses. Guo Xiang recognizes the patterns as corresponding to the Five Elements of Yin and Yang, learned from her mother. As they investigate further, they discover a small island hidden among the debris. Suddenly, two small foxes with nine tails each appear from the grass and run in opposite directions.\n",
            "\n",
            "\n",
            "\u001b[1m> Entering new SequentialChain chain...\u001b[0m\n",
            "\n",
            "\n",
            "\u001b[1m> Entering new LLMChain chain...\u001b[0m\n",
            "Prompt after formatting:\n",
            "\u001b[32;1m\u001b[1;3mGiven some text, extract a list of facts from the text.\n",
            "\n",
            "Format your output as a bulleted list.\n",
            "\n",
            "Text:\n",
            "\"\"\"\n",
            "Black Dragon Pool was once a large lake that has since become a swamp due to drying up and sedimentation. It is unclear who Yang Guo and Guo Xiang are and if they went to Black Dragon Pool to catch the Nine-tailed Fox. More context is needed. It is also unclear how accurate the description of the pool's bottom is without further evidence. Similarly, it is unclear how accurate the description of the branch sinking and Guo Xiang's observation is without further evidence. However, it is known that this is a fictional story and should not be taken as a factual account. \n",
            "\n",
            "As Yang Guo and Guo Xiang slide into the pool, they are surprised by the strange layout of branches and grasses. Guo Xiang recognizes the patterns as corresponding to the Five Elements of Yin and Yang, learned from her mother. As they investigate further, they discover a small island hidden among the debris. Suddenly, two small foxes with nine tails each appear from the grass and run in opposite directions.\n",
            "\"\"\"\n",
            "\n",
            "Facts:\u001b[0m\n",
            "\n",
            "\u001b[1m> Finished chain.\u001b[0m\n",
            "\n",
            "\n",
            "\u001b[1m> Entering new LLMChain chain...\u001b[0m\n",
            "Prompt after formatting:\n",
            "\u001b[32;1m\u001b[1;3mYou are an expert fact checker. You have been hired by a major news organization to fact check a very important story.\n",
            "\n",
            "Here is a bullet point list of facts:\n",
            "\"\"\"\n",
            "- Black Dragon Pool was once a large lake that has since become a swamp due to drying up and sedimentation.\n",
            "- It is unknown who Yang Guo and Guo Xiang are and if they went to Black Dragon Pool to catch the Nine-tailed Fox.\n",
            "- More context is needed to determine the accuracy of the description of the pool's bottom.\n",
            "- It is also unclear how accurate the description of the branch sinking and Guo Xiang's observation is without further evidence.\n",
            "- The story involving Yang Guo and Guo Xiang at Black Dragon Pool is fictional.\n",
            "- As Yang Guo and Guo Xiang investigate the pool, they discover a small island hidden among the debris.\n",
            "- Two small foxes with nine tails each appear from the grass and run in opposite directions.\n",
            "\"\"\"\n",
            "\n",
            "For each fact, determine whether it is true or false about the subject. If you are unable to determine whether the fact is true or false, output \"Undetermined\".\n",
            "If the fact is false, explain why.\n",
            "\n",
            "\u001b[0m\n",
            "\n",
            "\u001b[1m> Finished chain.\u001b[0m\n",
            "\n",
            "\n",
            "\u001b[1m> Entering new LLMChain chain...\u001b[0m\n",
            "Prompt after formatting:\n",
            "\u001b[32;1m\u001b[1;3mBelow are some assertions that have been fact checked and are labeled as true or false. If the answer is false, a suggestion is given for a correction.\n",
            "\n",
            "Checked Assertions:\n",
            "\"\"\"\n",
            "- Black Dragon Pool was once a large lake that has since become a swamp due to drying up and sedimentation. - True.\n",
            "- It is unknown who Yang Guo and Guo Xiang are and if they went to Black Dragon Pool to catch the Nine-tailed Fox. - Undetermined.\n",
            "- More context is needed to determine the accuracy of the description of the pool's bottom. - Undetermined.\n",
            "- It is also unclear how accurate the description of the branch sinking and Guo Xiang's observation is without further evidence. - Undetermined.\n",
            "- The story involving Yang Guo and Guo Xiang at Black Dragon Pool is fictional. - True.\n",
            "- As Yang Guo and Guo Xiang investigate the pool, they discover a small island hidden among the debris. - False. The story involving Yang Guo and Guo Xiang is fictional.\n",
            "- Two small foxes with nine tails each appear from the grass and run in opposite directions. - False. The story involving Yang Guo and Guo Xiang is fictional.\n",
            "\"\"\"\n",
            "\n",
            "Original Summary:\n",
            "\"\"\"\n",
            "Black Dragon Pool was once a large lake that has since become a swamp due to drying up and sedimentation. It is unclear who Yang Guo and Guo Xiang are and if they went to Black Dragon Pool to catch the Nine-tailed Fox. More context is needed. It is also unclear how accurate the description of the pool's bottom is without further evidence. Similarly, it is unclear how accurate the description of the branch sinking and Guo Xiang's observation is without further evidence. However, it is known that this is a fictional story and should not be taken as a factual account. \n",
            "\n",
            "As Yang Guo and Guo Xiang slide into the pool, they are surprised by the strange layout of branches and grasses. Guo Xiang recognizes the patterns as corresponding to the Five Elements of Yin and Yang, learned from her mother. As they investigate further, they discover a small island hidden among the debris. Suddenly, two small foxes with nine tails each appear from the grass and run in opposite directions.\n",
            "\"\"\"\n",
            "\n",
            "Using these checked assertions, rewrite the original summary to be completely true.\n",
            "\n",
            "The output should have the same structure and formatting as the original summary.\n",
            "\n",
            "Summary:\u001b[0m\n",
            "\n",
            "\u001b[1m> Finished chain.\u001b[0m\n",
            "\n",
            "\n",
            "\u001b[1m> Entering new LLMChain chain...\u001b[0m\n",
            "Prompt after formatting:\n",
            "\u001b[32;1m\u001b[1;3mBelow are some assertions that have been fact checked and are labeled as true or false.\n",
            "\n",
            "If all of the assertions are true, return \"True\". If any of the assertions are false, return \"False\".\n",
            "\n",
            "Here are some examples:\n",
            "===\n",
            "\n",
            "Checked Assertions: \"\"\"\n",
            "- The sky is red: False\n",
            "- Water is made of lava: False\n",
            "- The sun is a star: True\n",
            "\"\"\"\n",
            "Result: False\n",
            "\n",
            "===\n",
            "\n",
            "Checked Assertions: \"\"\"\n",
            "- The sky is blue: True\n",
            "- Water is wet: True\n",
            "- The sun is a star: True\n",
            "\"\"\"\n",
            "Result: True\n",
            "\n",
            "===\n",
            "\n",
            "Checked Assertions: \"\"\"\n",
            "- The sky is blue - True\n",
            "- Water is made of lava- False\n",
            "- The sun is a star - True\n",
            "\"\"\"\n",
            "Result: False\n",
            "\n",
            "===\n",
            "\n",
            "Checked Assertions:\"\"\"\n",
            "- Black Dragon Pool was once a large lake that has since become a swamp due to drying up and sedimentation. - True.\n",
            "- It is unknown who Yang Guo and Guo Xiang are and if they went to Black Dragon Pool to catch the Nine-tailed Fox. - Undetermined.\n",
            "- More context is needed to determine the accuracy of the description of the pool's bottom. - Undetermined.\n",
            "- It is also unclear how accurate the description of the branch sinking and Guo Xiang's observation is without further evidence. - Undetermined.\n",
            "- The story involving Yang Guo and Guo Xiang at Black Dragon Pool is fictional. - True.\n",
            "- As Yang Guo and Guo Xiang investigate the pool, they discover a small island hidden among the debris. - False. The story involving Yang Guo and Guo Xiang is fictional.\n",
            "- Two small foxes with nine tails each appear from the grass and run in opposite directions. - False. The story involving Yang Guo and Guo Xiang is fictional.\n",
            "\"\"\"\n",
            "Result:\u001b[0m\n",
            "\n",
            "\u001b[1m> Finished chain.\u001b[0m\n",
            "\n",
            "\u001b[1m> Finished chain.\u001b[0m\n",
            "Black Dragon Pool was once a large lake that has since become a swamp due to drying up and sedimentation. It is undetermined if Yang Guo and Guo Xiang are real people and if they went to Black Dragon Pool to catch the Nine-tailed Fox. More context is needed to determine the accuracy of the description of the pool's bottom and the branch sinking, along with Guo Xiang's observation, without further evidence. It is true that the story involving Yang Guo and Guo Xiang at Black Dragon Pool is fictional. No small island or nine-tailed foxes were discovered, as the story is a work of fiction.\n",
            "\n",
            "\u001b[1m> Finished chain.\u001b[0m\n"
          ]
        },
        {
          "output_type": "execute_result",
          "data": {
            "text/plain": [
              "\"Black Dragon Pool was once a large lake that has since become a swamp due to drying up and sedimentation. It is undetermined if Yang Guo and Guo Xiang are real people and if they went to Black Dragon Pool to catch the Nine-tailed Fox. More context is needed to determine the accuracy of the description of the pool's bottom and the branch sinking, along with Guo Xiang's observation, without further evidence. It is true that the story involving Yang Guo and Guo Xiang at Black Dragon Pool is fictional. No small island or nine-tailed foxes were discovered, as the story is a work of fiction.\""
            ],
            "application/vnd.google.colaboratory.intrinsic+json": {
              "type": "string"
            }
          },
          "metadata": {},
          "execution_count": 17
        }
      ]
    },
    {
      "cell_type": "code",
      "source": [
        "wrapped_text = textwrap.fill(final_summary, \n",
        "                             width=100,\n",
        "                             break_long_words=True,\n",
        "                             replace_whitespace=False)\n",
        "print(wrapped_text)"
      ],
      "metadata": {
        "colab": {
          "base_uri": "https://localhost:8080/"
        },
        "id": "aBwiYld6f-Wm",
        "outputId": "a8339596-636d-4a02-f7d4-ef873b9be5ad"
      },
      "execution_count": null,
      "outputs": [
        {
          "output_type": "stream",
          "name": "stdout",
          "text": [
            "Black Dragon Pool was once a large lake that has since become a swamp due to drying up and\n",
            "sedimentation. It is undetermined if Yang Guo and Guo Xiang are real people and if they went to\n",
            "Black Dragon Pool to catch the Nine-tailed Fox. More context is needed to determine the accuracy of\n",
            "the description of the pool's bottom and the branch sinking, along with Guo Xiang's observation,\n",
            "without further evidence. It is true that the story involving Yang Guo and Guo Xiang at Black Dragon\n",
            "Pool is fictional. No small island or nine-tailed foxes were discovered, as the story is a work of\n",
            "fiction.\n"
          ]
        }
      ]
    },
    {
      "cell_type": "code",
      "source": [
        "len(final_summary)"
      ],
      "metadata": {
        "colab": {
          "base_uri": "https://localhost:8080/"
        },
        "id": "9_qJs-KS2Cd3",
        "outputId": "fcef4be6-eff3-42c6-f4bf-53d1a62564f3"
      },
      "execution_count": null,
      "outputs": [
        {
          "output_type": "execute_result",
          "data": {
            "text/plain": [
              "592"
            ]
          },
          "metadata": {},
          "execution_count": 19
        }
      ]
    },
    {
      "cell_type": "code",
      "source": [],
      "metadata": {
        "id": "c_Ewi8vZ2y6x",
        "colab": {
          "base_uri": "https://localhost:8080/",
          "height": 53
        },
        "outputId": "208298e8-3ad6-4120-dd24-036d17c024ca"
      },
      "execution_count": null,
      "outputs": [
        {
          "output_type": "execute_result",
          "data": {
            "text/plain": [
              "'Given some text, extract a list of facts from the text.\\n\\nFormat your output as a bulleted list.\\n\\nText:\\n\"\"\"\\n{summary}\\n\"\"\"\\n\\nFacts:'"
            ],
            "application/vnd.google.colaboratory.intrinsic+json": {
              "type": "string"
            }
          },
          "metadata": {},
          "execution_count": 15
        }
      ]
    },
    {
      "cell_type": "markdown",
      "source": [
        "Given some text, extract a list of facts from the text.\n",
        "\n",
        "Format your output as a bulleted list.\n",
        "\n",
        "Text:\n",
        "\"\"\"\n",
        "{summary}\n",
        "\"\"\"\n",
        "\n",
        "Facts:"
      ],
      "metadata": {
        "id": "PAo3_GHeNop7"
      }
    },
    {
      "cell_type": "code",
      "source": [
        "checker_chain.check_assertions_prompt.template"
      ],
      "metadata": {
        "colab": {
          "base_uri": "https://localhost:8080/",
          "height": 105
        },
        "id": "xEimZ71wKQIZ",
        "outputId": "ee686f92-92c2-41ea-bdbf-6f316f0e44e3"
      },
      "execution_count": null,
      "outputs": [
        {
          "output_type": "execute_result",
          "data": {
            "text/plain": [
              "'You are an expert fact checker. You have been hired by a major news organization to fact check a very important story.\\n\\nHere is a bullet point list of facts:\\n\"\"\"\\n{assertions}\\n\"\"\"\\n\\nFor each fact, determine whether it is true or false about the subject. If you are unable to determine whether the fact is true or false, output \"Undetermined\".\\nIf the fact is false, explain why.\\n\\n'"
            ],
            "application/vnd.google.colaboratory.intrinsic+json": {
              "type": "string"
            }
          },
          "metadata": {},
          "execution_count": 17
        }
      ]
    },
    {
      "cell_type": "markdown",
      "source": [
        "You are an expert fact checker. You have been hired by a major news organization to fact check a very important story.\n",
        "\n",
        "Here is a bullet point list of facts:\n",
        "\"\"\"\n",
        "{assertions}\n",
        "\"\"\"\n",
        "\n",
        "For each fact, determine whether it is true or false about the subject. If you are unable to determine whether the fact is true or false, output \"Undetermined\".\n",
        "If the fact is false, explain why.\n",
        "\n"
      ],
      "metadata": {
        "id": "JR8Nal85Nm3K"
      }
    },
    {
      "cell_type": "code",
      "source": [
        "checker_chain.revised_summary_prompt.template"
      ],
      "metadata": {
        "colab": {
          "base_uri": "https://localhost:8080/",
          "height": 105
        },
        "id": "8Xh-9O_UKk2g",
        "outputId": "57270ce1-3569-453c-e09a-9d0061efca76"
      },
      "execution_count": null,
      "outputs": [
        {
          "output_type": "execute_result",
          "data": {
            "text/plain": [
              "'Below are some assertions that have been fact checked and are labeled as true of false.  If the answer is false, a suggestion is given for a correction.\\n\\nChecked Assertions:\\n\"\"\"\\n{checked_assertions}\\n\"\"\"\\n\\nOriginal Summary:\\n\"\"\"\\n{summary}\\n\"\"\"\\n\\nUsing these checked assertions, rewrite the original summary to be completely true.\\n\\nThe output should have the same structure and formatting as the original summary.\\n\\nSummary:'"
            ],
            "application/vnd.google.colaboratory.intrinsic+json": {
              "type": "string"
            }
          },
          "metadata": {},
          "execution_count": 19
        }
      ]
    },
    {
      "cell_type": "markdown",
      "source": [
        "Below are some assertions that have been fact checked and are labeled as true of false.  If the answer is false, a suggestion is given for a correction.\n",
        "\n",
        "Checked Assertions:\n",
        "\"\"\"\n",
        "{checked_assertions}\n",
        "\"\"\"\n",
        "\n",
        "Original Summary:\n",
        "\"\"\"\n",
        "{summary}\n",
        "\"\"\"\n",
        "\n",
        "Using these checked assertions, rewrite the original summary to be completely true.\n",
        "\n",
        "The output should have the same structure and formatting as the original summary.\n",
        "\n",
        "Summary:"
      ],
      "metadata": {
        "id": "B8A_wVMTNjPf"
      }
    },
    {
      "cell_type": "code",
      "source": [
        "checker_chain.are_all_true_prompt.template"
      ],
      "metadata": {
        "colab": {
          "base_uri": "https://localhost:8080/",
          "height": 139
        },
        "id": "5bbQ4WyDNXCK",
        "outputId": "d13aacde-3056-4b22-e526-c53790da21f8"
      },
      "execution_count": null,
      "outputs": [
        {
          "output_type": "execute_result",
          "data": {
            "text/plain": [
              "'Below are some assertions that have been fact checked and are labeled as true or false.\\n\\nIf all of the assertions are true, return \"True\". If any of the assertions are false, return \"False\".\\n\\nHere are some examples:\\n===\\n\\nChecked Assertions: \"\"\"\\n- The sky is red: False\\n- Water is made of lava: False\\n- The sun is a star: True\\n\"\"\"\\nResult: False\\n\\n===\\n\\nChecked Assertions: \"\"\"\\n- The sky is blue: True\\n- Water is wet: True\\n- The sun is a star: True\\n\"\"\"\\nResult: True\\n\\n===\\n\\nChecked Assertions: \"\"\"\\n- The sky is blue - True\\n- Water is made of lava- False\\n- The sun is a star - True\\n\"\"\"\\nResult: False\\n\\n===\\n\\nChecked Assertions:\"\"\"\\n{checked_assertions}\\n\"\"\"\\nResult:'"
            ],
            "application/vnd.google.colaboratory.intrinsic+json": {
              "type": "string"
            }
          },
          "metadata": {},
          "execution_count": 21
        }
      ]
    },
    {
      "cell_type": "markdown",
      "source": [
        "Below are some assertions that have been fact checked and are labeled as true or false.\n",
        "\n",
        "If all of the assertions are true, return \"True\". If any of the assertions are false, return \"False\".\n",
        "\n",
        "Here are some examples:\n",
        "===\n",
        "\n",
        "Checked Assertions: \"\"\"\n",
        "- The sky is red: False\n",
        "- Water is made of lava: False\n",
        "- The sun is a star: True\n",
        "\"\"\"\n",
        "Result: False\n",
        "\n",
        "===\n",
        "\n",
        "Checked Assertions: \"\"\"\n",
        "- The sky is blue: True\n",
        "- Water is wet: True\n",
        "- The sun is a star: True\n",
        "\"\"\"\n",
        "Result: True\n",
        "\n",
        "===\n",
        "\n",
        "Checked Assertions: \"\"\"\n",
        "- The sky is blue - True\n",
        "- Water is made of lava- False\n",
        "- The sun is a star - True\n",
        "\"\"\"\n",
        "Result: False\n",
        "\n",
        "===\n",
        "\n",
        "Checked Assertions:\"\"\"\n",
        "{checked_assertions}\n",
        "\"\"\"\n",
        "Result:"
      ],
      "metadata": {
        "id": "v4RrX8nUNhYp"
      }
    },
    {
      "cell_type": "code",
      "source": [
        "checker_chain"
      ],
      "metadata": {
        "colab": {
          "base_uri": "https://localhost:8080/"
        },
        "id": "VA2QlhiiK6SQ",
        "outputId": "4029d07e-556e-4034-c3d7-c048f597eb0f"
      },
      "execution_count": null,
      "outputs": [
        {
          "output_type": "execute_result",
          "data": {
            "text/plain": [
              "LLMSummarizationCheckerChain(memory=None, callback_manager=<langchain.callbacks.shared.SharedCallbackManager object at 0x7f299c9faa60>, verbose=True, llm=OpenAI(cache=None, verbose=False, callback_manager=<langchain.callbacks.shared.SharedCallbackManager object at 0x7f299c9faa60>, client=<class 'openai.api_resources.completion.Completion'>, model_name='text-davinci-003', temperature=0.0, max_tokens=256, top_p=1, frequency_penalty=0, presence_penalty=0, n=1, best_of=1, model_kwargs={}, openai_api_key=None, batch_size=20, request_timeout=None, logit_bias={}, max_retries=6, streaming=False), create_assertions_prompt=PromptTemplate(input_variables=['summary'], output_parser=None, partial_variables={}, template='Given some text, extract a list of facts from the text.\\n\\nFormat your output as a bulleted list.\\n\\nText:\\n\"\"\"\\n{summary}\\n\"\"\"\\n\\nFacts:', template_format='f-string', validate_template=True), check_assertions_prompt=PromptTemplate(input_variables=['assertions'], output_parser=None, partial_variables={}, template='You are an expert fact checker. You have been hired by a major news organization to fact check a very important story.\\n\\nHere is a bullet point list of facts:\\n\"\"\"\\n{assertions}\\n\"\"\"\\n\\nFor each fact, determine whether it is true or false about the subject. If you are unable to determine whether the fact is true or false, output \"Undetermined\".\\nIf the fact is false, explain why.\\n\\n', template_format='f-string', validate_template=True), revised_summary_prompt=PromptTemplate(input_variables=['checked_assertions', 'summary'], output_parser=None, partial_variables={}, template='Below are some assertions that have been fact checked and are labeled as true of false.  If the answer is false, a suggestion is given for a correction.\\n\\nChecked Assertions:\\n\"\"\"\\n{checked_assertions}\\n\"\"\"\\n\\nOriginal Summary:\\n\"\"\"\\n{summary}\\n\"\"\"\\n\\nUsing these checked assertions, rewrite the original summary to be completely true.\\n\\nThe output should have the same structure and formatting as the original summary.\\n\\nSummary:', template_format='f-string', validate_template=True), are_all_true_prompt=PromptTemplate(input_variables=['checked_assertions'], output_parser=None, partial_variables={}, template='Below are some assertions that have been fact checked and are labeled as true or false.\\n\\nIf all of the assertions are true, return \"True\". If any of the assertions are false, return \"False\".\\n\\nHere are some examples:\\n===\\n\\nChecked Assertions: \"\"\"\\n- The sky is red: False\\n- Water is made of lava: False\\n- The sun is a star: True\\n\"\"\"\\nResult: False\\n\\n===\\n\\nChecked Assertions: \"\"\"\\n- The sky is blue: True\\n- Water is wet: True\\n- The sun is a star: True\\n\"\"\"\\nResult: True\\n\\n===\\n\\nChecked Assertions: \"\"\"\\n- The sky is blue - True\\n- Water is made of lava- False\\n- The sun is a star - True\\n\"\"\"\\nResult: False\\n\\n===\\n\\nChecked Assertions:\"\"\"\\n{checked_assertions}\\n\"\"\"\\nResult:', template_format='f-string', validate_template=True), input_key='query', output_key='result', max_checks=2)"
            ]
          },
          "metadata": {},
          "execution_count": 20
        }
      ]
    },
    {
      "cell_type": "code",
      "source": [],
      "metadata": {
        "id": "qahmfSisNHFH"
      },
      "execution_count": null,
      "outputs": []
    },
    {
      "cell_type": "markdown",
      "source": [
        "## Bonus - Making triples to compare to a graph"
      ],
      "metadata": {
        "id": "CtTDuJ0-OvUC"
      }
    },
    {
      "cell_type": "code",
      "source": [
        "triples_prompt = PromptTemplate(\n",
        "    input_variables=[\"facts\"],\n",
        "    template=\"Take the following list of facts and turn them into triples for a knowledge graph:\\n\\n {facts}\"\n",
        ")"
      ],
      "metadata": {
        "id": "mQ2TNW1emNHu"
      },
      "execution_count": null,
      "outputs": []
    },
    {
      "cell_type": "code",
      "source": [
        "triples_chain = LLMChain(llm=llm, prompt=triples_prompt)\n",
        "\n",
        "triples = triples_chain.run(facts)\n",
        "\n",
        "print(triples)\n",
        "len(triples)"
      ],
      "metadata": {
        "colab": {
          "base_uri": "https://localhost:8080/"
        },
        "outputId": "cafa69b9-9f6e-4562-d290-334b5d52c822",
        "id": "ZWyFFkDomNH5"
      },
      "execution_count": null,
      "outputs": [
        {
          "output_type": "stream",
          "name": "stdout",
          "text": [
            "\n",
            "\n",
            "Triples: \n",
            "1. (Coinbase, released, Q4 2022 earnings) \n",
            "2. (Coinbase, generated, $605 million) \n",
            "3. (Coinbase, lost, $557 million) \n",
            "4. (Wall Street, expected, $581.2 million) \n",
            "5. (Coinbase's stock, had risen, 86%) \n",
            "6. (Coinbase's total trading volumes, fell, 50%) \n",
            "7. (Coinbase's transaction revenues, fell, 66%) \n",
            "8. (Trading revenue at Coinbase, fell from, $365.9 million) \n",
            "9. (Coinbase's subscription and services revenue, rose from, $210.5 million) \n",
            "10. (Monthly active developers in crypto, have more than doubled, since 2020) \n",
            "11. (Major brands, have dived into, crypto space)\n"
          ]
        },
        {
          "output_type": "execute_result",
          "data": {
            "text/plain": [
              "579"
            ]
          },
          "metadata": {},
          "execution_count": 23
        }
      ]
    },
    {
      "cell_type": "code",
      "source": [],
      "metadata": {
        "id": "BC_EFkE6OkLO"
      },
      "execution_count": null,
      "outputs": []
    }
  ]
}